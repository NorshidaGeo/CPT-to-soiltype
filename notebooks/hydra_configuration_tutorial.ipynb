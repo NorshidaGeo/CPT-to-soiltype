{
 "cells": [
  {
   "cell_type": "code",
   "execution_count": null,
   "id": "8d3f98a9",
   "metadata": {},
   "outputs": [],
   "source": [
    "from __future__ import annotations"
   ]
  },
  {
   "cell_type": "code",
   "execution_count": null,
   "id": "3086634e",
   "metadata": {},
   "outputs": [],
   "source": [
    "# Simplified data loading (supervised)\n",
    "from pathlib import Path\n",
    "\n",
    "import pandas as pd\n",
    "\n",
    "# Paths\n",
    "DATA_DIR = Path(\"..\") / \"data\" / \"model_ready\"\n",
    "CSV = DATA_DIR / \"cpt_dataset_total.csv\"\n",
    "\n",
    "# Features and label\n",
    "FEATURES = [\n",
    "    \"Depth (m)\",\n",
    "    \"qc (MPa)\",\n",
    "    \"fs (kPa)\",\n",
    "    \"Rf (%)\",\n",
    "    \"σ,v (kPa)\",\n",
    "    \"u0 (kPa)\",\n",
    "    \"σ',v (kPa)\",\n",
    "    \"Qtn (-)\",\n",
    "    \"Fr (%)\",\n",
    "]\n",
    "LABEL = \"Oberhollenzer_classes\"\n",
    "\n",
    "# Load dataset and split into features/label\n",
    "df = pd.read_csv(CSV)\n",
    "X = df[FEATURES].copy()\n",
    "y = df[LABEL].copy()\n",
    "\n",
    "print(f\"Dataset loaded: {df.shape[0]} rows, {df.shape[1]} columns\")\n",
    "print(f\"X: {X.shape} | y: {y.shape}\")\n",
    "X.head(3)"
   ]
  },
  {
   "cell_type": "markdown",
   "id": "76094a5c",
   "metadata": {},
   "source": [
    "# Hydra Configuration System: A Hands-on Tutorial\n",
    "\n",
    "This notebook demonstrates how to use Hydra for clean, reproducible configuration management in applied machine learning. We'll use a synthetic geotechnical-like dataset and show two patterns:\n",
    "\n",
    "- Programmatic API: initialize/compose configs directly in cells (great inside notebooks).\n",
    "- Decorator API: `@hydra.main` for scripts (shown inline but executed carefully in notebooks).\n",
    "\n",
    "What you'll learn:\n",
    "- Organizing configs with groups (dataset/, model/) and defaults\n",
    "- Overriding values at runtime\n",
    "- Saving outputs to per-run directories\n",
    "- Running simple parameter sweeps in-notebook (no plugins needed)\n",
    "- Logging a run to MLflow while keeping Hydra as the source of truth\n",
    "\n",
    "We keep most code at the top-level in cells for easier inspection and debugging."
   ]
  },
  {
   "cell_type": "markdown",
   "id": "19e6639c",
   "metadata": {},
   "source": [
    "## Setup and Imports\n",
    "\n",
    "We rely on packages already declared in `pyproject.toml` (hydra-core, numpy, pandas, scikit-learn, seaborn, matplotlib, mlflow). If your environment isn't synced, run `uv sync` before executing the notebook."
   ]
  },
  {
   "cell_type": "code",
   "execution_count": null,
   "id": "54178b25",
   "metadata": {},
   "outputs": [
    {
     "name": "stdout",
     "output_type": "stream",
     "text": [
      "Detected PROJECT_ROOT: C:\\Users\\TFH\\git_projects\\course-machine-learning-for-geotechnics\n",
      "CONFIG_DIR exists: True\n",
      "OUTPUT_ROOT exists: True\n"
     ]
    },
    {
     "data": {
      "text/plain": [
       "(True, True)"
      ]
     },
     "execution_count": 4,
     "metadata": {},
     "output_type": "execute_result"
    }
   ],
   "source": [
    "# moved __future__ import to the first cell\n",
    "from itertools import product\n",
    "from pathlib import Path\n",
    "\n",
    "import mlflow\n",
    "import numpy as np\n",
    "import pandas as pd\n",
    "import seaborn as sns\n",
    "from hydra import compose, initialize_config_dir\n",
    "from matplotlib import pyplot as plt\n",
    "from omegaconf import OmegaConf\n",
    "from sklearn.linear_model import LogisticRegression\n",
    "from sklearn.metrics import accuracy_score, classification_report\n",
    "from sklearn.model_selection import train_test_split\n",
    "from sklearn.preprocessing import StandardScaler\n",
    "\n",
    "sns.set_theme(style=\"whitegrid\")\n",
    "RNG_SEED = 42\n",
    "np.random.seed(RNG_SEED)\n",
    "\n",
    "# Paths for configs and outputs\n",
    "# Robustly find the project root by looking for a marker file/folder\n",
    "_cwd = Path.cwd().resolve()\n",
    "markers = {\"pyproject.toml\", \".git\", \"README.md\"}\n",
    "PROJECT_ROOT = None\n",
    "for p in [_cwd] + list(_cwd.parents):\n",
    "    if any((p / m).exists() for m in markers):\n",
    "        PROJECT_ROOT = p\n",
    "        break\n",
    "if PROJECT_ROOT is None:\n",
    "    # Fallback to notebook's parent directory\n",
    "    PROJECT_ROOT = (\n",
    "        Path(__file__).resolve().parents[2] if \"__file__\" in globals() else _cwd\n",
    "    )\n",
    "\n",
    "CONFIG_DIR = PROJECT_ROOT / \"notebooks\" / \"config\" / \"hydra_demo\"\n",
    "OUTPUT_ROOT = PROJECT_ROOT / \"notebooks\" / \"outputs\" / \"hydra\"\n",
    "\n",
    "print(\"Detected PROJECT_ROOT:\", PROJECT_ROOT)\n",
    "print(\"CONFIG_DIR exists:\", CONFIG_DIR.exists())\n",
    "print(\"OUTPUT_ROOT exists:\", OUTPUT_ROOT.exists())\n",
    "CONFIG_DIR.exists(), OUTPUT_ROOT.exists()"
   ]
  },
  {
   "cell_type": "markdown",
   "id": "a9883bcb",
   "metadata": {},
   "source": [
    "## Inspect the Config Tree\n",
    "\n",
    "We created a tiny config tree in `notebooks/config/hydra_demo/`:\n",
    "- `main.yaml` with defaults and Hydra's run dir\n",
    "- `dataset/synthetic.yaml` with dataset parameters\n",
    "- `model/logreg.yaml` with model hyperparameters\n",
    "\n",
    "Let's load and print the composed config using Hydra's programmatic API."
   ]
  },
  {
   "cell_type": "code",
   "execution_count": 7,
   "id": "b778b218",
   "metadata": {},
   "outputs": [
    {
     "name": "stdout",
     "output_type": "stream",
     "text": [
      "dataset:\n",
      "  name: synthetic\n",
      "  type: synthetic\n",
      "  size: 800\n",
      "  test_size: 0.25\n",
      "  features:\n",
      "  - depth\n",
      "  - qc\n",
      "  - fs\n",
      "  - Fr\n",
      "  - noise\n",
      "  target: 'y'\n",
      "model:\n",
      "  name: logistic_regression\n",
      "  type: logreg\n",
      "  max_iter: 1000\n",
      "  penalty: l2\n",
      "  C: 1.0\n",
      "  solver: lbfgs\n",
      "  scaler: standard\n",
      "  grid:\n",
      "    C:\n",
      "    - 0.1\n",
      "    - 1.0\n",
      "    - 10.0\n",
      "    penalty:\n",
      "    - l2\n",
      "experiment:\n",
      "  name: hydra_demo\n",
      "  seed: 42\n",
      "\n"
     ]
    }
   ],
   "source": [
    "with initialize_config_dir(version_base=\"1.3\", config_dir=str(CONFIG_DIR)):\n",
    "    cfg = compose(config_name=\"main.yaml\")\n",
    "print(OmegaConf.to_yaml(cfg))"
   ]
  },
  {
   "cell_type": "markdown",
   "id": "5034093a",
   "metadata": {},
   "source": [
    "## Generate a Synthetic CPT-like Dataset\n",
    "\n",
    "We'll simulate a small dataset with features often seen in CPT contexts (depth, qc, fs, Fr, noise) and a 3-class target."
   ]
  },
  {
   "cell_type": "code",
   "execution_count": 8,
   "id": "8c166bba",
   "metadata": {},
   "outputs": [
    {
     "data": {
      "application/vnd.microsoft.datawrangler.viewer.v0+json": {
       "columns": [
        {
         "name": "index",
         "rawType": "int64",
         "type": "integer"
        },
        {
         "name": "depth",
         "rawType": "float64",
         "type": "float"
        },
        {
         "name": "qc",
         "rawType": "float64",
         "type": "float"
        },
        {
         "name": "fs",
         "rawType": "float64",
         "type": "float"
        },
        {
         "name": "Fr",
         "rawType": "float64",
         "type": "float"
        },
        {
         "name": "noise",
         "rawType": "float64",
         "type": "float"
        },
        {
         "name": "y",
         "rawType": "int32",
         "type": "integer"
        }
       ],
       "ref": "a6faf11b-8e41-4d29-9df7-5c14ad10f9ec",
       "rows": [
        [
         "0",
         "0.1518475153865606",
         "2.523672865505616",
         "0.10715948357968369",
         "4.246171722348584",
         "-0.3583401520212222",
         "1"
        ],
        [
         "1",
         "0.16566351370807197",
         "5.381036503613403",
         "0.13996940382850964",
         "2.6011606450638127",
         "-0.6475418056351592",
         "1"
        ],
        [
         "2",
         "0.2085639159357211",
         "12.543651711605548",
         "0.06821700140301121",
         "0.5438368584476557",
         "0.7441919714999368",
         "0"
        ],
        [
         "3",
         "0.27591154849888944",
         "9.090701043319426",
         "0.05381570571313642",
         "0.5919863105902543",
         "-0.181224173218103",
         "0"
        ],
        [
         "4",
         "0.3251295444089508",
         "10.547743765744222",
         "0.04855832190350648",
         "0.4603669086199149",
         "-0.649373038321426",
         "0"
        ]
       ],
       "shape": {
        "columns": 6,
        "rows": 5
       }
      },
      "text/html": [
       "<div>\n",
       "<style scoped>\n",
       "    .dataframe tbody tr th:only-of-type {\n",
       "        vertical-align: middle;\n",
       "    }\n",
       "\n",
       "    .dataframe tbody tr th {\n",
       "        vertical-align: top;\n",
       "    }\n",
       "\n",
       "    .dataframe thead th {\n",
       "        text-align: right;\n",
       "    }\n",
       "</style>\n",
       "<table border=\"1\" class=\"dataframe\">\n",
       "  <thead>\n",
       "    <tr style=\"text-align: right;\">\n",
       "      <th></th>\n",
       "      <th>depth</th>\n",
       "      <th>qc</th>\n",
       "      <th>fs</th>\n",
       "      <th>Fr</th>\n",
       "      <th>noise</th>\n",
       "      <th>y</th>\n",
       "    </tr>\n",
       "  </thead>\n",
       "  <tbody>\n",
       "    <tr>\n",
       "      <th>0</th>\n",
       "      <td>0.151848</td>\n",
       "      <td>2.523673</td>\n",
       "      <td>0.107159</td>\n",
       "      <td>4.246172</td>\n",
       "      <td>-0.358340</td>\n",
       "      <td>1</td>\n",
       "    </tr>\n",
       "    <tr>\n",
       "      <th>1</th>\n",
       "      <td>0.165664</td>\n",
       "      <td>5.381037</td>\n",
       "      <td>0.139969</td>\n",
       "      <td>2.601161</td>\n",
       "      <td>-0.647542</td>\n",
       "      <td>1</td>\n",
       "    </tr>\n",
       "    <tr>\n",
       "      <th>2</th>\n",
       "      <td>0.208564</td>\n",
       "      <td>12.543652</td>\n",
       "      <td>0.068217</td>\n",
       "      <td>0.543837</td>\n",
       "      <td>0.744192</td>\n",
       "      <td>0</td>\n",
       "    </tr>\n",
       "    <tr>\n",
       "      <th>3</th>\n",
       "      <td>0.275912</td>\n",
       "      <td>9.090701</td>\n",
       "      <td>0.053816</td>\n",
       "      <td>0.591986</td>\n",
       "      <td>-0.181224</td>\n",
       "      <td>0</td>\n",
       "    </tr>\n",
       "    <tr>\n",
       "      <th>4</th>\n",
       "      <td>0.325130</td>\n",
       "      <td>10.547744</td>\n",
       "      <td>0.048558</td>\n",
       "      <td>0.460367</td>\n",
       "      <td>-0.649373</td>\n",
       "      <td>0</td>\n",
       "    </tr>\n",
       "  </tbody>\n",
       "</table>\n",
       "</div>"
      ],
      "text/plain": [
       "      depth         qc        fs        Fr     noise  y\n",
       "0  0.151848   2.523673  0.107159  4.246172 -0.358340  1\n",
       "1  0.165664   5.381037  0.139969  2.601161 -0.647542  1\n",
       "2  0.208564  12.543652  0.068217  0.543837  0.744192  0\n",
       "3  0.275912   9.090701  0.053816  0.591986 -0.181224  0\n",
       "4  0.325130  10.547744  0.048558  0.460367 -0.649373  0"
      ]
     },
     "execution_count": 8,
     "metadata": {},
     "output_type": "execute_result"
    }
   ],
   "source": [
    "# Read dataset settings from cfg.dataset\n",
    "n = int(cfg.dataset.size)\n",
    "test_size = float(cfg.dataset.test_size)\n",
    "features = list(cfg.dataset.features)\n",
    "\n",
    "# Synthetic generation\n",
    "depth = np.sort(np.random.uniform(0.0, 30.0, size=n))\n",
    "qc = np.clip(np.random.lognormal(mean=1.4, sigma=0.6, size=n), 0.2, None)\n",
    "fs = np.clip(np.random.lognormal(mean=-0.2, sigma=0.5, size=n) * 0.1, 0.002, None)\n",
    "Fr = 100.0 * fs / np.clip(qc, 1e-6, None)\n",
    "noise = np.random.normal(0.0, 1.0, size=n)\n",
    "\n",
    "# Simple label rule for demo (3 classes)\n",
    "y = np.where((qc > 7.5) & (Fr < 1.5), 0, np.where((qc < 2.5) & (Fr > 2.5), 2, 1))\n",
    "\n",
    "df = pd.DataFrame(\n",
    "    {\"depth\": depth, \"qc\": qc, \"fs\": fs, \"Fr\": Fr, \"noise\": noise, \"y\": y}\n",
    ")\n",
    "df.head()"
   ]
  },
  {
   "cell_type": "code",
   "execution_count": 9,
   "id": "774681ee",
   "metadata": {},
   "outputs": [
    {
     "data": {
      "image/png": "[encoded data removed]",
      "text/plain": [
       "<Figure size 640x480 with 1 Axes>"
      ]
     },
     "metadata": {},
     "output_type": "display_data"
    }
   ],
   "source": [
    "ax = (\n",
    "    df[\"y\"]\n",
    "    .value_counts()\n",
    "    .sort_index()\n",
    "    .plot(kind=\"bar\", color=[\"#4C72B0\", \"#55A868\", \"#C44E52\"])\n",
    ")\n",
    "ax.set_xlabel(\"class\")\n",
    "ax.set_ylabel(\"count\")\n",
    "ax.set_title(\"Class balance (synthetic)\")\n",
    "plt.show()"
   ]
  },
  {
   "cell_type": "markdown",
   "id": "488534aa",
   "metadata": {},
   "source": [
    "## Single Run with Programmatic Hydra Compose\n",
    "\n",
    "We'll read model config, fit Logistic Regression with scaling, evaluate accuracy, and save artifacts to the Hydra run directory specified in `main.yaml`."
   ]
  },
  {
   "cell_type": "code",
   "execution_count": 14,
   "id": "5262648d",
   "metadata": {},
   "outputs": [
    {
     "name": "stdout",
     "output_type": "stream",
     "text": [
      "Accuracy: 0.935\n",
      "              precision    recall  f1-score   support\n",
      "\n",
      "           0      0.963     0.839     0.897        31\n",
      "           1      0.919     0.993     0.955       138\n",
      "           2      1.000     0.774     0.873        31\n",
      "\n",
      "    accuracy                          0.935       200\n",
      "   macro avg      0.961     0.869     0.908       200\n",
      "weighted avg      0.939     0.935     0.933       200\n",
      "\n",
      "Artifacts saved to: C:\\Users\\TFH\\git_projects\\course-machine-learning-for-geotechnics\\notebooks\\outputs\\hydra\\2025-09-18\\23-56-30\n"
     ]
    },
    {
     "data": {
      "text/plain": [
       "WindowsPath('C:/Users/TFH/git_projects/course-machine-learning-for-geotechnics/notebooks/outputs/hydra/2025-09-18/23-56-30')"
      ]
     },
     "execution_count": 14,
     "metadata": {},
     "output_type": "execute_result"
    }
   ],
   "source": [
    "X = df[features].copy()\n",
    "y = df[\"y\"].copy()\n",
    "X_train, X_test, y_train, y_test = train_test_split(\n",
    "    X, y, test_size=test_size, random_state=cfg.experiment.seed, stratify=y\n",
    ")\n",
    "\n",
    "# Model hyperparameters from cfg.model\n",
    "C = float(cfg.model.C)\n",
    "penalty = str(cfg.model.penalty)\n",
    "max_iter = int(cfg.model.max_iter)\n",
    "solver = str(cfg.model.solver)\n",
    "\n",
    "# Optional scaling\n",
    "if str(cfg.model.scaler) == \"standard\":\n",
    "    scaler = StandardScaler()\n",
    "    X_train_s = scaler.fit_transform(X_train)\n",
    "    X_test_s = scaler.transform(X_test)\n",
    "else:\n",
    "    X_train_s, X_test_s = X_train.values, X_test.values\n",
    "\n",
    "clf = LogisticRegression(\n",
    "    C=C, penalty=penalty, max_iter=max_iter, solver=solver, n_jobs=None\n",
    ")\n",
    "clf.fit(X_train_s, y_train)\n",
    "y_pred = clf.predict(X_test_s)\n",
    "acc = accuracy_score(y_test, y_pred)\n",
    "print(f\"Accuracy: {acc:.3f}\")\n",
    "print(classification_report(y_test, y_pred, digits=3))\n",
    "\n",
    "# Create run directory based on hydra.run.dir\n",
    "with initialize_config_dir(version_base=\"1.3\", config_dir=str(CONFIG_DIR)):\n",
    "    run_cfg = compose(config_name=\"main.yaml\", return_hydra_config=True)\n",
    "# Resolve only the hydra.run subtree to avoid sweep-related interpolations\n",
    "run_run = OmegaConf.to_container(run_cfg.hydra.run, resolve=True)\n",
    "run_dir = (PROJECT_ROOT / run_run[\"dir\"]).resolve()  # type: ignore[index]\n",
    "run_dir.mkdir(parents=True, exist_ok=True)\n",
    "\n",
    "# Save artifacts\n",
    "(run_dir / \"config.yaml\").write_text(OmegaConf.to_yaml(cfg))\n",
    "df.head(50).to_csv(run_dir / \"preview.csv\", index=False)\n",
    "pd.DataFrame({\"feature\": features}).to_csv(run_dir / \"features.csv\", index=False)\n",
    "print(\"Artifacts saved to:\", run_dir)\n",
    "run_dir"
   ]
  },
  {
   "cell_type": "markdown",
   "id": "6a26b73f",
   "metadata": {},
   "source": [
    "## Overrides: Change Config Values on the Fly\n",
    "\n",
    "Hydra allows overriding config values without editing YAML. Below we override `model.C` and `dataset.test_size`."
   ]
  },
  {
   "cell_type": "code",
   "execution_count": 15,
   "id": "934f888c",
   "metadata": {},
   "outputs": [
    {
     "name": "stdout",
     "output_type": "stream",
     "text": [
      "dataset:\n",
      "  name: synthetic\n",
      "  type: synthetic\n",
      "  size: 800\n",
      "  test_size: 0.3\n",
      "  features:\n",
      "  - depth\n",
      "  - qc\n",
      "  - fs\n",
      "  - Fr\n",
      "  - noise\n",
      "  target: 'y'\n",
      "model:\n",
      "  name: logistic_regression\n",
      "  type: logreg\n",
      "  max_iter: 1000\n",
      "  penalty: l2\n",
      "  C: 10.0\n",
      "  solver: lbfgs\n",
      "  scaler: standard\n",
      "  grid:\n",
      "    C:\n",
      "    - 0.1\n",
      "    - 1.0\n",
      "    - 10.0\n",
      "    penalty:\n",
      "    - l2\n",
      "experiment:\n",
      "  name: hydra_demo\n",
      "  seed: 42\n",
      "\n"
     ]
    }
   ],
   "source": [
    "with initialize_config_dir(version_base=\"1.3\", config_dir=str(CONFIG_DIR)):\n",
    "    cfg_over = compose(\n",
    "        config_name=\"main.yaml\", overrides=[\"model.C=10.0\", \"dataset.test_size=0.3\"]\n",
    "    )\n",
    "print(OmegaConf.to_yaml(cfg_over))"
   ]
  },
  {
   "cell_type": "markdown",
   "id": "6f8d2730",
   "metadata": {},
   "source": [
    "## Simple Parameter Sweep (in-notebook)\n",
    "\n",
    "We'll emulate a small grid search using config values. This isn't using the Hydra multirun CLI, but it demonstrates how configs drive experiments."
   ]
  },
  {
   "cell_type": "code",
   "execution_count": null,
   "id": "a956c69c",
   "metadata": {},
   "outputs": [],
   "source": [
    "grid_C = list(cfg.model.grid.C)\n",
    "penalty_values = list(cfg.model.grid.penalty)\n",
    "results = []\n",
    "for C_val, pen in product(grid_C, penalty_values):\n",
    "    with initialize_config_dir(version_base=\"1.3\", config_dir=str(CONFIG_DIR)):\n",
    "        cfg_try = compose(\n",
    "            config_name=\"main.yaml\",\n",
    "            overrides=[f\"model.C={C_val}\", f\"model.penalty={pen}\"],\n",
    "        )\n",
    "    # Prepare data\n",
    "    X = df[features].copy()\n",
    "    y = df[\"y\"].copy()\n",
    "    X_tr, X_te, y_tr, y_te = train_test_split(\n",
    "        X,\n",
    "        y,\n",
    "        test_size=float(cfg_try.dataset.test_size),\n",
    "        random_state=cfg_try.experiment.seed,\n",
    "        stratify=y,\n",
    "    )\n",
    "    if str(cfg_try.model.scaler) == \"standard\":\n",
    "        sc = StandardScaler()\n",
    "        X_tr_s = sc.fit_transform(X_tr)\n",
    "        X_te_s = sc.transform(X_te)\n",
    "    else:\n",
    "        X_tr_s, X_te_s = X_tr.values, X_te.values\n",
    "    model = LogisticRegression(\n",
    "        C=float(cfg_try.model.C),\n",
    "        penalty=str(cfg_try.model.penalty),\n",
    "        max_iter=int(cfg_try.model.max_iter),\n",
    "        solver=str(cfg_try.model.solver),\n",
    "    )\n",
    "    model.fit(X_tr_s, y_tr)\n",
    "    acc_te = accuracy_score(y_te, model.predict(X_te_s))\n",
    "    results.append({\"C\": float(C_val), \"penalty\": str(pen), \"acc\": acc_te})\n",
    "res_df = pd.DataFrame(results).sort_values(\"acc\", ascending=False)\n",
    "res_df"
   ]
  },
  {
   "cell_type": "markdown",
   "id": "2a11ff13",
   "metadata": {},
   "source": [
    "## Logging One Run with MLflow\n",
    "\n",
    "We'll log parameters and metrics to MLflow to show how Hydra configs can drive experiment tracking. The MLflow tracking directory for this repo is `experiments/`."
   ]
  },
  {
   "cell_type": "code",
   "execution_count": null,
   "id": "a1e4bf1f",
   "metadata": {},
   "outputs": [],
   "source": [
    "mlflow.set_tracking_uri(str((PROJECT_ROOT / \"experiments\").resolve()))\n",
    "mlflow.set_experiment(\"hydra_demo_notebook\")\n",
    "\n",
    "with mlflow.start_run(run_name=\"single_run\"):\n",
    "    mlflow.log_params(\n",
    "        {\n",
    "            \"dataset\": cfg.dataset.name,\n",
    "            \"test_size\": float(cfg.dataset.test_size),\n",
    "            \"features\": \",\".join(features),\n",
    "            \"model\": cfg.model.name,\n",
    "            \"C\": float(cfg.model.C),\n",
    "            \"penalty\": str(cfg.model.penalty),\n",
    "            \"solver\": str(cfg.model.solver),\n",
    "            \"max_iter\": int(cfg.model.max_iter),\n",
    "        }\n",
    "    )\n",
    "    mlflow.log_metric(\"accuracy\", float(acc))\n",
    "    mlflow.log_artifact(str(run_dir / \"config.yaml\"))\n",
    "    mlflow.log_artifact(str(run_dir / \"preview.csv\"))\n",
    "\n",
    "print(\n",
    "    \"Logged to MLflow experiment hydra_demo_notebook. To view: cd experiments && mlflow ui\"\n",
    ")"
   ]
  },
  {
   "cell_type": "markdown",
   "id": "939fbb88",
   "metadata": {},
   "source": [
    "## Using the `@hydra.main` Decorator (script-style)\n",
    "\n",
    "In normal Python scripts, you'd use `@hydra.main(config_path, config_name)`. In notebooks, this is trickier because Hydra changes working directories and manages singleton state. Below is an illustrative snippet; it's commented to avoid conflicts when re-running cells. Copy into a `.py` script to try outside the notebook."
   ]
  },
  {
   "cell_type": "code",
   "execution_count": null,
   "id": "ce667e59",
   "metadata": {},
   "outputs": [],
   "source": [
    "# from hydra import main\n",
    "# from omegaconf import DictConfig\n",
    "#\n",
    "# @main(version_base='1.3', config_path='notebooks/config/hydra_demo', config_name='main.yaml')\n",
    "# def app(cfg: DictConfig):\n",
    "#     print(OmegaConf.to_yaml(cfg))\n",
    "#     # Your training/eval code here using cfg.*\n",
    "#\n",
    "# if __name__ == '__main__':\n",
    "#     app()\n",
    "\n",
    "print(\"Decorator example provided as a reference for scripts.\")"
   ]
  },
  {
   "cell_type": "markdown",
   "id": "dfedb3bf",
   "metadata": {},
   "source": [
    "## Student Task\n",
    "\n",
    "- Add a new parameter to `model/logreg.yaml` (e.g., change `solver` to `saga` and add `penalty: [l1, l2]` in the grid).\n",
    "- In the sweep cell, include the new parameter in the grid and re-run to compare results.\n",
    "- Override the dataset test split (e.g., `dataset.test_size=0.2`) via compose overrides and observe the effect on accuracy.\n",
    "- Bonus: Add a second dataset config (e.g., `dataset/small.yaml`) with a smaller `size` and switch to it via defaults override."
   ]
  }
 ],
 "metadata": {
  "kernelspec": {
   "display_name": "cpt-to-soiltype",
   "language": "python",
   "name": "python3"
  },
  "language_info": {
   "codemirror_mode": {
    "name": "ipython",
    "version": 3
   },
   "file_extension": ".py",
   "mimetype": "text/x-python",
   "name": "python",
   "nbconvert_exporter": "python",
   "pygments_lexer": "ipython3",
   "version": "3.11.13"
  }
 },
 "nbformat": 4,
 "nbformat_minor": 5
}

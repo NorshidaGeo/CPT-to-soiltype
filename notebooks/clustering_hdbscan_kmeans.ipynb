{
 "cells": [
  {
   "cell_type": "code",
   "execution_count": 1,
   "id": "7fdba711",
   "metadata": {},
   "outputs": [
    {
     "name": "stdout",
     "output_type": "stream",
     "text": [
      "Dataset loaded: 2345409 rows, 9 columns\n"
     ]
    },
    {
     "data": {
      "application/vnd.microsoft.datawrangler.viewer.v0+json": {
       "columns": [
        {
         "name": "index",
         "rawType": "int64",
         "type": "integer"
        },
        {
         "name": "Depth (m)",
         "rawType": "float64",
         "type": "float"
        },
        {
         "name": "qc (MPa)",
         "rawType": "float64",
         "type": "float"
        },
        {
         "name": "fs (kPa)",
         "rawType": "float64",
         "type": "float"
        },
        {
         "name": "Rf (%)",
         "rawType": "float64",
         "type": "float"
        },
        {
         "name": "σ,v (kPa)",
         "rawType": "float64",
         "type": "float"
        },
        {
         "name": "u0 (kPa)",
         "rawType": "float64",
         "type": "float"
        },
        {
         "name": "σ',v (kPa)",
         "rawType": "float64",
         "type": "float"
        },
        {
         "name": "Qtn (-)",
         "rawType": "float64",
         "type": "float"
        },
        {
         "name": "Fr (%)",
         "rawType": "float64",
         "type": "float"
        }
       ],
       "ref": "bcbec0a6-bbfc-4b8c-9604-5efb76635f36",
       "rows": [
        [
         "0",
         "0.02",
         "1.15",
         "1.0",
         "0.06",
         "0.38",
         "0.2",
         "0.18",
         "8.04",
         "0.06"
        ],
        [
         "1",
         "0.04",
         "2.85",
         "1.0",
         "0.03",
         "0.76",
         "0.39",
         "0.37",
         "185.53",
         "0.03"
        ],
        [
         "2",
         "0.06",
         "4.8",
         "1.0",
         "0.06",
         "1.14",
         "0.59",
         "0.55",
         "205.79",
         "0.06"
        ]
       ],
       "shape": {
        "columns": 9,
        "rows": 3
       }
      },
      "text/html": [
       "<div>\n",
       "<style scoped>\n",
       "    .dataframe tbody tr th:only-of-type {\n",
       "        vertical-align: middle;\n",
       "    }\n",
       "\n",
       "    .dataframe tbody tr th {\n",
       "        vertical-align: top;\n",
       "    }\n",
       "\n",
       "    .dataframe thead th {\n",
       "        text-align: right;\n",
       "    }\n",
       "</style>\n",
       "<table border=\"1\" class=\"dataframe\">\n",
       "  <thead>\n",
       "    <tr style=\"text-align: right;\">\n",
       "      <th></th>\n",
       "      <th>Depth (m)</th>\n",
       "      <th>qc (MPa)</th>\n",
       "      <th>fs (kPa)</th>\n",
       "      <th>Rf (%)</th>\n",
       "      <th>σ,v (kPa)</th>\n",
       "      <th>u0 (kPa)</th>\n",
       "      <th>σ',v (kPa)</th>\n",
       "      <th>Qtn (-)</th>\n",
       "      <th>Fr (%)</th>\n",
       "    </tr>\n",
       "  </thead>\n",
       "  <tbody>\n",
       "    <tr>\n",
       "      <th>0</th>\n",
       "      <td>0.02</td>\n",
       "      <td>1.15</td>\n",
       "      <td>1.0</td>\n",
       "      <td>0.06</td>\n",
       "      <td>0.38</td>\n",
       "      <td>0.20</td>\n",
       "      <td>0.18</td>\n",
       "      <td>8.04</td>\n",
       "      <td>0.06</td>\n",
       "    </tr>\n",
       "    <tr>\n",
       "      <th>1</th>\n",
       "      <td>0.04</td>\n",
       "      <td>2.85</td>\n",
       "      <td>1.0</td>\n",
       "      <td>0.03</td>\n",
       "      <td>0.76</td>\n",
       "      <td>0.39</td>\n",
       "      <td>0.37</td>\n",
       "      <td>185.53</td>\n",
       "      <td>0.03</td>\n",
       "    </tr>\n",
       "    <tr>\n",
       "      <th>2</th>\n",
       "      <td>0.06</td>\n",
       "      <td>4.80</td>\n",
       "      <td>1.0</td>\n",
       "      <td>0.06</td>\n",
       "      <td>1.14</td>\n",
       "      <td>0.59</td>\n",
       "      <td>0.55</td>\n",
       "      <td>205.79</td>\n",
       "      <td>0.06</td>\n",
       "    </tr>\n",
       "  </tbody>\n",
       "</table>\n",
       "</div>"
      ],
      "text/plain": [
       "   Depth (m)  qc (MPa)  fs (kPa)  Rf (%)  σ,v (kPa)  u0 (kPa)  σ',v (kPa)  \\\n",
       "0       0.02      1.15       1.0    0.06       0.38      0.20        0.18   \n",
       "1       0.04      2.85       1.0    0.03       0.76      0.39        0.37   \n",
       "2       0.06      4.80       1.0    0.06       1.14      0.59        0.55   \n",
       "\n",
       "   Qtn (-)  Fr (%)  \n",
       "0     8.04    0.06  \n",
       "1   185.53    0.03  \n",
       "2   205.79    0.06  "
      ]
     },
     "execution_count": 1,
     "metadata": {},
     "output_type": "execute_result"
    }
   ],
   "source": [
    "# Simplified data loading (unsupervised)\n",
    "from pathlib import Path\n",
    "\n",
    "import pandas as pd\n",
    "\n",
    "# Paths\n",
    "DATA_DIR = Path(\"..\") / \"data\" / \"model_ready\"\n",
    "CSV = DATA_DIR / \"cpt_features.csv\"\n",
    "\n",
    "# Load numeric-only dataset for unsupervised learning\n",
    "df = pd.read_csv(CSV)\n",
    "X = df.copy()  # all columns are numeric features\n",
    "\n",
    "print(f\"Dataset loaded: {df.shape[0]} rows, {df.shape[1]} columns\")\n",
    "X.head(3)"
   ]
  },
  {
   "cell_type": "markdown",
   "id": "5f8815b3",
   "metadata": {},
   "source": [
    "# Unsupervised Clustering in Geotechnics: K-Means and HDBSCAN\n",
    "\n",
    "This notebook introduces two popular clustering techniques and applies them to simple, geotechnics-inspired datasets:\n",
    "\n",
    "- K-Means: partition data into k clusters; fast and simple, but requires choosing k and assumes roughly spherical clusters.\n",
    "- HDBSCAN: density-based clustering; automatically finds the number of clusters, handles noise/outliers, works with variable density.\n",
    "\n",
    "We'll start with a small synthetic dataset (toy CPT/soil-behavior-inspired) and then optionally try real data from `data/raw/earthquake_data.csv` and `data/raw/CPT_PremstallerGeotechnik_revised.csv` (CPT measurements).\n",
    "\n",
    "Learning goals:\n",
    "- Understand the intuition behind K-Means and HDBSCAN\n",
    "- Practice feature scaling, dimensionality reduction for visualization\n",
    "- Evaluate clustering via silhouette score and qualitative plots\n",
    "- See pros/cons in geotechnical contexts (e.g., soil behavior zones, mixed stratigraphy, noise/outliers)"
   ]
  },
  {
   "cell_type": "markdown",
   "id": "d0a2665d",
   "metadata": {},
   "source": [
    "## Setup\n",
    "We import libraries used throughout. If you run this with the project environment (uv), dependencies are already declared in `pyproject.toml` (including `hdbscan`)."
   ]
  },
  {
   "cell_type": "code",
   "execution_count": null,
   "id": "b969fd32",
   "metadata": {},
   "outputs": [],
   "source": [
    "# Imports\n",
    "\n",
    "# HDBSCAN\n",
    "import hdbscan\n",
    "import numpy as np\n",
    "import pandas as pd\n",
    "import plotly.express as px\n",
    "from sklearn.cluster import KMeans\n",
    "from sklearn.decomposition import PCA\n",
    "from sklearn.metrics import silhouette_score\n",
    "from sklearn.preprocessing import StandardScaler\n",
    "\n",
    "# Ensure plots render inline\n",
    "%matplotlib inline"
   ]
  },
  {
   "cell_type": "markdown",
   "id": "4670e2a5",
   "metadata": {},
   "source": [
    "## Quick theory recap (teacher notes)\n",
    "\n",
    "- K-Means minimizes within-cluster variance. Sensitive to scale and initialization; choose k via elbow or silhouette.\n",
    "- HDBSCAN builds a hierarchy of clusters from density estimation; extracts stable clusters and labels sparse points as noise (−1).\n",
    "- In geotechnics: cluster CPT features (e.g., qc, fs, Fr, Qtn) to reveal soil behavior zones or facies patterns, but beware of depth trends and heteroscedasticity."
   ]
  },
  {
   "cell_type": "markdown",
   "id": "8895e560",
   "metadata": {},
   "source": [
    "## 1) Synthetic geotechnical-style dataset\n",
    "We'll create a toy dataset mimicking two soil layers plus a mixed transition:\n",
    "- Features: depth (m), normalized cone resistance qc (MPa), friction ratio Fr (%).\n",
    "- Lower depth tends to be dense sand (higher qc, low Fr), upper is softer clay/silt (lower qc, higher Fr).\n",
    "This is simplified and only for teaching clustering behavior."
   ]
  },
  {
   "cell_type": "code",
   "execution_count": null,
   "id": "f9fe82ad",
   "metadata": {},
   "outputs": [],
   "source": [
    "rng = np.random.default_rng(42)\n",
    "n = 600\n",
    "depth = np.sort(rng.uniform(0, 20, size=n))  # 0-20 m\n",
    "\n",
    "# Synthetic behaviors: upper 0-8 m mostly softer (low qc, higher Fr); 8-20 m denser (high qc, lower Fr)\n",
    "qc = np.where(\n",
    "    depth < 8,\n",
    "    rng.normal(5, 1.0, size=n),  # MPa (toy numbers)\n",
    "    rng.normal(15, 2.0, size=n),\n",
    ")\n",
    "Fr = np.where(\n",
    "    depth < 8,\n",
    "    rng.normal(3.0, 0.8, size=n),  # %\n",
    "    rng.normal(1.0, 0.3, size=n),\n",
    ")\n",
    "# Add a transition zone scatter\n",
    "mask = (depth > 6) & (depth < 10)\n",
    "qc[mask] += rng.normal(0, 3.0, size=mask.sum())\n",
    "Fr[mask] += rng.normal(0, 0.6, size=mask.sum())\n",
    "\n",
    "df_syn = pd.DataFrame({\"depth_m\": depth, \"qc_mpa\": qc, \"Fr_pct\": Fr})\n",
    "df_syn.head()"
   ]
  },
  {
   "cell_type": "code",
   "execution_count": null,
   "id": "e2c1dae4",
   "metadata": {},
   "outputs": [],
   "source": [
    "fig = px.scatter(\n",
    "    df_syn,\n",
    "    x=\"qc_mpa\",\n",
    "    y=\"depth_m\",\n",
    "    color=\"Fr_pct\",\n",
    "    title=\"Synthetic CPT-like Data: qc vs depth (color = Fr)\",\n",
    "    labels={\"qc_mpa\": \"qc (MPa)\", \"depth_m\": \"Depth (m)\", \"Fr_pct\": \"Fr (%)\"},\n",
    "    color_continuous_scale=\"Viridis\",\n",
    "    height=500,\n",
    ")\n",
    "fig.update_yaxes(autorange=\"reversed\")  # Depth increases downward\n",
    "fig.show()"
   ]
  },
  {
   "cell_type": "markdown",
   "id": "cdda9a23",
   "metadata": {},
   "source": [
    "## 2) K-Means clustering (start simple)\n",
    "We'll cluster on standardized features [qc, Fr, depth]."
   ]
  },
  {
   "cell_type": "markdown",
   "id": "e27e4026",
   "metadata": {},
   "source": [
    "### Visualize synthetic data\n",
    "Depth vs qc and Fr. We expect a vertical trend due to layering."
   ]
  },
  {
   "cell_type": "code",
   "execution_count": null,
   "id": "c7b0abaf",
   "metadata": {},
   "outputs": [],
   "source": [
    "features = df_syn[[\"qc_mpa\", \"Fr_pct\", \"depth_m\"]].copy()\n",
    "scaler = StandardScaler()\n",
    "X = scaler.fit_transform(features)\n",
    "\n",
    "# Try k from 2 to 6, compute inertia and silhouette\n",
    "inertias, sils, ks = [], [], []\n",
    "for k in range(2, 7):\n",
    "    km = KMeans(n_clusters=k, n_init=10, random_state=42)\n",
    "    labels = km.fit_predict(X)\n",
    "    ks.append(k)\n",
    "    inertias.append(km.inertia_)\n",
    "    sils.append(silhouette_score(X, labels))\n",
    "\n",
    "pd.DataFrame({\"k\": ks, \"inertia\": inertias, \"silhouette\": sils})"
   ]
  },
  {
   "cell_type": "code",
   "execution_count": null,
   "id": "57e461dc",
   "metadata": {},
   "outputs": [],
   "source": [
    "fig = px.line(\n",
    "    x=ks,\n",
    "    y=inertias,\n",
    "    markers=True,\n",
    "    title=\"K-Means: Elbow (Inertia)\",\n",
    "    labels={\"x\": \"k\", \"y\": \"Inertia\"},\n",
    ")\n",
    "fig.show()\n",
    "fig2 = px.line(\n",
    "    x=ks,\n",
    "    y=sils,\n",
    "    markers=True,\n",
    "    title=\"K-Means: Silhouette vs k\",\n",
    "    labels={\"x\": \"k\", \"y\": \"Silhouette\"},\n",
    ")\n",
    "fig2.show()"
   ]
  },
  {
   "cell_type": "markdown",
   "id": "c04dce9a",
   "metadata": {},
   "source": [
    "Pick k based on elbow and silhouette (often k=2 or 3 here). Then fit and visualize in depth space and in a PCA projection for separation intuition."
   ]
  },
  {
   "cell_type": "code",
   "execution_count": null,
   "id": "85cb29c6",
   "metadata": {},
   "outputs": [],
   "source": [
    "best_k = int(pd.Series(sils, index=ks).idxmax())  # simple choice for demo\n",
    "km = KMeans(n_clusters=best_k, n_init=10, random_state=42)\n",
    "labels_km = km.fit_predict(X)\n",
    "df_syn[\"cluster_kmeans\"] = labels_km.astype(int)\n",
    "\n",
    "# Visualize along depth\n",
    "fig = px.scatter(\n",
    "    df_syn,\n",
    "    x=\"qc_mpa\",\n",
    "    y=\"depth_m\",\n",
    "    color=\"cluster_kmeans\",\n",
    "    title=f\"K-Means (k={best_k}) clusters in qc-depth space\",\n",
    "    labels={\"qc_mpa\": \"qc (MPa)\", \"depth_m\": \"Depth (m)\"},\n",
    "    height=500,\n",
    ")\n",
    "fig.update_yaxes(autorange=\"reversed\")\n",
    "fig.show()\n",
    "\n",
    "# PCA for 2D viz\n",
    "pca = PCA(n_components=2, random_state=42)\n",
    "X2 = pca.fit_transform(X)\n",
    "df_plot = pd.DataFrame(X2, columns=[\"PC1\", \"PC2\"])\n",
    "df_plot[\"cluster\"] = labels_km.astype(int)\n",
    "fig2 = px.scatter(\n",
    "    df_plot, x=\"PC1\", y=\"PC2\", color=\"cluster\", title=\"K-Means clusters in PCA space\"\n",
    ")\n",
    "fig2.show()"
   ]
  },
  {
   "cell_type": "markdown",
   "id": "c96918da",
   "metadata": {},
   "source": [
    "## 3) HDBSCAN clustering\n",
    "HDBSCAN doesn't need k; we tune `min_cluster_size` to control granularity. It can label noise as −1."
   ]
  },
  {
   "cell_type": "code",
   "execution_count": null,
   "id": "fd480f94",
   "metadata": {},
   "outputs": [],
   "source": [
    "clusterer = hdbscan.HDBSCAN(\n",
    "    min_cluster_size=25, min_samples=None, cluster_selection_epsilon=0.0\n",
    ")\n",
    "labels_hdb = clusterer.fit_predict(X)\n",
    "df_syn[\"cluster_hdbscan\"] = labels_hdb.astype(int)\n",
    "n_noise = int((labels_hdb == -1).sum())\n",
    "n_clusters = int(len(set(labels_hdb)) - (1 if -1 in labels_hdb else 0))\n",
    "print({\"n_clusters\": n_clusters, \"n_noise\": n_noise})"
   ]
  },
  {
   "cell_type": "markdown",
   "id": "0892fe14",
   "metadata": {},
   "source": [
    "### Discussion prompts\n",
    "- Which method better separates the two layers and the transition zone?\n",
    "- What happens if you remove depth from features?\n",
    "- How does `min_cluster_size` affect HDBSCAN?\n",
    "- When would you prefer silhouette evaluation vs density-based approaches in practice?"
   ]
  },
  {
   "cell_type": "code",
   "execution_count": null,
   "id": "d7da9ce7",
   "metadata": {},
   "outputs": [],
   "source": [
    "fig = px.scatter(\n",
    "    df_syn,\n",
    "    x=\"qc_mpa\",\n",
    "    y=\"depth_m\",\n",
    "    color=\"cluster_hdbscan\",\n",
    "    title=\"HDBSCAN clusters in qc-depth space (−1=noise)\",\n",
    "    labels={\"qc_mpa\": \"qc (MPa)\", \"depth_m\": \"Depth (m)\"},\n",
    "    height=500,\n",
    ")\n",
    "fig.update_yaxes(autorange=\"reversed\")\n",
    "fig.show()\n",
    "\n",
    "# PCA viz\n",
    "_df_plot = pd.DataFrame(X2, columns=[\"PC1\", \"PC2\"])  # reuse PCA from above\n",
    "_df_plot[\"cluster\"] = labels_hdb.astype(int)\n",
    "fig2 = px.scatter(\n",
    "    _df_plot,\n",
    "    x=\"PC1\",\n",
    "    y=\"PC2\",\n",
    "    color=\"cluster\",\n",
    "    title=\"HDBSCAN clusters in PCA space (−1=noise)\",\n",
    ")\n",
    "fig2.show()"
   ]
  }
 ],
 "metadata": {
  "kernelspec": {
   "display_name": "cpt-to-soiltype",
   "language": "python",
   "name": "python3"
  },
  "language_info": {
   "codemirror_mode": {
    "name": "ipython",
    "version": 3
   },
   "file_extension": ".py",
   "mimetype": "text/x-python",
   "name": "python",
   "nbconvert_exporter": "python",
   "pygments_lexer": "ipython3",
   "version": "3.11.13"
  }
 },
 "nbformat": 4,
 "nbformat_minor": 5
}

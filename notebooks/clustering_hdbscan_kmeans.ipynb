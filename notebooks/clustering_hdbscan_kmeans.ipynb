{
 "cells": [
  {
   "cell_type": "markdown",
   "id": "5f8815b3",
   "metadata": {},
   "source": [
    "# Unsupervised Clustering: K-Means and HDBSCAN\n",
    "\n",
    "This notebook introduces two popular clustering techniques and applies them to simple, geotechnics-inspired datasets:\n",
    "\n",
    "- K-Means: partition data into k clusters; fast and simple, but requires choosing k and assumes roughly spherical clusters.\n",
    "- HDBSCAN: density-based clustering; automatically finds the number of clusters, handles noise/outliers, works with variable density.\n",
    "\n",
    "We'll start with a small synthetic dataset (toy CPT/soil-behavior-inspired) and then optionally try real data from `data/raw/earthquake_data.csv` and `data/raw/CPT_PremstallerGeotechnik_revised.csv` (CPT measurements).\n",
    "\n",
    "Learning goals:\n",
    "- Understand the intuition behind K-Means and HDBSCAN\n",
    "- Practice feature scaling, dimensionality reduction for visualization\n",
    "- Evaluate clustering via silhouette score and qualitative plots\n",
    "- See pros/cons in geotechnical contexts (e.g., soil behavior zones, mixed stratigraphy, noise/outliers)"
   ]
  },
  {
   "cell_type": "markdown",
   "id": "d0a2665d",
   "metadata": {},
   "source": [
    "## Setup\n",
    "We import libraries used throughout. If you run this with the project environment (uv), dependencies are already declared in `pyproject.toml` (including `hdbscan`)."
   ]
  },
  {
   "cell_type": "code",
   "execution_count": 3,
   "id": "b969fd32",
   "metadata": {},
   "outputs": [],
   "source": [
    "# Imports\n",
    "\n",
    "# HDBSCAN\n",
    "import hdbscan\n",
    "import numpy as np\n",
    "import pandas as pd\n",
    "import plotly.express as px\n",
    "from sklearn.cluster import KMeans\n",
    "from sklearn.decomposition import PCA\n",
    "from sklearn.metrics import silhouette_score\n",
    "from sklearn.preprocessing import StandardScaler\n",
    "\n",
    "# Ensure plots render inline\n",
    "%matplotlib inline"
   ]
  },
  {
   "cell_type": "markdown",
   "id": "4670e2a5",
   "metadata": {},
   "source": [
    "## Quick theory recap (teacher notes)\n",
    "\n",
    "- K-Means minimizes within-cluster variance. Sensitive to scale and initialization; choose k via elbow or silhouette.\n",
    "- HDBSCAN builds a hierarchy of clusters from density estimation; extracts stable clusters and labels sparse points as noise (−1).\n",
    "- In geotechnics: cluster CPT features (e.g., qc, fs, Fr, Qtn) to reveal soil behavior zones or facies patterns, but beware of depth trends and heteroscedasticity."
   ]
  },
  {
   "cell_type": "markdown",
   "id": "8895e560",
   "metadata": {},
   "source": [
    "## 1) Synthetic geotechnical-style dataset\n",
    "We'll create a toy dataset mimicking two soil layers plus a mixed transition:\n",
    "- Features: depth (m), normalized cone resistance qc (MPa), friction ratio Fr (%).\n",
    "- Lower depth tends to be dense sand (higher qc, low Fr), upper is softer clay/silt (lower qc, higher Fr).\n",
    "This is simplified and only for teaching clustering behavior."
   ]
  },
  {
   "cell_type": "code",
   "execution_count": 4,
   "id": "f9fe82ad",
   "metadata": {},
   "outputs": [
    {
     "data": {
      "application/vnd.microsoft.datawrangler.viewer.v0+json": {
       "columns": [
        {
         "name": "index",
         "rawType": "int64",
         "type": "integer"
        },
        {
         "name": "depth_m",
         "rawType": "float64",
         "type": "float"
        },
        {
         "name": "qc_mpa",
         "rawType": "float64",
         "type": "float"
        },
        {
         "name": "Fr_pct",
         "rawType": "float64",
         "type": "float"
        }
       ],
       "ref": "b0b946dd-00b9-4c28-9d64-f520de007a45",
       "rows": [
        [
         "0",
         "0.10859668257400923",
         "6.2479499850594316",
         "3.168533502179696"
        ],
        [
         "1",
         "0.14628912586031273",
         "4.747482665697035",
         "2.102855163186196"
        ],
        [
         "2",
         "0.14724539502011025",
         "5.363454337839073",
         "4.169884210778688"
        ],
        [
         "3",
         "0.21455289951352485",
         "2.590078034200125",
         "3.6473557854825382"
        ],
        [
         "4",
         "0.24605371777205676",
         "3.843652339734667",
         "3.076351230790189"
        ]
       ],
       "shape": {
        "columns": 3,
        "rows": 5
       }
      },
      "text/html": [
       "<div>\n",
       "<style scoped>\n",
       "    .dataframe tbody tr th:only-of-type {\n",
       "        vertical-align: middle;\n",
       "    }\n",
       "\n",
       "    .dataframe tbody tr th {\n",
       "        vertical-align: top;\n",
       "    }\n",
       "\n",
       "    .dataframe thead th {\n",
       "        text-align: right;\n",
       "    }\n",
       "</style>\n",
       "<table border=\"1\" class=\"dataframe\">\n",
       "  <thead>\n",
       "    <tr style=\"text-align: right;\">\n",
       "      <th></th>\n",
       "      <th>depth_m</th>\n",
       "      <th>qc_mpa</th>\n",
       "      <th>Fr_pct</th>\n",
       "    </tr>\n",
       "  </thead>\n",
       "  <tbody>\n",
       "    <tr>\n",
       "      <th>0</th>\n",
       "      <td>0.108597</td>\n",
       "      <td>6.247950</td>\n",
       "      <td>3.168534</td>\n",
       "    </tr>\n",
       "    <tr>\n",
       "      <th>1</th>\n",
       "      <td>0.146289</td>\n",
       "      <td>4.747483</td>\n",
       "      <td>2.102855</td>\n",
       "    </tr>\n",
       "    <tr>\n",
       "      <th>2</th>\n",
       "      <td>0.147245</td>\n",
       "      <td>5.363454</td>\n",
       "      <td>4.169884</td>\n",
       "    </tr>\n",
       "    <tr>\n",
       "      <th>3</th>\n",
       "      <td>0.214553</td>\n",
       "      <td>2.590078</td>\n",
       "      <td>3.647356</td>\n",
       "    </tr>\n",
       "    <tr>\n",
       "      <th>4</th>\n",
       "      <td>0.246054</td>\n",
       "      <td>3.843652</td>\n",
       "      <td>3.076351</td>\n",
       "    </tr>\n",
       "  </tbody>\n",
       "</table>\n",
       "</div>"
      ],
      "text/plain": [
       "    depth_m    qc_mpa    Fr_pct\n",
       "0  0.108597  6.247950  3.168534\n",
       "1  0.146289  4.747483  2.102855\n",
       "2  0.147245  5.363454  4.169884\n",
       "3  0.214553  2.590078  3.647356\n",
       "4  0.246054  3.843652  3.076351"
      ]
     },
     "execution_count": 4,
     "metadata": {},
     "output_type": "execute_result"
    }
   ],
   "source": [
    "rng = np.random.default_rng(42)\n",
    "n = 600\n",
    "depth = np.sort(rng.uniform(0, 20, size=n))  # 0-20 m\n",
    "\n",
    "# Synthetic behaviors: upper 0-8 m mostly softer (low qc, higher Fr); 8-20 m denser (high qc, lower Fr)\n",
    "qc = np.where(\n",
    "    depth < 8,\n",
    "    rng.normal(5, 1.0, size=n),  # MPa (toy numbers)\n",
    "    rng.normal(15, 2.0, size=n),\n",
    ")\n",
    "Fr = np.where(\n",
    "    depth < 8,\n",
    "    rng.normal(3.0, 0.8, size=n),  # %\n",
    "    rng.normal(1.0, 0.3, size=n),\n",
    ")\n",
    "# Add a transition zone scatter\n",
    "mask = (depth > 6) & (depth < 10)\n",
    "qc[mask] += rng.normal(0, 3.0, size=mask.sum())\n",
    "Fr[mask] += rng.normal(0, 0.6, size=mask.sum())\n",
    "\n",
    "df_syn = pd.DataFrame({\"depth_m\": depth, \"qc_mpa\": qc, \"Fr_pct\": Fr})\n",
    "df_syn.head()"
   ]
  },
  {
   "cell_type": "code",
   "execution_count": 5,
   "id": "e2c1dae4",
   "metadata": {},
   "outputs": [
    {
     "data": {
      "application/vnd.plotly.v1+json": {
       "config": {
        "plotlyServerURL": "https://plot.ly"
       },
       "data": [
        {
         "hovertemplate": "qc (MPa)=%{x}<br>Depth (m)=%{y}<br>Fr (%)=%{marker.color}<extra></extra>",
         "legendgroup": "",
         "marker": {
          "color": {
           "bdata": "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",
           "dtype": "f8"
          },
          "coloraxis": "coloraxis",
          "symbol": "circle"
         },
         "mode": "markers",
         "name": "",
         "orientation": "v",
         "showlegend": false,
         "type": "scatter",
         "x": {
          "bdata": "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",
          "dtype": "f8"
         },
         "xaxis": "x",
         "y": {
          "bdata": "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",
          "dtype": "f8"
         },
         "yaxis": "y"
        }
       ],
       "layout": {
        "coloraxis": {
         "colorbar": {
          "title": {
           "text": "Fr (%)"
          }
         },
         "colorscale": [
          [
           0,
           "#440154"
          ],
          [
           0.1111111111111111,
           "#482878"
          ],
          [
           0.2222222222222222,
           "#3e4989"
          ],
          [
           0.3333333333333333,
           "#31688e"
          ],
          [
           0.4444444444444444,
           "#26828e"
          ],
          [
           0.5555555555555556,
           "#1f9e89"
          ],
          [
           0.6666666666666666,
           "#35b779"
          ],
          [
           0.7777777777777778,
           "#6ece58"
          ],
          [
           0.8888888888888888,
           "#b5de2b"
          ],
          [
           1,
           "#fde725"
          ]
         ]
        },
        "height": 500,
        "legend": {
         "tracegroupgap": 0
        },
        "template": {
         "data": {
          "bar": [
           {
            "error_x": {
             "color": "#2a3f5f"
            },
            "error_y": {
             "color": "#2a3f5f"
            },
            "marker": {
             "line": {
              "color": "#E5ECF6",
              "width": 0.5
             },
             "pattern": {
              "fillmode": "overlay",
              "size": 10,
              "solidity": 0.2
             }
            },
            "type": "bar"
           }
          ],
          "barpolar": [
           {
            "marker": {
             "line": {
              "color": "#E5ECF6",
              "width": 0.5
             },
             "pattern": {
              "fillmode": "overlay",
              "size": 10,
              "solidity": 0.2
             }
            },
            "type": "barpolar"
           }
          ],
          "carpet": [
           {
            "aaxis": {
             "endlinecolor": "#2a3f5f",
             "gridcolor": "white",
             "linecolor": "white",
             "minorgridcolor": "white",
             "startlinecolor": "#2a3f5f"
            },
            "baxis": {
             "endlinecolor": "#2a3f5f",
             "gridcolor": "white",
             "linecolor": "white",
             "minorgridcolor": "white",
             "startlinecolor": "#2a3f5f"
            },
            "type": "carpet"
           }
          ],
          "choropleth": [
           {
            "colorbar": {
             "outlinewidth": 0,
             "ticks": ""
            },
            "type": "choropleth"
           }
          ],
          "contour": [
           {
            "colorbar": {
             "outlinewidth": 0,
             "ticks": ""
            },
            "colorscale": [
             [
              0,
              "#0d0887"
             ],
             [
              0.1111111111111111,
              "#46039f"
             ],
             [
              0.2222222222222222,
              "#7201a8"
             ],
             [
              0.3333333333333333,
              "#9c179e"
             ],
             [
              0.4444444444444444,
              "#bd3786"
             ],
             [
              0.5555555555555556,
              "#d8576b"
             ],
             [
              0.6666666666666666,
              "#ed7953"
             ],
             [
              0.7777777777777778,
              "#fb9f3a"
             ],
             [
              0.8888888888888888,
              "#fdca26"
             ],
             [
              1,
              "#f0f921"
             ]
            ],
            "type": "contour"
           }
          ],
          "contourcarpet": [
           {
            "colorbar": {
             "outlinewidth": 0,
             "ticks": ""
            },
            "type": "contourcarpet"
           }
          ],
          "heatmap": [
           {
            "colorbar": {
             "outlinewidth": 0,
             "ticks": ""
            },
            "colorscale": [
             [
              0,
              "#0d0887"
             ],
             [
              0.1111111111111111,
              "#46039f"
             ],
             [
              0.2222222222222222,
              "#7201a8"
             ],
             [
              0.3333333333333333,
              "#9c179e"
             ],
             [
              0.4444444444444444,
              "#bd3786"
             ],
             [
              0.5555555555555556,
              "#d8576b"
             ],
             [
              0.6666666666666666,
              "#ed7953"
             ],
             [
              0.7777777777777778,
              "#fb9f3a"
             ],
             [
              0.8888888888888888,
              "#fdca26"
             ],
             [
              1,
              "#f0f921"
             ]
            ],
            "type": "heatmap"
           }
          ],
          "histogram": [
           {
            "marker": {
             "pattern": {
              "fillmode": "overlay",
              "size": 10,
              "solidity": 0.2
             }
            },
            "type": "histogram"
           }
          ],
          "histogram2d": [
           {
            "colorbar": {
             "outlinewidth": 0,
             "ticks": ""
            },
            "colorscale": [
             [
              0,
              "#0d0887"
             ],
             [
              0.1111111111111111,
              "#46039f"
             ],
             [
              0.2222222222222222,
              "#7201a8"
             ],
             [
              0.3333333333333333,
              "#9c179e"
             ],
             [
              0.4444444444444444,
              "#bd3786"
             ],
             [
              0.5555555555555556,
              "#d8576b"
             ],
             [
              0.6666666666666666,
              "#ed7953"
             ],
             [
              0.7777777777777778,
              "#fb9f3a"
             ],
             [
              0.8888888888888888,
              "#fdca26"
             ],
             [
              1,
              "#f0f921"
             ]
            ],
            "type": "histogram2d"
           }
          ],
          "histogram2dcontour": [
           {
            "colorbar": {
             "outlinewidth": 0,
             "ticks": ""
            },
            "colorscale": [
             [
              0,
              "#0d0887"
             ],
             [
              0.1111111111111111,
              "#46039f"
             ],
             [
              0.2222222222222222,
              "#7201a8"
             ],
             [
              0.3333333333333333,
              "#9c179e"
             ],
             [
              0.4444444444444444,
              "#bd3786"
             ],
             [
              0.5555555555555556,
              "#d8576b"
             ],
             [
              0.6666666666666666,
              "#ed7953"
             ],
             [
              0.7777777777777778,
              "#fb9f3a"
             ],
             [
              0.8888888888888888,
              "#fdca26"
             ],
             [
              1,
              "#f0f921"
             ]
            ],
            "type": "histogram2dcontour"
           }
          ],
          "mesh3d": [
           {
            "colorbar": {
             "outlinewidth": 0,
             "ticks": ""
            },
            "type": "mesh3d"
           }
          ],
          "parcoords": [
           {
            "line": {
             "colorbar": {
              "outlinewidth": 0,
              "ticks": ""
             }
            },
            "type": "parcoords"
           }
          ],
          "pie": [
           {
            "automargin": true,
            "type": "pie"
           }
          ],
          "scatter": [
           {
            "fillpattern": {
             "fillmode": "overlay",
             "size": 10,
             "solidity": 0.2
            },
            "type": "scatter"
           }
          ],
          "scatter3d": [
           {
            "line": {
             "colorbar": {
              "outlinewidth": 0,
              "ticks": ""
             }
            },
            "marker": {
             "colorbar": {
              "outlinewidth": 0,
              "ticks": ""
             }
            },
            "type": "scatter3d"
           }
          ],
          "scattercarpet": [
           {
            "marker": {
             "colorbar": {
              "outlinewidth": 0,
              "ticks": ""
             }
            },
            "type": "scattercarpet"
           }
          ],
          "scattergeo": [
           {
            "marker": {
             "colorbar": {
              "outlinewidth": 0,
              "ticks": ""
             }
            },
            "type": "scattergeo"
           }
          ],
          "scattergl": [
           {
            "marker": {
             "colorbar": {
              "outlinewidth": 0,
              "ticks": ""
             }
            },
            "type": "scattergl"
           }
          ],
          "scattermap": [
           {
            "marker": {
             "colorbar": {
              "outlinewidth": 0,
              "ticks": ""
             }
            },
            "type": "scattermap"
           }
          ],
          "scattermapbox": [
           {
            "marker": {
             "colorbar": {
              "outlinewidth": 0,
              "ticks": ""
             }
            },
            "type": "scattermapbox"
           }
          ],
          "scatterpolar": [
           {
            "marker": {
             "colorbar": {
              "outlinewidth": 0,
              "ticks": ""
             }
            },
            "type": "scatterpolar"
           }
          ],
          "scatterpolargl": [
           {
            "marker": {
             "colorbar": {
              "outlinewidth": 0,
              "ticks": ""
             }
            },
            "type": "scatterpolargl"
           }
          ],
          "scatterternary": [
           {
            "marker": {
             "colorbar": {
              "outlinewidth": 0,
              "ticks": ""
             }
            },
            "type": "scatterternary"
           }
          ],
          "surface": [
           {
            "colorbar": {
             "outlinewidth": 0,
             "ticks": ""
            },
            "colorscale": [
             [
              0,
              "#0d0887"
             ],
             [
              0.1111111111111111,
              "#46039f"
             ],
             [
              0.2222222222222222,
              "#7201a8"
             ],
             [
              0.3333333333333333,
              "#9c179e"
             ],
             [
              0.4444444444444444,
              "#bd3786"
             ],
             [
              0.5555555555555556,
              "#d8576b"
             ],
             [
              0.6666666666666666,
              "#ed7953"
             ],
             [
              0.7777777777777778,
              "#fb9f3a"
             ],
             [
              0.8888888888888888,
              "#fdca26"
             ],
             [
              1,
              "#f0f921"
             ]
            ],
            "type": "surface"
           }
          ],
          "table": [
           {
            "cells": {
             "fill": {
              "color": "#EBF0F8"
             },
             "line": {
              "color": "white"
             }
            },
            "header": {
             "fill": {
              "color": "#C8D4E3"
             },
             "line": {
              "color": "white"
             }
            },
            "type": "table"
           }
          ]
         },
         "layout": {
          "annotationdefaults": {
           "arrowcolor": "#2a3f5f",
           "arrowhead": 0,
           "arrowwidth": 1
          },
          "autotypenumbers": "strict",
          "coloraxis": {
           "colorbar": {
            "outlinewidth": 0,
            "ticks": ""
           }
          },
          "colorscale": {
           "diverging": [
            [
             0,
             "#8e0152"
            ],
            [
             0.1,
             "#c51b7d"
            ],
            [
             0.2,
             "#de77ae"
            ],
            [
             0.3,
             "#f1b6da"
            ],
            [
             0.4,
             "#fde0ef"
            ],
            [
             0.5,
             "#f7f7f7"
            ],
            [
             0.6,
             "#e6f5d0"
            ],
            [
             0.7,
             "#b8e186"
            ],
            [
             0.8,
             "#7fbc41"
            ],
            [
             0.9,
             "#4d9221"
            ],
            [
             1,
             "#276419"
            ]
           ],
           "sequential": [
            [
             0,
             "#0d0887"
            ],
            [
             0.1111111111111111,
             "#46039f"
            ],
            [
             0.2222222222222222,
             "#7201a8"
            ],
            [
             0.3333333333333333,
             "#9c179e"
            ],
            [
             0.4444444444444444,
             "#bd3786"
            ],
            [
             0.5555555555555556,
             "#d8576b"
            ],
            [
             0.6666666666666666,
             "#ed7953"
            ],
            [
             0.7777777777777778,
             "#fb9f3a"
            ],
            [
             0.8888888888888888,
             "#fdca26"
            ],
            [
             1,
             "#f0f921"
            ]
           ],
           "sequentialminus": [
            [
             0,
             "#0d0887"
            ],
            [
             0.1111111111111111,
             "#46039f"
            ],
            [
             0.2222222222222222,
             "#7201a8"
            ],
            [
             0.3333333333333333,
             "#9c179e"
            ],
            [
             0.4444444444444444,
             "#bd3786"
            ],
            [
             0.5555555555555556,
             "#d8576b"
            ],
            [
             0.6666666666666666,
             "#ed7953"
            ],
            [
             0.7777777777777778,
             "#fb9f3a"
            ],
            [
             0.8888888888888888,
             "#fdca26"
            ],
            [
             1,
             "#f0f921"
            ]
           ]
          },
          "colorway": [
           "#636efa",
           "#EF553B",
           "#00cc96",
           "#ab63fa",
           "#FFA15A",
           "#19d3f3",
           "#FF6692",
           "#B6E880",
           "#FF97FF",
           "#FECB52"
          ],
          "font": {
           "color": "#2a3f5f"
          },
          "geo": {
           "bgcolor": "white",
           "lakecolor": "white",
           "landcolor": "#E5ECF6",
           "showlakes": true,
           "showland": true,
           "subunitcolor": "white"
          },
          "hoverlabel": {
           "align": "left"
          },
          "hovermode": "closest",
          "mapbox": {
           "style": "light"
          },
          "paper_bgcolor": "white",
          "plot_bgcolor": "#E5ECF6",
          "polar": {
           "angularaxis": {
            "gridcolor": "white",
            "linecolor": "white",
            "ticks": ""
           },
           "bgcolor": "#E5ECF6",
           "radialaxis": {
            "gridcolor": "white",
            "linecolor": "white",
            "ticks": ""
           }
          },
          "scene": {
           "xaxis": {
            "backgroundcolor": "#E5ECF6",
            "gridcolor": "white",
            "gridwidth": 2,
            "linecolor": "white",
            "showbackground": true,
            "ticks": "",
            "zerolinecolor": "white"
           },
           "yaxis": {
            "backgroundcolor": "#E5ECF6",
            "gridcolor": "white",
            "gridwidth": 2,
            "linecolor": "white",
            "showbackground": true,
            "ticks": "",
            "zerolinecolor": "white"
           },
           "zaxis": {
            "backgroundcolor": "#E5ECF6",
            "gridcolor": "white",
            "gridwidth": 2,
            "linecolor": "white",
            "showbackground": true,
            "ticks": "",
            "zerolinecolor": "white"
           }
          },
          "shapedefaults": {
           "line": {
            "color": "#2a3f5f"
           }
          },
          "ternary": {
           "aaxis": {
            "gridcolor": "white",
            "linecolor": "white",
            "ticks": ""
           },
           "baxis": {
            "gridcolor": "white",
            "linecolor": "white",
            "ticks": ""
           },
           "bgcolor": "#E5ECF6",
           "caxis": {
            "gridcolor": "white",
            "linecolor": "white",
            "ticks": ""
           }
          },
          "title": {
           "x": 0.05
          },
          "xaxis": {
           "automargin": true,
           "gridcolor": "white",
           "linecolor": "white",
           "ticks": "",
           "title": {
            "standoff": 15
           },
           "zerolinecolor": "white",
           "zerolinewidth": 2
          },
          "yaxis": {
           "automargin": true,
           "gridcolor": "white",
           "linecolor": "white",
           "ticks": "",
           "title": {
            "standoff": 15
           },
           "zerolinecolor": "white",
           "zerolinewidth": 2
          }
         }
        },
        "title": {
         "text": "Synthetic CPT-like Data: qc vs depth (color = Fr)"
        },
        "xaxis": {
         "anchor": "y",
         "domain": [
          0,
          1
         ],
         "title": {
          "text": "qc (MPa)"
         }
        },
        "yaxis": {
         "anchor": "x",
         "autorange": "reversed",
         "domain": [
          0,
          1
         ],
         "title": {
          "text": "Depth (m)"
         }
        }
       }
      }
     },
     "metadata": {},
     "output_type": "display_data"
    }
   ],
   "source": [
    "fig = px.scatter(\n",
    "    df_syn,\n",
    "    x=\"qc_mpa\",\n",
    "    y=\"depth_m\",\n",
    "    color=\"Fr_pct\",\n",
    "    title=\"Synthetic CPT-like Data: qc vs depth (color = Fr)\",\n",
    "    labels={\"qc_mpa\": \"qc (MPa)\", \"depth_m\": \"Depth (m)\", \"Fr_pct\": \"Fr (%)\"},\n",
    "    color_continuous_scale=\"Viridis\",\n",
    "    height=500,\n",
    ")\n",
    "fig.update_yaxes(autorange=\"reversed\")  # Depth increases downward\n",
    "fig.show()"
   ]
  },
  {
   "cell_type": "markdown",
   "id": "cdda9a23",
   "metadata": {},
   "source": [
    "## 2) K-Means clustering (start simple)\n",
    "We'll cluster on standardized features [qc, Fr, depth]."
   ]
  },
  {
   "cell_type": "markdown",
   "id": "e27e4026",
   "metadata": {},
   "source": [
    "### Visualize synthetic data\n",
    "Depth vs qc and Fr. We expect a vertical trend due to layering."
   ]
  },
  {
   "cell_type": "code",
   "execution_count": 6,
   "id": "c7b0abaf",
   "metadata": {},
   "outputs": [
    {
     "data": {
      "application/vnd.microsoft.datawrangler.viewer.v0+json": {
       "columns": [
        {
         "name": "index",
         "rawType": "int64",
         "type": "integer"
        },
        {
         "name": "k",
         "rawType": "int64",
         "type": "integer"
        },
        {
         "name": "inertia",
         "rawType": "float64",
         "type": "float"
        },
        {
         "name": "silhouette",
         "rawType": "float64",
         "type": "float"
        }
       ],
       "ref": "83723a23-588f-4772-b7df-42c17250776d",
       "rows": [
        [
         "0",
         "2",
         "441.01140071984094",
         "0.6556650319430654"
        ],
        [
         "1",
         "3",
         "347.20089010166464",
         "0.44683607651152596"
        ],
        [
         "2",
         "4",
         "260.8912527991699",
         "0.35335819793852863"
        ],
        [
         "3",
         "5",
         "230.17053866484673",
         "0.33286538482021666"
        ],
        [
         "4",
         "6",
         "208.3897322040863",
         "0.29693905624985767"
        ]
       ],
       "shape": {
        "columns": 3,
        "rows": 5
       }
      },
      "text/html": [
       "<div>\n",
       "<style scoped>\n",
       "    .dataframe tbody tr th:only-of-type {\n",
       "        vertical-align: middle;\n",
       "    }\n",
       "\n",
       "    .dataframe tbody tr th {\n",
       "        vertical-align: top;\n",
       "    }\n",
       "\n",
       "    .dataframe thead th {\n",
       "        text-align: right;\n",
       "    }\n",
       "</style>\n",
       "<table border=\"1\" class=\"dataframe\">\n",
       "  <thead>\n",
       "    <tr style=\"text-align: right;\">\n",
       "      <th></th>\n",
       "      <th>k</th>\n",
       "      <th>inertia</th>\n",
       "      <th>silhouette</th>\n",
       "    </tr>\n",
       "  </thead>\n",
       "  <tbody>\n",
       "    <tr>\n",
       "      <th>0</th>\n",
       "      <td>2</td>\n",
       "      <td>441.011401</td>\n",
       "      <td>0.655665</td>\n",
       "    </tr>\n",
       "    <tr>\n",
       "      <th>1</th>\n",
       "      <td>3</td>\n",
       "      <td>347.200890</td>\n",
       "      <td>0.446836</td>\n",
       "    </tr>\n",
       "    <tr>\n",
       "      <th>2</th>\n",
       "      <td>4</td>\n",
       "      <td>260.891253</td>\n",
       "      <td>0.353358</td>\n",
       "    </tr>\n",
       "    <tr>\n",
       "      <th>3</th>\n",
       "      <td>5</td>\n",
       "      <td>230.170539</td>\n",
       "      <td>0.332865</td>\n",
       "    </tr>\n",
       "    <tr>\n",
       "      <th>4</th>\n",
       "      <td>6</td>\n",
       "      <td>208.389732</td>\n",
       "      <td>0.296939</td>\n",
       "    </tr>\n",
       "  </tbody>\n",
       "</table>\n",
       "</div>"
      ],
      "text/plain": [
       "   k     inertia  silhouette\n",
       "0  2  441.011401    0.655665\n",
       "1  3  347.200890    0.446836\n",
       "2  4  260.891253    0.353358\n",
       "3  5  230.170539    0.332865\n",
       "4  6  208.389732    0.296939"
      ]
     },
     "execution_count": 6,
     "metadata": {},
     "output_type": "execute_result"
    }
   ],
   "source": [
    "features = df_syn[[\"qc_mpa\", \"Fr_pct\", \"depth_m\"]].copy()\n",
    "scaler = StandardScaler()\n",
    "X = scaler.fit_transform(features)\n",
    "\n",
    "# Try k from 2 to 6, compute inertia and silhouette\n",
    "inertias, sils, ks = [], [], []\n",
    "for k in range(2, 7):\n",
    "    km = KMeans(n_clusters=k, n_init=10, random_state=42)\n",
    "    labels = km.fit_predict(X)\n",
    "    ks.append(k)\n",
    "    inertias.append(km.inertia_)\n",
    "    sils.append(silhouette_score(X, labels))\n",
    "\n",
    "pd.DataFrame({\"k\": ks, \"inertia\": inertias, \"silhouette\": sils})"
   ]
  },
  {
   "cell_type": "code",
   "execution_count": 7,
   "id": "57e461dc",
   "metadata": {},
   "outputs": [
    {
     "data": {
      "application/vnd.plotly.v1+json": {
       "config": {
        "plotlyServerURL": "https://plot.ly"
       },
       "data": [
        {
         "hovertemplate": "k=%{x}<br>Inertia=%{y}<extra></extra>",
         "legendgroup": "",
         "line": {
          "color": "#636efa",
          "dash": "solid"
         },
         "marker": {
          "symbol": "circle"
         },
         "mode": "lines+markers",
         "name": "",
         "orientation": "v",
         "showlegend": false,
         "type": "scatter",
         "x": {
          "bdata": "AgMEBQY=",
          "dtype": "i1"
         },
         "xaxis": "x",
         "y": {
          "bdata": "4m2Fsi6Qe0DWC4rYNrN1QHOOS5JCTnBADIeADXXFbED116uveAxqQA==",
          "dtype": "f8"
         },
         "yaxis": "y"
        }
       ],
       "layout": {
        "legend": {
         "tracegroupgap": 0
        },
        "template": {
         "data": {
          "bar": [
           {
            "error_x": {
             "color": "#2a3f5f"
            },
            "error_y": {
             "color": "#2a3f5f"
            },
            "marker": {
             "line": {
              "color": "#E5ECF6",
              "width": 0.5
             },
             "pattern": {
              "fillmode": "overlay",
              "size": 10,
              "solidity": 0.2
             }
            },
            "type": "bar"
           }
          ],
          "barpolar": [
           {
            "marker": {
             "line": {
              "color": "#E5ECF6",
              "width": 0.5
             },
             "pattern": {
              "fillmode": "overlay",
              "size": 10,
              "solidity": 0.2
             }
            },
            "type": "barpolar"
           }
          ],
          "carpet": [
           {
            "aaxis": {
             "endlinecolor": "#2a3f5f",
             "gridcolor": "white",
             "linecolor": "white",
             "minorgridcolor": "white",
             "startlinecolor": "#2a3f5f"
            },
            "baxis": {
             "endlinecolor": "#2a3f5f",
             "gridcolor": "white",
             "linecolor": "white",
             "minorgridcolor": "white",
             "startlinecolor": "#2a3f5f"
            },
            "type": "carpet"
           }
          ],
          "choropleth": [
           {
            "colorbar": {
             "outlinewidth": 0,
             "ticks": ""
            },
            "type": "choropleth"
           }
          ],
          "contour": [
           {
            "colorbar": {
             "outlinewidth": 0,
             "ticks": ""
            },
            "colorscale": [
             [
              0,
              "#0d0887"
             ],
             [
              0.1111111111111111,
              "#46039f"
             ],
             [
              0.2222222222222222,
              "#7201a8"
             ],
             [
              0.3333333333333333,
              "#9c179e"
             ],
             [
              0.4444444444444444,
              "#bd3786"
             ],
             [
              0.5555555555555556,
              "#d8576b"
             ],
             [
              0.6666666666666666,
              "#ed7953"
             ],
             [
              0.7777777777777778,
              "#fb9f3a"
             ],
             [
              0.8888888888888888,
              "#fdca26"
             ],
             [
              1,
              "#f0f921"
             ]
            ],
            "type": "contour"
           }
          ],
          "contourcarpet": [
           {
            "colorbar": {
             "outlinewidth": 0,
             "ticks": ""
            },
            "type": "contourcarpet"
           }
          ],
          "heatmap": [
           {
            "colorbar": {
             "outlinewidth": 0,
             "ticks": ""
            },
            "colorscale": [
             [
              0,
              "#0d0887"
             ],
             [
              0.1111111111111111,
              "#46039f"
             ],
             [
              0.2222222222222222,
              "#7201a8"
             ],
             [
              0.3333333333333333,
              "#9c179e"
             ],
             [
              0.4444444444444444,
              "#bd3786"
             ],
             [
              0.5555555555555556,
              "#d8576b"
             ],
             [
              0.6666666666666666,
              "#ed7953"
             ],
             [
              0.7777777777777778,
              "#fb9f3a"
             ],
             [
              0.8888888888888888,
              "#fdca26"
             ],
             [
              1,
              "#f0f921"
             ]
            ],
            "type": "heatmap"
           }
          ],
          "histogram": [
           {
            "marker": {
             "pattern": {
              "fillmode": "overlay",
              "size": 10,
              "solidity": 0.2
             }
            },
            "type": "histogram"
           }
          ],
          "histogram2d": [
           {
            "colorbar": {
             "outlinewidth": 0,
             "ticks": ""
            },
            "colorscale": [
             [
              0,
              "#0d0887"
             ],
             [
              0.1111111111111111,
              "#46039f"
             ],
             [
              0.2222222222222222,
              "#7201a8"
             ],
             [
              0.3333333333333333,
              "#9c179e"
             ],
             [
              0.4444444444444444,
              "#bd3786"
             ],
             [
              0.5555555555555556,
              "#d8576b"
             ],
             [
              0.6666666666666666,
              "#ed7953"
             ],
             [
              0.7777777777777778,
              "#fb9f3a"
             ],
             [
              0.8888888888888888,
              "#fdca26"
             ],
             [
              1,
              "#f0f921"
             ]
            ],
            "type": "histogram2d"
           }
          ],
          "histogram2dcontour": [
           {
            "colorbar": {
             "outlinewidth": 0,
             "ticks": ""
            },
            "colorscale": [
             [
              0,
              "#0d0887"
             ],
             [
              0.1111111111111111,
              "#46039f"
             ],
             [
              0.2222222222222222,
              "#7201a8"
             ],
             [
              0.3333333333333333,
              "#9c179e"
             ],
             [
              0.4444444444444444,
              "#bd3786"
             ],
             [
              0.5555555555555556,
              "#d8576b"
             ],
             [
              0.6666666666666666,
              "#ed7953"
             ],
             [
              0.7777777777777778,
              "#fb9f3a"
             ],
             [
              0.8888888888888888,
              "#fdca26"
             ],
             [
              1,
              "#f0f921"
             ]
            ],
            "type": "histogram2dcontour"
           }
          ],
          "mesh3d": [
           {
            "colorbar": {
             "outlinewidth": 0,
             "ticks": ""
            },
            "type": "mesh3d"
           }
          ],
          "parcoords": [
           {
            "line": {
             "colorbar": {
              "outlinewidth": 0,
              "ticks": ""
             }
            },
            "type": "parcoords"
           }
          ],
          "pie": [
           {
            "automargin": true,
            "type": "pie"
           }
          ],
          "scatter": [
           {
            "fillpattern": {
             "fillmode": "overlay",
             "size": 10,
             "solidity": 0.2
            },
            "type": "scatter"
           }
          ],
          "scatter3d": [
           {
            "line": {
             "colorbar": {
              "outlinewidth": 0,
              "ticks": ""
             }
            },
            "marker": {
             "colorbar": {
              "outlinewidth": 0,
              "ticks": ""
             }
            },
            "type": "scatter3d"
           }
          ],
          "scattercarpet": [
           {
            "marker": {
             "colorbar": {
              "outlinewidth": 0,
              "ticks": ""
             }
            },
            "type": "scattercarpet"
           }
          ],
          "scattergeo": [
           {
            "marker": {
             "colorbar": {
              "outlinewidth": 0,
              "ticks": ""
             }
            },
            "type": "scattergeo"
           }
          ],
          "scattergl": [
           {
            "marker": {
             "colorbar": {
              "outlinewidth": 0,
              "ticks": ""
             }
            },
            "type": "scattergl"
           }
          ],
          "scattermap": [
           {
            "marker": {
             "colorbar": {
              "outlinewidth": 0,
              "ticks": ""
             }
            },
            "type": "scattermap"
           }
          ],
          "scattermapbox": [
           {
            "marker": {
             "colorbar": {
              "outlinewidth": 0,
              "ticks": ""
             }
            },
            "type": "scattermapbox"
           }
          ],
          "scatterpolar": [
           {
            "marker": {
             "colorbar": {
              "outlinewidth": 0,
              "ticks": ""
             }
            },
            "type": "scatterpolar"
           }
          ],
          "scatterpolargl": [
           {
            "marker": {
             "colorbar": {
              "outlinewidth": 0,
              "ticks": ""
             }
            },
            "type": "scatterpolargl"
           }
          ],
          "scatterternary": [
           {
            "marker": {
             "colorbar": {
              "outlinewidth": 0,
              "ticks": ""
             }
            },
            "type": "scatterternary"
           }
          ],
          "surface": [
           {
            "colorbar": {
             "outlinewidth": 0,
             "ticks": ""
            },
            "colorscale": [
             [
              0,
              "#0d0887"
             ],
             [
              0.1111111111111111,
              "#46039f"
             ],
             [
              0.2222222222222222,
              "#7201a8"
             ],
             [
              0.3333333333333333,
              "#9c179e"
             ],
             [
              0.4444444444444444,
              "#bd3786"
             ],
             [
              0.5555555555555556,
              "#d8576b"
             ],
             [
              0.6666666666666666,
              "#ed7953"
             ],
             [
              0.7777777777777778,
              "#fb9f3a"
             ],
             [
              0.8888888888888888,
              "#fdca26"
             ],
             [
              1,
              "#f0f921"
             ]
            ],
            "type": "surface"
           }
          ],
          "table": [
           {
            "cells": {
             "fill": {
              "color": "#EBF0F8"
             },
             "line": {
              "color": "white"
             }
            },
            "header": {
             "fill": {
              "color": "#C8D4E3"
             },
             "line": {
              "color": "white"
             }
            },
            "type": "table"
           }
          ]
         },
         "layout": {
          "annotationdefaults": {
           "arrowcolor": "#2a3f5f",
           "arrowhead": 0,
           "arrowwidth": 1
          },
          "autotypenumbers": "strict",
          "coloraxis": {
           "colorbar": {
            "outlinewidth": 0,
            "ticks": ""
           }
          },
          "colorscale": {
           "diverging": [
            [
             0,
             "#8e0152"
            ],
            [
             0.1,
             "#c51b7d"
            ],
            [
             0.2,
             "#de77ae"
            ],
            [
             0.3,
             "#f1b6da"
            ],
            [
             0.4,
             "#fde0ef"
            ],
            [
             0.5,
             "#f7f7f7"
            ],
            [
             0.6,
             "#e6f5d0"
            ],
            [
             0.7,
             "#b8e186"
            ],
            [
             0.8,
             "#7fbc41"
            ],
            [
             0.9,
             "#4d9221"
            ],
            [
             1,
             "#276419"
            ]
           ],
           "sequential": [
            [
             0,
             "#0d0887"
            ],
            [
             0.1111111111111111,
             "#46039f"
            ],
            [
             0.2222222222222222,
             "#7201a8"
            ],
            [
             0.3333333333333333,
             "#9c179e"
            ],
            [
             0.4444444444444444,
             "#bd3786"
            ],
            [
             0.5555555555555556,
             "#d8576b"
            ],
            [
             0.6666666666666666,
             "#ed7953"
            ],
            [
             0.7777777777777778,
             "#fb9f3a"
            ],
            [
             0.8888888888888888,
             "#fdca26"
            ],
            [
             1,
             "#f0f921"
            ]
           ],
           "sequentialminus": [
            [
             0,
             "#0d0887"
            ],
            [
             0.1111111111111111,
             "#46039f"
            ],
            [
             0.2222222222222222,
             "#7201a8"
            ],
            [
             0.3333333333333333,
             "#9c179e"
            ],
            [
             0.4444444444444444,
             "#bd3786"
            ],
            [
             0.5555555555555556,
             "#d8576b"
            ],
            [
             0.6666666666666666,
             "#ed7953"
            ],
            [
             0.7777777777777778,
             "#fb9f3a"
            ],
            [
             0.8888888888888888,
             "#fdca26"
            ],
            [
             1,
             "#f0f921"
            ]
           ]
          },
          "colorway": [
           "#636efa",
           "#EF553B",
           "#00cc96",
           "#ab63fa",
           "#FFA15A",
           "#19d3f3",
           "#FF6692",
           "#B6E880",
           "#FF97FF",
           "#FECB52"
          ],
          "font": {
           "color": "#2a3f5f"
          },
          "geo": {
           "bgcolor": "white",
           "lakecolor": "white",
           "landcolor": "#E5ECF6",
           "showlakes": true,
           "showland": true,
           "subunitcolor": "white"
          },
          "hoverlabel": {
           "align": "left"
          },
          "hovermode": "closest",
          "mapbox": {
           "style": "light"
          },
          "paper_bgcolor": "white",
          "plot_bgcolor": "#E5ECF6",
          "polar": {
           "angularaxis": {
            "gridcolor": "white",
            "linecolor": "white",
            "ticks": ""
           },
           "bgcolor": "#E5ECF6",
           "radialaxis": {
            "gridcolor": "white",
            "linecolor": "white",
            "ticks": ""
           }
          },
          "scene": {
           "xaxis": {
            "backgroundcolor": "#E5ECF6",
            "gridcolor": "white",
            "gridwidth": 2,
            "linecolor": "white",
            "showbackground": true,
            "ticks": "",
            "zerolinecolor": "white"
           },
           "yaxis": {
            "backgroundcolor": "#E5ECF6",
            "gridcolor": "white",
            "gridwidth": 2,
            "linecolor": "white",
            "showbackground": true,
            "ticks": "",
            "zerolinecolor": "white"
           },
           "zaxis": {
            "backgroundcolor": "#E5ECF6",
            "gridcolor": "white",
            "gridwidth": 2,
            "linecolor": "white",
            "showbackground": true,
            "ticks": "",
            "zerolinecolor": "white"
           }
          },
          "shapedefaults": {
           "line": {
            "color": "#2a3f5f"
           }
          },
          "ternary": {
           "aaxis": {
            "gridcolor": "white",
            "linecolor": "white",
            "ticks": ""
           },
           "baxis": {
            "gridcolor": "white",
            "linecolor": "white",
            "ticks": ""
           },
           "bgcolor": "#E5ECF6",
           "caxis": {
            "gridcolor": "white",
            "linecolor": "white",
            "ticks": ""
           }
          },
          "title": {
           "x": 0.05
          },
          "xaxis": {
           "automargin": true,
           "gridcolor": "white",
           "linecolor": "white",
           "ticks": "",
           "title": {
            "standoff": 15
           },
           "zerolinecolor": "white",
           "zerolinewidth": 2
          },
          "yaxis": {
           "automargin": true,
           "gridcolor": "white",
           "linecolor": "white",
           "ticks": "",
           "title": {
            "standoff": 15
           },
           "zerolinecolor": "white",
           "zerolinewidth": 2
          }
         }
        },
        "title": {
         "text": "K-Means: Elbow (Inertia)"
        },
        "xaxis": {
         "anchor": "y",
         "domain": [
          0,
          1
         ],
         "title": {
          "text": "k"
         }
        },
        "yaxis": {
         "anchor": "x",
         "domain": [
          0,
          1
         ],
         "title": {
          "text": "Inertia"
         }
        }
       }
      }
     },
     "metadata": {},
     "output_type": "display_data"
    },
    {
     "data": {
      "application/vnd.plotly.v1+json": {
       "config": {
        "plotlyServerURL": "https://plot.ly"
       },
       "data": [
        {
         "hovertemplate": "k=%{x}<br>Silhouette=%{y}<extra></extra>",
         "legendgroup": "",
         "line": {
          "color": "#636efa",
          "dash": "solid"
         },
         "marker": {
          "symbol": "circle"
         },
         "mode": "lines+markers",
         "name": "",
         "orientation": "v",
         "showlegend": false,
         "type": "scatter",
         "x": {
          "bdata": "AgMEBQY=",
          "dtype": "i1"
         },
         "xaxis": "x",
         "y": {
          "bdata": "u3CqOzX75D+rjtJX9pjcP67Y+rNrndY/gn1xnapN1T8349+rDAHTPw==",
          "dtype": "f8"
         },
         "yaxis": "y"
        }
       ],
       "layout": {
        "legend": {
         "tracegroupgap": 0
        },
        "template": {
         "data": {
          "bar": [
           {
            "error_x": {
             "color": "#2a3f5f"
            },
            "error_y": {
             "color": "#2a3f5f"
            },
            "marker": {
             "line": {
              "color": "#E5ECF6",
              "width": 0.5
             },
             "pattern": {
              "fillmode": "overlay",
              "size": 10,
              "solidity": 0.2
             }
            },
            "type": "bar"
           }
          ],
          "barpolar": [
           {
            "marker": {
             "line": {
              "color": "#E5ECF6",
              "width": 0.5
             },
             "pattern": {
              "fillmode": "overlay",
              "size": 10,
              "solidity": 0.2
             }
            },
            "type": "barpolar"
           }
          ],
          "carpet": [
           {
            "aaxis": {
             "endlinecolor": "#2a3f5f",
             "gridcolor": "white",
             "linecolor": "white",
             "minorgridcolor": "white",
             "startlinecolor": "#2a3f5f"
            },
            "baxis": {
             "endlinecolor": "#2a3f5f",
             "gridcolor": "white",
             "linecolor": "white",
             "minorgridcolor": "white",
             "startlinecolor": "#2a3f5f"
            },
            "type": "carpet"
           }
          ],
          "choropleth": [
           {
            "colorbar": {
             "outlinewidth": 0,
             "ticks": ""
            },
            "type": "choropleth"
           }
          ],
          "contour": [
           {
            "colorbar": {
             "outlinewidth": 0,
             "ticks": ""
            },
            "colorscale": [
             [
              0,
              "#0d0887"
             ],
             [
              0.1111111111111111,
              "#46039f"
             ],
             [
              0.2222222222222222,
              "#7201a8"
             ],
             [
              0.3333333333333333,
              "#9c179e"
             ],
             [
              0.4444444444444444,
              "#bd3786"
             ],
             [
              0.5555555555555556,
              "#d8576b"
             ],
             [
              0.6666666666666666,
              "#ed7953"
             ],
             [
              0.7777777777777778,
              "#fb9f3a"
             ],
             [
              0.8888888888888888,
              "#fdca26"
             ],
             [
              1,
              "#f0f921"
             ]
            ],
            "type": "contour"
           }
          ],
          "contourcarpet": [
           {
            "colorbar": {
             "outlinewidth": 0,
             "ticks": ""
            },
            "type": "contourcarpet"
           }
          ],
          "heatmap": [
           {
            "colorbar": {
             "outlinewidth": 0,
             "ticks": ""
            },
            "colorscale": [
             [
              0,
              "#0d0887"
             ],
             [
              0.1111111111111111,
              "#46039f"
             ],
             [
              0.2222222222222222,
              "#7201a8"
             ],
             [
              0.3333333333333333,
              "#9c179e"
             ],
             [
              0.4444444444444444,
              "#bd3786"
             ],
             [
              0.5555555555555556,
              "#d8576b"
             ],
             [
              0.6666666666666666,
              "#ed7953"
             ],
             [
              0.7777777777777778,
              "#fb9f3a"
             ],
             [
              0.8888888888888888,
              "#fdca26"
             ],
             [
              1,
              "#f0f921"
             ]
            ],
            "type": "heatmap"
           }
          ],
          "histogram": [
           {
            "marker": {
             "pattern": {
              "fillmode": "overlay",
              "size": 10,
              "solidity": 0.2
             }
            },
            "type": "histogram"
           }
          ],
          "histogram2d": [
           {
            "colorbar": {
             "outlinewidth": 0,
             "ticks": ""
            },
            "colorscale": [
             [
              0,
              "#0d0887"
             ],
             [
              0.1111111111111111,
              "#46039f"
             ],
             [
              0.2222222222222222,
              "#7201a8"
             ],
             [
              0.3333333333333333,
              "#9c179e"
             ],
             [
              0.4444444444444444,
              "#bd3786"
             ],
             [
              0.5555555555555556,
              "#d8576b"
             ],
             [
              0.6666666666666666,
              "#ed7953"
             ],
             [
              0.7777777777777778,
              "#fb9f3a"
             ],
             [
              0.8888888888888888,
              "#fdca26"
             ],
             [
              1,
              "#f0f921"
             ]
            ],
            "type": "histogram2d"
           }
          ],
          "histogram2dcontour": [
           {
            "colorbar": {
             "outlinewidth": 0,
             "ticks": ""
            },
            "colorscale": [
             [
              0,
              "#0d0887"
             ],
             [
              0.1111111111111111,
              "#46039f"
             ],
             [
              0.2222222222222222,
              "#7201a8"
             ],
             [
              0.3333333333333333,
              "#9c179e"
             ],
             [
              0.4444444444444444,
              "#bd3786"
             ],
             [
              0.5555555555555556,
              "#d8576b"
             ],
             [
              0.6666666666666666,
              "#ed7953"
             ],
             [
              0.7777777777777778,
              "#fb9f3a"
             ],
             [
              0.8888888888888888,
              "#fdca26"
             ],
             [
              1,
              "#f0f921"
             ]
            ],
            "type": "histogram2dcontour"
           }
          ],
          "mesh3d": [
           {
            "colorbar": {
             "outlinewidth": 0,
             "ticks": ""
            },
            "type": "mesh3d"
           }
          ],
          "parcoords": [
           {
            "line": {
             "colorbar": {
              "outlinewidth": 0,
              "ticks": ""
             }
            },
            "type": "parcoords"
           }
          ],
          "pie": [
           {
            "automargin": true,
            "type": "pie"
           }
          ],
          "scatter": [
           {
            "fillpattern": {
             "fillmode": "overlay",
             "size": 10,
             "solidity": 0.2
            },
            "type": "scatter"
           }
          ],
          "scatter3d": [
           {
            "line": {
             "colorbar": {
              "outlinewidth": 0,
              "ticks": ""
             }
            },
            "marker": {
             "colorbar": {
              "outlinewidth": 0,
              "ticks": ""
             }
            },
            "type": "scatter3d"
           }
          ],
          "scattercarpet": [
           {
            "marker": {
             "colorbar": {
              "outlinewidth": 0,
              "ticks": ""
             }
            },
            "type": "scattercarpet"
           }
          ],
          "scattergeo": [
           {
            "marker": {
             "colorbar": {
              "outlinewidth": 0,
              "ticks": ""
             }
            },
            "type": "scattergeo"
           }
          ],
          "scattergl": [
           {
            "marker": {
             "colorbar": {
              "outlinewidth": 0,
              "ticks": ""
             }
            },
            "type": "scattergl"
           }
          ],
          "scattermap": [
           {
            "marker": {
             "colorbar": {
              "outlinewidth": 0,
              "ticks": ""
             }
            },
            "type": "scattermap"
           }
          ],
          "scattermapbox": [
           {
            "marker": {
             "colorbar": {
              "outlinewidth": 0,
              "ticks": ""
             }
            },
            "type": "scattermapbox"
           }
          ],
          "scatterpolar": [
           {
            "marker": {
             "colorbar": {
              "outlinewidth": 0,
              "ticks": ""
             }
            },
            "type": "scatterpolar"
           }
          ],
          "scatterpolargl": [
           {
            "marker": {
             "colorbar": {
              "outlinewidth": 0,
              "ticks": ""
             }
            },
            "type": "scatterpolargl"
           }
          ],
          "scatterternary": [
           {
            "marker": {
             "colorbar": {
              "outlinewidth": 0,
              "ticks": ""
             }
            },
            "type": "scatterternary"
           }
          ],
          "surface": [
           {
            "colorbar": {
             "outlinewidth": 0,
             "ticks": ""
            },
            "colorscale": [
             [
              0,
              "#0d0887"
             ],
             [
              0.1111111111111111,
              "#46039f"
             ],
             [
              0.2222222222222222,
              "#7201a8"
             ],
             [
              0.3333333333333333,
              "#9c179e"
             ],
             [
              0.4444444444444444,
              "#bd3786"
             ],
             [
              0.5555555555555556,
              "#d8576b"
             ],
             [
              0.6666666666666666,
              "#ed7953"
             ],
             [
              0.7777777777777778,
              "#fb9f3a"
             ],
             [
              0.8888888888888888,
              "#fdca26"
             ],
             [
              1,
              "#f0f921"
             ]
            ],
            "type": "surface"
           }
          ],
          "table": [
           {
            "cells": {
             "fill": {
              "color": "#EBF0F8"
             },
             "line": {
              "color": "white"
             }
            },
            "header": {
             "fill": {
              "color": "#C8D4E3"
             },
             "line": {
              "color": "white"
             }
            },
            "type": "table"
           }
          ]
         },
         "layout": {
          "annotationdefaults": {
           "arrowcolor": "#2a3f5f",
           "arrowhead": 0,
           "arrowwidth": 1
          },
          "autotypenumbers": "strict",
          "coloraxis": {
           "colorbar": {
            "outlinewidth": 0,
            "ticks": ""
           }
          },
          "colorscale": {
           "diverging": [
            [
             0,
             "#8e0152"
            ],
            [
             0.1,
             "#c51b7d"
            ],
            [
             0.2,
             "#de77ae"
            ],
            [
             0.3,
             "#f1b6da"
            ],
            [
             0.4,
             "#fde0ef"
            ],
            [
             0.5,
             "#f7f7f7"
            ],
            [
             0.6,
             "#e6f5d0"
            ],
            [
             0.7,
             "#b8e186"
            ],
            [
             0.8,
             "#7fbc41"
            ],
            [
             0.9,
             "#4d9221"
            ],
            [
             1,
             "#276419"
            ]
           ],
           "sequential": [
            [
             0,
             "#0d0887"
            ],
            [
             0.1111111111111111,
             "#46039f"
            ],
            [
             0.2222222222222222,
             "#7201a8"
            ],
            [
             0.3333333333333333,
             "#9c179e"
            ],
            [
             0.4444444444444444,
             "#bd3786"
            ],
            [
             0.5555555555555556,
             "#d8576b"
            ],
            [
             0.6666666666666666,
             "#ed7953"
            ],
            [
             0.7777777777777778,
             "#fb9f3a"
            ],
            [
             0.8888888888888888,
             "#fdca26"
            ],
            [
             1,
             "#f0f921"
            ]
           ],
           "sequentialminus": [
            [
             0,
             "#0d0887"
            ],
            [
             0.1111111111111111,
             "#46039f"
            ],
            [
             0.2222222222222222,
             "#7201a8"
            ],
            [
             0.3333333333333333,
             "#9c179e"
            ],
            [
             0.4444444444444444,
             "#bd3786"
            ],
            [
             0.5555555555555556,
             "#d8576b"
            ],
            [
             0.6666666666666666,
             "#ed7953"
            ],
            [
             0.7777777777777778,
             "#fb9f3a"
            ],
            [
             0.8888888888888888,
             "#fdca26"
            ],
            [
             1,
             "#f0f921"
            ]
           ]
          },
          "colorway": [
           "#636efa",
           "#EF553B",
           "#00cc96",
           "#ab63fa",
           "#FFA15A",
           "#19d3f3",
           "#FF6692",
           "#B6E880",
           "#FF97FF",
           "#FECB52"
          ],
          "font": {
           "color": "#2a3f5f"
          },
          "geo": {
           "bgcolor": "white",
           "lakecolor": "white",
           "landcolor": "#E5ECF6",
           "showlakes": true,
           "showland": true,
           "subunitcolor": "white"
          },
          "hoverlabel": {
           "align": "left"
          },
          "hovermode": "closest",
          "mapbox": {
           "style": "light"
          },
          "paper_bgcolor": "white",
          "plot_bgcolor": "#E5ECF6",
          "polar": {
           "angularaxis": {
            "gridcolor": "white",
            "linecolor": "white",
            "ticks": ""
           },
           "bgcolor": "#E5ECF6",
           "radialaxis": {
            "gridcolor": "white",
            "linecolor": "white",
            "ticks": ""
           }
          },
          "scene": {
           "xaxis": {
            "backgroundcolor": "#E5ECF6",
            "gridcolor": "white",
            "gridwidth": 2,
            "linecolor": "white",
            "showbackground": true,
            "ticks": "",
            "zerolinecolor": "white"
           },
           "yaxis": {
            "backgroundcolor": "#E5ECF6",
            "gridcolor": "white",
            "gridwidth": 2,
            "linecolor": "white",
            "showbackground": true,
            "ticks": "",
            "zerolinecolor": "white"
           },
           "zaxis": {
            "backgroundcolor": "#E5ECF6",
            "gridcolor": "white",
            "gridwidth": 2,
            "linecolor": "white",
            "showbackground": true,
            "ticks": "",
            "zerolinecolor": "white"
           }
          },
          "shapedefaults": {
           "line": {
            "color": "#2a3f5f"
           }
          },
          "ternary": {
           "aaxis": {
            "gridcolor": "white",
            "linecolor": "white",
            "ticks": ""
           },
           "baxis": {
            "gridcolor": "white",
            "linecolor": "white",
            "ticks": ""
           },
           "bgcolor": "#E5ECF6",
           "caxis": {
            "gridcolor": "white",
            "linecolor": "white",
            "ticks": ""
           }
          },
          "title": {
           "x": 0.05
          },
          "xaxis": {
           "automargin": true,
           "gridcolor": "white",
           "linecolor": "white",
           "ticks": "",
           "title": {
            "standoff": 15
           },
           "zerolinecolor": "white",
           "zerolinewidth": 2
          },
          "yaxis": {
           "automargin": true,
           "gridcolor": "white",
           "linecolor": "white",
           "ticks": "",
           "title": {
            "standoff": 15
           },
           "zerolinecolor": "white",
           "zerolinewidth": 2
          }
         }
        },
        "title": {
         "text": "K-Means: Silhouette vs k"
        },
        "xaxis": {
         "anchor": "y",
         "domain": [
          0,
          1
         ],
         "title": {
          "text": "k"
         }
        },
        "yaxis": {
         "anchor": "x",
         "domain": [
          0,
          1
         ],
         "title": {
          "text": "Silhouette"
         }
        }
       }
      }
     },
     "metadata": {},
     "output_type": "display_data"
    }
   ],
   "source": [
    "fig = px.line(\n",
    "    x=ks,\n",
    "    y=inertias,\n",
    "    markers=True,\n",
    "    title=\"K-Means: Elbow (Inertia)\",\n",
    "    labels={\"x\": \"k\", \"y\": \"Inertia\"},\n",
    ")\n",
    "fig.show()\n",
    "fig2 = px.line(\n",
    "    x=ks,\n",
    "    y=sils,\n",
    "    markers=True,\n",
    "    title=\"K-Means: Silhouette vs k\",\n",
    "    labels={\"x\": \"k\", \"y\": \"Silhouette\"},\n",
    ")\n",
    "fig2.show()"
   ]
  },
  {
   "cell_type": "markdown",
   "id": "c04dce9a",
   "metadata": {},
   "source": [
    "Pick k based on elbow and silhouette (often k=2 or 3 here). Then fit and visualize in depth space and in a PCA projection for separation intuition."
   ]
  },
  {
   "cell_type": "code",
   "execution_count": 8,
   "id": "85cb29c6",
   "metadata": {},
   "outputs": [
    {
     "data": {
      "application/vnd.plotly.v1+json": {
       "config": {
        "plotlyServerURL": "https://plot.ly"
       },
       "data": [
        {
         "hovertemplate": "qc (MPa)=%{x}<br>Depth (m)=%{y}<br>cluster_kmeans=%{marker.color}<extra></extra>",
         "legendgroup": "",
         "marker": {
          "color": {
           "bdata": "AAAAAAAAAAAAAAAAAAAAAAAAAAAAAAAAAAAAAAAAAAAAAAAAAAAAAAAAAAAAAAAAAAAAAAAAAAAAAAAAAAAAAAAAAAAAAAAAAAAAAAAAAAAAAAAAAAAAAAAAAAAAAAAAAAAAAAAAAAAAAAAAAAAAAAAAAAAAAAAAAAAAAAAAAAAAAAAAAAAAAAAAAAAAAAAAAAAAAAAAAAAAAAAAAAAAAAAAAAAAAAAAAAAAAAAAAAAAAAAAAAAAAAAAAAAAAAAAAAAAAAAAAAAAAAAAAAAAAAAAAAAAAAAAAAAAAAAAAAAAAAAAAAAAAAAAAAAAAAAAAAAAAAAAAAAAAAAAAAAAAAAAAAAAAAAAAAAAAAAAAAAAAAAAAAAAAAAAAAAAAAAAAAAAAAAAAAAAAAAAAAAAAAAAAAAAAAAAAAAAAAAAAAAAAAAAAAAAAAAAAAAAAAAAAAAAAAAAAAAAAAAAAAAAAAAAAAAAAAAAAAAAAAAAAAAAAAAAAAAAAAAAAAAAAAAAAAAAAAAAAAAAAAAAAAAAAAAAAAAAAAAAAAAAAAAAAAAAAAAAAAAAAAAAAAAAAAAAAAAAAAAAAAAAAAAAAAAAAAAAAAAAAAAAAAAAAAAAAAAAAAAAAAAAAAAAAAAAAAAAAAAAAAAAAAAAAAAAAAAAAAAAAAAAAAAAAAAAAAAAAAAAAAAAAAAAAAAAAAAAAAAAAAAAAAAAAAAAAAAAAAAAAAAAAAAAAAAAAAAAAAAAAAAAAAAAAAAAAAAAAAAAAAAAAAAAAAAAAAAAAAAAAAAAAAAAAAAAAAAAAAAAAAAAAAAAAAAAAAAAAAAAAAAAAAAAAAAAAAAAAAAAAAAAAAAAAAAAAAAAAAAAAAAAAAAAAAAAAAAAAAAAAAAAAAAAAAAAAAAAAAAAAAAAAAAAAAAAAAAAAAAAAAAAAAAAAAAAAAAAAAAAAAAAAAAAAAAAAAAAAAAAAAAAAAAAAAAAAAAAAAAAAAAAAAAAAAAAAAAAAAAAAAAAAAAAAAAAAAAAAAAAAAAAAAAAAAAAAAAAAAAAAAAAAAAAAAAAAAAAAAAAAAAAAAAAAAAAAAAAAAAAAAAAAAAAAAAAAAAAAAAAAAAAAAAAAAAAAAAAAAAAAAAAAAAAAAAAAAAAAAAAAAAAAAAAAAAAAAAAAAAAAAAAAAAAAAAAAAAAAAAAAAAAAAAAAAAAAAAAAAAAAAAAAAAAAAAAAAAAAAAAAAAAAAAAAAAAAAAAAAAAAAAAAAAAAAAAAAAAAAAAAAAAAAEAAAABAAAAAQAAAAEAAAABAAAAAQAAAAEAAAABAAAAAQAAAAEAAAABAAAAAQAAAAEAAAABAAAAAQAAAAEAAAABAAAAAQAAAAEAAAABAAAAAQAAAAEAAAABAAAAAQAAAAEAAAABAAAAAQAAAAEAAAABAAAAAQAAAAEAAAABAAAAAQAAAAEAAAABAAAAAQAAAAEAAAABAAAAAQAAAAEAAAABAAAAAQAAAAEAAAABAAAAAQAAAAEAAAABAAAAAQAAAAEAAAABAAAAAQAAAAEAAAABAAAAAQAAAAEAAAABAAAAAQAAAAEAAAABAAAAAQAAAAEAAAABAAAAAQAAAAEAAAABAAAAAQAAAAEAAAABAAAAAQAAAAEAAAABAAAAAQAAAAEAAAABAAAAAQAAAAEAAAABAAAAAQAAAAEAAAABAAAAAQAAAAEAAAABAAAAAQAAAAEAAAABAAAAAQAAAAEAAAABAAAAAQAAAAEAAAABAAAAAQAAAAEAAAABAAAAAQAAAAEAAAABAAAAAQAAAAEAAAABAAAAAQAAAAEAAAABAAAAAQAAAAEAAAABAAAAAQAAAAEAAAABAAAAAQAAAAEAAAABAAAAAQAAAAEAAAABAAAAAQAAAAEAAAABAAAAAQAAAAEAAAABAAAAAQAAAAEAAAABAAAAAQAAAAEAAAABAAAAAQAAAAEAAAABAAAAAQAAAAEAAAABAAAAAQAAAAEAAAABAAAAAQAAAAEAAAABAAAAAQAAAAEAAAABAAAAAQAAAAEAAAABAAAAAQAAAAEAAAABAAAAAQAAAAEAAAABAAAAAQAAAAEAAAABAAAAAQAAAAEAAAABAAAAAQAAAAEAAAABAAAAAQAAAAEAAAABAAAAAQAAAAEAAAABAAAAAQAAAAEAAAABAAAAAQAAAAEAAAABAAAAAQAAAAEAAAABAAAAAQAAAAEAAAABAAAAAQAAAAEAAAABAAAAAQAAAAEAAAABAAAAAQAAAAEAAAABAAAAAQAAAAEAAAABAAAAAQAAAAEAAAABAAAAAQAAAAEAAAABAAAAAQAAAAEAAAABAAAAAQAAAAEAAAABAAAAAQAAAAEAAAABAAAAAQAAAAEAAAABAAAAAQAAAAEAAAABAAAAAQAAAAEAAAABAAAAAQAAAAEAAAABAAAAAQAAAAEAAAABAAAAAQAAAAEAAAABAAAAAQAAAAEAAAABAAAAAQAAAAEAAAABAAAAAQAAAAEAAAABAAAAAQAAAAEAAAABAAAAAQAAAAEAAAABAAAAAQAAAAEAAAABAAAAAQAAAAEAAAABAAAAAQAAAAEAAAABAAAAAQAAAAEAAAABAAAAAQAAAAEAAAABAAAAAQAAAAEAAAABAAAAAQAAAAEAAAABAAAAAQAAAAEAAAABAAAAAQAAAAEAAAABAAAAAQAAAAEAAAABAAAAAQAAAAEAAAABAAAAAQAAAAEAAAABAAAAAQAAAAEAAAABAAAAAQAAAAEAAAABAAAAAQAAAAEAAAABAAAAAQAAAAEAAAABAAAAAQAAAAEAAAABAAAAAQAAAAEAAAABAAAAAQAAAAEAAAABAAAAAQAAAAEAAAABAAAAAQAAAAEAAAABAAAAAQAAAAEAAAABAAAAAQAAAAEAAAABAAAAAQAAAAEAAAABAAAAAQAAAAEAAAABAAAAAQAAAAEAAAABAAAAAQAAAAEAAAABAAAAAQAAAAEAAAABAAAAAQAAAAEAAAABAAAAAQAAAAEAAAABAAAAAQAAAAEAAAABAAAAAQAAAAEAAAABAAAAAQAAAAEAAAABAAAAAQAAAAEAAAABAAAAAQAAAAEAAAABAAAAAQAAAAEAAAABAAAAAQAAAAEAAAABAAAAAQAAAAEAAAABAAAAAQAAAAEAAAABAAAAAQAAAAEAAAABAAAAAQAAAAEAAAABAAAA",
           "dtype": "i4"
          },
          "coloraxis": "coloraxis",
          "symbol": "circle"
         },
         "mode": "markers",
         "name": "",
         "orientation": "v",
         "showlegend": false,
         "type": "scatter",
         "x": {
          "bdata": "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",
          "dtype": "f8"
         },
         "xaxis": "x",
         "y": {
          "bdata": "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",
          "dtype": "f8"
         },
         "yaxis": "y"
        }
       ],
       "layout": {
        "coloraxis": {
         "colorbar": {
          "title": {
           "text": "cluster_kmeans"
          }
         },
         "colorscale": [
          [
           0,
           "#0d0887"
          ],
          [
           0.1111111111111111,
           "#46039f"
          ],
          [
           0.2222222222222222,
           "#7201a8"
          ],
          [
           0.3333333333333333,
           "#9c179e"
          ],
          [
           0.4444444444444444,
           "#bd3786"
          ],
          [
           0.5555555555555556,
           "#d8576b"
          ],
          [
           0.6666666666666666,
           "#ed7953"
          ],
          [
           0.7777777777777778,
           "#fb9f3a"
          ],
          [
           0.8888888888888888,
           "#fdca26"
          ],
          [
           1,
           "#f0f921"
          ]
         ]
        },
        "height": 500,
        "legend": {
         "tracegroupgap": 0
        },
        "template": {
         "data": {
          "bar": [
           {
            "error_x": {
             "color": "#2a3f5f"
            },
            "error_y": {
             "color": "#2a3f5f"
            },
            "marker": {
             "line": {
              "color": "#E5ECF6",
              "width": 0.5
             },
             "pattern": {
              "fillmode": "overlay",
              "size": 10,
              "solidity": 0.2
             }
            },
            "type": "bar"
           }
          ],
          "barpolar": [
           {
            "marker": {
             "line": {
              "color": "#E5ECF6",
              "width": 0.5
             },
             "pattern": {
              "fillmode": "overlay",
              "size": 10,
              "solidity": 0.2
             }
            },
            "type": "barpolar"
           }
          ],
          "carpet": [
           {
            "aaxis": {
             "endlinecolor": "#2a3f5f",
             "gridcolor": "white",
             "linecolor": "white",
             "minorgridcolor": "white",
             "startlinecolor": "#2a3f5f"
            },
            "baxis": {
             "endlinecolor": "#2a3f5f",
             "gridcolor": "white",
             "linecolor": "white",
             "minorgridcolor": "white",
             "startlinecolor": "#2a3f5f"
            },
            "type": "carpet"
           }
          ],
          "choropleth": [
           {
            "colorbar": {
             "outlinewidth": 0,
             "ticks": ""
            },
            "type": "choropleth"
           }
          ],
          "contour": [
           {
            "colorbar": {
             "outlinewidth": 0,
             "ticks": ""
            },
            "colorscale": [
             [
              0,
              "#0d0887"
             ],
             [
              0.1111111111111111,
              "#46039f"
             ],
             [
              0.2222222222222222,
              "#7201a8"
             ],
             [
              0.3333333333333333,
              "#9c179e"
             ],
             [
              0.4444444444444444,
              "#bd3786"
             ],
             [
              0.5555555555555556,
              "#d8576b"
             ],
             [
              0.6666666666666666,
              "#ed7953"
             ],
             [
              0.7777777777777778,
              "#fb9f3a"
             ],
             [
              0.8888888888888888,
              "#fdca26"
             ],
             [
              1,
              "#f0f921"
             ]
            ],
            "type": "contour"
           }
          ],
          "contourcarpet": [
           {
            "colorbar": {
             "outlinewidth": 0,
             "ticks": ""
            },
            "type": "contourcarpet"
           }
          ],
          "heatmap": [
           {
            "colorbar": {
             "outlinewidth": 0,
             "ticks": ""
            },
            "colorscale": [
             [
              0,
              "#0d0887"
             ],
             [
              0.1111111111111111,
              "#46039f"
             ],
             [
              0.2222222222222222,
              "#7201a8"
             ],
             [
              0.3333333333333333,
              "#9c179e"
             ],
             [
              0.4444444444444444,
              "#bd3786"
             ],
             [
              0.5555555555555556,
              "#d8576b"
             ],
             [
              0.6666666666666666,
              "#ed7953"
             ],
             [
              0.7777777777777778,
              "#fb9f3a"
             ],
             [
              0.8888888888888888,
              "#fdca26"
             ],
             [
              1,
              "#f0f921"
             ]
            ],
            "type": "heatmap"
           }
          ],
          "histogram": [
           {
            "marker": {
             "pattern": {
              "fillmode": "overlay",
              "size": 10,
              "solidity": 0.2
             }
            },
            "type": "histogram"
           }
          ],
          "histogram2d": [
           {
            "colorbar": {
             "outlinewidth": 0,
             "ticks": ""
            },
            "colorscale": [
             [
              0,
              "#0d0887"
             ],
             [
              0.1111111111111111,
              "#46039f"
             ],
             [
              0.2222222222222222,
              "#7201a8"
             ],
             [
              0.3333333333333333,
              "#9c179e"
             ],
             [
              0.4444444444444444,
              "#bd3786"
             ],
             [
              0.5555555555555556,
              "#d8576b"
             ],
             [
              0.6666666666666666,
              "#ed7953"
             ],
             [
              0.7777777777777778,
              "#fb9f3a"
             ],
             [
              0.8888888888888888,
              "#fdca26"
             ],
             [
              1,
              "#f0f921"
             ]
            ],
            "type": "histogram2d"
           }
          ],
          "histogram2dcontour": [
           {
            "colorbar": {
             "outlinewidth": 0,
             "ticks": ""
            },
            "colorscale": [
             [
              0,
              "#0d0887"
             ],
             [
              0.1111111111111111,
              "#46039f"
             ],
             [
              0.2222222222222222,
              "#7201a8"
             ],
             [
              0.3333333333333333,
              "#9c179e"
             ],
             [
              0.4444444444444444,
              "#bd3786"
             ],
             [
              0.5555555555555556,
              "#d8576b"
             ],
             [
              0.6666666666666666,
              "#ed7953"
             ],
             [
              0.7777777777777778,
              "#fb9f3a"
             ],
             [
              0.8888888888888888,
              "#fdca26"
             ],
             [
              1,
              "#f0f921"
             ]
            ],
            "type": "histogram2dcontour"
           }
          ],
          "mesh3d": [
           {
            "colorbar": {
             "outlinewidth": 0,
             "ticks": ""
            },
            "type": "mesh3d"
           }
          ],
          "parcoords": [
           {
            "line": {
             "colorbar": {
              "outlinewidth": 0,
              "ticks": ""
             }
            },
            "type": "parcoords"
           }
          ],
          "pie": [
           {
            "automargin": true,
            "type": "pie"
           }
          ],
          "scatter": [
           {
            "fillpattern": {
             "fillmode": "overlay",
             "size": 10,
             "solidity": 0.2
            },
            "type": "scatter"
           }
          ],
          "scatter3d": [
           {
            "line": {
             "colorbar": {
              "outlinewidth": 0,
              "ticks": ""
             }
            },
            "marker": {
             "colorbar": {
              "outlinewidth": 0,
              "ticks": ""
             }
            },
            "type": "scatter3d"
           }
          ],
          "scattercarpet": [
           {
            "marker": {
             "colorbar": {
              "outlinewidth": 0,
              "ticks": ""
             }
            },
            "type": "scattercarpet"
           }
          ],
          "scattergeo": [
           {
            "marker": {
             "colorbar": {
              "outlinewidth": 0,
              "ticks": ""
             }
            },
            "type": "scattergeo"
           }
          ],
          "scattergl": [
           {
            "marker": {
             "colorbar": {
              "outlinewidth": 0,
              "ticks": ""
             }
            },
            "type": "scattergl"
           }
          ],
          "scattermap": [
           {
            "marker": {
             "colorbar": {
              "outlinewidth": 0,
              "ticks": ""
             }
            },
            "type": "scattermap"
           }
          ],
          "scattermapbox": [
           {
            "marker": {
             "colorbar": {
              "outlinewidth": 0,
              "ticks": ""
             }
            },
            "type": "scattermapbox"
           }
          ],
          "scatterpolar": [
           {
            "marker": {
             "colorbar": {
              "outlinewidth": 0,
              "ticks": ""
             }
            },
            "type": "scatterpolar"
           }
          ],
          "scatterpolargl": [
           {
            "marker": {
             "colorbar": {
              "outlinewidth": 0,
              "ticks": ""
             }
            },
            "type": "scatterpolargl"
           }
          ],
          "scatterternary": [
           {
            "marker": {
             "colorbar": {
              "outlinewidth": 0,
              "ticks": ""
             }
            },
            "type": "scatterternary"
           }
          ],
          "surface": [
           {
            "colorbar": {
             "outlinewidth": 0,
             "ticks": ""
            },
            "colorscale": [
             [
              0,
              "#0d0887"
             ],
             [
              0.1111111111111111,
              "#46039f"
             ],
             [
              0.2222222222222222,
              "#7201a8"
             ],
             [
              0.3333333333333333,
              "#9c179e"
             ],
             [
              0.4444444444444444,
              "#bd3786"
             ],
             [
              0.5555555555555556,
              "#d8576b"
             ],
             [
              0.6666666666666666,
              "#ed7953"
             ],
             [
              0.7777777777777778,
              "#fb9f3a"
             ],
             [
              0.8888888888888888,
              "#fdca26"
             ],
             [
              1,
              "#f0f921"
             ]
            ],
            "type": "surface"
           }
          ],
          "table": [
           {
            "cells": {
             "fill": {
              "color": "#EBF0F8"
             },
             "line": {
              "color": "white"
             }
            },
            "header": {
             "fill": {
              "color": "#C8D4E3"
             },
             "line": {
              "color": "white"
             }
            },
            "type": "table"
           }
          ]
         },
         "layout": {
          "annotationdefaults": {
           "arrowcolor": "#2a3f5f",
           "arrowhead": 0,
           "arrowwidth": 1
          },
          "autotypenumbers": "strict",
          "coloraxis": {
           "colorbar": {
            "outlinewidth": 0,
            "ticks": ""
           }
          },
          "colorscale": {
           "diverging": [
            [
             0,
             "#8e0152"
            ],
            [
             0.1,
             "#c51b7d"
            ],
            [
             0.2,
             "#de77ae"
            ],
            [
             0.3,
             "#f1b6da"
            ],
            [
             0.4,
             "#fde0ef"
            ],
            [
             0.5,
             "#f7f7f7"
            ],
            [
             0.6,
             "#e6f5d0"
            ],
            [
             0.7,
             "#b8e186"
            ],
            [
             0.8,
             "#7fbc41"
            ],
            [
             0.9,
             "#4d9221"
            ],
            [
             1,
             "#276419"
            ]
           ],
           "sequential": [
            [
             0,
             "#0d0887"
            ],
            [
             0.1111111111111111,
             "#46039f"
            ],
            [
             0.2222222222222222,
             "#7201a8"
            ],
            [
             0.3333333333333333,
             "#9c179e"
            ],
            [
             0.4444444444444444,
             "#bd3786"
            ],
            [
             0.5555555555555556,
             "#d8576b"
            ],
            [
             0.6666666666666666,
             "#ed7953"
            ],
            [
             0.7777777777777778,
             "#fb9f3a"
            ],
            [
             0.8888888888888888,
             "#fdca26"
            ],
            [
             1,
             "#f0f921"
            ]
           ],
           "sequentialminus": [
            [
             0,
             "#0d0887"
            ],
            [
             0.1111111111111111,
             "#46039f"
            ],
            [
             0.2222222222222222,
             "#7201a8"
            ],
            [
             0.3333333333333333,
             "#9c179e"
            ],
            [
             0.4444444444444444,
             "#bd3786"
            ],
            [
             0.5555555555555556,
             "#d8576b"
            ],
            [
             0.6666666666666666,
             "#ed7953"
            ],
            [
             0.7777777777777778,
             "#fb9f3a"
            ],
            [
             0.8888888888888888,
             "#fdca26"
            ],
            [
             1,
             "#f0f921"
            ]
           ]
          },
          "colorway": [
           "#636efa",
           "#EF553B",
           "#00cc96",
           "#ab63fa",
           "#FFA15A",
           "#19d3f3",
           "#FF6692",
           "#B6E880",
           "#FF97FF",
           "#FECB52"
          ],
          "font": {
           "color": "#2a3f5f"
          },
          "geo": {
           "bgcolor": "white",
           "lakecolor": "white",
           "landcolor": "#E5ECF6",
           "showlakes": true,
           "showland": true,
           "subunitcolor": "white"
          },
          "hoverlabel": {
           "align": "left"
          },
          "hovermode": "closest",
          "mapbox": {
           "style": "light"
          },
          "paper_bgcolor": "white",
          "plot_bgcolor": "#E5ECF6",
          "polar": {
           "angularaxis": {
            "gridcolor": "white",
            "linecolor": "white",
            "ticks": ""
           },
           "bgcolor": "#E5ECF6",
           "radialaxis": {
            "gridcolor": "white",
            "linecolor": "white",
            "ticks": ""
           }
          },
          "scene": {
           "xaxis": {
            "backgroundcolor": "#E5ECF6",
            "gridcolor": "white",
            "gridwidth": 2,
            "linecolor": "white",
            "showbackground": true,
            "ticks": "",
            "zerolinecolor": "white"
           },
           "yaxis": {
            "backgroundcolor": "#E5ECF6",
            "gridcolor": "white",
            "gridwidth": 2,
            "linecolor": "white",
            "showbackground": true,
            "ticks": "",
            "zerolinecolor": "white"
           },
           "zaxis": {
            "backgroundcolor": "#E5ECF6",
            "gridcolor": "white",
            "gridwidth": 2,
            "linecolor": "white",
            "showbackground": true,
            "ticks": "",
            "zerolinecolor": "white"
           }
          },
          "shapedefaults": {
           "line": {
            "color": "#2a3f5f"
           }
          },
          "ternary": {
           "aaxis": {
            "gridcolor": "white",
            "linecolor": "white",
            "ticks": ""
           },
           "baxis": {
            "gridcolor": "white",
            "linecolor": "white",
            "ticks": ""
           },
           "bgcolor": "#E5ECF6",
           "caxis": {
            "gridcolor": "white",
            "linecolor": "white",
            "ticks": ""
           }
          },
          "title": {
           "x": 0.05
          },
          "xaxis": {
           "automargin": true,
           "gridcolor": "white",
           "linecolor": "white",
           "ticks": "",
           "title": {
            "standoff": 15
           },
           "zerolinecolor": "white",
           "zerolinewidth": 2
          },
          "yaxis": {
           "automargin": true,
           "gridcolor": "white",
           "linecolor": "white",
           "ticks": "",
           "title": {
            "standoff": 15
           },
           "zerolinecolor": "white",
           "zerolinewidth": 2
          }
         }
        },
        "title": {
         "text": "K-Means (k=2) clusters in qc-depth space"
        },
        "xaxis": {
         "anchor": "y",
         "domain": [
          0,
          1
         ],
         "title": {
          "text": "qc (MPa)"
         }
        },
        "yaxis": {
         "anchor": "x",
         "autorange": "reversed",
         "domain": [
          0,
          1
         ],
         "title": {
          "text": "Depth (m)"
         }
        }
       }
      }
     },
     "metadata": {},
     "output_type": "display_data"
    },
    {
     "data": {
      "application/vnd.plotly.v1+json": {
       "config": {
        "plotlyServerURL": "https://plot.ly"
       },
       "data": [
        {
         "hovertemplate": "PC1=%{x}<br>PC2=%{y}<br>cluster=%{marker.color}<extra></extra>",
         "legendgroup": "",
         "marker": {
          "color": {
           "bdata": "AAAAAAAAAAAAAAAAAAAAAAAAAAAAAAAAAAAAAAAAAAAAAAAAAAAAAAAAAAAAAAAAAAAAAAAAAAAAAAAAAAAAAAAAAAAAAAAAAAAAAAAAAAAAAAAAAAAAAAAAAAAAAAAAAAAAAAAAAAAAAAAAAAAAAAAAAAAAAAAAAAAAAAAAAAAAAAAAAAAAAAAAAAAAAAAAAAAAAAAAAAAAAAAAAAAAAAAAAAAAAAAAAAAAAAAAAAAAAAAAAAAAAAAAAAAAAAAAAAAAAAAAAAAAAAAAAAAAAAAAAAAAAAAAAAAAAAAAAAAAAAAAAAAAAAAAAAAAAAAAAAAAAAAAAAAAAAAAAAAAAAAAAAAAAAAAAAAAAAAAAAAAAAAAAAAAAAAAAAAAAAAAAAAAAAAAAAAAAAAAAAAAAAAAAAAAAAAAAAAAAAAAAAAAAAAAAAAAAAAAAAAAAAAAAAAAAAAAAAAAAAAAAAAAAAAAAAAAAAAAAAAAAAAAAAAAAAAAAAAAAAAAAAAAAAAAAAAAAAAAAAAAAAAAAAAAAAAAAAAAAAAAAAAAAAAAAAAAAAAAAAAAAAAAAAAAAAAAAAAAAAAAAAAAAAAAAAAAAAAAAAAAAAAAAAAAAAAAAAAAAAAAAAAAAAAAAAAAAAAAAAAAAAAAAAAAAAAAAAAAAAAAAAAAAAAAAAAAAAAAAAAAAAAAAAAAAAAAAAAAAAAAAAAAAAAAAAAAAAAAAAAAAAAAAAAAAAAAAAAAAAAAAAAAAAAAAAAAAAAAAAAAAAAAAAAAAAAAAAAAAAAAAAAAAAAAAAAAAAAAAAAAAAAAAAAAAAAAAAAAAAAAAAAAAAAAAAAAAAAAAAAAAAAAAAAAAAAAAAAAAAAAAAAAAAAAAAAAAAAAAAAAAAAAAAAAAAAAAAAAAAAAAAAAAAAAAAAAAAAAAAAAAAAAAAAAAAAAAAAAAAAAAAAAAAAAAAAAAAAAAAAAAAAAAAAAAAAAAAAAAAAAAAAAAAAAAAAAAAAAAAAAAAAAAAAAAAAAAAAAAAAAAAAAAAAAAAAAAAAAAAAAAAAAAAAAAAAAAAAAAAAAAAAAAAAAAAAAAAAAAAAAAAAAAAAAAAAAAAAAAAAAAAAAAAAAAAAAAAAAAAAAAAAAAAAAAAAAAAAAAAAAAAAAAAAAAAAAAAAAAAAAAAAAAAAAAAAAAAAAAAAAAAAAAAAAAAAAAAAAAAAAAAAAAAAAAAAAAAAAAAAAAAAAAAAAAAAAAAAAAAAAAAAAAAAAAAAAAAAAAAAAAAAAAAEAAAABAAAAAQAAAAEAAAABAAAAAQAAAAEAAAABAAAAAQAAAAEAAAABAAAAAQAAAAEAAAABAAAAAQAAAAEAAAABAAAAAQAAAAEAAAABAAAAAQAAAAEAAAABAAAAAQAAAAEAAAABAAAAAQAAAAEAAAABAAAAAQAAAAEAAAABAAAAAQAAAAEAAAABAAAAAQAAAAEAAAABAAAAAQAAAAEAAAABAAAAAQAAAAEAAAABAAAAAQAAAAEAAAABAAAAAQAAAAEAAAABAAAAAQAAAAEAAAABAAAAAQAAAAEAAAABAAAAAQAAAAEAAAABAAAAAQAAAAEAAAABAAAAAQAAAAEAAAABAAAAAQAAAAEAAAABAAAAAQAAAAEAAAABAAAAAQAAAAEAAAABAAAAAQAAAAEAAAABAAAAAQAAAAEAAAABAAAAAQAAAAEAAAABAAAAAQAAAAEAAAABAAAAAQAAAAEAAAABAAAAAQAAAAEAAAABAAAAAQAAAAEAAAABAAAAAQAAAAEAAAABAAAAAQAAAAEAAAABAAAAAQAAAAEAAAABAAAAAQAAAAEAAAABAAAAAQAAAAEAAAABAAAAAQAAAAEAAAABAAAAAQAAAAEAAAABAAAAAQAAAAEAAAABAAAAAQAAAAEAAAABAAAAAQAAAAEAAAABAAAAAQAAAAEAAAABAAAAAQAAAAEAAAABAAAAAQAAAAEAAAABAAAAAQAAAAEAAAABAAAAAQAAAAEAAAABAAAAAQAAAAEAAAABAAAAAQAAAAEAAAABAAAAAQAAAAEAAAABAAAAAQAAAAEAAAABAAAAAQAAAAEAAAABAAAAAQAAAAEAAAABAAAAAQAAAAEAAAABAAAAAQAAAAEAAAABAAAAAQAAAAEAAAABAAAAAQAAAAEAAAABAAAAAQAAAAEAAAABAAAAAQAAAAEAAAABAAAAAQAAAAEAAAABAAAAAQAAAAEAAAABAAAAAQAAAAEAAAABAAAAAQAAAAEAAAABAAAAAQAAAAEAAAABAAAAAQAAAAEAAAABAAAAAQAAAAEAAAABAAAAAQAAAAEAAAABAAAAAQAAAAEAAAABAAAAAQAAAAEAAAABAAAAAQAAAAEAAAABAAAAAQAAAAEAAAABAAAAAQAAAAEAAAABAAAAAQAAAAEAAAABAAAAAQAAAAEAAAABAAAAAQAAAAEAAAABAAAAAQAAAAEAAAABAAAAAQAAAAEAAAABAAAAAQAAAAEAAAABAAAAAQAAAAEAAAABAAAAAQAAAAEAAAABAAAAAQAAAAEAAAABAAAAAQAAAAEAAAABAAAAAQAAAAEAAAABAAAAAQAAAAEAAAABAAAAAQAAAAEAAAABAAAAAQAAAAEAAAABAAAAAQAAAAEAAAABAAAAAQAAAAEAAAABAAAAAQAAAAEAAAABAAAAAQAAAAEAAAABAAAAAQAAAAEAAAABAAAAAQAAAAEAAAABAAAAAQAAAAEAAAABAAAAAQAAAAEAAAABAAAAAQAAAAEAAAABAAAAAQAAAAEAAAABAAAAAQAAAAEAAAABAAAAAQAAAAEAAAABAAAAAQAAAAEAAAABAAAAAQAAAAEAAAABAAAAAQAAAAEAAAABAAAAAQAAAAEAAAABAAAAAQAAAAEAAAABAAAAAQAAAAEAAAABAAAAAQAAAAEAAAABAAAAAQAAAAEAAAABAAAAAQAAAAEAAAABAAAAAQAAAAEAAAABAAAAAQAAAAEAAAABAAAAAQAAAAEAAAABAAAAAQAAAAEAAAABAAAAAQAAAAEAAAABAAAAAQAAAAEAAAABAAAAAQAAAAEAAAABAAAAAQAAAAEAAAABAAAAAQAAAAEAAAABAAAAAQAAAAEAAAABAAAAAQAAAAEAAAABAAAAAQAAAAEAAAABAAAAAQAAAAEAAAABAAAAAQAAAAEAAAABAAAA",
           "dtype": "i4"
          },
          "coloraxis": "coloraxis",
          "symbol": "circle"
         },
         "mode": "markers",
         "name": "",
         "orientation": "v",
         "showlegend": false,
         "type": "scatter",
         "x": {
          "bdata": "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",
          "dtype": "f8"
         },
         "xaxis": "x",
         "y": {
          "bdata": "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",
          "dtype": "f8"
         },
         "yaxis": "y"
        }
       ],
       "layout": {
        "coloraxis": {
         "colorbar": {
          "title": {
           "text": "cluster"
          }
         },
         "colorscale": [
          [
           0,
           "#0d0887"
          ],
          [
           0.1111111111111111,
           "#46039f"
          ],
          [
           0.2222222222222222,
           "#7201a8"
          ],
          [
           0.3333333333333333,
           "#9c179e"
          ],
          [
           0.4444444444444444,
           "#bd3786"
          ],
          [
           0.5555555555555556,
           "#d8576b"
          ],
          [
           0.6666666666666666,
           "#ed7953"
          ],
          [
           0.7777777777777778,
           "#fb9f3a"
          ],
          [
           0.8888888888888888,
           "#fdca26"
          ],
          [
           1,
           "#f0f921"
          ]
         ]
        },
        "legend": {
         "tracegroupgap": 0
        },
        "template": {
         "data": {
          "bar": [
           {
            "error_x": {
             "color": "#2a3f5f"
            },
            "error_y": {
             "color": "#2a3f5f"
            },
            "marker": {
             "line": {
              "color": "#E5ECF6",
              "width": 0.5
             },
             "pattern": {
              "fillmode": "overlay",
              "size": 10,
              "solidity": 0.2
             }
            },
            "type": "bar"
           }
          ],
          "barpolar": [
           {
            "marker": {
             "line": {
              "color": "#E5ECF6",
              "width": 0.5
             },
             "pattern": {
              "fillmode": "overlay",
              "size": 10,
              "solidity": 0.2
             }
            },
            "type": "barpolar"
           }
          ],
          "carpet": [
           {
            "aaxis": {
             "endlinecolor": "#2a3f5f",
             "gridcolor": "white",
             "linecolor": "white",
             "minorgridcolor": "white",
             "startlinecolor": "#2a3f5f"
            },
            "baxis": {
             "endlinecolor": "#2a3f5f",
             "gridcolor": "white",
             "linecolor": "white",
             "minorgridcolor": "white",
             "startlinecolor": "#2a3f5f"
            },
            "type": "carpet"
           }
          ],
          "choropleth": [
           {
            "colorbar": {
             "outlinewidth": 0,
             "ticks": ""
            },
            "type": "choropleth"
           }
          ],
          "contour": [
           {
            "colorbar": {
             "outlinewidth": 0,
             "ticks": ""
            },
            "colorscale": [
             [
              0,
              "#0d0887"
             ],
             [
              0.1111111111111111,
              "#46039f"
             ],
             [
              0.2222222222222222,
              "#7201a8"
             ],
             [
              0.3333333333333333,
              "#9c179e"
             ],
             [
              0.4444444444444444,
              "#bd3786"
             ],
             [
              0.5555555555555556,
              "#d8576b"
             ],
             [
              0.6666666666666666,
              "#ed7953"
             ],
             [
              0.7777777777777778,
              "#fb9f3a"
             ],
             [
              0.8888888888888888,
              "#fdca26"
             ],
             [
              1,
              "#f0f921"
             ]
            ],
            "type": "contour"
           }
          ],
          "contourcarpet": [
           {
            "colorbar": {
             "outlinewidth": 0,
             "ticks": ""
            },
            "type": "contourcarpet"
           }
          ],
          "heatmap": [
           {
            "colorbar": {
             "outlinewidth": 0,
             "ticks": ""
            },
            "colorscale": [
             [
              0,
              "#0d0887"
             ],
             [
              0.1111111111111111,
              "#46039f"
             ],
             [
              0.2222222222222222,
              "#7201a8"
             ],
             [
              0.3333333333333333,
              "#9c179e"
             ],
             [
              0.4444444444444444,
              "#bd3786"
             ],
             [
              0.5555555555555556,
              "#d8576b"
             ],
             [
              0.6666666666666666,
              "#ed7953"
             ],
             [
              0.7777777777777778,
              "#fb9f3a"
             ],
             [
              0.8888888888888888,
              "#fdca26"
             ],
             [
              1,
              "#f0f921"
             ]
            ],
            "type": "heatmap"
           }
          ],
          "histogram": [
           {
            "marker": {
             "pattern": {
              "fillmode": "overlay",
              "size": 10,
              "solidity": 0.2
             }
            },
            "type": "histogram"
           }
          ],
          "histogram2d": [
           {
            "colorbar": {
             "outlinewidth": 0,
             "ticks": ""
            },
            "colorscale": [
             [
              0,
              "#0d0887"
             ],
             [
              0.1111111111111111,
              "#46039f"
             ],
             [
              0.2222222222222222,
              "#7201a8"
             ],
             [
              0.3333333333333333,
              "#9c179e"
             ],
             [
              0.4444444444444444,
              "#bd3786"
             ],
             [
              0.5555555555555556,
              "#d8576b"
             ],
             [
              0.6666666666666666,
              "#ed7953"
             ],
             [
              0.7777777777777778,
              "#fb9f3a"
             ],
             [
              0.8888888888888888,
              "#fdca26"
             ],
             [
              1,
              "#f0f921"
             ]
            ],
            "type": "histogram2d"
           }
          ],
          "histogram2dcontour": [
           {
            "colorbar": {
             "outlinewidth": 0,
             "ticks": ""
            },
            "colorscale": [
             [
              0,
              "#0d0887"
             ],
             [
              0.1111111111111111,
              "#46039f"
             ],
             [
              0.2222222222222222,
              "#7201a8"
             ],
             [
              0.3333333333333333,
              "#9c179e"
             ],
             [
              0.4444444444444444,
              "#bd3786"
             ],
             [
              0.5555555555555556,
              "#d8576b"
             ],
             [
              0.6666666666666666,
              "#ed7953"
             ],
             [
              0.7777777777777778,
              "#fb9f3a"
             ],
             [
              0.8888888888888888,
              "#fdca26"
             ],
             [
              1,
              "#f0f921"
             ]
            ],
            "type": "histogram2dcontour"
           }
          ],
          "mesh3d": [
           {
            "colorbar": {
             "outlinewidth": 0,
             "ticks": ""
            },
            "type": "mesh3d"
           }
          ],
          "parcoords": [
           {
            "line": {
             "colorbar": {
              "outlinewidth": 0,
              "ticks": ""
             }
            },
            "type": "parcoords"
           }
          ],
          "pie": [
           {
            "automargin": true,
            "type": "pie"
           }
          ],
          "scatter": [
           {
            "fillpattern": {
             "fillmode": "overlay",
             "size": 10,
             "solidity": 0.2
            },
            "type": "scatter"
           }
          ],
          "scatter3d": [
           {
            "line": {
             "colorbar": {
              "outlinewidth": 0,
              "ticks": ""
             }
            },
            "marker": {
             "colorbar": {
              "outlinewidth": 0,
              "ticks": ""
             }
            },
            "type": "scatter3d"
           }
          ],
          "scattercarpet": [
           {
            "marker": {
             "colorbar": {
              "outlinewidth": 0,
              "ticks": ""
             }
            },
            "type": "scattercarpet"
           }
          ],
          "scattergeo": [
           {
            "marker": {
             "colorbar": {
              "outlinewidth": 0,
              "ticks": ""
             }
            },
            "type": "scattergeo"
           }
          ],
          "scattergl": [
           {
            "marker": {
             "colorbar": {
              "outlinewidth": 0,
              "ticks": ""
             }
            },
            "type": "scattergl"
           }
          ],
          "scattermap": [
           {
            "marker": {
             "colorbar": {
              "outlinewidth": 0,
              "ticks": ""
             }
            },
            "type": "scattermap"
           }
          ],
          "scattermapbox": [
           {
            "marker": {
             "colorbar": {
              "outlinewidth": 0,
              "ticks": ""
             }
            },
            "type": "scattermapbox"
           }
          ],
          "scatterpolar": [
           {
            "marker": {
             "colorbar": {
              "outlinewidth": 0,
              "ticks": ""
             }
            },
            "type": "scatterpolar"
           }
          ],
          "scatterpolargl": [
           {
            "marker": {
             "colorbar": {
              "outlinewidth": 0,
              "ticks": ""
             }
            },
            "type": "scatterpolargl"
           }
          ],
          "scatterternary": [
           {
            "marker": {
             "colorbar": {
              "outlinewidth": 0,
              "ticks": ""
             }
            },
            "type": "scatterternary"
           }
          ],
          "surface": [
           {
            "colorbar": {
             "outlinewidth": 0,
             "ticks": ""
            },
            "colorscale": [
             [
              0,
              "#0d0887"
             ],
             [
              0.1111111111111111,
              "#46039f"
             ],
             [
              0.2222222222222222,
              "#7201a8"
             ],
             [
              0.3333333333333333,
              "#9c179e"
             ],
             [
              0.4444444444444444,
              "#bd3786"
             ],
             [
              0.5555555555555556,
              "#d8576b"
             ],
             [
              0.6666666666666666,
              "#ed7953"
             ],
             [
              0.7777777777777778,
              "#fb9f3a"
             ],
             [
              0.8888888888888888,
              "#fdca26"
             ],
             [
              1,
              "#f0f921"
             ]
            ],
            "type": "surface"
           }
          ],
          "table": [
           {
            "cells": {
             "fill": {
              "color": "#EBF0F8"
             },
             "line": {
              "color": "white"
             }
            },
            "header": {
             "fill": {
              "color": "#C8D4E3"
             },
             "line": {
              "color": "white"
             }
            },
            "type": "table"
           }
          ]
         },
         "layout": {
          "annotationdefaults": {
           "arrowcolor": "#2a3f5f",
           "arrowhead": 0,
           "arrowwidth": 1
          },
          "autotypenumbers": "strict",
          "coloraxis": {
           "colorbar": {
            "outlinewidth": 0,
            "ticks": ""
           }
          },
          "colorscale": {
           "diverging": [
            [
             0,
             "#8e0152"
            ],
            [
             0.1,
             "#c51b7d"
            ],
            [
             0.2,
             "#de77ae"
            ],
            [
             0.3,
             "#f1b6da"
            ],
            [
             0.4,
             "#fde0ef"
            ],
            [
             0.5,
             "#f7f7f7"
            ],
            [
             0.6,
             "#e6f5d0"
            ],
            [
             0.7,
             "#b8e186"
            ],
            [
             0.8,
             "#7fbc41"
            ],
            [
             0.9,
             "#4d9221"
            ],
            [
             1,
             "#276419"
            ]
           ],
           "sequential": [
            [
             0,
             "#0d0887"
            ],
            [
             0.1111111111111111,
             "#46039f"
            ],
            [
             0.2222222222222222,
             "#7201a8"
            ],
            [
             0.3333333333333333,
             "#9c179e"
            ],
            [
             0.4444444444444444,
             "#bd3786"
            ],
            [
             0.5555555555555556,
             "#d8576b"
            ],
            [
             0.6666666666666666,
             "#ed7953"
            ],
            [
             0.7777777777777778,
             "#fb9f3a"
            ],
            [
             0.8888888888888888,
             "#fdca26"
            ],
            [
             1,
             "#f0f921"
            ]
           ],
           "sequentialminus": [
            [
             0,
             "#0d0887"
            ],
            [
             0.1111111111111111,
             "#46039f"
            ],
            [
             0.2222222222222222,
             "#7201a8"
            ],
            [
             0.3333333333333333,
             "#9c179e"
            ],
            [
             0.4444444444444444,
             "#bd3786"
            ],
            [
             0.5555555555555556,
             "#d8576b"
            ],
            [
             0.6666666666666666,
             "#ed7953"
            ],
            [
             0.7777777777777778,
             "#fb9f3a"
            ],
            [
             0.8888888888888888,
             "#fdca26"
            ],
            [
             1,
             "#f0f921"
            ]
           ]
          },
          "colorway": [
           "#636efa",
           "#EF553B",
           "#00cc96",
           "#ab63fa",
           "#FFA15A",
           "#19d3f3",
           "#FF6692",
           "#B6E880",
           "#FF97FF",
           "#FECB52"
          ],
          "font": {
           "color": "#2a3f5f"
          },
          "geo": {
           "bgcolor": "white",
           "lakecolor": "white",
           "landcolor": "#E5ECF6",
           "showlakes": true,
           "showland": true,
           "subunitcolor": "white"
          },
          "hoverlabel": {
           "align": "left"
          },
          "hovermode": "closest",
          "mapbox": {
           "style": "light"
          },
          "paper_bgcolor": "white",
          "plot_bgcolor": "#E5ECF6",
          "polar": {
           "angularaxis": {
            "gridcolor": "white",
            "linecolor": "white",
            "ticks": ""
           },
           "bgcolor": "#E5ECF6",
           "radialaxis": {
            "gridcolor": "white",
            "linecolor": "white",
            "ticks": ""
           }
          },
          "scene": {
           "xaxis": {
            "backgroundcolor": "#E5ECF6",
            "gridcolor": "white",
            "gridwidth": 2,
            "linecolor": "white",
            "showbackground": true,
            "ticks": "",
            "zerolinecolor": "white"
           },
           "yaxis": {
            "backgroundcolor": "#E5ECF6",
            "gridcolor": "white",
            "gridwidth": 2,
            "linecolor": "white",
            "showbackground": true,
            "ticks": "",
            "zerolinecolor": "white"
           },
           "zaxis": {
            "backgroundcolor": "#E5ECF6",
            "gridcolor": "white",
            "gridwidth": 2,
            "linecolor": "white",
            "showbackground": true,
            "ticks": "",
            "zerolinecolor": "white"
           }
          },
          "shapedefaults": {
           "line": {
            "color": "#2a3f5f"
           }
          },
          "ternary": {
           "aaxis": {
            "gridcolor": "white",
            "linecolor": "white",
            "ticks": ""
           },
           "baxis": {
            "gridcolor": "white",
            "linecolor": "white",
            "ticks": ""
           },
           "bgcolor": "#E5ECF6",
           "caxis": {
            "gridcolor": "white",
            "linecolor": "white",
            "ticks": ""
           }
          },
          "title": {
           "x": 0.05
          },
          "xaxis": {
           "automargin": true,
           "gridcolor": "white",
           "linecolor": "white",
           "ticks": "",
           "title": {
            "standoff": 15
           },
           "zerolinecolor": "white",
           "zerolinewidth": 2
          },
          "yaxis": {
           "automargin": true,
           "gridcolor": "white",
           "linecolor": "white",
           "ticks": "",
           "title": {
            "standoff": 15
           },
           "zerolinecolor": "white",
           "zerolinewidth": 2
          }
         }
        },
        "title": {
         "text": "K-Means clusters in PCA space"
        },
        "xaxis": {
         "anchor": "y",
         "domain": [
          0,
          1
         ],
         "title": {
          "text": "PC1"
         }
        },
        "yaxis": {
         "anchor": "x",
         "domain": [
          0,
          1
         ],
         "title": {
          "text": "PC2"
         }
        }
       }
      }
     },
     "metadata": {},
     "output_type": "display_data"
    }
   ],
   "source": [
    "best_k = int(pd.Series(sils, index=ks).idxmax())  # simple choice for demo\n",
    "km = KMeans(n_clusters=best_k, n_init=10, random_state=42)\n",
    "labels_km = km.fit_predict(X)\n",
    "df_syn[\"cluster_kmeans\"] = labels_km.astype(int)\n",
    "\n",
    "# Visualize along depth\n",
    "fig = px.scatter(\n",
    "    df_syn,\n",
    "    x=\"qc_mpa\",\n",
    "    y=\"depth_m\",\n",
    "    color=\"cluster_kmeans\",\n",
    "    title=f\"K-Means (k={best_k}) clusters in qc-depth space\",\n",
    "    labels={\"qc_mpa\": \"qc (MPa)\", \"depth_m\": \"Depth (m)\"},\n",
    "    height=500,\n",
    ")\n",
    "fig.update_yaxes(autorange=\"reversed\")\n",
    "fig.show()\n",
    "\n",
    "# PCA for 2D viz\n",
    "pca = PCA(n_components=2, random_state=42)\n",
    "X2 = pca.fit_transform(X)\n",
    "df_plot = pd.DataFrame(X2, columns=[\"PC1\", \"PC2\"])\n",
    "df_plot[\"cluster\"] = labels_km.astype(int)\n",
    "fig2 = px.scatter(\n",
    "    df_plot, x=\"PC1\", y=\"PC2\", color=\"cluster\", title=\"K-Means clusters in PCA space\"\n",
    ")\n",
    "fig2.show()"
   ]
  },
  {
   "cell_type": "markdown",
   "id": "c96918da",
   "metadata": {},
   "source": [
    "## 3) HDBSCAN clustering\n",
    "HDBSCAN doesn't need k; we tune `min_cluster_size` to control granularity. It can label noise as −1."
   ]
  },
  {
   "cell_type": "code",
   "execution_count": 9,
   "id": "fd480f94",
   "metadata": {},
   "outputs": [
    {
     "name": "stdout",
     "output_type": "stream",
     "text": [
      "{'n_clusters': 2, 'n_noise': 45}\n"
     ]
    },
    {
     "name": "stderr",
     "output_type": "stream",
     "text": [
      "c:\\Users\\TFH\\git_projects\\course-machine-learning-for-geotechnics\\.venv\\Lib\\site-packages\\sklearn\\utils\\deprecation.py:132: FutureWarning:\n",
      "\n",
      "'force_all_finite' was renamed to 'ensure_all_finite' in 1.6 and will be removed in 1.8.\n",
      "\n",
      "c:\\Users\\TFH\\git_projects\\course-machine-learning-for-geotechnics\\.venv\\Lib\\site-packages\\sklearn\\utils\\deprecation.py:132: FutureWarning:\n",
      "\n",
      "'force_all_finite' was renamed to 'ensure_all_finite' in 1.6 and will be removed in 1.8.\n",
      "\n"
     ]
    }
   ],
   "source": [
    "clusterer = hdbscan.HDBSCAN(\n",
    "    min_cluster_size=25, min_samples=None, cluster_selection_epsilon=0.0\n",
    ")\n",
    "labels_hdb = clusterer.fit_predict(X)\n",
    "df_syn[\"cluster_hdbscan\"] = labels_hdb.astype(int)\n",
    "n_noise = int((labels_hdb == -1).sum())\n",
    "n_clusters = int(len(set(labels_hdb)) - (1 if -1 in labels_hdb else 0))\n",
    "print({\"n_clusters\": n_clusters, \"n_noise\": n_noise})"
   ]
  },
  {
   "cell_type": "markdown",
   "id": "0892fe14",
   "metadata": {},
   "source": [
    "### Discussion prompts\n",
    "- Which method better separates the two layers and the transition zone?\n",
    "- What happens if you remove depth from features?\n",
    "- How does `min_cluster_size` affect HDBSCAN?\n",
    "- When would you prefer silhouette evaluation vs density-based approaches in practice?"
   ]
  },
  {
   "cell_type": "code",
   "execution_count": 11,
   "id": "d7da9ce7",
   "metadata": {},
   "outputs": [
    {
     "data": {
      "application/vnd.plotly.v1+json": {
       "config": {
        "plotlyServerURL": "https://plot.ly"
       },
       "data": [
        {
         "hovertemplate": "qc (MPa)=%{x}<br>Depth (m)=%{y}<br>cluster_hdbscan=%{marker.color}<extra></extra>",
         "legendgroup": "",
         "marker": {
          "color": {
           "bdata": "AAAAAAAAAAAAAAAAAAAAAAAAAAD/////AAAAAAAAAAAAAAAAAAAAAAAAAAAAAAAAAAAAAAAAAAAAAAAAAAAAAAAAAAAAAAAAAAAAAAAAAAAAAAAAAAAAAAAAAAAAAAAAAAAAAAAAAAAAAAAAAAAAAAAAAAAAAAAAAAAAAAAAAAAAAAAAAAAAAAAAAAAAAAAAAAAAAAAAAAAAAAAAAAAAAAAAAAAAAAAAAAAAAAAAAAAAAAAAAAAAAAAAAAAAAAAAAAAAAAAAAAAAAAAAAAAAAAAAAAAAAAAAAAAAAAAAAAAAAAAAAAAAAAAAAAAAAAAAAAAAAAAAAAAAAAAAAAAAAAAAAAAAAAAAAAAAAAAAAAAAAAAAAAAAAAAAAAAAAAAAAAAAAAAAAAAAAAAAAAAAAAAAAAAAAAAAAAAAAAAAAAAAAAAAAAAAAAAAAAAAAAAAAAAAAAAAAAAAAAAAAAAAAAAAAAAAAAAAAAAAAAAAAAAAAAAAAAAAAAAAAAAAAAAAAAAAAAAAAAAAAAAAAAAAAAAAAAAAAAAAAAAAAAAAAAAAAAAAAAAAAAAAAAAAAAAAAAAAAAAAAAAAAAAAAAAAAAAAAAAAAAAAAAAAAAAAAAAAAAAAAAAAAAAAAAAAAAAAAAAAAAAAAAAAAAAAAAAAAAAAAAAAAAAAAAAAAAAAAAAAAAAAAAAAAAAAAAAAAAAAAAAAAAAAAAAAAAAAAAAAAP////8AAAAA/////wAAAAAAAAAAAAAAAAAAAAAAAAAAAAAAAAAAAAAAAAAAAAAAAAAAAAAAAAAAAAAAAAAAAAAAAAAAAAAAAAAAAAAAAAAAAAAAAAAAAAAAAAAAAAAAAAAAAAAAAAAAAAAAAAAAAAAAAAAAAAAAAP////8AAAAAAAAAAAAAAAAAAAAAAAAAAP////8AAAAAAAAAAAAAAAAAAAAAAAAAAAAAAAAAAAAAAAAAAAAAAAAAAAAA/////wAAAAD/////AAAAAAAAAAD/////AAAAAAAAAAAAAAAAAAAAAP////8AAAAA////////////////AAAAAP////8AAAAA/////wAAAAAAAAAA/////wAAAAD//////////wAAAAAAAAAA/////wAAAAAAAAAAAAAAAP////8AAAAAAAAAAAAAAAAAAAAAAAAAAAAAAAD///////////////////////////////8AAAAAAAAAAAAAAAAAAAAA/////wAAAAAAAAAA/////wAAAAD//////////wEAAAD/////AQAAAP////8BAAAA/////wEAAAABAAAAAQAAAAEAAAABAAAAAQAAAAEAAAABAAAAAQAAAAEAAAABAAAAAQAAAP////8BAAAAAQAAAAEAAAD/////AQAAAAEAAAABAAAAAQAAAAEAAAD/////AQAAAAEAAAD//////////wEAAAABAAAAAQAAAP////8BAAAA/////wEAAAD/////AQAAAAEAAAABAAAAAQAAAAEAAAABAAAAAQAAAAEAAAABAAAAAQAAAAEAAAD/////AQAAAAEAAAABAAAA/////wEAAAABAAAAAQAAAAEAAAABAAAAAQAAAAEAAAABAAAAAQAAAAEAAAABAAAAAQAAAAEAAAABAAAAAQAAAAEAAAABAAAAAQAAAAEAAAABAAAAAQAAAAEAAAABAAAAAQAAAAEAAAABAAAAAQAAAAEAAAABAAAAAQAAAAEAAAABAAAAAQAAAAEAAAABAAAAAQAAAAEAAAABAAAAAQAAAAEAAAABAAAAAQAAAAEAAAABAAAAAQAAAAEAAAABAAAAAQAAAAEAAAABAAAAAQAAAAEAAAABAAAAAQAAAAEAAAABAAAAAQAAAAEAAAABAAAAAQAAAAEAAAABAAAAAQAAAAEAAAABAAAAAQAAAAEAAAABAAAAAQAAAAEAAAABAAAAAQAAAAEAAAABAAAAAQAAAAEAAAABAAAAAQAAAAEAAAABAAAAAQAAAAEAAAABAAAAAQAAAAEAAAABAAAAAQAAAAEAAAABAAAAAQAAAAEAAAABAAAAAQAAAAEAAAABAAAAAQAAAAEAAAABAAAAAQAAAAEAAAABAAAAAQAAAAEAAAABAAAAAQAAAAEAAAABAAAAAQAAAAEAAAABAAAAAQAAAAEAAAABAAAAAQAAAAEAAAABAAAAAQAAAAEAAAABAAAAAQAAAAEAAAABAAAAAQAAAAEAAAABAAAAAQAAAAEAAAABAAAAAQAAAAEAAAABAAAAAQAAAAEAAAABAAAAAQAAAAEAAAABAAAAAQAAAAEAAAABAAAAAQAAAAEAAAABAAAAAQAAAP////8BAAAAAQAAAAEAAAABAAAAAQAAAAEAAAABAAAAAQAAAAEAAAABAAAAAQAAAAEAAAABAAAAAQAAAAEAAAABAAAAAQAAAAEAAAABAAAAAQAAAAEAAAABAAAAAQAAAAEAAAABAAAAAQAAAAEAAAABAAAAAQAAAAEAAAABAAAAAQAAAAEAAAABAAAAAQAAAAEAAAABAAAAAQAAAAEAAAABAAAAAQAAAAEAAAABAAAAAQAAAAEAAAABAAAA/////wEAAAABAAAAAQAAAAEAAAABAAAAAQAAAAEAAAABAAAAAQAAAAEAAAABAAAAAQAAAAEAAAABAAAAAQAAAAEAAAABAAAAAQAAAAEAAAABAAAAAQAAAAEAAAABAAAAAQAAAAEAAAABAAAAAQAAAAEAAAABAAAAAQAAAAEAAAABAAAAAQAAAAEAAAABAAAAAQAAAAEAAAABAAAAAQAAAAEAAAABAAAAAQAAAAEAAAABAAAAAQAAAAEAAAABAAAAAQAAAAEAAAABAAAAAQAAAAEAAAABAAAAAQAAAAEAAAABAAAAAQAAAAEAAAABAAAAAQAAAAEAAAABAAAAAQAAAAEAAAABAAAAAQAAAAEAAAABAAAAAQAAAAEAAAABAAAAAQAAAAEAAAABAAAAAQAAAAEAAAABAAAAAQAAAAEAAAABAAAAAQAAAAEAAAABAAAAAQAAAAEAAAABAAAAAQAAAAEAAAABAAAAAQAAAAEAAAABAAAAAQAAAAEAAAABAAAAAQAAAAEAAAABAAAAAQAAAAEAAAABAAAAAQAAAAEAAAABAAAAAQAAAP////8BAAAAAQAAAAEAAAABAAAAAQAAAAEAAAABAAAA",
           "dtype": "i4"
          },
          "coloraxis": "coloraxis",
          "symbol": "circle"
         },
         "mode": "markers",
         "name": "",
         "orientation": "v",
         "showlegend": false,
         "type": "scatter",
         "x": {
          "bdata": "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",
          "dtype": "f8"
         },
         "xaxis": "x",
         "y": {
          "bdata": "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",
          "dtype": "f8"
         },
         "yaxis": "y"
        }
       ],
       "layout": {
        "coloraxis": {
         "colorbar": {
          "title": {
           "text": "cluster_hdbscan"
          }
         },
         "colorscale": [
          [
           0,
           "#0d0887"
          ],
          [
           0.1111111111111111,
           "#46039f"
          ],
          [
           0.2222222222222222,
           "#7201a8"
          ],
          [
           0.3333333333333333,
           "#9c179e"
          ],
          [
           0.4444444444444444,
           "#bd3786"
          ],
          [
           0.5555555555555556,
           "#d8576b"
          ],
          [
           0.6666666666666666,
           "#ed7953"
          ],
          [
           0.7777777777777778,
           "#fb9f3a"
          ],
          [
           0.8888888888888888,
           "#fdca26"
          ],
          [
           1,
           "#f0f921"
          ]
         ]
        },
        "height": 500,
        "legend": {
         "tracegroupgap": 0
        },
        "template": {
         "data": {
          "bar": [
           {
            "error_x": {
             "color": "#2a3f5f"
            },
            "error_y": {
             "color": "#2a3f5f"
            },
            "marker": {
             "line": {
              "color": "#E5ECF6",
              "width": 0.5
             },
             "pattern": {
              "fillmode": "overlay",
              "size": 10,
              "solidity": 0.2
             }
            },
            "type": "bar"
           }
          ],
          "barpolar": [
           {
            "marker": {
             "line": {
              "color": "#E5ECF6",
              "width": 0.5
             },
             "pattern": {
              "fillmode": "overlay",
              "size": 10,
              "solidity": 0.2
             }
            },
            "type": "barpolar"
           }
          ],
          "carpet": [
           {
            "aaxis": {
             "endlinecolor": "#2a3f5f",
             "gridcolor": "white",
             "linecolor": "white",
             "minorgridcolor": "white",
             "startlinecolor": "#2a3f5f"
            },
            "baxis": {
             "endlinecolor": "#2a3f5f",
             "gridcolor": "white",
             "linecolor": "white",
             "minorgridcolor": "white",
             "startlinecolor": "#2a3f5f"
            },
            "type": "carpet"
           }
          ],
          "choropleth": [
           {
            "colorbar": {
             "outlinewidth": 0,
             "ticks": ""
            },
            "type": "choropleth"
           }
          ],
          "contour": [
           {
            "colorbar": {
             "outlinewidth": 0,
             "ticks": ""
            },
            "colorscale": [
             [
              0,
              "#0d0887"
             ],
             [
              0.1111111111111111,
              "#46039f"
             ],
             [
              0.2222222222222222,
              "#7201a8"
             ],
             [
              0.3333333333333333,
              "#9c179e"
             ],
             [
              0.4444444444444444,
              "#bd3786"
             ],
             [
              0.5555555555555556,
              "#d8576b"
             ],
             [
              0.6666666666666666,
              "#ed7953"
             ],
             [
              0.7777777777777778,
              "#fb9f3a"
             ],
             [
              0.8888888888888888,
              "#fdca26"
             ],
             [
              1,
              "#f0f921"
             ]
            ],
            "type": "contour"
           }
          ],
          "contourcarpet": [
           {
            "colorbar": {
             "outlinewidth": 0,
             "ticks": ""
            },
            "type": "contourcarpet"
           }
          ],
          "heatmap": [
           {
            "colorbar": {
             "outlinewidth": 0,
             "ticks": ""
            },
            "colorscale": [
             [
              0,
              "#0d0887"
             ],
             [
              0.1111111111111111,
              "#46039f"
             ],
             [
              0.2222222222222222,
              "#7201a8"
             ],
             [
              0.3333333333333333,
              "#9c179e"
             ],
             [
              0.4444444444444444,
              "#bd3786"
             ],
             [
              0.5555555555555556,
              "#d8576b"
             ],
             [
              0.6666666666666666,
              "#ed7953"
             ],
             [
              0.7777777777777778,
              "#fb9f3a"
             ],
             [
              0.8888888888888888,
              "#fdca26"
             ],
             [
              1,
              "#f0f921"
             ]
            ],
            "type": "heatmap"
           }
          ],
          "histogram": [
           {
            "marker": {
             "pattern": {
              "fillmode": "overlay",
              "size": 10,
              "solidity": 0.2
             }
            },
            "type": "histogram"
           }
          ],
          "histogram2d": [
           {
            "colorbar": {
             "outlinewidth": 0,
             "ticks": ""
            },
            "colorscale": [
             [
              0,
              "#0d0887"
             ],
             [
              0.1111111111111111,
              "#46039f"
             ],
             [
              0.2222222222222222,
              "#7201a8"
             ],
             [
              0.3333333333333333,
              "#9c179e"
             ],
             [
              0.4444444444444444,
              "#bd3786"
             ],
             [
              0.5555555555555556,
              "#d8576b"
             ],
             [
              0.6666666666666666,
              "#ed7953"
             ],
             [
              0.7777777777777778,
              "#fb9f3a"
             ],
             [
              0.8888888888888888,
              "#fdca26"
             ],
             [
              1,
              "#f0f921"
             ]
            ],
            "type": "histogram2d"
           }
          ],
          "histogram2dcontour": [
           {
            "colorbar": {
             "outlinewidth": 0,
             "ticks": ""
            },
            "colorscale": [
             [
              0,
              "#0d0887"
             ],
             [
              0.1111111111111111,
              "#46039f"
             ],
             [
              0.2222222222222222,
              "#7201a8"
             ],
             [
              0.3333333333333333,
              "#9c179e"
             ],
             [
              0.4444444444444444,
              "#bd3786"
             ],
             [
              0.5555555555555556,
              "#d8576b"
             ],
             [
              0.6666666666666666,
              "#ed7953"
             ],
             [
              0.7777777777777778,
              "#fb9f3a"
             ],
             [
              0.8888888888888888,
              "#fdca26"
             ],
             [
              1,
              "#f0f921"
             ]
            ],
            "type": "histogram2dcontour"
           }
          ],
          "mesh3d": [
           {
            "colorbar": {
             "outlinewidth": 0,
             "ticks": ""
            },
            "type": "mesh3d"
           }
          ],
          "parcoords": [
           {
            "line": {
             "colorbar": {
              "outlinewidth": 0,
              "ticks": ""
             }
            },
            "type": "parcoords"
           }
          ],
          "pie": [
           {
            "automargin": true,
            "type": "pie"
           }
          ],
          "scatter": [
           {
            "fillpattern": {
             "fillmode": "overlay",
             "size": 10,
             "solidity": 0.2
            },
            "type": "scatter"
           }
          ],
          "scatter3d": [
           {
            "line": {
             "colorbar": {
              "outlinewidth": 0,
              "ticks": ""
             }
            },
            "marker": {
             "colorbar": {
              "outlinewidth": 0,
              "ticks": ""
             }
            },
            "type": "scatter3d"
           }
          ],
          "scattercarpet": [
           {
            "marker": {
             "colorbar": {
              "outlinewidth": 0,
              "ticks": ""
             }
            },
            "type": "scattercarpet"
           }
          ],
          "scattergeo": [
           {
            "marker": {
             "colorbar": {
              "outlinewidth": 0,
              "ticks": ""
             }
            },
            "type": "scattergeo"
           }
          ],
          "scattergl": [
           {
            "marker": {
             "colorbar": {
              "outlinewidth": 0,
              "ticks": ""
             }
            },
            "type": "scattergl"
           }
          ],
          "scattermap": [
           {
            "marker": {
             "colorbar": {
              "outlinewidth": 0,
              "ticks": ""
             }
            },
            "type": "scattermap"
           }
          ],
          "scattermapbox": [
           {
            "marker": {
             "colorbar": {
              "outlinewidth": 0,
              "ticks": ""
             }
            },
            "type": "scattermapbox"
           }
          ],
          "scatterpolar": [
           {
            "marker": {
             "colorbar": {
              "outlinewidth": 0,
              "ticks": ""
             }
            },
            "type": "scatterpolar"
           }
          ],
          "scatterpolargl": [
           {
            "marker": {
             "colorbar": {
              "outlinewidth": 0,
              "ticks": ""
             }
            },
            "type": "scatterpolargl"
           }
          ],
          "scatterternary": [
           {
            "marker": {
             "colorbar": {
              "outlinewidth": 0,
              "ticks": ""
             }
            },
            "type": "scatterternary"
           }
          ],
          "surface": [
           {
            "colorbar": {
             "outlinewidth": 0,
             "ticks": ""
            },
            "colorscale": [
             [
              0,
              "#0d0887"
             ],
             [
              0.1111111111111111,
              "#46039f"
             ],
             [
              0.2222222222222222,
              "#7201a8"
             ],
             [
              0.3333333333333333,
              "#9c179e"
             ],
             [
              0.4444444444444444,
              "#bd3786"
             ],
             [
              0.5555555555555556,
              "#d8576b"
             ],
             [
              0.6666666666666666,
              "#ed7953"
             ],
             [
              0.7777777777777778,
              "#fb9f3a"
             ],
             [
              0.8888888888888888,
              "#fdca26"
             ],
             [
              1,
              "#f0f921"
             ]
            ],
            "type": "surface"
           }
          ],
          "table": [
           {
            "cells": {
             "fill": {
              "color": "#EBF0F8"
             },
             "line": {
              "color": "white"
             }
            },
            "header": {
             "fill": {
              "color": "#C8D4E3"
             },
             "line": {
              "color": "white"
             }
            },
            "type": "table"
           }
          ]
         },
         "layout": {
          "annotationdefaults": {
           "arrowcolor": "#2a3f5f",
           "arrowhead": 0,
           "arrowwidth": 1
          },
          "autotypenumbers": "strict",
          "coloraxis": {
           "colorbar": {
            "outlinewidth": 0,
            "ticks": ""
           }
          },
          "colorscale": {
           "diverging": [
            [
             0,
             "#8e0152"
            ],
            [
             0.1,
             "#c51b7d"
            ],
            [
             0.2,
             "#de77ae"
            ],
            [
             0.3,
             "#f1b6da"
            ],
            [
             0.4,
             "#fde0ef"
            ],
            [
             0.5,
             "#f7f7f7"
            ],
            [
             0.6,
             "#e6f5d0"
            ],
            [
             0.7,
             "#b8e186"
            ],
            [
             0.8,
             "#7fbc41"
            ],
            [
             0.9,
             "#4d9221"
            ],
            [
             1,
             "#276419"
            ]
           ],
           "sequential": [
            [
             0,
             "#0d0887"
            ],
            [
             0.1111111111111111,
             "#46039f"
            ],
            [
             0.2222222222222222,
             "#7201a8"
            ],
            [
             0.3333333333333333,
             "#9c179e"
            ],
            [
             0.4444444444444444,
             "#bd3786"
            ],
            [
             0.5555555555555556,
             "#d8576b"
            ],
            [
             0.6666666666666666,
             "#ed7953"
            ],
            [
             0.7777777777777778,
             "#fb9f3a"
            ],
            [
             0.8888888888888888,
             "#fdca26"
            ],
            [
             1,
             "#f0f921"
            ]
           ],
           "sequentialminus": [
            [
             0,
             "#0d0887"
            ],
            [
             0.1111111111111111,
             "#46039f"
            ],
            [
             0.2222222222222222,
             "#7201a8"
            ],
            [
             0.3333333333333333,
             "#9c179e"
            ],
            [
             0.4444444444444444,
             "#bd3786"
            ],
            [
             0.5555555555555556,
             "#d8576b"
            ],
            [
             0.6666666666666666,
             "#ed7953"
            ],
            [
             0.7777777777777778,
             "#fb9f3a"
            ],
            [
             0.8888888888888888,
             "#fdca26"
            ],
            [
             1,
             "#f0f921"
            ]
           ]
          },
          "colorway": [
           "#636efa",
           "#EF553B",
           "#00cc96",
           "#ab63fa",
           "#FFA15A",
           "#19d3f3",
           "#FF6692",
           "#B6E880",
           "#FF97FF",
           "#FECB52"
          ],
          "font": {
           "color": "#2a3f5f"
          },
          "geo": {
           "bgcolor": "white",
           "lakecolor": "white",
           "landcolor": "#E5ECF6",
           "showlakes": true,
           "showland": true,
           "subunitcolor": "white"
          },
          "hoverlabel": {
           "align": "left"
          },
          "hovermode": "closest",
          "mapbox": {
           "style": "light"
          },
          "paper_bgcolor": "white",
          "plot_bgcolor": "#E5ECF6",
          "polar": {
           "angularaxis": {
            "gridcolor": "white",
            "linecolor": "white",
            "ticks": ""
           },
           "bgcolor": "#E5ECF6",
           "radialaxis": {
            "gridcolor": "white",
            "linecolor": "white",
            "ticks": ""
           }
          },
          "scene": {
           "xaxis": {
            "backgroundcolor": "#E5ECF6",
            "gridcolor": "white",
            "gridwidth": 2,
            "linecolor": "white",
            "showbackground": true,
            "ticks": "",
            "zerolinecolor": "white"
           },
           "yaxis": {
            "backgroundcolor": "#E5ECF6",
            "gridcolor": "white",
            "gridwidth": 2,
            "linecolor": "white",
            "showbackground": true,
            "ticks": "",
            "zerolinecolor": "white"
           },
           "zaxis": {
            "backgroundcolor": "#E5ECF6",
            "gridcolor": "white",
            "gridwidth": 2,
            "linecolor": "white",
            "showbackground": true,
            "ticks": "",
            "zerolinecolor": "white"
           }
          },
          "shapedefaults": {
           "line": {
            "color": "#2a3f5f"
           }
          },
          "ternary": {
           "aaxis": {
            "gridcolor": "white",
            "linecolor": "white",
            "ticks": ""
           },
           "baxis": {
            "gridcolor": "white",
            "linecolor": "white",
            "ticks": ""
           },
           "bgcolor": "#E5ECF6",
           "caxis": {
            "gridcolor": "white",
            "linecolor": "white",
            "ticks": ""
           }
          },
          "title": {
           "x": 0.05
          },
          "xaxis": {
           "automargin": true,
           "gridcolor": "white",
           "linecolor": "white",
           "ticks": "",
           "title": {
            "standoff": 15
           },
           "zerolinecolor": "white",
           "zerolinewidth": 2
          },
          "yaxis": {
           "automargin": true,
           "gridcolor": "white",
           "linecolor": "white",
           "ticks": "",
           "title": {
            "standoff": 15
           },
           "zerolinecolor": "white",
           "zerolinewidth": 2
          }
         }
        },
        "title": {
         "text": "HDBSCAN clusters in qc-depth space (−1=noise)"
        },
        "xaxis": {
         "anchor": "y",
         "domain": [
          0,
          1
         ],
         "title": {
          "text": "qc (MPa)"
         }
        },
        "yaxis": {
         "anchor": "x",
         "autorange": "reversed",
         "domain": [
          0,
          1
         ],
         "title": {
          "text": "Depth (m)"
         }
        }
       }
      }
     },
     "metadata": {},
     "output_type": "display_data"
    },
    {
     "data": {
      "application/vnd.plotly.v1+json": {
       "config": {
        "plotlyServerURL": "https://plot.ly"
       },
       "data": [
        {
         "hovertemplate": "PC1=%{x}<br>PC2=%{y}<br>cluster=%{marker.color}<extra></extra>",
         "legendgroup": "",
         "marker": {
          "color": {
           "bdata": "AAAAAAAAAAAAAAAAAAAAAAAAAAD/////AAAAAAAAAAAAAAAAAAAAAAAAAAAAAAAAAAAAAAAAAAAAAAAAAAAAAAAAAAAAAAAAAAAAAAAAAAAAAAAAAAAAAAAAAAAAAAAAAAAAAAAAAAAAAAAAAAAAAAAAAAAAAAAAAAAAAAAAAAAAAAAAAAAAAAAAAAAAAAAAAAAAAAAAAAAAAAAAAAAAAAAAAAAAAAAAAAAAAAAAAAAAAAAAAAAAAAAAAAAAAAAAAAAAAAAAAAAAAAAAAAAAAAAAAAAAAAAAAAAAAAAAAAAAAAAAAAAAAAAAAAAAAAAAAAAAAAAAAAAAAAAAAAAAAAAAAAAAAAAAAAAAAAAAAAAAAAAAAAAAAAAAAAAAAAAAAAAAAAAAAAAAAAAAAAAAAAAAAAAAAAAAAAAAAAAAAAAAAAAAAAAAAAAAAAAAAAAAAAAAAAAAAAAAAAAAAAAAAAAAAAAAAAAAAAAAAAAAAAAAAAAAAAAAAAAAAAAAAAAAAAAAAAAAAAAAAAAAAAAAAAAAAAAAAAAAAAAAAAAAAAAAAAAAAAAAAAAAAAAAAAAAAAAAAAAAAAAAAAAAAAAAAAAAAAAAAAAAAAAAAAAAAAAAAAAAAAAAAAAAAAAAAAAAAAAAAAAAAAAAAAAAAAAAAAAAAAAAAAAAAAAAAAAAAAAAAAAAAAAAAAAAAAAAAAAAAAAAAAAAAAAAAAAAAAAAAP////8AAAAA/////wAAAAAAAAAAAAAAAAAAAAAAAAAAAAAAAAAAAAAAAAAAAAAAAAAAAAAAAAAAAAAAAAAAAAAAAAAAAAAAAAAAAAAAAAAAAAAAAAAAAAAAAAAAAAAAAAAAAAAAAAAAAAAAAAAAAAAAAAAAAAAAAP////8AAAAAAAAAAAAAAAAAAAAAAAAAAP////8AAAAAAAAAAAAAAAAAAAAAAAAAAAAAAAAAAAAAAAAAAAAAAAAAAAAA/////wAAAAD/////AAAAAAAAAAD/////AAAAAAAAAAAAAAAAAAAAAP////8AAAAA////////////////AAAAAP////8AAAAA/////wAAAAAAAAAA/////wAAAAD//////////wAAAAAAAAAA/////wAAAAAAAAAAAAAAAP////8AAAAAAAAAAAAAAAAAAAAAAAAAAAAAAAD///////////////////////////////8AAAAAAAAAAAAAAAAAAAAA/////wAAAAAAAAAA/////wAAAAD//////////wEAAAD/////AQAAAP////8BAAAA/////wEAAAABAAAAAQAAAAEAAAABAAAAAQAAAAEAAAABAAAAAQAAAAEAAAABAAAAAQAAAP////8BAAAAAQAAAAEAAAD/////AQAAAAEAAAABAAAAAQAAAAEAAAD/////AQAAAAEAAAD//////////wEAAAABAAAAAQAAAP////8BAAAA/////wEAAAD/////AQAAAAEAAAABAAAAAQAAAAEAAAABAAAAAQAAAAEAAAABAAAAAQAAAAEAAAD/////AQAAAAEAAAABAAAA/////wEAAAABAAAAAQAAAAEAAAABAAAAAQAAAAEAAAABAAAAAQAAAAEAAAABAAAAAQAAAAEAAAABAAAAAQAAAAEAAAABAAAAAQAAAAEAAAABAAAAAQAAAAEAAAABAAAAAQAAAAEAAAABAAAAAQAAAAEAAAABAAAAAQAAAAEAAAABAAAAAQAAAAEAAAABAAAAAQAAAAEAAAABAAAAAQAAAAEAAAABAAAAAQAAAAEAAAABAAAAAQAAAAEAAAABAAAAAQAAAAEAAAABAAAAAQAAAAEAAAABAAAAAQAAAAEAAAABAAAAAQAAAAEAAAABAAAAAQAAAAEAAAABAAAAAQAAAAEAAAABAAAAAQAAAAEAAAABAAAAAQAAAAEAAAABAAAAAQAAAAEAAAABAAAAAQAAAAEAAAABAAAAAQAAAAEAAAABAAAAAQAAAAEAAAABAAAAAQAAAAEAAAABAAAAAQAAAAEAAAABAAAAAQAAAAEAAAABAAAAAQAAAAEAAAABAAAAAQAAAAEAAAABAAAAAQAAAAEAAAABAAAAAQAAAAEAAAABAAAAAQAAAAEAAAABAAAAAQAAAAEAAAABAAAAAQAAAAEAAAABAAAAAQAAAAEAAAABAAAAAQAAAAEAAAABAAAAAQAAAAEAAAABAAAAAQAAAAEAAAABAAAAAQAAAAEAAAABAAAAAQAAAAEAAAABAAAAAQAAAAEAAAABAAAAAQAAAAEAAAABAAAAAQAAAAEAAAABAAAAAQAAAAEAAAABAAAAAQAAAP////8BAAAAAQAAAAEAAAABAAAAAQAAAAEAAAABAAAAAQAAAAEAAAABAAAAAQAAAAEAAAABAAAAAQAAAAEAAAABAAAAAQAAAAEAAAABAAAAAQAAAAEAAAABAAAAAQAAAAEAAAABAAAAAQAAAAEAAAABAAAAAQAAAAEAAAABAAAAAQAAAAEAAAABAAAAAQAAAAEAAAABAAAAAQAAAAEAAAABAAAAAQAAAAEAAAABAAAAAQAAAAEAAAABAAAA/////wEAAAABAAAAAQAAAAEAAAABAAAAAQAAAAEAAAABAAAAAQAAAAEAAAABAAAAAQAAAAEAAAABAAAAAQAAAAEAAAABAAAAAQAAAAEAAAABAAAAAQAAAAEAAAABAAAAAQAAAAEAAAABAAAAAQAAAAEAAAABAAAAAQAAAAEAAAABAAAAAQAAAAEAAAABAAAAAQAAAAEAAAABAAAAAQAAAAEAAAABAAAAAQAAAAEAAAABAAAAAQAAAAEAAAABAAAAAQAAAAEAAAABAAAAAQAAAAEAAAABAAAAAQAAAAEAAAABAAAAAQAAAAEAAAABAAAAAQAAAAEAAAABAAAAAQAAAAEAAAABAAAAAQAAAAEAAAABAAAAAQAAAAEAAAABAAAAAQAAAAEAAAABAAAAAQAAAAEAAAABAAAAAQAAAAEAAAABAAAAAQAAAAEAAAABAAAAAQAAAAEAAAABAAAAAQAAAAEAAAABAAAAAQAAAAEAAAABAAAAAQAAAAEAAAABAAAAAQAAAAEAAAABAAAAAQAAAAEAAAABAAAAAQAAAAEAAAABAAAAAQAAAP////8BAAAAAQAAAAEAAAABAAAAAQAAAAEAAAABAAAA",
           "dtype": "i4"
          },
          "coloraxis": "coloraxis",
          "symbol": "circle"
         },
         "mode": "markers",
         "name": "",
         "orientation": "v",
         "showlegend": false,
         "type": "scatter",
         "x": {
          "bdata": "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",
          "dtype": "f8"
         },
         "xaxis": "x",
         "y": {
          "bdata": "EjV8OSLWz78W71RMS3vvv45ReHNci9o/XyUPBMzgnD/LlX8TykTVv0ql6p0i0fq/oVNTfYn57L+j7axkz5KcPw4MoLO5ndU/nMRJhPLnzT/c2uC5P17zv/Kv4S3wfsa/Px8fcnr2zT8yKKtpofTzv+FeOVtK+NS/SYzBBt/iwr/Dn1sr3+bfv+11stfUOPW/6k4/7TZW3794slziGBbfvyl/6ldvYNe/gyG5l2EQ478JGghPEerhv82sE9eJn9O/FfaFcisBsL8I1oGSls/bv4UwQFYXWOC/3pdeWQQmzr/AvRuSZ8f0v3QGADZ/n2i/tcEqxaLF0L+Uz0VX12HRv/C+Y4F1i9A/1zJPiZJA9b+6XuaBnxX1v2mPBjzLR8G/2NavFrRCz7/SxfSWBMHEv48JIbusy9+/UTjGmv49xD8hB+r8GUbTP3aWpT4+hak/llYIS3pT1L8Hsda7VW/1vznWWMxHVcw/+HMYqE/63T/FgEysCynDP8mtoAbj2uS/ytWsAt3VxT8y84pv9NLRPxQvSmke1OU/GO0htIM15b8gXMsZ+23VvzKwxkvVRNA/5ktPFmODuL9ORwpSF47ovyVknQDljaI/VKf4V3Shwz/4o9CrdP27v3M9pBaXQqK/CcL1lYiU078MmRnNOwflP8+yzCqy2+O/lIz4pFPd3r91eogpd4i/v/vHlsyL59c/PhbcRRHK7b/uEYP/Xczqv23+ZdKXj/O/mNP+n1OFuL9NdQEZZf/nv+1GHvNnwdS/WnWa/ut6zT/UlUopw9fbv5H+pu/Jhn4/ybBefUDbz7/FzsGYJ7TNP7z/v81U0MM/T27UB0xW3r/ffJ3MJxrKvyS3UlBK990/Ltfk5+6UwT/nW0WT/hvrv53UEVBxJM4/Pr4bi8Zq5b9hq1XT0yDlP7D0fGNG390/TFN0CpfftD/L1kIdKMSOv+qze99178q/R6ZihhE50z/XWWfx7dzRvwEMKpoQVZI/8vTLF/SV2j9AemBWjR/Xv7PgLuAy+dm/dWHnz6sv578lz1YfrtXjv2F50Uz/kfC/2pDuVTj91z9iT24nQaDtP5ziMaEJLec/+JYj74p37b9/+y9n0BDXPxJmimFsdOc/dXmYeY8a0b+jSlsUt717P/ZyXc0/+vG/42A+BHuZuj8BmiUg0qfivwKITC2m27w/EEd25NSX67+sxW8l6F3RP5fV7nwxXeE/NWK1IGnc27/3k2Ax/Sbjv1/7bZ8NHfO/n928NR+Ow79aqFlRfI7Uv4e6REfDm+u/N64EjRfIzj8MxVAN7AjPv2PRBb2CCeK/hBHd246X0L+0vPiXJAnjPyPC1DiBedU/8IslO95bnr+OdXdZJErZP0ileaZj4OK/ZQkrtzLIrD+5e4HKk4/CP6bTDP7O78i/fU0w3LfF0z+Vnx3bJLLWv3FkDnDprdY/9Q9BWN961j8fRqVsafX3vx08qbzbH+c/5WATguzu+L9Wd0uLpvbPv0lpKtzT8uU/yBmbRKINqb9VCQPXYqPlvzD9jqJ0L92/yWOiNAWJ5j80vbvIn7Ttv/g1gSVZKec/Lw+7l7bDuD/zPRFd2GXev8dx/jWdbMS/7Y6F2qem2L/a5Fa48kDjP1gN8Gk0IeE/VOWyB4k/6L8zaaNmHtipv8YVJauB8NG/g+nVp7/f6z9w9MP1lxLhv0PhtsXl7/A/lrguDzj5yT/3F1U3bk/Zv9K7rTIA8MW/T89k+8eXz7++K+8zqU7cv4eQBT6xBdM/du7tMCp33L/VMg5O95vuv47vyz0YgqU/Lxs5bOqI5r9PKLnY3t+/v0cPU/POPs2/qQMcA7aqy7+kenoBvST1PxdOQXBV1dI/HVHQIn1G2T8+h33Khnvmv78rt/p3Vqe/7Igpg1vk2j9TXwvEii7Qv4fcUKSIQeg/rKK1Zdwb1r9Di9j5sdnlPx7Jv26WadO/bwiZABQ09T9nVWx803zJPwCjUSsNcsW/ETvnGai9n7/95k2zJoLPP6F463+rDO0/dxd5kz2D2T8SwXej+JHSP0Yw2J47tdw/DKqcEJrq6j/1aBfqxWzNv1xRXgoCDL2/YZfFFWPk4T9o9RyV/wb8P3KTHm5y/9c/ID5IB2Gu8D/cCTa/atrjv04mff5ci+Y/nBrqv4Kr8D8W9FccB3biP3oNcqhhYro/nx0J64aV2L8yZU0mPoTiP9pqrP1Is9o/ycOxwdzywz+AHxTVkhjcP0LbxfwDKuI/tqDyN/7Nuj86lKDCN5uPvzOOYzCvbsS/3OSKmpn11z+ASL12JAjvP7Ta4JWdfOo/oHj0isu75T/B3RKg64/fPzuXgHis4tw/rwFshFf12D8CAhSqbDuuv/w7JwKY7ec/WxqquzLEAEAlbD3hXNrUP//erOgiduo/SVAU3KxJ5j+ZCjzKX4/9PwCDyHXpGdm/FHeSaeAV8z/e9fdBfi7RP696IqZRtas/8EdpMe9c9j+rYP9ntwHoP5DKhifmXeE/7N+jOim6+D+PxTNxBQ/wP+ejca8Y6bQ/gti6iCfT+D+M6X8J80Pqv35xkEpetum/LDbepMBs5788cVH+JXTTPzygvG7hl9y/bTqByYns9b9vGe2HRNDvv1U6oZQ1KNW/C33kZ1IG17/iIlZGudfgv67R1jdVf9m/zYrpOtko478g4uFc9rq+v+AXs1o2KfG/G5EDCX4f6b9DVPqf+0bsv4zZ2Kge8fO/UCBpRK0yzr96k7WEzzPZvwccWPtRIqk/w8Uti53T1b+CK9BDdz7ZvxtrLE/hCve/UZ4GCDakwr/FHAXiWmzjv98g/uiCXsy/vA7OuI951r94FP8BD+Lyv6E3W9gi/fK/kFvW3FBG4b8V/ITlpEjWv/sk/lfyP8I/TNKoqBEa8r+6F7IpIl7rv8ex5NcpotC//EjC8fLs7b8tyAoY6Fr2v3EYLRd9duq/XkwVIniI8b80bsNCDHvZv8oR17fJwfC/FtU7ZOfK3b9+LMAbPAzRv91fOjEvYvG/nJX5QdYf4b+dkpWk7y/Kv0YB5MU2Huu/zf/jT/HS679VZNo+2tbRv8CqC3ZY4OW/DT+JgjIXnr+AVoW7kNHYv71KuMRyb+i/PFnUmqMr17/VTUd/3Frgvx87F5KaTsI/nIoRFWnS0r9nuO2B4e/hv2j8RJqBy9m/872N8ixP0L9AbVpsmJ7mv5BFttBfRtM/bhQ3YAcD2L+b2RNDDKTpv/JGZGa6/NG/OZqRYnafxL8PCuRdKtncv51VHU68AMy/AKubXPOL4b+qk1KZJxXmv2mgGRjkstm/KU1ygYRM578sXiXMV2XfvwNUrzCuAb+/je9SCj2K6L9Otf3T3jzlv1TaXp/t5+K/m0VOTY1Y2r/X+ESCNvLev64Ctscjpre/9djrRIUayr/Kx8rF9t/Pv5GBQRNG/Na/sQG2HRT5z7905cMJB7nhv0oEszFKQcW/KjtwXpzK4b9ohTgv8PK5v/BmXzZlBq+/fy7TH6x10b/nUCVPaf/UvyfsInkxtNK/R/k00CVH7L9Y/PpY0wjHv4Bzavv4RtS/ECfcQqjA0r+xaJxTLvG/vy9LGq4fS9G/8GakWzcv4r8bQwCFSX3Wv/MVvZ6F5c+/ClBBM6EU0b9bJUmP+NzIv9WABfnjZ7G/W3NpFj8X4b/TK+BpL2bQvwtpie++1LK/3CjdeBVa479aEmu+cfXKv7JMYW5yede/gZVoy8+b0b+BqrTrEC/Yv0HWXI9OVtG/9HgC78vHsj9GSmia5J/dv/n7rnHCZty/ya7TvLKQ3r8q0p0NvnTEPxE2oCtsMNa/zxzFRGr8w7+OEcEo0mrUv/9E/R2k3de/hagwzauK078THndAreXQP0hFMCivtMA/dHt0NeC8179zReVfemGhv4H1jICtudW/ilNmH9NB4b+AtuYGgZizP+3FtBnTRq4/CiE/XkPKh79ixVFQocHRv8EaVnSWocS/lPxgtF83lj9s8IShQP66v4MOnQKZUM6/7HVLr+uZ3r8jIatpZMS+v+NZEVWvbqc/g6rAJkHT2L/V+a3Ga+CUv0SH9zUgdKG/sjkvLfdzqj9HHnag4sipP/pp96DGYNG/dDLFa4wk3L9rc75NfJDPv6FjplW326A/Bh90AQxrz78esEo10dvQvybf9r7/2t+/bjp3Ze4R0T99wXqNCAa5P2NxzTW3H5A/8HifRAtCuz9nxW6qecCYP1eJGsdyaL+/DF6QA3L8vb+XHcFEAnbKv6pF8ej+49o/SEBDPyEDpz/aIVIDaNS/v1nMb1F3KqO/LrYkGiQz0L88AX5gMyXSP0FwSnRgx8i/yBhf7HyCsD/zI2Hw16HCP/zSUGvyYZ4/749CVMsgs79kqqEwBpy8v26Gk8fjG5W/1BRyZasnxr/TosVtRrq/vzXH9t2KuM4/fg4tnTtftL+3UWdYuPDFv4Bn25FFGcG/oSTWFmV9zT/YsOo1MsTEP34ZMmesbME/fv+ShQ92nL/oHUZt5IbHP3QPXyQ/MsK/EMoTyAFLnr8krH9fLFjQP7TwmW6+5M4/gojiqowyy7+JVWuc7zXDv01zKABZ6Lk/Z2oJ2Quv2T8FHIKZmE7Vv9yyAZvI4bg/Cahb8BBKzb+UTTs4Iiasv+YAoBgDkY+/oCofnySqkL+4PHQ31l+dvw3Tu9FPg7A/7WPn5VZBcb8lom2JbVm8v9FtAK+abco/qqz8XAEY0T/kunP3JV3QP+d5qQwyx8a/PPRYPyqpxz8s7Ia7tWzSPyvz3NIOsqW/gQyPEh++wT+rwcWt4XrCP8RUL2ms19s/E/dKVS7e4j8JGTl1EinFv0ggMy+qQ+Y/sPst8pcsrb9+MjKIsMrVP3wGquRxqdc/PDjYNdgMnr8tXFRVLBbSP4UYwZbp7sg/dbP88rCnzj+ClGlwPBvRP3Dj7MMup9s/eWsoJT+KyT/bZPrk7IG9PwoRvGDeq9s/mrzcvIIgzz/f1KX0DrfXPyh+bc8ePpk/gpbplshnab+yon5Twp22PwMrGS8wb74/FJDK1ZYx1z+vyjkKZq3YP5CQ6VCLFcU/m9ekmXJf4T8VnlI8ej7gPwxFmbmgTtA/OQkDsIEbpz/jxdx9LUPfP9kLvKOLe8w/4s9lpxYAyT+M+z9AJiXHP6PC03IecrE/nDh1d55Umj8u0qf8hSnWP4xO+Sv64rc/7N9bCTq+7T8s6ykwgjqzP+IrQqUgbpG/y6mwZn+g1z8D/BKFB1LiP7+RSG93VtI/zxwxYMXv1j9jr8RXQda7vzSs0qJzWrY/m9i6/4Yfsz95tfXllUGzv7zeCpWys9Q/a17uH4N0yL9gFCvjxsmzP4oR3IE17Ms/MeXHYAM/wD+pZOGejurYP+fkMBebk9U/+J0+fVcq3j/7Q80J5IHdP9h1xW+TGuM/XY5858DN0z+lWRXfsWjaP9KMfChtKds/97t1nHQL2D+BDnRJdWPQP47fpKl2VdM/wXWM/sfbxD8GEDhCxcbYPz4pTIOcvNI/aN/CZXEuyj85qYG+npvHP7R5ik99R8E/4zH1WWCh4T+rB0u3sG/dP/DzKFO2Q8I/ljLEbFxT4T8Rm6bJFKzMP5sIq0fTQ7M/3aulKmfN4j+EVFARuRfKPzAIyY420dM/ZxjWA9oV3T+mxlg6vV/jPwPG23Du/9k/I8JHcnuVyT88ngqL4HjgPw9Kq2y119M/pv+pqh2S5z+b1ojAuzPdPw/SEn2vLnm/EeZCbbmW3z9VQ/rBkn3rPyYUSZAyeOg/Z3ffcpVG6j+OTVsHyRXSP2H70mfkw+M/r+tWuCRV1z/qj+q7x9zeP7LjG8HdRMs/j5Xav2/n2j9dt6HH3I/ZP2+VcDVqBeY/HbW4MUFt5D8ug4NJgYnhP3wNWPyLEtA/9uulkJdz3T9VqtYQabzXP5+DCZdrbuY/Cijc1ZRs6D/0rAMH3mvmPygBXyUo3tc/18vaaEgGkj9BKOWvtVPCPzRL0rjiceo/jCCRyyg43D86jOLh/ZTZP6qPYbF1v+s/b2b73+xs6z8451/SEZbiP0SZTec04N0/1wugEGD24T+ALVZSSdjiP14rgg355es/WWuvAWg95T/mAs39MHjmP6zTr59x6eo/0sY/7cQf1T/90ZGRlCHnPyBxGeldiOA/wLQPwci4sz/6mtFFDALLPyH5IXt1Sds/kymptsDr6D/174DGNcvmP61PxHQ0/OM/uSEICoNZ8D8uv/7FkQLWP0LEGKlXgeM/ICTXTVbq5T/qZvZ7+MbdPzuPViqf6OM/najUmK8t1T8TIq6plzntP8WzbvvL0eE/VjABuQfK8D8xjGkbJxnoPymV66kdC+w/5cu7CBXG5T8IWYmMz6TkPySCSxWeN+Q/WNIeJCZl6D9p6MunMvnoPyzJRCKaYOA/",
          "dtype": "f8"
         },
         "yaxis": "y"
        }
       ],
       "layout": {
        "coloraxis": {
         "colorbar": {
          "title": {
           "text": "cluster"
          }
         },
         "colorscale": [
          [
           0,
           "#0d0887"
          ],
          [
           0.1111111111111111,
           "#46039f"
          ],
          [
           0.2222222222222222,
           "#7201a8"
          ],
          [
           0.3333333333333333,
           "#9c179e"
          ],
          [
           0.4444444444444444,
           "#bd3786"
          ],
          [
           0.5555555555555556,
           "#d8576b"
          ],
          [
           0.6666666666666666,
           "#ed7953"
          ],
          [
           0.7777777777777778,
           "#fb9f3a"
          ],
          [
           0.8888888888888888,
           "#fdca26"
          ],
          [
           1,
           "#f0f921"
          ]
         ]
        },
        "legend": {
         "tracegroupgap": 0
        },
        "template": {
         "data": {
          "bar": [
           {
            "error_x": {
             "color": "#2a3f5f"
            },
            "error_y": {
             "color": "#2a3f5f"
            },
            "marker": {
             "line": {
              "color": "#E5ECF6",
              "width": 0.5
             },
             "pattern": {
              "fillmode": "overlay",
              "size": 10,
              "solidity": 0.2
             }
            },
            "type": "bar"
           }
          ],
          "barpolar": [
           {
            "marker": {
             "line": {
              "color": "#E5ECF6",
              "width": 0.5
             },
             "pattern": {
              "fillmode": "overlay",
              "size": 10,
              "solidity": 0.2
             }
            },
            "type": "barpolar"
           }
          ],
          "carpet": [
           {
            "aaxis": {
             "endlinecolor": "#2a3f5f",
             "gridcolor": "white",
             "linecolor": "white",
             "minorgridcolor": "white",
             "startlinecolor": "#2a3f5f"
            },
            "baxis": {
             "endlinecolor": "#2a3f5f",
             "gridcolor": "white",
             "linecolor": "white",
             "minorgridcolor": "white",
             "startlinecolor": "#2a3f5f"
            },
            "type": "carpet"
           }
          ],
          "choropleth": [
           {
            "colorbar": {
             "outlinewidth": 0,
             "ticks": ""
            },
            "type": "choropleth"
           }
          ],
          "contour": [
           {
            "colorbar": {
             "outlinewidth": 0,
             "ticks": ""
            },
            "colorscale": [
             [
              0,
              "#0d0887"
             ],
             [
              0.1111111111111111,
              "#46039f"
             ],
             [
              0.2222222222222222,
              "#7201a8"
             ],
             [
              0.3333333333333333,
              "#9c179e"
             ],
             [
              0.4444444444444444,
              "#bd3786"
             ],
             [
              0.5555555555555556,
              "#d8576b"
             ],
             [
              0.6666666666666666,
              "#ed7953"
             ],
             [
              0.7777777777777778,
              "#fb9f3a"
             ],
             [
              0.8888888888888888,
              "#fdca26"
             ],
             [
              1,
              "#f0f921"
             ]
            ],
            "type": "contour"
           }
          ],
          "contourcarpet": [
           {
            "colorbar": {
             "outlinewidth": 0,
             "ticks": ""
            },
            "type": "contourcarpet"
           }
          ],
          "heatmap": [
           {
            "colorbar": {
             "outlinewidth": 0,
             "ticks": ""
            },
            "colorscale": [
             [
              0,
              "#0d0887"
             ],
             [
              0.1111111111111111,
              "#46039f"
             ],
             [
              0.2222222222222222,
              "#7201a8"
             ],
             [
              0.3333333333333333,
              "#9c179e"
             ],
             [
              0.4444444444444444,
              "#bd3786"
             ],
             [
              0.5555555555555556,
              "#d8576b"
             ],
             [
              0.6666666666666666,
              "#ed7953"
             ],
             [
              0.7777777777777778,
              "#fb9f3a"
             ],
             [
              0.8888888888888888,
              "#fdca26"
             ],
             [
              1,
              "#f0f921"
             ]
            ],
            "type": "heatmap"
           }
          ],
          "histogram": [
           {
            "marker": {
             "pattern": {
              "fillmode": "overlay",
              "size": 10,
              "solidity": 0.2
             }
            },
            "type": "histogram"
           }
          ],
          "histogram2d": [
           {
            "colorbar": {
             "outlinewidth": 0,
             "ticks": ""
            },
            "colorscale": [
             [
              0,
              "#0d0887"
             ],
             [
              0.1111111111111111,
              "#46039f"
             ],
             [
              0.2222222222222222,
              "#7201a8"
             ],
             [
              0.3333333333333333,
              "#9c179e"
             ],
             [
              0.4444444444444444,
              "#bd3786"
             ],
             [
              0.5555555555555556,
              "#d8576b"
             ],
             [
              0.6666666666666666,
              "#ed7953"
             ],
             [
              0.7777777777777778,
              "#fb9f3a"
             ],
             [
              0.8888888888888888,
              "#fdca26"
             ],
             [
              1,
              "#f0f921"
             ]
            ],
            "type": "histogram2d"
           }
          ],
          "histogram2dcontour": [
           {
            "colorbar": {
             "outlinewidth": 0,
             "ticks": ""
            },
            "colorscale": [
             [
              0,
              "#0d0887"
             ],
             [
              0.1111111111111111,
              "#46039f"
             ],
             [
              0.2222222222222222,
              "#7201a8"
             ],
             [
              0.3333333333333333,
              "#9c179e"
             ],
             [
              0.4444444444444444,
              "#bd3786"
             ],
             [
              0.5555555555555556,
              "#d8576b"
             ],
             [
              0.6666666666666666,
              "#ed7953"
             ],
             [
              0.7777777777777778,
              "#fb9f3a"
             ],
             [
              0.8888888888888888,
              "#fdca26"
             ],
             [
              1,
              "#f0f921"
             ]
            ],
            "type": "histogram2dcontour"
           }
          ],
          "mesh3d": [
           {
            "colorbar": {
             "outlinewidth": 0,
             "ticks": ""
            },
            "type": "mesh3d"
           }
          ],
          "parcoords": [
           {
            "line": {
             "colorbar": {
              "outlinewidth": 0,
              "ticks": ""
             }
            },
            "type": "parcoords"
           }
          ],
          "pie": [
           {
            "automargin": true,
            "type": "pie"
           }
          ],
          "scatter": [
           {
            "fillpattern": {
             "fillmode": "overlay",
             "size": 10,
             "solidity": 0.2
            },
            "type": "scatter"
           }
          ],
          "scatter3d": [
           {
            "line": {
             "colorbar": {
              "outlinewidth": 0,
              "ticks": ""
             }
            },
            "marker": {
             "colorbar": {
              "outlinewidth": 0,
              "ticks": ""
             }
            },
            "type": "scatter3d"
           }
          ],
          "scattercarpet": [
           {
            "marker": {
             "colorbar": {
              "outlinewidth": 0,
              "ticks": ""
             }
            },
            "type": "scattercarpet"
           }
          ],
          "scattergeo": [
           {
            "marker": {
             "colorbar": {
              "outlinewidth": 0,
              "ticks": ""
             }
            },
            "type": "scattergeo"
           }
          ],
          "scattergl": [
           {
            "marker": {
             "colorbar": {
              "outlinewidth": 0,
              "ticks": ""
             }
            },
            "type": "scattergl"
           }
          ],
          "scattermap": [
           {
            "marker": {
             "colorbar": {
              "outlinewidth": 0,
              "ticks": ""
             }
            },
            "type": "scattermap"
           }
          ],
          "scattermapbox": [
           {
            "marker": {
             "colorbar": {
              "outlinewidth": 0,
              "ticks": ""
             }
            },
            "type": "scattermapbox"
           }
          ],
          "scatterpolar": [
           {
            "marker": {
             "colorbar": {
              "outlinewidth": 0,
              "ticks": ""
             }
            },
            "type": "scatterpolar"
           }
          ],
          "scatterpolargl": [
           {
            "marker": {
             "colorbar": {
              "outlinewidth": 0,
              "ticks": ""
             }
            },
            "type": "scatterpolargl"
           }
          ],
          "scatterternary": [
           {
            "marker": {
             "colorbar": {
              "outlinewidth": 0,
              "ticks": ""
             }
            },
            "type": "scatterternary"
           }
          ],
          "surface": [
           {
            "colorbar": {
             "outlinewidth": 0,
             "ticks": ""
            },
            "colorscale": [
             [
              0,
              "#0d0887"
             ],
             [
              0.1111111111111111,
              "#46039f"
             ],
             [
              0.2222222222222222,
              "#7201a8"
             ],
             [
              0.3333333333333333,
              "#9c179e"
             ],
             [
              0.4444444444444444,
              "#bd3786"
             ],
             [
              0.5555555555555556,
              "#d8576b"
             ],
             [
              0.6666666666666666,
              "#ed7953"
             ],
             [
              0.7777777777777778,
              "#fb9f3a"
             ],
             [
              0.8888888888888888,
              "#fdca26"
             ],
             [
              1,
              "#f0f921"
             ]
            ],
            "type": "surface"
           }
          ],
          "table": [
           {
            "cells": {
             "fill": {
              "color": "#EBF0F8"
             },
             "line": {
              "color": "white"
             }
            },
            "header": {
             "fill": {
              "color": "#C8D4E3"
             },
             "line": {
              "color": "white"
             }
            },
            "type": "table"
           }
          ]
         },
         "layout": {
          "annotationdefaults": {
           "arrowcolor": "#2a3f5f",
           "arrowhead": 0,
           "arrowwidth": 1
          },
          "autotypenumbers": "strict",
          "coloraxis": {
           "colorbar": {
            "outlinewidth": 0,
            "ticks": ""
           }
          },
          "colorscale": {
           "diverging": [
            [
             0,
             "#8e0152"
            ],
            [
             0.1,
             "#c51b7d"
            ],
            [
             0.2,
             "#de77ae"
            ],
            [
             0.3,
             "#f1b6da"
            ],
            [
             0.4,
             "#fde0ef"
            ],
            [
             0.5,
             "#f7f7f7"
            ],
            [
             0.6,
             "#e6f5d0"
            ],
            [
             0.7,
             "#b8e186"
            ],
            [
             0.8,
             "#7fbc41"
            ],
            [
             0.9,
             "#4d9221"
            ],
            [
             1,
             "#276419"
            ]
           ],
           "sequential": [
            [
             0,
             "#0d0887"
            ],
            [
             0.1111111111111111,
             "#46039f"
            ],
            [
             0.2222222222222222,
             "#7201a8"
            ],
            [
             0.3333333333333333,
             "#9c179e"
            ],
            [
             0.4444444444444444,
             "#bd3786"
            ],
            [
             0.5555555555555556,
             "#d8576b"
            ],
            [
             0.6666666666666666,
             "#ed7953"
            ],
            [
             0.7777777777777778,
             "#fb9f3a"
            ],
            [
             0.8888888888888888,
             "#fdca26"
            ],
            [
             1,
             "#f0f921"
            ]
           ],
           "sequentialminus": [
            [
             0,
             "#0d0887"
            ],
            [
             0.1111111111111111,
             "#46039f"
            ],
            [
             0.2222222222222222,
             "#7201a8"
            ],
            [
             0.3333333333333333,
             "#9c179e"
            ],
            [
             0.4444444444444444,
             "#bd3786"
            ],
            [
             0.5555555555555556,
             "#d8576b"
            ],
            [
             0.6666666666666666,
             "#ed7953"
            ],
            [
             0.7777777777777778,
             "#fb9f3a"
            ],
            [
             0.8888888888888888,
             "#fdca26"
            ],
            [
             1,
             "#f0f921"
            ]
           ]
          },
          "colorway": [
           "#636efa",
           "#EF553B",
           "#00cc96",
           "#ab63fa",
           "#FFA15A",
           "#19d3f3",
           "#FF6692",
           "#B6E880",
           "#FF97FF",
           "#FECB52"
          ],
          "font": {
           "color": "#2a3f5f"
          },
          "geo": {
           "bgcolor": "white",
           "lakecolor": "white",
           "landcolor": "#E5ECF6",
           "showlakes": true,
           "showland": true,
           "subunitcolor": "white"
          },
          "hoverlabel": {
           "align": "left"
          },
          "hovermode": "closest",
          "mapbox": {
           "style": "light"
          },
          "paper_bgcolor": "white",
          "plot_bgcolor": "#E5ECF6",
          "polar": {
           "angularaxis": {
            "gridcolor": "white",
            "linecolor": "white",
            "ticks": ""
           },
           "bgcolor": "#E5ECF6",
           "radialaxis": {
            "gridcolor": "white",
            "linecolor": "white",
            "ticks": ""
           }
          },
          "scene": {
           "xaxis": {
            "backgroundcolor": "#E5ECF6",
            "gridcolor": "white",
            "gridwidth": 2,
            "linecolor": "white",
            "showbackground": true,
            "ticks": "",
            "zerolinecolor": "white"
           },
           "yaxis": {
            "backgroundcolor": "#E5ECF6",
            "gridcolor": "white",
            "gridwidth": 2,
            "linecolor": "white",
            "showbackground": true,
            "ticks": "",
            "zerolinecolor": "white"
           },
           "zaxis": {
            "backgroundcolor": "#E5ECF6",
            "gridcolor": "white",
            "gridwidth": 2,
            "linecolor": "white",
            "showbackground": true,
            "ticks": "",
            "zerolinecolor": "white"
           }
          },
          "shapedefaults": {
           "line": {
            "color": "#2a3f5f"
           }
          },
          "ternary": {
           "aaxis": {
            "gridcolor": "white",
            "linecolor": "white",
            "ticks": ""
           },
           "baxis": {
            "gridcolor": "white",
            "linecolor": "white",
            "ticks": ""
           },
           "bgcolor": "#E5ECF6",
           "caxis": {
            "gridcolor": "white",
            "linecolor": "white",
            "ticks": ""
           }
          },
          "title": {
           "x": 0.05
          },
          "xaxis": {
           "automargin": true,
           "gridcolor": "white",
           "linecolor": "white",
           "ticks": "",
           "title": {
            "standoff": 15
           },
           "zerolinecolor": "white",
           "zerolinewidth": 2
          },
          "yaxis": {
           "automargin": true,
           "gridcolor": "white",
           "linecolor": "white",
           "ticks": "",
           "title": {
            "standoff": 15
           },
           "zerolinecolor": "white",
           "zerolinewidth": 2
          }
         }
        },
        "title": {
         "text": "HDBSCAN clusters in PCA space (−1=noise)"
        },
        "xaxis": {
         "anchor": "y",
         "domain": [
          0,
          1
         ],
         "title": {
          "text": "PC1"
         }
        },
        "yaxis": {
         "anchor": "x",
         "domain": [
          0,
          1
         ],
         "title": {
          "text": "PC2"
         }
        }
       }
      }
     },
     "metadata": {},
     "output_type": "display_data"
    }
   ],
   "source": [
    "fig = px.scatter(\n",
    "    df_syn,\n",
    "    x=\"qc_mpa\",\n",
    "    y=\"depth_m\",\n",
    "    color=\"cluster_hdbscan\",\n",
    "    title=\"HDBSCAN clusters in qc-depth space (−1=noise)\",\n",
    "    labels={\"qc_mpa\": \"qc (MPa)\", \"depth_m\": \"Depth (m)\"},\n",
    "    height=500,\n",
    ")\n",
    "fig.update_yaxes(autorange=\"reversed\")\n",
    "fig.show()\n",
    "\n",
    "# PCA viz\n",
    "_df_plot = pd.DataFrame(X2, columns=[\"PC1\", \"PC2\"])  # reuse PCA from above\n",
    "_df_plot[\"cluster\"] = labels_hdb.astype(int)\n",
    "fig2 = px.scatter(\n",
    "    _df_plot,\n",
    "    x=\"PC1\",\n",
    "    y=\"PC2\",\n",
    "    color=\"cluster\",\n",
    "    title=\"HDBSCAN clusters in PCA space (−1=noise)\",\n",
    ")\n",
    "fig2.show()"
   ]
  },
  {
   "cell_type": "markdown",
   "id": "df3b3be8",
   "metadata": {},
   "source": [
    "## Optional: Use preprocessed project features\n",
    "\n",
    "The file `data/model_ready/cpt_features.csv` contains a cleaned, preprocessed feature matrix (no labels). Use this section if you want to try K-Means/HDBSCAN on real CPT feature vectors instead of the synthetic toy data. This keeps prior variables untouched."
   ]
  },
  {
   "cell_type": "code",
   "execution_count": 12,
   "id": "1af748f9",
   "metadata": {},
   "outputs": [
    {
     "name": "stdout",
     "output_type": "stream",
     "text": [
      "Preprocessed features loaded: 2345409 rows, 9 features\n"
     ]
    },
    {
     "data": {
      "application/vnd.microsoft.datawrangler.viewer.v0+json": {
       "columns": [
        {
         "name": "index",
         "rawType": "int64",
         "type": "integer"
        },
        {
         "name": "Depth (m)",
         "rawType": "float64",
         "type": "float"
        },
        {
         "name": "qc (MPa)",
         "rawType": "float64",
         "type": "float"
        },
        {
         "name": "fs (kPa)",
         "rawType": "float64",
         "type": "float"
        },
        {
         "name": "Rf (%)",
         "rawType": "float64",
         "type": "float"
        },
        {
         "name": "σ,v (kPa)",
         "rawType": "float64",
         "type": "float"
        },
        {
         "name": "u0 (kPa)",
         "rawType": "float64",
         "type": "float"
        },
        {
         "name": "σ',v (kPa)",
         "rawType": "float64",
         "type": "float"
        },
        {
         "name": "Qtn (-)",
         "rawType": "float64",
         "type": "float"
        },
        {
         "name": "Fr (%)",
         "rawType": "float64",
         "type": "float"
        }
       ],
       "ref": "4b3de459-093e-4732-80d6-feeee1a002c3",
       "rows": [
        [
         "0",
         "0.02",
         "1.15",
         "1.0",
         "0.06",
         "0.38",
         "0.2",
         "0.18",
         "8.04",
         "0.06"
        ],
        [
         "1",
         "0.04",
         "2.85",
         "1.0",
         "0.03",
         "0.76",
         "0.39",
         "0.37",
         "185.53",
         "0.03"
        ],
        [
         "2",
         "0.06",
         "4.8",
         "1.0",
         "0.06",
         "1.14",
         "0.59",
         "0.55",
         "205.79",
         "0.06"
        ]
       ],
       "shape": {
        "columns": 9,
        "rows": 3
       }
      },
      "text/html": [
       "<div>\n",
       "<style scoped>\n",
       "    .dataframe tbody tr th:only-of-type {\n",
       "        vertical-align: middle;\n",
       "    }\n",
       "\n",
       "    .dataframe tbody tr th {\n",
       "        vertical-align: top;\n",
       "    }\n",
       "\n",
       "    .dataframe thead th {\n",
       "        text-align: right;\n",
       "    }\n",
       "</style>\n",
       "<table border=\"1\" class=\"dataframe\">\n",
       "  <thead>\n",
       "    <tr style=\"text-align: right;\">\n",
       "      <th></th>\n",
       "      <th>Depth (m)</th>\n",
       "      <th>qc (MPa)</th>\n",
       "      <th>fs (kPa)</th>\n",
       "      <th>Rf (%)</th>\n",
       "      <th>σ,v (kPa)</th>\n",
       "      <th>u0 (kPa)</th>\n",
       "      <th>σ',v (kPa)</th>\n",
       "      <th>Qtn (-)</th>\n",
       "      <th>Fr (%)</th>\n",
       "    </tr>\n",
       "  </thead>\n",
       "  <tbody>\n",
       "    <tr>\n",
       "      <th>0</th>\n",
       "      <td>0.02</td>\n",
       "      <td>1.15</td>\n",
       "      <td>1.0</td>\n",
       "      <td>0.06</td>\n",
       "      <td>0.38</td>\n",
       "      <td>0.20</td>\n",
       "      <td>0.18</td>\n",
       "      <td>8.04</td>\n",
       "      <td>0.06</td>\n",
       "    </tr>\n",
       "    <tr>\n",
       "      <th>1</th>\n",
       "      <td>0.04</td>\n",
       "      <td>2.85</td>\n",
       "      <td>1.0</td>\n",
       "      <td>0.03</td>\n",
       "      <td>0.76</td>\n",
       "      <td>0.39</td>\n",
       "      <td>0.37</td>\n",
       "      <td>185.53</td>\n",
       "      <td>0.03</td>\n",
       "    </tr>\n",
       "    <tr>\n",
       "      <th>2</th>\n",
       "      <td>0.06</td>\n",
       "      <td>4.80</td>\n",
       "      <td>1.0</td>\n",
       "      <td>0.06</td>\n",
       "      <td>1.14</td>\n",
       "      <td>0.59</td>\n",
       "      <td>0.55</td>\n",
       "      <td>205.79</td>\n",
       "      <td>0.06</td>\n",
       "    </tr>\n",
       "  </tbody>\n",
       "</table>\n",
       "</div>"
      ],
      "text/plain": [
       "   Depth (m)  qc (MPa)  fs (kPa)  Rf (%)  σ,v (kPa)  u0 (kPa)  σ',v (kPa)  \\\n",
       "0       0.02      1.15       1.0    0.06       0.38      0.20        0.18   \n",
       "1       0.04      2.85       1.0    0.03       0.76      0.39        0.37   \n",
       "2       0.06      4.80       1.0    0.06       1.14      0.59        0.55   \n",
       "\n",
       "   Qtn (-)  Fr (%)  \n",
       "0     8.04    0.06  \n",
       "1   185.53    0.03  \n",
       "2   205.79    0.06  "
      ]
     },
     "execution_count": 12,
     "metadata": {},
     "output_type": "execute_result"
    }
   ],
   "source": [
    "# Load preprocessed CPT feature matrix (features only, no labels)\n",
    "from pathlib import Path\n",
    "\n",
    "import pandas as pd\n",
    "\n",
    "DATA_DIR = Path(\"..\") / \"data\" / \"model_ready\"\n",
    "CSV = DATA_DIR / \"cpt_features.csv\"\n",
    "\n",
    "df_features = pd.read_csv(CSV)\n",
    "X_project = df_features.copy()  # numeric features only\n",
    "print(\n",
    "    f\"Preprocessed features loaded: {X_project.shape[0]} rows, {X_project.shape[1]} features\"\n",
    ")\n",
    "X_project.head(3)"
   ]
  },
  {
   "cell_type": "markdown",
   "id": "f9ff02a6",
   "metadata": {},
   "source": [
    "### Optional: Cluster the preprocessed feature matrix (X_project)\n",
    "\n",
    "Below we standardize the features, explore K (via silhouette), run K-Means, and compare to HDBSCAN. This mirrors the synthetic example but uses the real preprocessed features-only matrix. Run the previous loader cell first to define `X_project`."
   ]
  },
  {
   "cell_type": "code",
   "execution_count": 13,
   "id": "62de02af",
   "metadata": {},
   "outputs": [
    {
     "ename": "KeyboardInterrupt",
     "evalue": "",
     "output_type": "error",
     "traceback": [
      "\u001b[31m---------------------------------------------------------------------------\u001b[39m",
      "\u001b[31mKeyboardInterrupt\u001b[39m                         Traceback (most recent call last)",
      "\u001b[36mCell\u001b[39m\u001b[36m \u001b[39m\u001b[32mIn[13]\u001b[39m\u001b[32m, line 18\u001b[39m\n\u001b[32m     16\u001b[39m     ks_p.append(k)\n\u001b[32m     17\u001b[39m     inertias_p.append(km_p.inertia_)\n\u001b[32m---> \u001b[39m\u001b[32m18\u001b[39m     sils_p.append(\u001b[43msilhouette_score\u001b[49m\u001b[43m(\u001b[49m\u001b[43mXp\u001b[49m\u001b[43m,\u001b[49m\u001b[43m \u001b[49m\u001b[43mlabels_p\u001b[49m\u001b[43m)\u001b[49m)\n\u001b[32m     20\u001b[39m pd.DataFrame({\u001b[33m\"\u001b[39m\u001b[33mk\u001b[39m\u001b[33m\"\u001b[39m: ks_p, \u001b[33m\"\u001b[39m\u001b[33minertia\u001b[39m\u001b[33m\"\u001b[39m: inertias_p, \u001b[33m\"\u001b[39m\u001b[33msilhouette\u001b[39m\u001b[33m\"\u001b[39m: sils_p})\n",
      "\u001b[36mFile \u001b[39m\u001b[32mc:\\Users\\TFH\\git_projects\\course-machine-learning-for-geotechnics\\.venv\\Lib\\site-packages\\sklearn\\utils\\_param_validation.py:218\u001b[39m, in \u001b[36mvalidate_params.<locals>.decorator.<locals>.wrapper\u001b[39m\u001b[34m(*args, **kwargs)\u001b[39m\n\u001b[32m    212\u001b[39m \u001b[38;5;28;01mtry\u001b[39;00m:\n\u001b[32m    213\u001b[39m     \u001b[38;5;28;01mwith\u001b[39;00m config_context(\n\u001b[32m    214\u001b[39m         skip_parameter_validation=(\n\u001b[32m    215\u001b[39m             prefer_skip_nested_validation \u001b[38;5;129;01mor\u001b[39;00m global_skip_validation\n\u001b[32m    216\u001b[39m         )\n\u001b[32m    217\u001b[39m     ):\n\u001b[32m--> \u001b[39m\u001b[32m218\u001b[39m         \u001b[38;5;28;01mreturn\u001b[39;00m \u001b[43mfunc\u001b[49m\u001b[43m(\u001b[49m\u001b[43m*\u001b[49m\u001b[43margs\u001b[49m\u001b[43m,\u001b[49m\u001b[43m \u001b[49m\u001b[43m*\u001b[49m\u001b[43m*\u001b[49m\u001b[43mkwargs\u001b[49m\u001b[43m)\u001b[49m\n\u001b[32m    219\u001b[39m \u001b[38;5;28;01mexcept\u001b[39;00m InvalidParameterError \u001b[38;5;28;01mas\u001b[39;00m e:\n\u001b[32m    220\u001b[39m     \u001b[38;5;66;03m# When the function is just a wrapper around an estimator, we allow\u001b[39;00m\n\u001b[32m    221\u001b[39m     \u001b[38;5;66;03m# the function to delegate validation to the estimator, but we replace\u001b[39;00m\n\u001b[32m    222\u001b[39m     \u001b[38;5;66;03m# the name of the estimator by the name of the function in the error\u001b[39;00m\n\u001b[32m    223\u001b[39m     \u001b[38;5;66;03m# message to avoid confusion.\u001b[39;00m\n\u001b[32m    224\u001b[39m     msg = re.sub(\n\u001b[32m    225\u001b[39m         \u001b[33mr\u001b[39m\u001b[33m\"\u001b[39m\u001b[33mparameter of \u001b[39m\u001b[33m\\\u001b[39m\u001b[33mw+ must be\u001b[39m\u001b[33m\"\u001b[39m,\n\u001b[32m    226\u001b[39m         \u001b[33mf\u001b[39m\u001b[33m\"\u001b[39m\u001b[33mparameter of \u001b[39m\u001b[38;5;132;01m{\u001b[39;00mfunc.\u001b[34m__qualname__\u001b[39m\u001b[38;5;132;01m}\u001b[39;00m\u001b[33m must be\u001b[39m\u001b[33m\"\u001b[39m,\n\u001b[32m    227\u001b[39m         \u001b[38;5;28mstr\u001b[39m(e),\n\u001b[32m    228\u001b[39m     )\n",
      "\u001b[36mFile \u001b[39m\u001b[32mc:\\Users\\TFH\\git_projects\\course-machine-learning-for-geotechnics\\.venv\\Lib\\site-packages\\sklearn\\metrics\\cluster\\_unsupervised.py:138\u001b[39m, in \u001b[36msilhouette_score\u001b[39m\u001b[34m(X, labels, metric, sample_size, random_state, **kwds)\u001b[39m\n\u001b[32m    136\u001b[39m     \u001b[38;5;28;01melse\u001b[39;00m:\n\u001b[32m    137\u001b[39m         X, labels = X[indices], labels[indices]\n\u001b[32m--> \u001b[39m\u001b[32m138\u001b[39m \u001b[38;5;28;01mreturn\u001b[39;00m \u001b[38;5;28mfloat\u001b[39m(np.mean(\u001b[43msilhouette_samples\u001b[49m\u001b[43m(\u001b[49m\u001b[43mX\u001b[49m\u001b[43m,\u001b[49m\u001b[43m \u001b[49m\u001b[43mlabels\u001b[49m\u001b[43m,\u001b[49m\u001b[43m \u001b[49m\u001b[43mmetric\u001b[49m\u001b[43m=\u001b[49m\u001b[43mmetric\u001b[49m\u001b[43m,\u001b[49m\u001b[43m \u001b[49m\u001b[43m*\u001b[49m\u001b[43m*\u001b[49m\u001b[43mkwds\u001b[49m\u001b[43m)\u001b[49m))\n",
      "\u001b[36mFile \u001b[39m\u001b[32mc:\\Users\\TFH\\git_projects\\course-machine-learning-for-geotechnics\\.venv\\Lib\\site-packages\\sklearn\\utils\\_param_validation.py:191\u001b[39m, in \u001b[36mvalidate_params.<locals>.decorator.<locals>.wrapper\u001b[39m\u001b[34m(*args, **kwargs)\u001b[39m\n\u001b[32m    189\u001b[39m global_skip_validation = get_config()[\u001b[33m\"\u001b[39m\u001b[33mskip_parameter_validation\u001b[39m\u001b[33m\"\u001b[39m]\n\u001b[32m    190\u001b[39m \u001b[38;5;28;01mif\u001b[39;00m global_skip_validation:\n\u001b[32m--> \u001b[39m\u001b[32m191\u001b[39m     \u001b[38;5;28;01mreturn\u001b[39;00m \u001b[43mfunc\u001b[49m\u001b[43m(\u001b[49m\u001b[43m*\u001b[49m\u001b[43margs\u001b[49m\u001b[43m,\u001b[49m\u001b[43m \u001b[49m\u001b[43m*\u001b[49m\u001b[43m*\u001b[49m\u001b[43mkwargs\u001b[49m\u001b[43m)\u001b[49m\n\u001b[32m    193\u001b[39m func_sig = signature(func)\n\u001b[32m    195\u001b[39m \u001b[38;5;66;03m# Map *args/**kwargs to the function signature\u001b[39;00m\n",
      "\u001b[36mFile \u001b[39m\u001b[32mc:\\Users\\TFH\\git_projects\\course-machine-learning-for-geotechnics\\.venv\\Lib\\site-packages\\sklearn\\metrics\\cluster\\_unsupervised.py:302\u001b[39m, in \u001b[36msilhouette_samples\u001b[39m\u001b[34m(X, labels, metric, **kwds)\u001b[39m\n\u001b[32m    298\u001b[39m kwds[\u001b[33m\"\u001b[39m\u001b[33mmetric\u001b[39m\u001b[33m\"\u001b[39m] = metric\n\u001b[32m    299\u001b[39m reduce_func = functools.partial(\n\u001b[32m    300\u001b[39m     _silhouette_reduce, labels=labels, label_freqs=label_freqs\n\u001b[32m    301\u001b[39m )\n\u001b[32m--> \u001b[39m\u001b[32m302\u001b[39m results = \u001b[38;5;28;43mzip\u001b[39;49m\u001b[43m(\u001b[49m\u001b[43m*\u001b[49m\u001b[43mpairwise_distances_chunked\u001b[49m\u001b[43m(\u001b[49m\u001b[43mX\u001b[49m\u001b[43m,\u001b[49m\u001b[43m \u001b[49m\u001b[43mreduce_func\u001b[49m\u001b[43m=\u001b[49m\u001b[43mreduce_func\u001b[49m\u001b[43m,\u001b[49m\u001b[43m \u001b[49m\u001b[43m*\u001b[49m\u001b[43m*\u001b[49m\u001b[43mkwds\u001b[49m\u001b[43m)\u001b[49m\u001b[43m)\u001b[49m\n\u001b[32m    303\u001b[39m intra_clust_dists, inter_clust_dists = results\n\u001b[32m    304\u001b[39m intra_clust_dists = np.concatenate(intra_clust_dists)\n",
      "\u001b[36mFile \u001b[39m\u001b[32mc:\\Users\\TFH\\git_projects\\course-machine-learning-for-geotechnics\\.venv\\Lib\\site-packages\\sklearn\\metrics\\pairwise.py:2249\u001b[39m, in \u001b[36mpairwise_distances_chunked\u001b[39m\u001b[34m(X, Y, reduce_func, metric, n_jobs, working_memory, **kwds)\u001b[39m\n\u001b[32m   2247\u001b[39m \u001b[38;5;28;01mif\u001b[39;00m reduce_func \u001b[38;5;129;01mis\u001b[39;00m \u001b[38;5;129;01mnot\u001b[39;00m \u001b[38;5;28;01mNone\u001b[39;00m:\n\u001b[32m   2248\u001b[39m     chunk_size = D_chunk.shape[\u001b[32m0\u001b[39m]\n\u001b[32m-> \u001b[39m\u001b[32m2249\u001b[39m     D_chunk = \u001b[43mreduce_func\u001b[49m\u001b[43m(\u001b[49m\u001b[43mD_chunk\u001b[49m\u001b[43m,\u001b[49m\u001b[43m \u001b[49m\u001b[43msl\u001b[49m\u001b[43m.\u001b[49m\u001b[43mstart\u001b[49m\u001b[43m)\u001b[49m\n\u001b[32m   2250\u001b[39m     _check_chunk_size(D_chunk, chunk_size)\n\u001b[32m   2251\u001b[39m \u001b[38;5;28;01myield\u001b[39;00m D_chunk\n",
      "\u001b[36mFile \u001b[39m\u001b[32mc:\\Users\\TFH\\git_projects\\course-machine-learning-for-geotechnics\\.venv\\Lib\\site-packages\\sklearn\\metrics\\cluster\\_unsupervised.py:179\u001b[39m, in \u001b[36m_silhouette_reduce\u001b[39m\u001b[34m(D_chunk, start, labels, label_freqs)\u001b[39m\n\u001b[32m    177\u001b[39m         sample_weights = D_chunk[i]\n\u001b[32m    178\u001b[39m         sample_labels = labels\n\u001b[32m--> \u001b[39m\u001b[32m179\u001b[39m         cluster_distances[i] += \u001b[43mnp\u001b[49m\u001b[43m.\u001b[49m\u001b[43mbincount\u001b[49m\u001b[43m(\u001b[49m\n\u001b[32m    180\u001b[39m \u001b[43m            \u001b[49m\u001b[43msample_labels\u001b[49m\u001b[43m,\u001b[49m\u001b[43m \u001b[49m\u001b[43mweights\u001b[49m\u001b[43m=\u001b[49m\u001b[43msample_weights\u001b[49m\u001b[43m,\u001b[49m\u001b[43m \u001b[49m\u001b[43mminlength\u001b[49m\u001b[43m=\u001b[49m\u001b[38;5;28;43mlen\u001b[39;49m\u001b[43m(\u001b[49m\u001b[43mlabel_freqs\u001b[49m\u001b[43m)\u001b[49m\n\u001b[32m    181\u001b[39m \u001b[43m        \u001b[49m\u001b[43m)\u001b[49m\n\u001b[32m    183\u001b[39m \u001b[38;5;66;03m# intra_index selects intra-cluster distances within cluster_distances\u001b[39;00m\n\u001b[32m    184\u001b[39m end = start + n_chunk_samples\n",
      "\u001b[31mKeyboardInterrupt\u001b[39m: "
     ]
    }
   ],
   "source": [
    "# Scale features and evaluate K-Means across k\n",
    "import numpy as np\n",
    "import pandas as pd\n",
    "from sklearn.cluster import KMeans\n",
    "from sklearn.metrics import silhouette_score\n",
    "from sklearn.preprocessing import StandardScaler\n",
    "\n",
    "assert \"X_project\" in globals(), (\n",
    "    \"Run the preprocessed features loader cell above first.\"\n",
    ")\n",
    "\n",
    "Xp = StandardScaler().fit_transform(X_project)\n",
    "\n",
    "inertias_p, sils_p, ks_p = [], [], []\n",
    "for k in range(2, 8):\n",
    "    km_p = KMeans(n_clusters=k, n_init=10, random_state=42)\n",
    "    labels_p = km_p.fit_predict(Xp)\n",
    "    ks_p.append(k)\n",
    "    inertias_p.append(km_p.inertia_)\n",
    "    sils_p.append(silhouette_score(Xp, labels_p))\n",
    "\n",
    "pd.DataFrame({\"k\": ks_p, \"inertia\": inertias_p, \"silhouette\": sils_p})"
   ]
  },
  {
   "cell_type": "code",
   "execution_count": null,
   "id": "79add153",
   "metadata": {},
   "outputs": [],
   "source": [
    "# Choose k via silhouette and fit final K-Means; visualize with PCA\n",
    "import plotly.express as px\n",
    "from sklearn.decomposition import PCA\n",
    "\n",
    "best_k_p = int(pd.Series(sils_p, index=ks_p).idxmax())\n",
    "km_proj = KMeans(n_clusters=best_k_p, n_init=10, random_state=42)\n",
    "labels_km_proj = km_proj.fit_predict(Xp).astype(int)\n",
    "\n",
    "pca_p = PCA(n_components=2, random_state=42)\n",
    "Xp2 = pca_p.fit_transform(Xp)\n",
    "_df_plot_p = pd.DataFrame(Xp2, columns=[\"PC1\", \"PC2\"]).assign(cluster=labels_km_proj)\n",
    "\n",
    "fig = px.scatter(\n",
    "    _df_plot_p,\n",
    "    x=\"PC1\",\n",
    "    y=\"PC2\",\n",
    "    color=\"cluster\",\n",
    "    title=f\"K-Means (k={best_k_p}) on preprocessed features (PCA view)\",\n",
    ")\n",
    "fig.show()"
   ]
  },
  {
   "cell_type": "code",
   "execution_count": null,
   "id": "8a1e0428",
   "metadata": {},
   "outputs": [],
   "source": [
    "# HDBSCAN clustering on preprocessed features; PCA visualization\n",
    "import hdbscan\n",
    "\n",
    "clusterer_p = hdbscan.HDBSCAN(\n",
    "    min_cluster_size=30, min_samples=None, cluster_selection_epsilon=0.0\n",
    ")\n",
    "labels_hdb_proj = clusterer_p.fit_predict(Xp).astype(int)\n",
    "\n",
    "n_noise_p = int((labels_hdb_proj == -1).sum())\n",
    "n_clusters_p = int(len(set(labels_hdb_proj)) - (1 if -1 in labels_hdb_proj else 0))\n",
    "print({\"n_clusters\": n_clusters_p, \"n_noise\": n_noise_p})\n",
    "\n",
    "_df_plot_hdb_p = pd.DataFrame(Xp2, columns=[\"PC1\", \"PC2\"]).assign(\n",
    "    cluster=labels_hdb_proj\n",
    ")\n",
    "fig2 = px.scatter(\n",
    "    _df_plot_hdb_p,\n",
    "    x=\"PC1\",\n",
    "    y=\"PC2\",\n",
    "    color=\"cluster\",\n",
    "    title=\"HDBSCAN on preprocessed features (PCA view; −1=noise)\",\n",
    ")\n",
    "fig2.show()"
   ]
  }
 ],
 "metadata": {
  "kernelspec": {
   "display_name": "cpt-to-soiltype",
   "language": "python",
   "name": "python3"
  },
  "language_info": {
   "codemirror_mode": {
    "name": "ipython",
    "version": 3
   },
   "file_extension": ".py",
   "mimetype": "text/x-python",
   "name": "python",
   "nbconvert_exporter": "python",
   "pygments_lexer": "ipython3",
   "version": "3.11.13"
  }
 },
 "nbformat": 4,
 "nbformat_minor": 5
}

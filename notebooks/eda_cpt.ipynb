{
 "cells": [
  {
   "cell_type": "markdown",
   "metadata": {},
   "source": [
    "# Exploratory data analysis"
   ]
  },
  {
   "cell_type": "markdown",
   "metadata": {},
   "source": [
    "Shortkeys and basic tutorial to use a Jupyter notebook:\n",
    "- `Shift + Enter`: Run the current cell\n",
    "- `Enter`: Enter edit mode\n",
    "- `Esc`: Enter command mode\n",
    "- `a`: Insert cell above\n",
    "- `b`: Insert cell below\n",
    "- `dd`: Delete cell\n",
    "- `m`: Change cell to markdown\n",
    "- `y`: Change cell to code\n",
    "- `x`: Cut cell\n",
    "- `c`: Copy cell\n",
    "- `v`: Paste cell\n",
    "- `Shift + m`: Merge selected cells\n",
    "- `Shift + Arrow Up/Down`: Select multiple cells\n",
    "- `Ctrl + Shift + -`: Split cell at cursor\n",
    "\n",
    "Other remarks:\n",
    "- Remember to set the kernel to the environment in the project\n",
    "- Be aware of strange results if you run cells out of order"
   ]
  },
  {
   "cell_type": "markdown",
   "metadata": {},
   "source": [
    "## Manual exploration of data"
   ]
  },
  {
   "cell_type": "code",
   "execution_count": 1,
   "metadata": {},
   "outputs": [
    {
     "name": "stderr",
     "output_type": "stream",
     "text": [
      "C:\\Users\\TFH\\AppData\\Local\\Temp\\ipykernel_37348\\2949626406.py:4: DtypeWarning: Columns (26) have mixed types. Specify dtype option on import or set low_memory=False.\n",
      "  df = pd.read_csv(FILEPATH)\n"
     ]
    },
    {
     "data": {
      "application/vnd.microsoft.datawrangler.viewer.v0+json": {
       "columns": [
        {
         "name": "index",
         "rawType": "int64",
         "type": "integer"
        },
        {
         "name": "ID",
         "rawType": "int64",
         "type": "integer"
        },
        {
         "name": "test_type",
         "rawType": "object",
         "type": "string"
        },
        {
         "name": "basin_valley",
         "rawType": "object",
         "type": "string"
        },
        {
         "name": "Depth (m)",
         "rawType": "float64",
         "type": "float"
        },
        {
         "name": "qc (MPa)",
         "rawType": "float64",
         "type": "float"
        },
        {
         "name": "fs (kPa)",
         "rawType": "float64",
         "type": "float"
        },
        {
         "name": "u2 (kPa)",
         "rawType": "float64",
         "type": "float"
        },
        {
         "name": "Vs (m/s)",
         "rawType": "float64",
         "type": "float"
        },
        {
         "name": "qt (MPa)",
         "rawType": "float64",
         "type": "float"
        },
        {
         "name": "Rf (%)",
         "rawType": "float64",
         "type": "float"
        },
        {
         "name": "γ (kN/m³)",
         "rawType": "float64",
         "type": "float"
        },
        {
         "name": "σ,v (kPa)",
         "rawType": "float64",
         "type": "float"
        },
        {
         "name": "u0 (kPa)",
         "rawType": "float64",
         "type": "float"
        },
        {
         "name": "σ',v (kPa)",
         "rawType": "float64",
         "type": "float"
        },
        {
         "name": "Qt (-)",
         "rawType": "float64",
         "type": "float"
        },
        {
         "name": "Qtn (-)",
         "rawType": "float64",
         "type": "float"
        },
        {
         "name": "Fr (%)",
         "rawType": "float64",
         "type": "float"
        },
        {
         "name": "Bq (-)",
         "rawType": "float64",
         "type": "float"
        },
        {
         "name": "U2 (-)",
         "rawType": "float64",
         "type": "float"
        },
        {
         "name": "SBT (-)",
         "rawType": "float64",
         "type": "float"
        },
        {
         "name": "SBTn (-)",
         "rawType": "float64",
         "type": "float"
        },
        {
         "name": "Mod. SBTn (-)",
         "rawType": "float64",
         "type": "float"
        },
        {
         "name": "n",
         "rawType": "float64",
         "type": "float"
        },
        {
         "name": "Ic (-)",
         "rawType": "float64",
         "type": "float"
        },
        {
         "name": "Ic SBT (-)",
         "rawType": "float64",
         "type": "float"
        },
        {
         "name": "Ib (-)",
         "rawType": "float64",
         "type": "float"
        },
        {
         "name": "EN_ISO_14688_classes",
         "rawType": "object",
         "type": "unknown"
        },
        {
         "name": "Oberhollenzer_classes",
         "rawType": "float64",
         "type": "float"
        }
       ],
       "ref": "a954726b-6eb8-4ccf-be79-26c93b2e04f4",
       "rows": [
        [
         "0",
         "0",
         "CPT",
         "Zell basin",
         "0.02",
         "1.15",
         "1.0",
         null,
         null,
         "1.77",
         "0.06",
         "19.0",
         "0.38",
         "0.2",
         "0.18",
         "9609.83",
         "8.04",
         "0.06",
         null,
         null,
         "0.0",
         "0.0",
         "0.0",
         "-0.12",
         "2.56",
         "2.23",
         "25.61",
         null,
         null
        ],
        [
         "1",
         "0",
         "CPT",
         "Zell basin",
         "0.04",
         "2.85",
         "1.0",
         null,
         null,
         "2.99",
         "0.03",
         "19.0",
         "0.76",
         "0.39",
         "0.37",
         "8140.84",
         "185.53",
         "0.03",
         null,
         null,
         "0.0",
         "0.0",
         "0.0",
         "0.33",
         "1.23",
         "2.02",
         "256.6",
         null,
         null
        ],
        [
         "2",
         "0",
         "CPT",
         "Zell basin",
         "0.06",
         "4.8",
         "1.0",
         null,
         null,
         "4.76",
         "0.06",
         "19.0",
         "1.14",
         "0.59",
         "0.55",
         "8627.48",
         "205.79",
         "0.06",
         null,
         null,
         "0.0",
         "0.0",
         "0.0",
         "0.28",
         "1.16",
         "1.8",
         "264.66",
         null,
         null
        ],
        [
         "3",
         "0",
         "CPT",
         "Zell basin",
         "0.08",
         "6.4",
         "6.0",
         null,
         null,
         "6.12",
         "0.07",
         "19.0",
         "1.52",
         "0.78",
         "0.74",
         "8326.73",
         "226.79",
         "0.07",
         null,
         null,
         "0.0",
         "0.0",
         "0.0",
         "0.27",
         "1.12",
         "1.69",
         "275.17",
         null,
         null
        ],
        [
         "4",
         "0",
         "CPT",
         "Zell basin",
         "0.1",
         "6.9",
         "6.0",
         null,
         null,
         "6.91",
         "0.1",
         "19.0",
         "1.9",
         "0.98",
         "0.92",
         "7511.53",
         "239.52",
         "0.1",
         null,
         null,
         "0.0",
         "0.0",
         "0.0",
         "0.27",
         "1.11",
         "1.65",
         "267.92",
         null,
         null
        ]
       ],
       "shape": {
        "columns": 28,
        "rows": 5
       }
      },
      "text/html": [
       "<div>\n",
       "<style scoped>\n",
       "    .dataframe tbody tr th:only-of-type {\n",
       "        vertical-align: middle;\n",
       "    }\n",
       "\n",
       "    .dataframe tbody tr th {\n",
       "        vertical-align: top;\n",
       "    }\n",
       "\n",
       "    .dataframe thead th {\n",
       "        text-align: right;\n",
       "    }\n",
       "</style>\n",
       "<table border=\"1\" class=\"dataframe\">\n",
       "  <thead>\n",
       "    <tr style=\"text-align: right;\">\n",
       "      <th></th>\n",
       "      <th>ID</th>\n",
       "      <th>test_type</th>\n",
       "      <th>basin_valley</th>\n",
       "      <th>Depth (m)</th>\n",
       "      <th>qc (MPa)</th>\n",
       "      <th>fs (kPa)</th>\n",
       "      <th>u2 (kPa)</th>\n",
       "      <th>Vs (m/s)</th>\n",
       "      <th>qt (MPa)</th>\n",
       "      <th>Rf (%)</th>\n",
       "      <th>...</th>\n",
       "      <th>U2 (-)</th>\n",
       "      <th>SBT (-)</th>\n",
       "      <th>SBTn (-)</th>\n",
       "      <th>Mod. SBTn (-)</th>\n",
       "      <th>n</th>\n",
       "      <th>Ic (-)</th>\n",
       "      <th>Ic SBT (-)</th>\n",
       "      <th>Ib (-)</th>\n",
       "      <th>EN_ISO_14688_classes</th>\n",
       "      <th>Oberhollenzer_classes</th>\n",
       "    </tr>\n",
       "  </thead>\n",
       "  <tbody>\n",
       "    <tr>\n",
       "      <th>0</th>\n",
       "      <td>0</td>\n",
       "      <td>CPT</td>\n",
       "      <td>Zell basin</td>\n",
       "      <td>0.02</td>\n",
       "      <td>1.15</td>\n",
       "      <td>1.0</td>\n",
       "      <td>NaN</td>\n",
       "      <td>NaN</td>\n",
       "      <td>1.77</td>\n",
       "      <td>0.06</td>\n",
       "      <td>...</td>\n",
       "      <td>NaN</td>\n",
       "      <td>0.0</td>\n",
       "      <td>0.0</td>\n",
       "      <td>0.0</td>\n",
       "      <td>-0.12</td>\n",
       "      <td>2.56</td>\n",
       "      <td>2.23</td>\n",
       "      <td>25.61</td>\n",
       "      <td>NaN</td>\n",
       "      <td>NaN</td>\n",
       "    </tr>\n",
       "    <tr>\n",
       "      <th>1</th>\n",
       "      <td>0</td>\n",
       "      <td>CPT</td>\n",
       "      <td>Zell basin</td>\n",
       "      <td>0.04</td>\n",
       "      <td>2.85</td>\n",
       "      <td>1.0</td>\n",
       "      <td>NaN</td>\n",
       "      <td>NaN</td>\n",
       "      <td>2.99</td>\n",
       "      <td>0.03</td>\n",
       "      <td>...</td>\n",
       "      <td>NaN</td>\n",
       "      <td>0.0</td>\n",
       "      <td>0.0</td>\n",
       "      <td>0.0</td>\n",
       "      <td>0.33</td>\n",
       "      <td>1.23</td>\n",
       "      <td>2.02</td>\n",
       "      <td>256.60</td>\n",
       "      <td>NaN</td>\n",
       "      <td>NaN</td>\n",
       "    </tr>\n",
       "    <tr>\n",
       "      <th>2</th>\n",
       "      <td>0</td>\n",
       "      <td>CPT</td>\n",
       "      <td>Zell basin</td>\n",
       "      <td>0.06</td>\n",
       "      <td>4.80</td>\n",
       "      <td>1.0</td>\n",
       "      <td>NaN</td>\n",
       "      <td>NaN</td>\n",
       "      <td>4.76</td>\n",
       "      <td>0.06</td>\n",
       "      <td>...</td>\n",
       "      <td>NaN</td>\n",
       "      <td>0.0</td>\n",
       "      <td>0.0</td>\n",
       "      <td>0.0</td>\n",
       "      <td>0.28</td>\n",
       "      <td>1.16</td>\n",
       "      <td>1.80</td>\n",
       "      <td>264.66</td>\n",
       "      <td>NaN</td>\n",
       "      <td>NaN</td>\n",
       "    </tr>\n",
       "    <tr>\n",
       "      <th>3</th>\n",
       "      <td>0</td>\n",
       "      <td>CPT</td>\n",
       "      <td>Zell basin</td>\n",
       "      <td>0.08</td>\n",
       "      <td>6.40</td>\n",
       "      <td>6.0</td>\n",
       "      <td>NaN</td>\n",
       "      <td>NaN</td>\n",
       "      <td>6.12</td>\n",
       "      <td>0.07</td>\n",
       "      <td>...</td>\n",
       "      <td>NaN</td>\n",
       "      <td>0.0</td>\n",
       "      <td>0.0</td>\n",
       "      <td>0.0</td>\n",
       "      <td>0.27</td>\n",
       "      <td>1.12</td>\n",
       "      <td>1.69</td>\n",
       "      <td>275.17</td>\n",
       "      <td>NaN</td>\n",
       "      <td>NaN</td>\n",
       "    </tr>\n",
       "    <tr>\n",
       "      <th>4</th>\n",
       "      <td>0</td>\n",
       "      <td>CPT</td>\n",
       "      <td>Zell basin</td>\n",
       "      <td>0.10</td>\n",
       "      <td>6.90</td>\n",
       "      <td>6.0</td>\n",
       "      <td>NaN</td>\n",
       "      <td>NaN</td>\n",
       "      <td>6.91</td>\n",
       "      <td>0.10</td>\n",
       "      <td>...</td>\n",
       "      <td>NaN</td>\n",
       "      <td>0.0</td>\n",
       "      <td>0.0</td>\n",
       "      <td>0.0</td>\n",
       "      <td>0.27</td>\n",
       "      <td>1.11</td>\n",
       "      <td>1.65</td>\n",
       "      <td>267.92</td>\n",
       "      <td>NaN</td>\n",
       "      <td>NaN</td>\n",
       "    </tr>\n",
       "  </tbody>\n",
       "</table>\n",
       "<p>5 rows × 28 columns</p>\n",
       "</div>"
      ],
      "text/plain": [
       "   ID test_type basin_valley  Depth (m)  qc (MPa)  fs (kPa)  u2 (kPa)  \\\n",
       "0   0       CPT   Zell basin       0.02      1.15       1.0       NaN   \n",
       "1   0       CPT   Zell basin       0.04      2.85       1.0       NaN   \n",
       "2   0       CPT   Zell basin       0.06      4.80       1.0       NaN   \n",
       "3   0       CPT   Zell basin       0.08      6.40       6.0       NaN   \n",
       "4   0       CPT   Zell basin       0.10      6.90       6.0       NaN   \n",
       "\n",
       "   Vs (m/s)  qt (MPa)  Rf (%)  ...  U2 (-)  SBT (-)  SBTn (-)  Mod. SBTn (-)  \\\n",
       "0       NaN      1.77    0.06  ...     NaN      0.0       0.0            0.0   \n",
       "1       NaN      2.99    0.03  ...     NaN      0.0       0.0            0.0   \n",
       "2       NaN      4.76    0.06  ...     NaN      0.0       0.0            0.0   \n",
       "3       NaN      6.12    0.07  ...     NaN      0.0       0.0            0.0   \n",
       "4       NaN      6.91    0.10  ...     NaN      0.0       0.0            0.0   \n",
       "\n",
       "      n  Ic (-)  Ic SBT (-)  Ib (-)  EN_ISO_14688_classes  \\\n",
       "0 -0.12    2.56        2.23   25.61                   NaN   \n",
       "1  0.33    1.23        2.02  256.60                   NaN   \n",
       "2  0.28    1.16        1.80  264.66                   NaN   \n",
       "3  0.27    1.12        1.69  275.17                   NaN   \n",
       "4  0.27    1.11        1.65  267.92                   NaN   \n",
       "\n",
       "   Oberhollenzer_classes  \n",
       "0                    NaN  \n",
       "1                    NaN  \n",
       "2                    NaN  \n",
       "3                    NaN  \n",
       "4                    NaN  \n",
       "\n",
       "[5 rows x 28 columns]"
      ]
     },
     "execution_count": 1,
     "metadata": {},
     "output_type": "execute_result"
    }
   ],
   "source": [
    "import pandas as pd\n",
    "\n",
    "FILEPATH = \"../Data/raw/CPT_PremstallerGeotechnik_revised.csv\"\n",
    "df = pd.read_csv(FILEPATH)\n",
    "df.head()"
   ]
  },
  {
   "cell_type": "code",
   "execution_count": 2,
   "metadata": {},
   "outputs": [
    {
     "data": {
      "text/plain": [
       "Index(['ID', 'test_type', 'basin_valley', 'Depth (m)', 'qc (MPa)', 'fs (kPa)',\n",
       "       'u2 (kPa)', 'Vs (m/s)', 'qt (MPa)', 'Rf (%)', 'γ (kN/m³)', 'σ,v (kPa)',\n",
       "       'u0 (kPa)', 'σ',v (kPa)', 'Qt (-)', 'Qtn (-)', 'Fr (%)', 'Bq (-)',\n",
       "       'U2 (-)', 'SBT (-)', 'SBTn (-)', 'Mod. SBTn (-)', 'n', 'Ic (-)',\n",
       "       'Ic SBT (-)', 'Ib (-)', 'EN_ISO_14688_classes',\n",
       "       'Oberhollenzer_classes'],\n",
       "      dtype='object')"
      ]
     },
     "execution_count": 2,
     "metadata": {},
     "output_type": "execute_result"
    }
   ],
   "source": [
    "df.columns"
   ]
  },
  {
   "cell_type": "code",
   "execution_count": 3,
   "metadata": {},
   "outputs": [
    {
     "name": "stdout",
     "output_type": "stream",
     "text": [
      "<class 'pandas.core.frame.DataFrame'>\n",
      "RangeIndex: 2516979 entries, 0 to 2516978\n",
      "Data columns (total 28 columns):\n",
      " #   Column                 Dtype  \n",
      "---  ------                 -----  \n",
      " 0   ID                     int64  \n",
      " 1   test_type              object \n",
      " 2   basin_valley           object \n",
      " 3   Depth (m)              float64\n",
      " 4   qc (MPa)               float64\n",
      " 5   fs (kPa)               float64\n",
      " 6   u2 (kPa)               float64\n",
      " 7   Vs (m/s)               float64\n",
      " 8   qt (MPa)               float64\n",
      " 9   Rf (%)                 float64\n",
      " 10  γ (kN/m³)              float64\n",
      " 11  σ,v (kPa)              float64\n",
      " 12  u0 (kPa)               float64\n",
      " 13  σ',v (kPa)             float64\n",
      " 14  Qt (-)                 float64\n",
      " 15  Qtn (-)                float64\n",
      " 16  Fr (%)                 float64\n",
      " 17  Bq (-)                 float64\n",
      " 18  U2 (-)                 float64\n",
      " 19  SBT (-)                float64\n",
      " 20  SBTn (-)               float64\n",
      " 21  Mod. SBTn (-)          float64\n",
      " 22  n                      float64\n",
      " 23  Ic (-)                 float64\n",
      " 24  Ic SBT (-)             float64\n",
      " 25  Ib (-)                 float64\n",
      " 26  EN_ISO_14688_classes   object \n",
      " 27  Oberhollenzer_classes  float64\n",
      "dtypes: float64(24), int64(1), object(3)\n",
      "memory usage: 537.7+ MB\n"
     ]
    }
   ],
   "source": [
    "df.info()"
   ]
  },
  {
   "cell_type": "markdown",
   "metadata": {},
   "source": [
    "Features defined by Rauter and Tschuchnigg (2019). Note: several features are derived feature engineered features.\n",
    "- Derived from other features: 'Rf (%)', 'Qt (-)', 'Qtn (-)', 'Fr (%)'\n",
    "- Calculated: 'γ (kN/m³)', 'σ,v (kPa)',\n",
    "       'u0 (kPa)', 'σ',v (kPa)', 'Depth (m)'\n",
    "- Measured: 'qc (MPa)', 'fs (kPa)'"
   ]
  },
  {
   "cell_type": "code",
   "execution_count": 2,
   "metadata": {},
   "outputs": [
    {
     "data": {
      "application/vnd.microsoft.datawrangler.viewer.v0+json": {
       "columns": [
        {
         "name": "index",
         "rawType": "int64",
         "type": "integer"
        },
        {
         "name": "ID",
         "rawType": "int64",
         "type": "integer"
        },
        {
         "name": "test_type",
         "rawType": "object",
         "type": "string"
        },
        {
         "name": "basin_valley",
         "rawType": "object",
         "type": "string"
        },
        {
         "name": "Depth (m)",
         "rawType": "float64",
         "type": "float"
        },
        {
         "name": "qc (MPa)",
         "rawType": "float64",
         "type": "float"
        },
        {
         "name": "fs (kPa)",
         "rawType": "float64",
         "type": "float"
        },
        {
         "name": "Rf (%)",
         "rawType": "float64",
         "type": "float"
        },
        {
         "name": "σ,v (kPa)",
         "rawType": "float64",
         "type": "float"
        },
        {
         "name": "u0 (kPa)",
         "rawType": "float64",
         "type": "float"
        },
        {
         "name": "σ',v (kPa)",
         "rawType": "float64",
         "type": "float"
        },
        {
         "name": "Qtn (-)",
         "rawType": "float64",
         "type": "float"
        },
        {
         "name": "Fr (%)",
         "rawType": "float64",
         "type": "float"
        },
        {
         "name": "Oberhollenzer_classes",
         "rawType": "float64",
         "type": "float"
        }
       ],
       "ref": "447ab1b8-65d9-4286-8c3a-beb3a57127b7",
       "rows": [
        [
         "0",
         "0",
         "CPT",
         "Zell basin",
         "0.02",
         "1.15",
         "1.0",
         "0.06",
         "0.38",
         "0.2",
         "0.18",
         "8.04",
         "0.06",
         null
        ],
        [
         "1",
         "0",
         "CPT",
         "Zell basin",
         "0.04",
         "2.85",
         "1.0",
         "0.03",
         "0.76",
         "0.39",
         "0.37",
         "185.53",
         "0.03",
         null
        ],
        [
         "2",
         "0",
         "CPT",
         "Zell basin",
         "0.06",
         "4.8",
         "1.0",
         "0.06",
         "1.14",
         "0.59",
         "0.55",
         "205.79",
         "0.06",
         null
        ],
        [
         "3",
         "0",
         "CPT",
         "Zell basin",
         "0.08",
         "6.4",
         "6.0",
         "0.07",
         "1.52",
         "0.78",
         "0.74",
         "226.79",
         "0.07",
         null
        ],
        [
         "4",
         "0",
         "CPT",
         "Zell basin",
         "0.1",
         "6.9",
         "6.0",
         "0.1",
         "1.9",
         "0.98",
         "0.92",
         "239.52",
         "0.1",
         null
        ]
       ],
       "shape": {
        "columns": 13,
        "rows": 5
       }
      },
      "text/html": [
       "<div>\n",
       "<style scoped>\n",
       "    .dataframe tbody tr th:only-of-type {\n",
       "        vertical-align: middle;\n",
       "    }\n",
       "\n",
       "    .dataframe tbody tr th {\n",
       "        vertical-align: top;\n",
       "    }\n",
       "\n",
       "    .dataframe thead th {\n",
       "        text-align: right;\n",
       "    }\n",
       "</style>\n",
       "<table border=\"1\" class=\"dataframe\">\n",
       "  <thead>\n",
       "    <tr style=\"text-align: right;\">\n",
       "      <th></th>\n",
       "      <th>ID</th>\n",
       "      <th>test_type</th>\n",
       "      <th>basin_valley</th>\n",
       "      <th>Depth (m)</th>\n",
       "      <th>qc (MPa)</th>\n",
       "      <th>fs (kPa)</th>\n",
       "      <th>Rf (%)</th>\n",
       "      <th>σ,v (kPa)</th>\n",
       "      <th>u0 (kPa)</th>\n",
       "      <th>σ',v (kPa)</th>\n",
       "      <th>Qtn (-)</th>\n",
       "      <th>Fr (%)</th>\n",
       "      <th>Oberhollenzer_classes</th>\n",
       "    </tr>\n",
       "  </thead>\n",
       "  <tbody>\n",
       "    <tr>\n",
       "      <th>0</th>\n",
       "      <td>0</td>\n",
       "      <td>CPT</td>\n",
       "      <td>Zell basin</td>\n",
       "      <td>0.02</td>\n",
       "      <td>1.15</td>\n",
       "      <td>1.0</td>\n",
       "      <td>0.06</td>\n",
       "      <td>0.38</td>\n",
       "      <td>0.20</td>\n",
       "      <td>0.18</td>\n",
       "      <td>8.04</td>\n",
       "      <td>0.06</td>\n",
       "      <td>NaN</td>\n",
       "    </tr>\n",
       "    <tr>\n",
       "      <th>1</th>\n",
       "      <td>0</td>\n",
       "      <td>CPT</td>\n",
       "      <td>Zell basin</td>\n",
       "      <td>0.04</td>\n",
       "      <td>2.85</td>\n",
       "      <td>1.0</td>\n",
       "      <td>0.03</td>\n",
       "      <td>0.76</td>\n",
       "      <td>0.39</td>\n",
       "      <td>0.37</td>\n",
       "      <td>185.53</td>\n",
       "      <td>0.03</td>\n",
       "      <td>NaN</td>\n",
       "    </tr>\n",
       "    <tr>\n",
       "      <th>2</th>\n",
       "      <td>0</td>\n",
       "      <td>CPT</td>\n",
       "      <td>Zell basin</td>\n",
       "      <td>0.06</td>\n",
       "      <td>4.80</td>\n",
       "      <td>1.0</td>\n",
       "      <td>0.06</td>\n",
       "      <td>1.14</td>\n",
       "      <td>0.59</td>\n",
       "      <td>0.55</td>\n",
       "      <td>205.79</td>\n",
       "      <td>0.06</td>\n",
       "      <td>NaN</td>\n",
       "    </tr>\n",
       "    <tr>\n",
       "      <th>3</th>\n",
       "      <td>0</td>\n",
       "      <td>CPT</td>\n",
       "      <td>Zell basin</td>\n",
       "      <td>0.08</td>\n",
       "      <td>6.40</td>\n",
       "      <td>6.0</td>\n",
       "      <td>0.07</td>\n",
       "      <td>1.52</td>\n",
       "      <td>0.78</td>\n",
       "      <td>0.74</td>\n",
       "      <td>226.79</td>\n",
       "      <td>0.07</td>\n",
       "      <td>NaN</td>\n",
       "    </tr>\n",
       "    <tr>\n",
       "      <th>4</th>\n",
       "      <td>0</td>\n",
       "      <td>CPT</td>\n",
       "      <td>Zell basin</td>\n",
       "      <td>0.10</td>\n",
       "      <td>6.90</td>\n",
       "      <td>6.0</td>\n",
       "      <td>0.10</td>\n",
       "      <td>1.90</td>\n",
       "      <td>0.98</td>\n",
       "      <td>0.92</td>\n",
       "      <td>239.52</td>\n",
       "      <td>0.10</td>\n",
       "      <td>NaN</td>\n",
       "    </tr>\n",
       "  </tbody>\n",
       "</table>\n",
       "</div>"
      ],
      "text/plain": [
       "   ID test_type basin_valley  Depth (m)  qc (MPa)  fs (kPa)  Rf (%)  \\\n",
       "0   0       CPT   Zell basin       0.02      1.15       1.0    0.06   \n",
       "1   0       CPT   Zell basin       0.04      2.85       1.0    0.03   \n",
       "2   0       CPT   Zell basin       0.06      4.80       1.0    0.06   \n",
       "3   0       CPT   Zell basin       0.08      6.40       6.0    0.07   \n",
       "4   0       CPT   Zell basin       0.10      6.90       6.0    0.10   \n",
       "\n",
       "   σ,v (kPa)  u0 (kPa)  σ',v (kPa)  Qtn (-)  Fr (%)  Oberhollenzer_classes  \n",
       "0       0.38      0.20        0.18     8.04    0.06                    NaN  \n",
       "1       0.76      0.39        0.37   185.53    0.03                    NaN  \n",
       "2       1.14      0.59        0.55   205.79    0.06                    NaN  \n",
       "3       1.52      0.78        0.74   226.79    0.07                    NaN  \n",
       "4       1.90      0.98        0.92   239.52    0.10                    NaN  "
      ]
     },
     "execution_count": 2,
     "metadata": {},
     "output_type": "execute_result"
    }
   ],
   "source": [
    "FEATURES = [\n",
    "    \"Depth (m)\",\n",
    "    \"qc (MPa)\",\n",
    "    \"fs (kPa)\",\n",
    "    \"Rf (%)\",\n",
    "    \"σ,v (kPa)\",\n",
    "    \"u0 (kPa)\",\n",
    "    \"σ',v (kPa)\",\n",
    "    \"Qtn (-)\",\n",
    "    \"Fr (%)\",\n",
    "]\n",
    "SITE_INFO = [\"ID\", \"test_type\", \"basin_valley\"]\n",
    "LABELS_O = [\"Oberhollenzer_classes\"]\n",
    "df = df.loc[:, SITE_INFO + FEATURES + LABELS_O]\n",
    "df.head()"
   ]
  },
  {
   "cell_type": "code",
   "execution_count": 5,
   "metadata": {},
   "outputs": [
    {
     "data": {
      "application/vnd.microsoft.datawrangler.viewer.v0+json": {
       "columns": [
        {
         "name": "index",
         "rawType": "object",
         "type": "string"
        },
        {
         "name": "0",
         "rawType": "int64",
         "type": "integer"
        }
       ],
       "ref": "b8555567-03b0-482e-aca9-9dfc4a1965e9",
       "rows": [
        [
         "ID",
         "0"
        ],
        [
         "test_type",
         "0"
        ],
        [
         "basin_valley",
         "0"
        ],
        [
         "Depth (m)",
         "0"
        ],
        [
         "qc (MPa)",
         "817"
        ],
        [
         "fs (kPa)",
         "1533"
        ],
        [
         "Rf (%)",
         "1316"
        ],
        [
         "σ,v (kPa)",
         "127"
        ],
        [
         "u0 (kPa)",
         "127"
        ],
        [
         "σ',v (kPa)",
         "127"
        ],
        [
         "Qtn (-)",
         "214"
        ],
        [
         "Fr (%)",
         "2704"
        ],
        [
         "Oberhollenzer_classes",
         "1636019"
        ]
       ],
       "shape": {
        "columns": 1,
        "rows": 13
       }
      },
      "text/plain": [
       "ID                             0\n",
       "test_type                      0\n",
       "basin_valley                   0\n",
       "Depth (m)                      0\n",
       "qc (MPa)                     817\n",
       "fs (kPa)                    1533\n",
       "Rf (%)                      1316\n",
       "σ,v (kPa)                    127\n",
       "u0 (kPa)                     127\n",
       "σ',v (kPa)                   127\n",
       "Qtn (-)                      214\n",
       "Fr (%)                      2704\n",
       "Oberhollenzer_classes    1636019\n",
       "dtype: int64"
      ]
     },
     "execution_count": 5,
     "metadata": {},
     "output_type": "execute_result"
    }
   ],
   "source": [
    "df.isnull().sum()"
   ]
  },
  {
   "cell_type": "code",
   "execution_count": 6,
   "metadata": {},
   "outputs": [
    {
     "data": {
      "application/vnd.microsoft.datawrangler.viewer.v0+json": {
       "columns": [
        {
         "name": "index",
         "rawType": "int64",
         "type": "integer"
        },
        {
         "name": "ID",
         "rawType": "int64",
         "type": "integer"
        },
        {
         "name": "test_type",
         "rawType": "object",
         "type": "string"
        },
        {
         "name": "basin_valley",
         "rawType": "object",
         "type": "string"
        },
        {
         "name": "Depth (m)",
         "rawType": "float64",
         "type": "float"
        },
        {
         "name": "qc (MPa)",
         "rawType": "float64",
         "type": "float"
        },
        {
         "name": "fs (kPa)",
         "rawType": "float64",
         "type": "float"
        },
        {
         "name": "Rf (%)",
         "rawType": "float64",
         "type": "float"
        },
        {
         "name": "σ,v (kPa)",
         "rawType": "float64",
         "type": "float"
        },
        {
         "name": "u0 (kPa)",
         "rawType": "float64",
         "type": "float"
        },
        {
         "name": "σ',v (kPa)",
         "rawType": "float64",
         "type": "float"
        },
        {
         "name": "Qtn (-)",
         "rawType": "float64",
         "type": "float"
        },
        {
         "name": "Fr (%)",
         "rawType": "float64",
         "type": "float"
        },
        {
         "name": "Oberhollenzer_classes",
         "rawType": "float64",
         "type": "float"
        }
       ],
       "ref": "282b5073-c1a7-403c-810e-d668e4460538",
       "rows": [
        [
         "1486510",
         "849",
         "CPT",
         "Zell basin",
         "0.01",
         "0.0",
         "0.0",
         "0.0",
         "0.19",
         "0.1",
         "0.09",
         "-27.09",
         "0.0",
         "4.0"
        ],
        [
         "1486511",
         "849",
         "CPT",
         "Zell basin",
         "0.02",
         "0.0",
         "0.0",
         "0.0",
         "0.38",
         "0.2",
         "0.18",
         "-14.58",
         "0.0",
         "4.0"
        ],
        [
         "1486512",
         "849",
         "CPT",
         "Zell basin",
         "0.03",
         "0.0",
         "0.0",
         "0.0",
         "0.57",
         "0.29",
         "0.28",
         "-10.41",
         "0.0",
         "4.0"
        ],
        [
         "1486513",
         "849",
         "CPT",
         "Zell basin",
         "0.04",
         "0.0",
         "0.0",
         "0.0",
         "0.76",
         "0.39",
         "0.37",
         "-8.32",
         "0.0",
         "4.0"
        ],
        [
         "1486514",
         "849",
         "CPT",
         "Zell basin",
         "0.05",
         "0.0",
         "0.0",
         "0.0",
         "0.95",
         "0.49",
         "0.46",
         "-7.07",
         "0.0",
         "4.0"
        ]
       ],
       "shape": {
        "columns": 13,
        "rows": 5
       }
      },
      "text/html": [
       "<div>\n",
       "<style scoped>\n",
       "    .dataframe tbody tr th:only-of-type {\n",
       "        vertical-align: middle;\n",
       "    }\n",
       "\n",
       "    .dataframe tbody tr th {\n",
       "        vertical-align: top;\n",
       "    }\n",
       "\n",
       "    .dataframe thead th {\n",
       "        text-align: right;\n",
       "    }\n",
       "</style>\n",
       "<table border=\"1\" class=\"dataframe\">\n",
       "  <thead>\n",
       "    <tr style=\"text-align: right;\">\n",
       "      <th></th>\n",
       "      <th>ID</th>\n",
       "      <th>test_type</th>\n",
       "      <th>basin_valley</th>\n",
       "      <th>Depth (m)</th>\n",
       "      <th>qc (MPa)</th>\n",
       "      <th>fs (kPa)</th>\n",
       "      <th>Rf (%)</th>\n",
       "      <th>σ,v (kPa)</th>\n",
       "      <th>u0 (kPa)</th>\n",
       "      <th>σ',v (kPa)</th>\n",
       "      <th>Qtn (-)</th>\n",
       "      <th>Fr (%)</th>\n",
       "      <th>Oberhollenzer_classes</th>\n",
       "    </tr>\n",
       "  </thead>\n",
       "  <tbody>\n",
       "    <tr>\n",
       "      <th>1486510</th>\n",
       "      <td>849</td>\n",
       "      <td>CPT</td>\n",
       "      <td>Zell basin</td>\n",
       "      <td>0.01</td>\n",
       "      <td>0.0</td>\n",
       "      <td>0.0</td>\n",
       "      <td>0.0</td>\n",
       "      <td>0.19</td>\n",
       "      <td>0.10</td>\n",
       "      <td>0.09</td>\n",
       "      <td>-27.09</td>\n",
       "      <td>0.0</td>\n",
       "      <td>4.0</td>\n",
       "    </tr>\n",
       "    <tr>\n",
       "      <th>1486511</th>\n",
       "      <td>849</td>\n",
       "      <td>CPT</td>\n",
       "      <td>Zell basin</td>\n",
       "      <td>0.02</td>\n",
       "      <td>0.0</td>\n",
       "      <td>0.0</td>\n",
       "      <td>0.0</td>\n",
       "      <td>0.38</td>\n",
       "      <td>0.20</td>\n",
       "      <td>0.18</td>\n",
       "      <td>-14.58</td>\n",
       "      <td>0.0</td>\n",
       "      <td>4.0</td>\n",
       "    </tr>\n",
       "    <tr>\n",
       "      <th>1486512</th>\n",
       "      <td>849</td>\n",
       "      <td>CPT</td>\n",
       "      <td>Zell basin</td>\n",
       "      <td>0.03</td>\n",
       "      <td>0.0</td>\n",
       "      <td>0.0</td>\n",
       "      <td>0.0</td>\n",
       "      <td>0.57</td>\n",
       "      <td>0.29</td>\n",
       "      <td>0.28</td>\n",
       "      <td>-10.41</td>\n",
       "      <td>0.0</td>\n",
       "      <td>4.0</td>\n",
       "    </tr>\n",
       "    <tr>\n",
       "      <th>1486513</th>\n",
       "      <td>849</td>\n",
       "      <td>CPT</td>\n",
       "      <td>Zell basin</td>\n",
       "      <td>0.04</td>\n",
       "      <td>0.0</td>\n",
       "      <td>0.0</td>\n",
       "      <td>0.0</td>\n",
       "      <td>0.76</td>\n",
       "      <td>0.39</td>\n",
       "      <td>0.37</td>\n",
       "      <td>-8.32</td>\n",
       "      <td>0.0</td>\n",
       "      <td>4.0</td>\n",
       "    </tr>\n",
       "    <tr>\n",
       "      <th>1486514</th>\n",
       "      <td>849</td>\n",
       "      <td>CPT</td>\n",
       "      <td>Zell basin</td>\n",
       "      <td>0.05</td>\n",
       "      <td>0.0</td>\n",
       "      <td>0.0</td>\n",
       "      <td>0.0</td>\n",
       "      <td>0.95</td>\n",
       "      <td>0.49</td>\n",
       "      <td>0.46</td>\n",
       "      <td>-7.07</td>\n",
       "      <td>0.0</td>\n",
       "      <td>4.0</td>\n",
       "    </tr>\n",
       "  </tbody>\n",
       "</table>\n",
       "</div>"
      ],
      "text/plain": [
       "          ID test_type basin_valley  Depth (m)  qc (MPa)  fs (kPa)  Rf (%)  \\\n",
       "1486510  849       CPT   Zell basin       0.01       0.0       0.0     0.0   \n",
       "1486511  849       CPT   Zell basin       0.02       0.0       0.0     0.0   \n",
       "1486512  849       CPT   Zell basin       0.03       0.0       0.0     0.0   \n",
       "1486513  849       CPT   Zell basin       0.04       0.0       0.0     0.0   \n",
       "1486514  849       CPT   Zell basin       0.05       0.0       0.0     0.0   \n",
       "\n",
       "         σ,v (kPa)  u0 (kPa)  σ',v (kPa)  Qtn (-)  Fr (%)  \\\n",
       "1486510       0.19      0.10        0.09   -27.09     0.0   \n",
       "1486511       0.38      0.20        0.18   -14.58     0.0   \n",
       "1486512       0.57      0.29        0.28   -10.41     0.0   \n",
       "1486513       0.76      0.39        0.37    -8.32     0.0   \n",
       "1486514       0.95      0.49        0.46    -7.07     0.0   \n",
       "\n",
       "         Oberhollenzer_classes  \n",
       "1486510                    4.0  \n",
       "1486511                    4.0  \n",
       "1486512                    4.0  \n",
       "1486513                    4.0  \n",
       "1486514                    4.0  "
      ]
     },
     "execution_count": 6,
     "metadata": {},
     "output_type": "execute_result"
    }
   ],
   "source": [
    "df = df.dropna()\n",
    "df.head()"
   ]
  },
  {
   "cell_type": "code",
   "execution_count": 7,
   "metadata": {},
   "outputs": [
    {
     "data": {
      "text/plain": [
       "(879102, 13)"
      ]
     },
     "execution_count": 7,
     "metadata": {},
     "output_type": "execute_result"
    }
   ],
   "source": [
    "df.shape"
   ]
  },
  {
   "cell_type": "markdown",
   "metadata": {},
   "source": [
    "The balance of the target label"
   ]
  },
  {
   "cell_type": "code",
   "execution_count": 3,
   "metadata": {},
   "outputs": [
    {
     "data": {
      "application/vnd.microsoft.datawrangler.viewer.v0+json": {
       "columns": [
        {
         "name": "Oberhollenzer_classes",
         "rawType": "float64",
         "type": "float"
        },
        {
         "name": "count",
         "rawType": "int64",
         "type": "integer"
        }
       ],
       "ref": "8cac34a0-6395-4854-9d81-7c08a9c871bc",
       "rows": [
        [
         "5.0",
         "208584"
        ],
        [
         "6.0",
         "180495"
        ],
        [
         "7.0",
         "163805"
        ],
        [
         "1.0",
         "99422"
        ],
        [
         "4.0",
         "98888"
        ],
        [
         "0.0",
         "79010"
        ],
        [
         "2.0",
         "43776"
        ],
        [
         "3.0",
         "6980"
        ]
       ],
       "shape": {
        "columns": 1,
        "rows": 8
       }
      },
      "text/plain": [
       "Oberhollenzer_classes\n",
       "5.0    208584\n",
       "6.0    180495\n",
       "7.0    163805\n",
       "1.0     99422\n",
       "4.0     98888\n",
       "0.0     79010\n",
       "2.0     43776\n",
       "3.0      6980\n",
       "Name: count, dtype: int64"
      ]
     },
     "execution_count": 3,
     "metadata": {},
     "output_type": "execute_result"
    }
   ],
   "source": [
    "df[\"Oberhollenzer_classes\"].value_counts()"
   ]
  },
  {
   "cell_type": "code",
   "execution_count": 9,
   "metadata": {},
   "outputs": [
    {
     "data": {
      "application/vnd.microsoft.datawrangler.viewer.v0+json": {
       "columns": [
        {
         "name": "basin_valley",
         "rawType": "object",
         "type": "string"
        },
        {
         "name": "count",
         "rawType": "int64",
         "type": "integer"
        }
       ],
       "ref": "e679c53f-d3cd-4308-b353-497bdef9cd27",
       "rows": [
        [
         "Salzburg basin",
         "444882"
        ],
        [
         "Zell basin",
         "222794"
        ],
        [
         "Flachgau",
         "81818"
        ],
        [
         "Upper Salzach valley",
         "37284"
        ],
        [
         "Saalfelden basin",
         "22479"
        ],
        [
         "Lower Salzach valley",
         "19366"
        ],
        [
         "Gastein valley",
         "12756"
        ],
        [
         "Wildschönau region",
         "10799"
        ],
        [
         "Pinzgau Saalach valley",
         "7839"
        ],
        [
         "Hallein basin",
         "6451"
        ],
        [
         "Enns valley - Radtstadt basin",
         "5038"
        ],
        [
         "Pinzgau (Hinterthal, Dienten)",
         "3309"
        ],
        [
         "Abtenau basin",
         "2077"
        ],
        [
         "Eisenstadt-Sopron basin",
         "1500"
        ],
        [
         "Glemm valley",
         "710"
        ]
       ],
       "shape": {
        "columns": 1,
        "rows": 15
       }
      },
      "text/plain": [
       "basin_valley\n",
       "Salzburg basin                   444882\n",
       "Zell basin                       222794\n",
       "Flachgau                          81818\n",
       "Upper Salzach valley              37284\n",
       "Saalfelden basin                  22479\n",
       "Lower Salzach valley              19366\n",
       "Gastein valley                    12756\n",
       "Wildschönau region                10799\n",
       "Pinzgau Saalach valley             7839\n",
       "Hallein basin                      6451\n",
       "Enns valley - Radtstadt basin      5038\n",
       "Pinzgau (Hinterthal, Dienten)      3309\n",
       "Abtenau basin                      2077\n",
       "Eisenstadt-Sopron basin            1500\n",
       "Glemm valley                        710\n",
       "Name: count, dtype: int64"
      ]
     },
     "execution_count": 9,
     "metadata": {},
     "output_type": "execute_result"
    }
   ],
   "source": [
    "df[\"basin_valley\"].value_counts()"
   ]
  },
  {
   "cell_type": "code",
   "execution_count": 10,
   "metadata": {},
   "outputs": [
    {
     "data": {
      "application/vnd.microsoft.datawrangler.viewer.v0+json": {
       "columns": [
        {
         "name": "index",
         "rawType": "object",
         "type": "string"
        },
        {
         "name": "Depth (m)",
         "rawType": "float64",
         "type": "float"
        },
        {
         "name": "qc (MPa)",
         "rawType": "float64",
         "type": "float"
        },
        {
         "name": "fs (kPa)",
         "rawType": "float64",
         "type": "float"
        },
        {
         "name": "Rf (%)",
         "rawType": "float64",
         "type": "float"
        },
        {
         "name": "σ,v (kPa)",
         "rawType": "float64",
         "type": "float"
        },
        {
         "name": "u0 (kPa)",
         "rawType": "float64",
         "type": "float"
        },
        {
         "name": "σ',v (kPa)",
         "rawType": "float64",
         "type": "float"
        },
        {
         "name": "Qtn (-)",
         "rawType": "float64",
         "type": "float"
        },
        {
         "name": "Fr (%)",
         "rawType": "float64",
         "type": "float"
        }
       ],
       "ref": "ebfb0d9b-54ad-4da7-93d9-cf06d00e93df",
       "rows": [
        [
         "count",
         "879102.0",
         "879102.0",
         "879102.0",
         "879102.0",
         "879102.0",
         "879102.0",
         "879102.0",
         "879102.0",
         "879102.0"
        ],
        [
         "mean",
         "11.473859563509125",
         "5.233151716183106",
         "54.70224316404699",
         "2.5334677204692975",
         "218.00333623402065",
         "105.65424748208973",
         "112.34917901449434",
         "67.49471112567146",
         "3.762246986129028"
        ],
        [
         "std",
         "9.3284603021949",
         "8.38751467250742",
         "71.30674726456267",
         "37.958934984188666",
         "177.24075328206462",
         "91.04147291142942",
         "88.35123795994387",
         "124.02582436079784",
         "87.89883939446192"
        ],
        [
         "min",
         "0.01",
         "-0.2",
         "-99.9",
         "-100.0",
         "0.19",
         "0.0",
         "0.09",
         "-127.57",
         "-100.0"
        ],
        [
         "25%",
         "4.58",
         "0.94",
         "16.0",
         "0.7",
         "87.02",
         "38.36",
         "46.87",
         "5.61",
         "0.75"
        ],
        [
         "50%",
         "9.49",
         "2.14",
         "31.4",
         "1.4",
         "180.31",
         "86.23",
         "94.2",
         "25.02",
         "1.68"
        ],
        [
         "75%",
         "15.86",
         "5.75",
         "64.9",
         "2.58",
         "301.34",
         "147.84",
         "154.97",
         "65.79",
         "3.39"
        ],
        [
         "max",
         "73.84",
         "101.73",
         "1389.6",
         "22000.0",
         "1402.96",
         "724.37",
         "678.59",
         "1001.0",
         "33166.67"
        ]
       ],
       "shape": {
        "columns": 9,
        "rows": 8
       }
      },
      "text/html": [
       "<div>\n",
       "<style scoped>\n",
       "    .dataframe tbody tr th:only-of-type {\n",
       "        vertical-align: middle;\n",
       "    }\n",
       "\n",
       "    .dataframe tbody tr th {\n",
       "        vertical-align: top;\n",
       "    }\n",
       "\n",
       "    .dataframe thead th {\n",
       "        text-align: right;\n",
       "    }\n",
       "</style>\n",
       "<table border=\"1\" class=\"dataframe\">\n",
       "  <thead>\n",
       "    <tr style=\"text-align: right;\">\n",
       "      <th></th>\n",
       "      <th>Depth (m)</th>\n",
       "      <th>qc (MPa)</th>\n",
       "      <th>fs (kPa)</th>\n",
       "      <th>Rf (%)</th>\n",
       "      <th>σ,v (kPa)</th>\n",
       "      <th>u0 (kPa)</th>\n",
       "      <th>σ',v (kPa)</th>\n",
       "      <th>Qtn (-)</th>\n",
       "      <th>Fr (%)</th>\n",
       "    </tr>\n",
       "  </thead>\n",
       "  <tbody>\n",
       "    <tr>\n",
       "      <th>count</th>\n",
       "      <td>879102.00</td>\n",
       "      <td>879102.00</td>\n",
       "      <td>879102.00</td>\n",
       "      <td>879102.00</td>\n",
       "      <td>879102.00</td>\n",
       "      <td>879102.00</td>\n",
       "      <td>879102.00</td>\n",
       "      <td>879102.00</td>\n",
       "      <td>879102.00</td>\n",
       "    </tr>\n",
       "    <tr>\n",
       "      <th>mean</th>\n",
       "      <td>11.47</td>\n",
       "      <td>5.23</td>\n",
       "      <td>54.70</td>\n",
       "      <td>2.53</td>\n",
       "      <td>218.00</td>\n",
       "      <td>105.65</td>\n",
       "      <td>112.35</td>\n",
       "      <td>67.49</td>\n",
       "      <td>3.76</td>\n",
       "    </tr>\n",
       "    <tr>\n",
       "      <th>std</th>\n",
       "      <td>9.33</td>\n",
       "      <td>8.39</td>\n",
       "      <td>71.31</td>\n",
       "      <td>37.96</td>\n",
       "      <td>177.24</td>\n",
       "      <td>91.04</td>\n",
       "      <td>88.35</td>\n",
       "      <td>124.03</td>\n",
       "      <td>87.90</td>\n",
       "    </tr>\n",
       "    <tr>\n",
       "      <th>min</th>\n",
       "      <td>0.01</td>\n",
       "      <td>-0.20</td>\n",
       "      <td>-99.90</td>\n",
       "      <td>-100.00</td>\n",
       "      <td>0.19</td>\n",
       "      <td>0.00</td>\n",
       "      <td>0.09</td>\n",
       "      <td>-127.57</td>\n",
       "      <td>-100.00</td>\n",
       "    </tr>\n",
       "    <tr>\n",
       "      <th>25%</th>\n",
       "      <td>4.58</td>\n",
       "      <td>0.94</td>\n",
       "      <td>16.00</td>\n",
       "      <td>0.70</td>\n",
       "      <td>87.02</td>\n",
       "      <td>38.36</td>\n",
       "      <td>46.87</td>\n",
       "      <td>5.61</td>\n",
       "      <td>0.75</td>\n",
       "    </tr>\n",
       "    <tr>\n",
       "      <th>50%</th>\n",
       "      <td>9.49</td>\n",
       "      <td>2.14</td>\n",
       "      <td>31.40</td>\n",
       "      <td>1.40</td>\n",
       "      <td>180.31</td>\n",
       "      <td>86.23</td>\n",
       "      <td>94.20</td>\n",
       "      <td>25.02</td>\n",
       "      <td>1.68</td>\n",
       "    </tr>\n",
       "    <tr>\n",
       "      <th>75%</th>\n",
       "      <td>15.86</td>\n",
       "      <td>5.75</td>\n",
       "      <td>64.90</td>\n",
       "      <td>2.58</td>\n",
       "      <td>301.34</td>\n",
       "      <td>147.84</td>\n",
       "      <td>154.97</td>\n",
       "      <td>65.79</td>\n",
       "      <td>3.39</td>\n",
       "    </tr>\n",
       "    <tr>\n",
       "      <th>max</th>\n",
       "      <td>73.84</td>\n",
       "      <td>101.73</td>\n",
       "      <td>1389.60</td>\n",
       "      <td>22000.00</td>\n",
       "      <td>1402.96</td>\n",
       "      <td>724.37</td>\n",
       "      <td>678.59</td>\n",
       "      <td>1001.00</td>\n",
       "      <td>33166.67</td>\n",
       "    </tr>\n",
       "  </tbody>\n",
       "</table>\n",
       "</div>"
      ],
      "text/plain": [
       "       Depth (m)  qc (MPa)  fs (kPa)    Rf (%)  σ,v (kPa)  u0 (kPa)  \\\n",
       "count  879102.00 879102.00 879102.00 879102.00  879102.00 879102.00   \n",
       "mean       11.47      5.23     54.70      2.53     218.00    105.65   \n",
       "std         9.33      8.39     71.31     37.96     177.24     91.04   \n",
       "min         0.01     -0.20    -99.90   -100.00       0.19      0.00   \n",
       "25%         4.58      0.94     16.00      0.70      87.02     38.36   \n",
       "50%         9.49      2.14     31.40      1.40     180.31     86.23   \n",
       "75%        15.86      5.75     64.90      2.58     301.34    147.84   \n",
       "max        73.84    101.73   1389.60  22000.00    1402.96    724.37   \n",
       "\n",
       "       σ',v (kPa)   Qtn (-)    Fr (%)  \n",
       "count   879102.00 879102.00 879102.00  \n",
       "mean       112.35     67.49      3.76  \n",
       "std         88.35    124.03     87.90  \n",
       "min          0.09   -127.57   -100.00  \n",
       "25%         46.87      5.61      0.75  \n",
       "50%         94.20     25.02      1.68  \n",
       "75%        154.97     65.79      3.39  \n",
       "max        678.59   1001.00  33166.67  "
      ]
     },
     "execution_count": 10,
     "metadata": {},
     "output_type": "execute_result"
    }
   ],
   "source": [
    "# run describe on the numberical features\n",
    "pd.set_option(\"display.float_format\", \"{:.2f}\".format)\n",
    "numeric_features = df[FEATURES].select_dtypes(include=[\"number\"]).columns\n",
    "df[numeric_features].describe()\n",
    "# pd.reset_option('display.float_format')"
   ]
  },
  {
   "cell_type": "markdown",
   "metadata": {},
   "source": [
    "## Automated EDA"
   ]
  },
  {
   "cell_type": "markdown",
   "metadata": {},
   "source": [
    "ydata-profiling for automated EDA"
   ]
  },
  {
   "cell_type": "code",
   "execution_count": 11,
   "metadata": {},
   "outputs": [
    {
     "data": {
      "application/vnd.microsoft.datawrangler.viewer.v0+json": {
       "columns": [
        {
         "name": "index",
         "rawType": "int64",
         "type": "integer"
        },
        {
         "name": "Depth (m)",
         "rawType": "float64",
         "type": "float"
        },
        {
         "name": "qc (MPa)",
         "rawType": "float64",
         "type": "float"
        },
        {
         "name": "fs (kPa)",
         "rawType": "float64",
         "type": "float"
        },
        {
         "name": "Rf (%)",
         "rawType": "float64",
         "type": "float"
        },
        {
         "name": "σ,v (kPa)",
         "rawType": "float64",
         "type": "float"
        },
        {
         "name": "u0 (kPa)",
         "rawType": "float64",
         "type": "float"
        },
        {
         "name": "σ',v (kPa)",
         "rawType": "float64",
         "type": "float"
        },
        {
         "name": "Qtn (-)",
         "rawType": "float64",
         "type": "float"
        },
        {
         "name": "Fr (%)",
         "rawType": "float64",
         "type": "float"
        },
        {
         "name": "Oberhollenzer_classes",
         "rawType": "float64",
         "type": "float"
        }
       ],
       "ref": "18c9bd06-227f-4046-adc3-abfe1c5f39e2",
       "rows": [
        [
         "1486510",
         "0.01",
         "0.0",
         "0.0",
         "0.0",
         "0.19",
         "0.1",
         "0.09",
         "-27.09",
         "0.0",
         "4.0"
        ],
        [
         "1486511",
         "0.02",
         "0.0",
         "0.0",
         "0.0",
         "0.38",
         "0.2",
         "0.18",
         "-14.58",
         "0.0",
         "4.0"
        ],
        [
         "1486512",
         "0.03",
         "0.0",
         "0.0",
         "0.0",
         "0.57",
         "0.29",
         "0.28",
         "-10.41",
         "0.0",
         "4.0"
        ],
        [
         "1486513",
         "0.04",
         "0.0",
         "0.0",
         "0.0",
         "0.76",
         "0.39",
         "0.37",
         "-8.32",
         "0.0",
         "4.0"
        ],
        [
         "1486514",
         "0.05",
         "0.0",
         "0.0",
         "0.0",
         "0.95",
         "0.49",
         "0.46",
         "-7.07",
         "0.0",
         "4.0"
        ]
       ],
       "shape": {
        "columns": 10,
        "rows": 5
       }
      },
      "text/html": [
       "<div>\n",
       "<style scoped>\n",
       "    .dataframe tbody tr th:only-of-type {\n",
       "        vertical-align: middle;\n",
       "    }\n",
       "\n",
       "    .dataframe tbody tr th {\n",
       "        vertical-align: top;\n",
       "    }\n",
       "\n",
       "    .dataframe thead th {\n",
       "        text-align: right;\n",
       "    }\n",
       "</style>\n",
       "<table border=\"1\" class=\"dataframe\">\n",
       "  <thead>\n",
       "    <tr style=\"text-align: right;\">\n",
       "      <th></th>\n",
       "      <th>Depth (m)</th>\n",
       "      <th>qc (MPa)</th>\n",
       "      <th>fs (kPa)</th>\n",
       "      <th>Rf (%)</th>\n",
       "      <th>σ,v (kPa)</th>\n",
       "      <th>u0 (kPa)</th>\n",
       "      <th>σ',v (kPa)</th>\n",
       "      <th>Qtn (-)</th>\n",
       "      <th>Fr (%)</th>\n",
       "      <th>Oberhollenzer_classes</th>\n",
       "    </tr>\n",
       "  </thead>\n",
       "  <tbody>\n",
       "    <tr>\n",
       "      <th>1486510</th>\n",
       "      <td>0.01</td>\n",
       "      <td>0.00</td>\n",
       "      <td>0.00</td>\n",
       "      <td>0.00</td>\n",
       "      <td>0.19</td>\n",
       "      <td>0.10</td>\n",
       "      <td>0.09</td>\n",
       "      <td>-27.09</td>\n",
       "      <td>0.00</td>\n",
       "      <td>4.00</td>\n",
       "    </tr>\n",
       "    <tr>\n",
       "      <th>1486511</th>\n",
       "      <td>0.02</td>\n",
       "      <td>0.00</td>\n",
       "      <td>0.00</td>\n",
       "      <td>0.00</td>\n",
       "      <td>0.38</td>\n",
       "      <td>0.20</td>\n",
       "      <td>0.18</td>\n",
       "      <td>-14.58</td>\n",
       "      <td>0.00</td>\n",
       "      <td>4.00</td>\n",
       "    </tr>\n",
       "    <tr>\n",
       "      <th>1486512</th>\n",
       "      <td>0.03</td>\n",
       "      <td>0.00</td>\n",
       "      <td>0.00</td>\n",
       "      <td>0.00</td>\n",
       "      <td>0.57</td>\n",
       "      <td>0.29</td>\n",
       "      <td>0.28</td>\n",
       "      <td>-10.41</td>\n",
       "      <td>0.00</td>\n",
       "      <td>4.00</td>\n",
       "    </tr>\n",
       "    <tr>\n",
       "      <th>1486513</th>\n",
       "      <td>0.04</td>\n",
       "      <td>0.00</td>\n",
       "      <td>0.00</td>\n",
       "      <td>0.00</td>\n",
       "      <td>0.76</td>\n",
       "      <td>0.39</td>\n",
       "      <td>0.37</td>\n",
       "      <td>-8.32</td>\n",
       "      <td>0.00</td>\n",
       "      <td>4.00</td>\n",
       "    </tr>\n",
       "    <tr>\n",
       "      <th>1486514</th>\n",
       "      <td>0.05</td>\n",
       "      <td>0.00</td>\n",
       "      <td>0.00</td>\n",
       "      <td>0.00</td>\n",
       "      <td>0.95</td>\n",
       "      <td>0.49</td>\n",
       "      <td>0.46</td>\n",
       "      <td>-7.07</td>\n",
       "      <td>0.00</td>\n",
       "      <td>4.00</td>\n",
       "    </tr>\n",
       "  </tbody>\n",
       "</table>\n",
       "</div>"
      ],
      "text/plain": [
       "         Depth (m)  qc (MPa)  fs (kPa)  Rf (%)  σ,v (kPa)  u0 (kPa)  \\\n",
       "1486510       0.01      0.00      0.00    0.00       0.19      0.10   \n",
       "1486511       0.02      0.00      0.00    0.00       0.38      0.20   \n",
       "1486512       0.03      0.00      0.00    0.00       0.57      0.29   \n",
       "1486513       0.04      0.00      0.00    0.00       0.76      0.39   \n",
       "1486514       0.05      0.00      0.00    0.00       0.95      0.49   \n",
       "\n",
       "         σ',v (kPa)  Qtn (-)  Fr (%)  Oberhollenzer_classes  \n",
       "1486510        0.09   -27.09    0.00                   4.00  \n",
       "1486511        0.18   -14.58    0.00                   4.00  \n",
       "1486512        0.28   -10.41    0.00                   4.00  \n",
       "1486513        0.37    -8.32    0.00                   4.00  \n",
       "1486514        0.46    -7.07    0.00                   4.00  "
      ]
     },
     "execution_count": 11,
     "metadata": {},
     "output_type": "execute_result"
    }
   ],
   "source": [
    "dfy = df.copy()[FEATURES + LABELS_O]\n",
    "dfy.head()"
   ]
  },
  {
   "cell_type": "code",
   "execution_count": 12,
   "metadata": {},
   "outputs": [
    {
     "name": "stdout",
     "output_type": "stream",
     "text": [
      "<class 'pandas.core.frame.DataFrame'>\n",
      "Index: 879102 entries, 1486510 to 2516978\n",
      "Data columns (total 10 columns):\n",
      " #   Column                 Non-Null Count   Dtype  \n",
      "---  ------                 --------------   -----  \n",
      " 0   Depth (m)              879102 non-null  float64\n",
      " 1   qc (MPa)               879102 non-null  float64\n",
      " 2   fs (kPa)               879102 non-null  float64\n",
      " 3   Rf (%)                 879102 non-null  float64\n",
      " 4   σ,v (kPa)              879102 non-null  float64\n",
      " 5   u0 (kPa)               879102 non-null  float64\n",
      " 6   σ',v (kPa)             879102 non-null  float64\n",
      " 7   Qtn (-)                879102 non-null  float64\n",
      " 8   Fr (%)                 879102 non-null  float64\n",
      " 9   Oberhollenzer_classes  879102 non-null  object \n",
      "dtypes: float64(9), object(1)\n",
      "memory usage: 73.8+ MB\n"
     ]
    }
   ],
   "source": [
    "# Change type of labels to strings, so ydata-profiling interprets it as a categorical variable.\n",
    "dfy[\"Oberhollenzer_classes\"] = dfy[\"Oberhollenzer_classes\"].astype(str)\n",
    "dfy.info()"
   ]
  },
  {
   "cell_type": "code",
   "execution_count": 13,
   "metadata": {},
   "outputs": [
    {
     "data": {
      "text/html": [
       "\n",
       "            <div>\n",
       "                <ins><a href=\"https://ydata.ai/register\">Upgrade to ydata-sdk</a></ins>\n",
       "                <p>\n",
       "                    Improve your data and profiling with ydata-sdk, featuring data quality scoring, redundancy detection, outlier identification, text validation, and synthetic data generation.\n",
       "                </p>\n",
       "            </div>\n",
       "            "
      ],
      "text/plain": [
       "<IPython.core.display.HTML object>"
      ]
     },
     "metadata": {},
     "output_type": "display_data"
    },
    {
     "data": {
      "application/vnd.jupyter.widget-view+json": {
       "model_id": "ef3aca9b84664b08872d967e05665993",
       "version_major": 2,
       "version_minor": 0
      },
      "text/plain": [
       "Summarize dataset:   0%|          | 0/5 [00:00<?, ?it/s]"
      ]
     },
     "metadata": {},
     "output_type": "display_data"
    },
    {
     "name": "stderr",
     "output_type": "stream",
     "text": [
      "100%|██████████| 10/10 [00:01<00:00,  7.63it/s]\n"
     ]
    },
    {
     "data": {
      "application/vnd.jupyter.widget-view+json": {
       "model_id": "262102dd9a2b47bf844945d354def85b",
       "version_major": 2,
       "version_minor": 0
      },
      "text/plain": [
       "Generate report structure:   0%|          | 0/1 [00:00<?, ?it/s]"
      ]
     },
     "metadata": {},
     "output_type": "display_data"
    },
    {
     "data": {
      "application/vnd.jupyter.widget-view+json": {
       "model_id": "92a837405a5c4f84b96bed398a56ecf5",
       "version_major": 2,
       "version_minor": 0
      },
      "text/plain": [
       "Render HTML:   0%|          | 0/1 [00:00<?, ?it/s]"
      ]
     },
     "metadata": {},
     "output_type": "display_data"
    },
    {
     "data": {
      "application/vnd.jupyter.widget-view+json": {
       "model_id": "e02d4caa582e4249b93cafd4b89a1f6e",
       "version_major": 2,
       "version_minor": 0
      },
      "text/plain": [
       "Export report to file:   0%|          | 0/1 [00:00<?, ?it/s]"
      ]
     },
     "metadata": {},
     "output_type": "display_data"
    }
   ],
   "source": [
    "from ydata_profiling import ProfileReport\n",
    "\n",
    "profile = ProfileReport(dfy, title=\"Profiling report\")\n",
    "profile.to_file(\"dataset_profiling_cpt.html\")"
   ]
  },
  {
   "cell_type": "markdown",
   "metadata": {},
   "source": [
    "What do you need to check in the dataset?\n",
    "- What distributions do the features have?\n",
    "- Are there any missing values?\n",
    "- Are there any duplicates?\n",
    "- Are there any outliers? Be cautious with this one, as outliers can be valid data points.\n",
    "- Are there any relationships between the features? Some features might be removed if they are highly correlated.\n",
    "- Are there any relationships between the features and the target variable? Only in regression.\n",
    "- Are there any relationships between the features and the target variable that are not linear? Only in regression.\n",
    "- Are the labels balanced?\n"
   ]
  },
  {
   "cell_type": "markdown",
   "metadata": {},
   "source": [
    "Trends in the data\n",
    "- Not normally distributed\n",
    "- Duplicate values\n",
    "- Correlated features\n",
    "- outliers present"
   ]
  },
  {
   "cell_type": "markdown",
   "metadata": {},
   "source": [
    "## Preprocessing"
   ]
  },
  {
   "cell_type": "code",
   "execution_count": 14,
   "metadata": {},
   "outputs": [
    {
     "data": {
      "text/plain": [
       "(879102, 13)"
      ]
     },
     "execution_count": 14,
     "metadata": {},
     "output_type": "execute_result"
    }
   ],
   "source": [
    "df.shape"
   ]
  },
  {
   "cell_type": "markdown",
   "metadata": {},
   "source": [
    "Duplicate values"
   ]
  },
  {
   "cell_type": "code",
   "execution_count": 15,
   "metadata": {},
   "outputs": [
    {
     "data": {
      "text/plain": [
       "(867949, 13)"
      ]
     },
     "execution_count": 15,
     "metadata": {},
     "output_type": "execute_result"
    }
   ],
   "source": [
    "df = df.drop_duplicates(subset=FEATURES)\n",
    "df.shape"
   ]
  },
  {
   "cell_type": "markdown",
   "metadata": {},
   "source": [
    "### Outliers"
   ]
  },
  {
   "cell_type": "markdown",
   "metadata": {},
   "source": [
    "Hardcoded values (values that are not possible in the real world) are removed."
   ]
  },
  {
   "cell_type": "code",
   "execution_count": 16,
   "metadata": {},
   "outputs": [
    {
     "data": {
      "text/plain": [
       "(746814, 13)"
      ]
     },
     "execution_count": 16,
     "metadata": {},
     "output_type": "execute_result"
    }
   ],
   "source": [
    "# hardcoded\n",
    "df = df[df[\"qc (MPa)\"] > 0]\n",
    "df = df[df[\"u0 (kPa)\"] >= 0]\n",
    "df = df[df[\"Qtn (-)\"] > 0]\n",
    "df = df[(df[\"fs (kPa)\"] < 1200) & (df[\"fs (kPa)\"] > 0)]\n",
    "# df = df[(df['Rf (%)'] < 10) & (df['Rf (%)'] > 0)]\n",
    "df = df[df[\"Rf (%)\"] > 0]\n",
    "df = df[(df[\"Fr (%)\"] < 10) & (df[\"Fr (%)\"] > 0)]\n",
    "# skip samples with label 3.0\n",
    "# df = df[df['Oberhollenzer_classes'] != 3.0] # due to low sample size\n",
    "df = df[df[\"Oberhollenzer_classes\"] != 0.0]  # due to low sample size\n",
    "df.shape"
   ]
  },
  {
   "cell_type": "markdown",
   "metadata": {},
   "source": [
    "Univariate outlier detection - we exemplify for one feature"
   ]
  },
  {
   "cell_type": "code",
   "execution_count": 18,
   "metadata": {},
   "outputs": [],
   "source": [
    "%matplotlib inline"
   ]
  },
  {
   "cell_type": "code",
   "execution_count": 19,
   "metadata": {},
   "outputs": [
    {
     "data": {
      "image/png": "[encoded data removed]",
      "text/plain": [
       "<Figure size 640x480 with 1 Axes>"
      ]
     },
     "metadata": {},
     "output_type": "display_data"
    }
   ],
   "source": [
    "import matplotlib.pyplot as plt\n",
    "\n",
    "df[\"Qtn (-)\"].hist(bins=100)\n",
    "plt.show()"
   ]
  },
  {
   "cell_type": "code",
   "execution_count": 20,
   "metadata": {},
   "outputs": [
    {
     "name": "stderr",
     "output_type": "stream",
     "text": [
      "c:\\Users\\TFH\\git_projects\\course-machine-learning-for-geotechnics\\.venv\\Lib\\site-packages\\sklearn\\utils\\deprecation.py:132: FutureWarning: 'force_all_finite' was renamed to 'ensure_all_finite' in 1.6 and will be removed in 1.8.\n",
      "  warnings.warn(\n",
      "c:\\Users\\TFH\\git_projects\\course-machine-learning-for-geotechnics\\.venv\\Lib\\site-packages\\sklearn\\utils\\deprecation.py:132: FutureWarning: 'force_all_finite' was renamed to 'ensure_all_finite' in 1.6 and will be removed in 1.8.\n",
      "  warnings.warn(\n",
      "c:\\Users\\TFH\\git_projects\\course-machine-learning-for-geotechnics\\.venv\\Lib\\site-packages\\sklearn\\utils\\deprecation.py:132: FutureWarning: 'force_all_finite' was renamed to 'ensure_all_finite' in 1.6 and will be removed in 1.8.\n",
      "  warnings.warn(\n"
     ]
    }
   ],
   "source": [
    "# univariate\n",
    "from pyod.models.mad import MAD\n",
    "\n",
    "threshold = 7.0  # Typical value, can be adjusted for sensitivity\n",
    "mad = MAD(threshold=threshold)\n",
    "\n",
    "# Fit the model on the column\n",
    "mad.fit(df[[\"Qtn (-)\"]])\n",
    "\n",
    "# Predict outliers (1 for outlier, 0 for inlier)\n",
    "outliers = mad.predict(df[[\"Qtn (-)\"]])\n",
    "\n",
    "# Filter the DataFrame to exclude outliers\n",
    "df_no_outliers = df[outliers == 0]"
   ]
  },
  {
   "cell_type": "code",
   "execution_count": 21,
   "metadata": {},
   "outputs": [
    {
     "data": {
      "text/plain": [
       "43406"
      ]
     },
     "execution_count": 21,
     "metadata": {},
     "output_type": "execute_result"
    }
   ],
   "source": [
    "sum(outliers)"
   ]
  },
  {
   "cell_type": "code",
   "execution_count": 22,
   "metadata": {},
   "outputs": [
    {
     "data": {
      "text/plain": [
       "<Axes: >"
      ]
     },
     "execution_count": 22,
     "metadata": {},
     "output_type": "execute_result"
    },
    {
     "data": {
      "image/png": "[encoded data removed]",
      "text/plain": [
       "<Figure size 640x480 with 1 Axes>"
      ]
     },
     "metadata": {},
     "output_type": "display_data"
    }
   ],
   "source": [
    "df_no_outliers[\"Qtn (-)\"].hist(bins=100)"
   ]
  },
  {
   "cell_type": "markdown",
   "metadata": {},
   "source": [
    "Multivariate outlier detection"
   ]
  },
  {
   "cell_type": "code",
   "execution_count": 23,
   "metadata": {},
   "outputs": [
    {
     "name": "stdout",
     "output_type": "stream",
     "text": [
      "<class 'pandas.core.frame.DataFrame'>\n",
      "Index: 746814 entries, 1486548 to 2516970\n",
      "Data columns (total 9 columns):\n",
      " #   Column      Non-Null Count   Dtype  \n",
      "---  ------      --------------   -----  \n",
      " 0   Depth (m)   746814 non-null  float64\n",
      " 1   qc (MPa)    746814 non-null  float64\n",
      " 2   fs (kPa)    746814 non-null  float64\n",
      " 3   Rf (%)      746814 non-null  float64\n",
      " 4   σ,v (kPa)   746814 non-null  float64\n",
      " 5   u0 (kPa)    746814 non-null  float64\n",
      " 6   σ',v (kPa)  746814 non-null  float64\n",
      " 7   Qtn (-)     746814 non-null  float64\n",
      " 8   Fr (%)      746814 non-null  float64\n",
      "dtypes: float64(9)\n",
      "memory usage: 57.0 MB\n"
     ]
    }
   ],
   "source": [
    "df[FEATURES].info()"
   ]
  },
  {
   "cell_type": "code",
   "execution_count": 24,
   "metadata": {},
   "outputs": [
    {
     "name": "stderr",
     "output_type": "stream",
     "text": [
      "c:\\Users\\TFH\\git_projects\\course-machine-learning-for-geotechnics\\.venv\\Lib\\site-packages\\sklearn\\utils\\validation.py:2742: UserWarning: X has feature names, but IsolationForest was fitted without feature names\n",
      "  warnings.warn(\n"
     ]
    },
    {
     "name": "stdout",
     "output_type": "stream",
     "text": [
      "Number of outliers with Isolation Forest: 409\n",
      "Percentage of outliers: 0.0005\n",
      "Outlier samples:\n",
      "            ID test_type    basin_valley  Depth (m)  qc (MPa)  fs (kPa)  \\\n",
      "1748255   972      SCPT  Salzburg basin      66.03      3.29    109.50   \n",
      "1748256   972      SCPT  Salzburg basin      66.04      3.29    110.50   \n",
      "1748257   972      SCPT  Salzburg basin      66.05      3.28    114.70   \n",
      "1748258   972      SCPT  Salzburg basin      66.06      3.20    117.10   \n",
      "1748259   972      SCPT  Salzburg basin      66.07      3.20    120.40   \n",
      "...       ...       ...             ...        ...       ...       ...   \n",
      "2505616  1332       CPT  Salzburg basin      65.14      5.97    130.60   \n",
      "2505617  1332       CPT  Salzburg basin      65.15      5.90    125.90   \n",
      "2505618  1332       CPT  Salzburg basin      65.16      5.98    118.60   \n",
      "2505619  1332       CPT  Salzburg basin      65.17      6.06    116.80   \n",
      "2505620  1332       CPT  Salzburg basin      65.18      6.72    115.10   \n",
      "\n",
      "         Rf (%)  σ,v (kPa)  u0 (kPa)  σ',v (kPa)  Qtn (-)  Fr (%)  \\\n",
      "1748255    3.33    1254.57    647.75      606.82     3.36    5.37   \n",
      "1748256    3.36    1254.76    647.85      606.91     3.35    5.43   \n",
      "1748257    3.50    1254.95    647.95      607.00     3.34    5.66   \n",
      "1748258    3.66    1255.14    648.05      607.09     3.21    6.01   \n",
      "1748259    3.76    1255.33    648.15      607.18     3.21    6.18   \n",
      "...         ...        ...       ...         ...      ...     ...   \n",
      "2505616    2.19    1237.66    639.02      598.64     7.91    2.76   \n",
      "2505617    2.13    1237.85    639.12      598.73     7.79    2.70   \n",
      "2505618    1.98    1238.04    639.22      598.82     7.92    2.50   \n",
      "2505619    1.93    1238.23    639.32      598.91     8.06    2.42   \n",
      "2505620    1.71    1238.42    639.42      599.00     9.16    2.10   \n",
      "\n",
      "         Oberhollenzer_classes  \n",
      "1748255                   7.00  \n",
      "1748256                   7.00  \n",
      "1748257                   7.00  \n",
      "1748258                   7.00  \n",
      "1748259                   7.00  \n",
      "...                        ...  \n",
      "2505616                   7.00  \n",
      "2505617                   7.00  \n",
      "2505618                   7.00  \n",
      "2505619                   7.00  \n",
      "2505620                   7.00  \n",
      "\n",
      "[409 rows x 13 columns]\n"
     ]
    }
   ],
   "source": [
    "from pyod.models.iforest import IForest\n",
    "\n",
    "outlier_confidence_threshold = 0.95  # Adjust threshold for your use case\n",
    "\n",
    "# Initialize and fit the Isolation Forest model\n",
    "iforest = IForest(n_estimators=100)\n",
    "iforest.fit(df[FEATURES])\n",
    "\n",
    "# Get the outlier probabilities\n",
    "probs = iforest.predict_proba(df[FEATURES])[:, 1]\n",
    "\n",
    "# Create a mask for outliers based on the confidence threshold\n",
    "is_outlier = probs > outlier_confidence_threshold\n",
    "outliers = df[is_outlier]\n",
    "non_outliers = df[~is_outlier]\n",
    "\n",
    "# Display results\n",
    "num_outliers = len(outliers)\n",
    "print(f\"Number of outliers with Isolation Forest: {num_outliers}\")\n",
    "print(f\"Percentage of outliers: {num_outliers / len(df):.4f}\")\n",
    "print(\"Outlier samples:\\n\", outliers)\n",
    "\n",
    "# Cleaned DataFrame excluding outliers\n",
    "df_cleaned = df[~is_outlier]"
   ]
  },
  {
   "cell_type": "markdown",
   "metadata": {},
   "source": [
    "A classic splitting of the dataset in train and test sets"
   ]
  },
  {
   "cell_type": "code",
   "execution_count": 25,
   "metadata": {},
   "outputs": [],
   "source": [
    "from sklearn.model_selection import train_test_split\n",
    "\n",
    "X = df_cleaned[FEATURES]\n",
    "y = df_cleaned[\"Oberhollenzer_classes\"]\n",
    "seed = 10\n",
    "test_size = 0.25\n",
    "train, test = train_test_split(\n",
    "    df_cleaned, test_size=test_size, random_state=seed, stratify=y\n",
    ")"
   ]
  },
  {
   "cell_type": "code",
   "execution_count": 26,
   "metadata": {},
   "outputs": [
    {
     "data": {
      "text/plain": [
       "((559803, 13), (186602, 13))"
      ]
     },
     "execution_count": 26,
     "metadata": {},
     "output_type": "execute_result"
    }
   ],
   "source": [
    "train.shape, test.shape"
   ]
  },
  {
   "cell_type": "markdown",
   "metadata": {},
   "source": [
    "Inspecting the effect of stratification"
   ]
  },
  {
   "cell_type": "code",
   "execution_count": 27,
   "metadata": {},
   "outputs": [
    {
     "data": {
      "application/vnd.microsoft.datawrangler.viewer.v0+json": {
       "columns": [
        {
         "name": "Oberhollenzer_classes",
         "rawType": "float64",
         "type": "float"
        },
        {
         "name": "proportion",
         "rawType": "float64",
         "type": "float"
        }
       ],
       "ref": "cbfa5cdf-d0c1-4ea0-81f5-7e28b94a9154",
       "rows": [
        [
         "5.0",
         "0.27143477258964316"
        ],
        [
         "6.0",
         "0.22567045907220934"
        ],
        [
         "7.0",
         "0.20484706227012003"
        ],
        [
         "4.0",
         "0.12623012023872685"
        ],
        [
         "1.0",
         "0.12015298238844736"
        ],
        [
         "2.0",
         "0.04587328042186269"
        ],
        [
         "3.0",
         "0.0057913230189906096"
        ]
       ],
       "shape": {
        "columns": 1,
        "rows": 7
       }
      },
      "text/plain": [
       "Oberhollenzer_classes\n",
       "5.00   0.27\n",
       "6.00   0.23\n",
       "7.00   0.20\n",
       "4.00   0.13\n",
       "1.00   0.12\n",
       "2.00   0.05\n",
       "3.00   0.01\n",
       "Name: proportion, dtype: float64"
      ]
     },
     "execution_count": 27,
     "metadata": {},
     "output_type": "execute_result"
    }
   ],
   "source": [
    "train[\"Oberhollenzer_classes\"].value_counts(normalize=True)"
   ]
  },
  {
   "cell_type": "code",
   "execution_count": 28,
   "metadata": {},
   "outputs": [
    {
     "data": {
      "application/vnd.microsoft.datawrangler.viewer.v0+json": {
       "columns": [
        {
         "name": "Oberhollenzer_classes",
         "rawType": "float64",
         "type": "float"
        },
        {
         "name": "proportion",
         "rawType": "float64",
         "type": "float"
        }
       ],
       "ref": "1a7751d4-916b-40d3-8054-b97949da02ad",
       "rows": [
        [
         "5.0",
         "0.2714333179708685"
        ],
        [
         "6.0",
         "0.22567282237060696"
        ],
        [
         "7.0",
         "0.2048477508279654"
        ],
        [
         "4.0",
         "0.12623123010471485"
        ],
        [
         "1.0",
         "0.12014876582244563"
        ],
        [
         "2.0",
         "0.04587303458698192"
        ],
        [
         "3.0",
         "0.005793078316416758"
        ]
       ],
       "shape": {
        "columns": 1,
        "rows": 7
       }
      },
      "text/plain": [
       "Oberhollenzer_classes\n",
       "5.00   0.27\n",
       "6.00   0.23\n",
       "7.00   0.20\n",
       "4.00   0.13\n",
       "1.00   0.12\n",
       "2.00   0.05\n",
       "3.00   0.01\n",
       "Name: proportion, dtype: float64"
      ]
     },
     "execution_count": 28,
     "metadata": {},
     "output_type": "execute_result"
    }
   ],
   "source": [
    "test[\"Oberhollenzer_classes\"].value_counts(normalize=True)"
   ]
  },
  {
   "cell_type": "markdown",
   "metadata": {},
   "source": [
    "Typical geotechnical problem: data from same borehole should not be split between train and test set. Then there is a risk of data leakage."
   ]
  },
  {
   "cell_type": "code",
   "execution_count": 29,
   "metadata": {},
   "outputs": [
    {
     "data": {
      "text/plain": [
       "array([1125,  979, 1018,  930, 1031, 1278, 1210, 1281, 1149, 1130,  976,\n",
       "       1257,  906,  887,  916, 1192,  862,  947,  980, 1313,  934, 1231,\n",
       "        951, 1294, 1049, 1289, 1150,  926, 1016,  997, 1227, 1043,  963,\n",
       "       1036, 1207,  902,  877, 1233,  914,  959, 1005, 1188,  960,  888,\n",
       "        955, 1039, 1063, 1183,  925, 1134, 1267,  971, 1190, 1096,  919,\n",
       "       1015, 1218, 1077,  908, 1143, 1067,  907,  937, 1025, 1271, 1253,\n",
       "       1081,  942,  956,  879, 1269, 1046, 1152,  867, 1173,  851,  909,\n",
       "        913,  875, 1316, 1243, 1066, 1297, 1082,  870, 1132, 1042, 1133,\n",
       "       1021, 1280, 1174,  974, 1050, 1166, 1182,  954, 1156, 1091, 1191,\n",
       "       1151, 1224,  886,  988, 1217, 1117, 1181, 1187, 1065, 1308, 1208,\n",
       "       1246, 1221, 1213,  970,  885, 1185, 1249,  869, 1157,  982, 1057,\n",
       "       1158, 1238, 1044, 1053,  958,  855,  998, 1255, 1311, 1052, 1009,\n",
       "       1330, 1163, 1059, 1201, 1226,  871, 1169,  977,  899, 1161, 1204,\n",
       "       1203, 1325, 1106, 1273, 1300, 1237,  967, 1126, 1137,  849, 1154,\n",
       "        905, 1324, 1160, 1229,  933, 1138, 1060, 1287, 1277, 1041,  936,\n",
       "        896, 1295, 1017, 1331, 1264, 1302, 1186, 1113,  987, 1205, 1298,\n",
       "       1051, 1035,  859, 1114,  882, 1247, 1118, 1338,  953,  889,  878,\n",
       "       1070, 1263, 1024, 1306, 1175, 1061, 1003, 1333,  880, 1110, 1068,\n",
       "        986, 1262, 1234, 1023, 1327, 1084, 1079, 1026, 1193, 1123,  965,\n",
       "       1236,  898, 1288, 1250, 1242,  932,  945,  917, 1180,  946,  872,\n",
       "       1109, 1099, 1323, 1014, 1329,  994, 1064, 1299, 1244,  940,  891,\n",
       "       1088, 1195, 1216, 1248,  903, 1033, 1129, 1305, 1240,  901,  864,\n",
       "       1245, 1196, 1198, 1128, 1141,  852,  873,  978, 1020, 1056,  895,\n",
       "       1259, 1212, 1090, 1293, 1092,  892, 1087, 1258,  929, 1040, 1314,\n",
       "       1075, 1124,  962,  861, 1000, 1089,  935, 1101,  984,  993, 1260,\n",
       "       1127, 1219, 1146, 1037, 1223, 1162, 1261, 1274, 1275,  854,  983,\n",
       "        894, 1211, 1105, 1145, 1140, 1058,  985,  995, 1283, 1317,  921,\n",
       "        968, 1290, 1336, 1252, 1071,  924, 1332, 1319, 1103,  944, 1266,\n",
       "       1265, 1307,  943,  868, 1139, 1148, 1171,  881, 1179,  990,  939,\n",
       "       1010, 1142, 1200, 1206,  991, 1241, 1268, 1098,  863,  927, 1318,\n",
       "       1034, 1032, 1321, 1055,  883,  912,  972, 1222, 1202,  904, 1254,\n",
       "       1094, 1215,  866, 1230, 1279,  890, 1111,  923,  858, 1334, 1272,\n",
       "       1076, 1008,  973, 1228, 1178,  865,  975, 1121], dtype=int64)"
      ]
     },
     "execution_count": 29,
     "metadata": {},
     "output_type": "execute_result"
    }
   ],
   "source": [
    "unique_ids = df[\"ID\"].unique()\n",
    "train_ids, _ = train_test_split(unique_ids, test_size=test_size, random_state=seed)\n",
    "train_ids"
   ]
  },
  {
   "cell_type": "code",
   "execution_count": 31,
   "metadata": {},
   "outputs": [],
   "source": [
    "train_df = df[df[\"ID\"].isin(train_ids)]\n",
    "test_df = df[~df[\"ID\"].isin(train_ids)]"
   ]
  },
  {
   "cell_type": "code",
   "execution_count": 32,
   "metadata": {},
   "outputs": [
    {
     "data": {
      "text/plain": [
       "((561363, 13), (185451, 13))"
      ]
     },
     "execution_count": 32,
     "metadata": {},
     "output_type": "execute_result"
    }
   ],
   "source": [
    "train_df.shape, test_df.shape"
   ]
  },
  {
   "cell_type": "code",
   "execution_count": 33,
   "metadata": {},
   "outputs": [
    {
     "data": {
      "application/vnd.microsoft.datawrangler.viewer.v0+json": {
       "columns": [
        {
         "name": "Oberhollenzer_classes",
         "rawType": "float64",
         "type": "float"
        },
        {
         "name": "proportion",
         "rawType": "float64",
         "type": "float"
        }
       ],
       "ref": "59c9c6d6-3d0c-4347-8255-709b9a3795d9",
       "rows": [
        [
         "5.0",
         "0.27990979099085617"
        ],
        [
         "6.0",
         "0.2144156276776346"
        ],
        [
         "7.0",
         "0.20371132404522563"
        ],
        [
         "4.0",
         "0.12685374704068492"
        ],
        [
         "1.0",
         "0.12047106774048165"
        ],
        [
         "2.0",
         "0.049219488993752704"
        ],
        [
         "3.0",
         "0.005418953511364304"
        ]
       ],
       "shape": {
        "columns": 1,
        "rows": 7
       }
      },
      "text/plain": [
       "Oberhollenzer_classes\n",
       "5.00   0.28\n",
       "6.00   0.21\n",
       "7.00   0.20\n",
       "4.00   0.13\n",
       "1.00   0.12\n",
       "2.00   0.05\n",
       "3.00   0.01\n",
       "Name: proportion, dtype: float64"
      ]
     },
     "execution_count": 33,
     "metadata": {},
     "output_type": "execute_result"
    }
   ],
   "source": [
    "train_df[\"Oberhollenzer_classes\"].value_counts(normalize=True)"
   ]
  },
  {
   "cell_type": "code",
   "execution_count": 34,
   "metadata": {},
   "outputs": [
    {
     "data": {
      "application/vnd.microsoft.datawrangler.viewer.v0+json": {
       "columns": [
        {
         "name": "Oberhollenzer_classes",
         "rawType": "float64",
         "type": "float"
        },
        {
         "name": "proportion",
         "rawType": "float64",
         "type": "float"
        }
       ],
       "ref": "40c17658-74e6-4fdc-bad3-ca189ca17afe",
       "rows": [
        [
         "6.0",
         "0.25924368161940353"
        ],
        [
         "5.0",
         "0.245180667669627"
        ],
        [
         "7.0",
         "0.210039309575036"
        ],
        [
         "4.0",
         "0.12406511693115702"
        ],
        [
         "1.0",
         "0.11892090093879246"
        ],
        [
         "2.0",
         "0.03564283826994732"
        ],
        [
         "3.0",
         "0.006907484996036689"
        ]
       ],
       "shape": {
        "columns": 1,
        "rows": 7
       }
      },
      "text/plain": [
       "Oberhollenzer_classes\n",
       "6.00   0.26\n",
       "5.00   0.25\n",
       "7.00   0.21\n",
       "4.00   0.12\n",
       "1.00   0.12\n",
       "2.00   0.04\n",
       "3.00   0.01\n",
       "Name: proportion, dtype: float64"
      ]
     },
     "execution_count": 34,
     "metadata": {},
     "output_type": "execute_result"
    }
   ],
   "source": [
    "test_df[\"Oberhollenzer_classes\"].value_counts(normalize=True)"
   ]
  },
  {
   "cell_type": "code",
   "execution_count": null,
   "metadata": {},
   "outputs": [
    {
     "name": "stderr",
     "output_type": "stream",
     "text": [
      "Summarize dataset: 100%|██████████| 119/119 [00:29<00:00,  4.09it/s, Completed]                                           \n",
      "Summarize dataset: 100%|██████████| 119/119 [00:18<00:00,  6.47it/s, Completed]                                           \n",
      "Generate report structure: 100%|██████████| 1/1 [00:03<00:00,  3.90s/it]\n",
      "Render HTML: 100%|██████████| 1/1 [00:03<00:00,  3.71s/it]\n",
      "Export report to file: 100%|██████████| 1/1 [00:00<00:00, 17.35it/s]\n"
     ]
    }
   ],
   "source": [
    "# another round in ydate-profiling with splitted dataset\n",
    "from ydata_profiling import ProfileReport\n",
    "\n",
    "dfy_train = train_df.copy()[FEATURES + LABELS_O]\n",
    "dfy_test = test_df.copy()[FEATURES + LABELS_O]\n",
    "dfy_train[\"Oberhollenzer_classes\"] = dfy_train[\"Oberhollenzer_classes\"].astype(str)\n",
    "dfy_test[\"Oberhollenzer_classes\"] = dfy_test[\"Oberhollenzer_classes\"].astype(str)\n",
    "profile_train = ProfileReport(dfy_train, title=\"Profiling report - Train\")\n",
    "profile_test = ProfileReport(dfy_test, title=\"Profiling report - Test\")\n",
    "comparison_report = profile_train.compare(profile_test)\n",
    "comparison_report.to_file(\"./profiling_reports/dataset_profiling_comparison_cpt.html\")"
   ]
  }
 ],
 "metadata": {
  "kernelspec": {
   "display_name": "cpt-to-soiltype",
   "language": "python",
   "name": "python3"
  },
  "language_info": {
   "codemirror_mode": {
    "name": "ipython",
    "version": 3
   },
   "file_extension": ".py",
   "mimetype": "text/x-python",
   "name": "python",
   "nbconvert_exporter": "python",
   "pygments_lexer": "ipython3",
   "version": "3.11.13"
  }
 },
 "nbformat": 4,
 "nbformat_minor": 2
}

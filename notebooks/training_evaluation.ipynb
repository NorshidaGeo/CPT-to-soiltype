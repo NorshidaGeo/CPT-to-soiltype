{
 "cells": [
  {
   "cell_type": "markdown",
   "metadata": {},
   "source": [
    "# Training and evaluation"
   ]
  },
  {
   "cell_type": "markdown",
   "metadata": {},
   "source": [
    "Load and prepare dataset"
   ]
  },
  {
   "cell_type": "code",
   "execution_count": 1,
   "metadata": {},
   "outputs": [
    {
     "data": {
      "text/html": [
       "<div>\n",
       "<style scoped>\n",
       "    .dataframe tbody tr th:only-of-type {\n",
       "        vertical-align: middle;\n",
       "    }\n",
       "\n",
       "    .dataframe tbody tr th {\n",
       "        vertical-align: top;\n",
       "    }\n",
       "\n",
       "    .dataframe thead th {\n",
       "        text-align: right;\n",
       "    }\n",
       "</style>\n",
       "<table border=\"1\" class=\"dataframe\">\n",
       "  <thead>\n",
       "    <tr style=\"text-align: right;\">\n",
       "      <th></th>\n",
       "      <th>ID</th>\n",
       "      <th>test_type</th>\n",
       "      <th>basin_valley</th>\n",
       "      <th>Depth (m)</th>\n",
       "      <th>qc (MPa)</th>\n",
       "      <th>fs (kPa)</th>\n",
       "      <th>Rf (%)</th>\n",
       "      <th>σ,v (kPa)</th>\n",
       "      <th>u0 (kPa)</th>\n",
       "      <th>σ',v (kPa)</th>\n",
       "      <th>Qtn (-)</th>\n",
       "      <th>Fr (%)</th>\n",
       "      <th>Oberhollenzer_classes</th>\n",
       "    </tr>\n",
       "  </thead>\n",
       "  <tbody>\n",
       "    <tr>\n",
       "      <th>0</th>\n",
       "      <td>850</td>\n",
       "      <td>CPT</td>\n",
       "      <td>Zell basin</td>\n",
       "      <td>0.05</td>\n",
       "      <td>6.85</td>\n",
       "      <td>5.8</td>\n",
       "      <td>0.09</td>\n",
       "      <td>0.95</td>\n",
       "      <td>0.49</td>\n",
       "      <td>0.46</td>\n",
       "      <td>263.95</td>\n",
       "      <td>0.09</td>\n",
       "      <td>4.0</td>\n",
       "    </tr>\n",
       "    <tr>\n",
       "      <th>1</th>\n",
       "      <td>850</td>\n",
       "      <td>CPT</td>\n",
       "      <td>Zell basin</td>\n",
       "      <td>0.06</td>\n",
       "      <td>7.92</td>\n",
       "      <td>11.6</td>\n",
       "      <td>0.17</td>\n",
       "      <td>1.14</td>\n",
       "      <td>0.59</td>\n",
       "      <td>0.55</td>\n",
       "      <td>315.95</td>\n",
       "      <td>0.17</td>\n",
       "      <td>4.0</td>\n",
       "    </tr>\n",
       "    <tr>\n",
       "      <th>2</th>\n",
       "      <td>850</td>\n",
       "      <td>CPT</td>\n",
       "      <td>Zell basin</td>\n",
       "      <td>0.07</td>\n",
       "      <td>9.44</td>\n",
       "      <td>23.2</td>\n",
       "      <td>0.21</td>\n",
       "      <td>1.33</td>\n",
       "      <td>0.69</td>\n",
       "      <td>0.64</td>\n",
       "      <td>339.46</td>\n",
       "      <td>0.21</td>\n",
       "      <td>4.0</td>\n",
       "    </tr>\n",
       "    <tr>\n",
       "      <th>3</th>\n",
       "      <td>850</td>\n",
       "      <td>CPT</td>\n",
       "      <td>Zell basin</td>\n",
       "      <td>0.08</td>\n",
       "      <td>10.84</td>\n",
       "      <td>23.2</td>\n",
       "      <td>0.23</td>\n",
       "      <td>1.52</td>\n",
       "      <td>0.78</td>\n",
       "      <td>0.74</td>\n",
       "      <td>364.64</td>\n",
       "      <td>0.23</td>\n",
       "      <td>4.0</td>\n",
       "    </tr>\n",
       "    <tr>\n",
       "      <th>4</th>\n",
       "      <td>850</td>\n",
       "      <td>CPT</td>\n",
       "      <td>Zell basin</td>\n",
       "      <td>0.09</td>\n",
       "      <td>11.28</td>\n",
       "      <td>25.6</td>\n",
       "      <td>0.22</td>\n",
       "      <td>1.71</td>\n",
       "      <td>0.88</td>\n",
       "      <td>0.83</td>\n",
       "      <td>369.59</td>\n",
       "      <td>0.22</td>\n",
       "      <td>4.0</td>\n",
       "    </tr>\n",
       "  </tbody>\n",
       "</table>\n",
       "</div>"
      ],
      "text/plain": [
       "    ID test_type basin_valley  Depth (m)  qc (MPa)  fs (kPa)  Rf (%)  \\\n",
       "0  850       CPT   Zell basin       0.05      6.85       5.8    0.09   \n",
       "1  850       CPT   Zell basin       0.06      7.92      11.6    0.17   \n",
       "2  850       CPT   Zell basin       0.07      9.44      23.2    0.21   \n",
       "3  850       CPT   Zell basin       0.08     10.84      23.2    0.23   \n",
       "4  850       CPT   Zell basin       0.09     11.28      25.6    0.22   \n",
       "\n",
       "   σ,v (kPa)  u0 (kPa)  σ',v (kPa)  Qtn (-)  Fr (%)  Oberhollenzer_classes  \n",
       "0       0.95      0.49        0.46   263.95    0.09                    4.0  \n",
       "1       1.14      0.59        0.55   315.95    0.17                    4.0  \n",
       "2       1.33      0.69        0.64   339.46    0.21                    4.0  \n",
       "3       1.52      0.78        0.74   364.64    0.23                    4.0  \n",
       "4       1.71      0.88        0.83   369.59    0.22                    4.0  "
      ]
     },
     "execution_count": 1,
     "metadata": {},
     "output_type": "execute_result"
    }
   ],
   "source": [
    "import pandas as pd\n",
    "FEATURES = ['Depth (m)', 'qc (MPa)', 'fs (kPa)','Rf (%)', 'σ,v (kPa)', 'u0 (kPa)',\"σ',v (kPa)\", 'Qtn (-)', 'Fr (%)']\n",
    "LABELS = 'Oberhollenzer_classes'\n",
    "FILEPATH_TRAIN = '../data/model_ready/dataset_train.csv'\n",
    "FILEPATH_TEST = '../data/model_ready/dataset_test.csv'\n",
    "\n",
    "df_train = pd.read_csv(FILEPATH_TRAIN, header=0)\n",
    "df_test = pd.read_csv(FILEPATH_TEST)\n",
    "df_full = pd.concat([df_train, df_test], axis=0)\n",
    "\n",
    "X_train = df_train[FEATURES]\n",
    "y_train = df_train[LABELS]\n",
    "X_test = df_test[FEATURES]\n",
    "y_test = df_test[LABELS]\n",
    "\n",
    "# remove class 3.0\n",
    "# df_train = df_train[df_train[LABELS] != 3.0]\n",
    "\n",
    "df_train.head()"
   ]
  },
  {
   "cell_type": "code",
   "execution_count": 2,
   "metadata": {},
   "outputs": [
    {
     "data": {
      "text/html": [
       "<div>\n",
       "<style scoped>\n",
       "    .dataframe tbody tr th:only-of-type {\n",
       "        vertical-align: middle;\n",
       "    }\n",
       "\n",
       "    .dataframe tbody tr th {\n",
       "        vertical-align: top;\n",
       "    }\n",
       "\n",
       "    .dataframe thead th {\n",
       "        text-align: right;\n",
       "    }\n",
       "</style>\n",
       "<table border=\"1\" class=\"dataframe\">\n",
       "  <thead>\n",
       "    <tr style=\"text-align: right;\">\n",
       "      <th></th>\n",
       "      <th>ID</th>\n",
       "      <th>test_type</th>\n",
       "      <th>basin_valley</th>\n",
       "      <th>Depth (m)</th>\n",
       "      <th>qc (MPa)</th>\n",
       "      <th>fs (kPa)</th>\n",
       "      <th>Rf (%)</th>\n",
       "      <th>σ,v (kPa)</th>\n",
       "      <th>u0 (kPa)</th>\n",
       "      <th>σ',v (kPa)</th>\n",
       "      <th>Qtn (-)</th>\n",
       "      <th>Fr (%)</th>\n",
       "      <th>Oberhollenzer_classes</th>\n",
       "    </tr>\n",
       "  </thead>\n",
       "  <tbody>\n",
       "    <tr>\n",
       "      <th>0</th>\n",
       "      <td>849</td>\n",
       "      <td>CPT</td>\n",
       "      <td>Zell basin</td>\n",
       "      <td>0.39</td>\n",
       "      <td>0.06</td>\n",
       "      <td>0.01</td>\n",
       "      <td>0.01</td>\n",
       "      <td>7.41</td>\n",
       "      <td>3.83</td>\n",
       "      <td>3.58</td>\n",
       "      <td>23.33</td>\n",
       "      <td>0.01</td>\n",
       "      <td>4.0</td>\n",
       "    </tr>\n",
       "    <tr>\n",
       "      <th>1</th>\n",
       "      <td>849</td>\n",
       "      <td>CPT</td>\n",
       "      <td>Zell basin</td>\n",
       "      <td>0.40</td>\n",
       "      <td>0.22</td>\n",
       "      <td>0.01</td>\n",
       "      <td>0.01</td>\n",
       "      <td>7.60</td>\n",
       "      <td>3.92</td>\n",
       "      <td>3.68</td>\n",
       "      <td>13.40</td>\n",
       "      <td>0.01</td>\n",
       "      <td>4.0</td>\n",
       "    </tr>\n",
       "    <tr>\n",
       "      <th>2</th>\n",
       "      <td>849</td>\n",
       "      <td>CPT</td>\n",
       "      <td>Zell basin</td>\n",
       "      <td>0.41</td>\n",
       "      <td>0.05</td>\n",
       "      <td>0.01</td>\n",
       "      <td>0.01</td>\n",
       "      <td>7.79</td>\n",
       "      <td>4.02</td>\n",
       "      <td>3.77</td>\n",
       "      <td>12.04</td>\n",
       "      <td>0.01</td>\n",
       "      <td>4.0</td>\n",
       "    </tr>\n",
       "    <tr>\n",
       "      <th>3</th>\n",
       "      <td>849</td>\n",
       "      <td>CPT</td>\n",
       "      <td>Zell basin</td>\n",
       "      <td>0.42</td>\n",
       "      <td>0.02</td>\n",
       "      <td>0.01</td>\n",
       "      <td>0.04</td>\n",
       "      <td>7.98</td>\n",
       "      <td>4.12</td>\n",
       "      <td>3.86</td>\n",
       "      <td>4.32</td>\n",
       "      <td>0.05</td>\n",
       "      <td>4.0</td>\n",
       "    </tr>\n",
       "    <tr>\n",
       "      <th>4</th>\n",
       "      <td>849</td>\n",
       "      <td>CPT</td>\n",
       "      <td>Zell basin</td>\n",
       "      <td>0.43</td>\n",
       "      <td>0.01</td>\n",
       "      <td>0.01</td>\n",
       "      <td>0.11</td>\n",
       "      <td>8.17</td>\n",
       "      <td>4.22</td>\n",
       "      <td>3.95</td>\n",
       "      <td>0.49</td>\n",
       "      <td>0.59</td>\n",
       "      <td>4.0</td>\n",
       "    </tr>\n",
       "  </tbody>\n",
       "</table>\n",
       "</div>"
      ],
      "text/plain": [
       "    ID test_type basin_valley  Depth (m)  qc (MPa)  fs (kPa)  Rf (%)  \\\n",
       "0  849       CPT   Zell basin       0.39      0.06      0.01    0.01   \n",
       "1  849       CPT   Zell basin       0.40      0.22      0.01    0.01   \n",
       "2  849       CPT   Zell basin       0.41      0.05      0.01    0.01   \n",
       "3  849       CPT   Zell basin       0.42      0.02      0.01    0.04   \n",
       "4  849       CPT   Zell basin       0.43      0.01      0.01    0.11   \n",
       "\n",
       "   σ,v (kPa)  u0 (kPa)  σ',v (kPa)  Qtn (-)  Fr (%)  Oberhollenzer_classes  \n",
       "0       7.41      3.83        3.58    23.33    0.01                    4.0  \n",
       "1       7.60      3.92        3.68    13.40    0.01                    4.0  \n",
       "2       7.79      4.02        3.77    12.04    0.01                    4.0  \n",
       "3       7.98      4.12        3.86     4.32    0.05                    4.0  \n",
       "4       8.17      4.22        3.95     0.49    0.59                    4.0  "
      ]
     },
     "execution_count": 2,
     "metadata": {},
     "output_type": "execute_result"
    }
   ],
   "source": [
    "df_test.head()"
   ]
  },
  {
   "cell_type": "markdown",
   "metadata": {},
   "source": [
    "## Exploring performance boundaries and computational effort\n",
    "\n",
    "We will compare some main groups of models and their performance on the dataset. We will also explore the computational effort required to train and evaluate these models."
   ]
  },
  {
   "cell_type": "markdown",
   "metadata": {},
   "source": [
    "### Dummy classifier - an interesting model always need to better than this.\n",
    "\n",
    "**NOTE**: To reference a benchmark model in a scientific paper you should also check if there are other model performance benchmarks relevant on the dataset using other statistical, numerical or mathematical methods."
   ]
  },
  {
   "cell_type": "code",
   "execution_count": 2,
   "metadata": {},
   "outputs": [
    {
     "name": "stdout",
     "output_type": "stream",
     "text": [
      "              precision    recall  f1-score   support\n",
      "\n",
      "         1.0       0.00      0.00      0.00     24578\n",
      "         2.0       0.00      0.00      0.00     46628\n",
      "         3.0       0.00      0.00      0.00      2196\n",
      "         4.0       0.00      0.00      0.00     22981\n",
      "         5.0       0.22      1.00      0.35     47640\n",
      "         6.0       0.00      0.00      0.00     41385\n",
      "         7.0       0.00      0.00      0.00     35553\n",
      "\n",
      "    accuracy                           0.22    220961\n",
      "   macro avg       0.03      0.14      0.05    220961\n",
      "weighted avg       0.05      0.22      0.08    220961\n",
      "\n"
     ]
    }
   ],
   "source": [
    "from sklearn.dummy import DummyClassifier\n",
    "from sklearn.metrics import classification_report\n",
    "\n",
    "dummy_model = DummyClassifier(strategy='most_frequent')\n",
    "dummy_model.fit(X_train, y_train)\n",
    "y_pred = dummy_model.predict(X_test)\n",
    "print(classification_report(y_test, y_pred, zero_division=0))"
   ]
  },
  {
   "cell_type": "markdown",
   "metadata": {},
   "source": [
    "Some new terms from the classification report:\n",
    "- support: number of occurrences of each class in y_true\n",
    "- weighted avg: average of the metrics, weighted by the support values\n",
    "- macro avg: average of the metrics for each class. Macro avg for recall is the same as balanced accuracy."
   ]
  },
  {
   "cell_type": "markdown",
   "metadata": {},
   "source": [
    "### A linear model\n",
    "\n",
    "**NOTE about scaling**: Apart from tree-based models, most models are sensitive to the scaling of the input features. It is a good practice to scale the input features before training the model."
   ]
  },
  {
   "cell_type": "code",
   "execution_count": null,
   "metadata": {},
   "outputs": [
    {
     "name": "stdout",
     "output_type": "stream",
     "text": [
      "              precision    recall  f1-score   support\n",
      "\n",
      "         1.0       0.55      0.44      0.49     24578\n",
      "         2.0       0.52      0.33      0.40     46628\n",
      "         3.0       0.00      0.00      0.00      2196\n",
      "         4.0       0.48      0.04      0.07     22981\n",
      "         5.0       0.37      0.66      0.47     47640\n",
      "         6.0       0.29      0.18      0.22     41385\n",
      "         7.0       0.38      0.63      0.47     35553\n",
      "\n",
      "    accuracy                           0.40    220961\n",
      "   macro avg       0.37      0.33      0.30    220961\n",
      "weighted avg       0.42      0.40      0.37    220961\n",
      "\n"
     ]
    }
   ],
   "source": [
    "from sklearn.linear_model import LogisticRegression\n",
    "from sklearn.preprocessing import StandardScaler\n",
    "\n",
    "# scaling the data\n",
    "scaler = StandardScaler()\n",
    "x_train_scaled = scaler.fit_transform(X_train)\n",
    "x_test_scaled = scaler.transform(X_test)\n",
    "\n",
    "lr_model = LogisticRegression(max_iter=500, random_state=42)\n",
    "lr_model.fit(x_train_scaled, y_train)\n",
    "y_pred_lr = lr_model.predict(x_test_scaled)\n",
    "print(classification_report(y_test, y_pred_lr))"
   ]
  },
  {
   "cell_type": "markdown",
   "metadata": {},
   "source": [
    "### KNN\n",
    "\n",
    "A simple non-linear model which is computationally efficient but often quite powerful"
   ]
  },
  {
   "cell_type": "code",
   "execution_count": 6,
   "metadata": {},
   "outputs": [
    {
     "name": "stdout",
     "output_type": "stream",
     "text": [
      "              precision    recall  f1-score   support\n",
      "\n",
      "         1.0       0.41      0.43      0.42     24578\n",
      "         2.0       0.43      0.43      0.43     46628\n",
      "         3.0       0.23      0.05      0.08      2196\n",
      "         4.0       0.30      0.28      0.29     22981\n",
      "         5.0       0.40      0.40      0.40     47640\n",
      "         6.0       0.36      0.42      0.39     41385\n",
      "         7.0       0.45      0.40      0.42     35553\n",
      "\n",
      "    accuracy                           0.40    220961\n",
      "   macro avg       0.37      0.34      0.35    220961\n",
      "weighted avg       0.40      0.40      0.39    220961\n",
      "\n"
     ]
    }
   ],
   "source": [
    "from sklearn.neighbors import KNeighborsClassifier\n",
    "\n",
    "# Scaling the data\n",
    "scaler = StandardScaler()\n",
    "X_train_scaled = scaler.fit_transform(X_train)\n",
    "X_test_scaled = scaler.transform(X_test)\n",
    "\n",
    "# Training the KNN model\n",
    "knn_model = KNeighborsClassifier(n_neighbors=5)\n",
    "knn_model.fit(X_train_scaled, y_train)\n",
    "y_pred_knn = knn_model.predict(X_test_scaled)\n",
    "\n",
    "# Evaluating the model\n",
    "print(classification_report(y_test, y_pred_knn))"
   ]
  },
  {
   "cell_type": "markdown",
   "metadata": {},
   "source": [
    "### Extra Trees (Extremely Randomized Trees)\n",
    "\n",
    "A tree based model which is computationally efficient and often performs better than the classic Random Forest. The main difference to Random Forest is heavier regularization and less variance, leading to less overfitting.\n",
    "\n",
    "Tree-based models do not require scaling of the input features."
   ]
  },
  {
   "cell_type": "code",
   "execution_count": 7,
   "metadata": {},
   "outputs": [
    {
     "name": "stdout",
     "output_type": "stream",
     "text": [
      "              precision    recall  f1-score   support\n",
      "\n",
      "         1.0       0.43      0.44      0.43     24578\n",
      "         2.0       0.45      0.44      0.45     46628\n",
      "         3.0       0.26      0.06      0.10      2196\n",
      "         4.0       0.30      0.29      0.30     22981\n",
      "         5.0       0.41      0.40      0.40     47640\n",
      "         6.0       0.37      0.43      0.40     41385\n",
      "         7.0       0.46      0.43      0.44     35553\n",
      "\n",
      "    accuracy                           0.41    220961\n",
      "   macro avg       0.38      0.36      0.36    220961\n",
      "weighted avg       0.41      0.41      0.41    220961\n",
      "\n"
     ]
    }
   ],
   "source": [
    "from sklearn.ensemble import ExtraTreesClassifier\n",
    "\n",
    "et_model = ExtraTreesClassifier(n_estimators=100, random_state=42)\n",
    "et_model.fit(X_train, y_train)\n",
    "y_pred_et = et_model.predict(X_test)\n",
    "print(classification_report(y_test, y_pred_et))"
   ]
  },
  {
   "cell_type": "markdown",
   "metadata": {},
   "source": [
    "### Random Forest\n",
    "\n",
    "The classic Random Forest for comparison. Note the extra computational effort required to train and evaluate this model, compared to the previous models."
   ]
  },
  {
   "cell_type": "code",
   "execution_count": 14,
   "metadata": {},
   "outputs": [
    {
     "name": "stdout",
     "output_type": "stream",
     "text": [
      "              precision    recall  f1-score   support\n",
      "\n",
      "         1.0       0.43      0.43      0.43     24578\n",
      "         2.0       0.47      0.46      0.46     46628\n",
      "         3.0       0.24      0.06      0.10      2196\n",
      "         4.0       0.31      0.29      0.30     22981\n",
      "         5.0       0.41      0.40      0.41     47640\n",
      "         6.0       0.37      0.43      0.40     41385\n",
      "         7.0       0.46      0.44      0.45     35553\n",
      "\n",
      "    accuracy                           0.41    220961\n",
      "   macro avg       0.38      0.36      0.36    220961\n",
      "weighted avg       0.41      0.41      0.41    220961\n",
      "\n"
     ]
    }
   ],
   "source": [
    "from sklearn.ensemble import RandomForestClassifier\n",
    "\n",
    "rf_model = RandomForestClassifier(n_estimators=100, random_state=42)\n",
    "rf_model.fit(X_train, y_train)\n",
    "y_pred = rf_model.predict(X_test)\n",
    "print(classification_report(y_test, y_pred))"
   ]
  },
  {
   "cell_type": "markdown",
   "metadata": {},
   "source": [
    "### XGBoost\n",
    "\n",
    "We complete the exploration by training an XGBoost model. This model is computationally expensive to train and evaluate if you do not have a GPU, but often among the best performing models for tabular data. The other top performing models for tabular data are usually `LightGBM` and `CatBoost`. Usually these tree-based models also perform better than a neural network on tabular data.\n",
    "\n",
    "**NOTE**: XGBoost has a Scikit-learn API (not including GPU support), but the XGBoost library also has a native API which can be used for faster training and evaluation. The implementation below uses the native API."
   ]
  },
  {
   "cell_type": "code",
   "execution_count": null,
   "metadata": {},
   "outputs": [
    {
     "name": "stdout",
     "output_type": "stream",
     "text": [
      "              precision    recall  f1-score   support\n",
      "\n",
      "         1.0       0.52      0.49      0.51     24578\n",
      "         2.0       0.52      0.46      0.49     46628\n",
      "         3.0       0.29      0.05      0.09      2196\n",
      "         4.0       0.38      0.27      0.31     22981\n",
      "         5.0       0.44      0.51      0.48     47640\n",
      "         6.0       0.40      0.48      0.43     41385\n",
      "         7.0       0.47      0.46      0.46     35553\n",
      "\n",
      "    accuracy                           0.45    220961\n",
      "   macro avg       0.43      0.39      0.40    220961\n",
      "weighted avg       0.46      0.45      0.45    220961\n",
      "\n"
     ]
    }
   ],
   "source": [
    "import xgboost as xgb\n",
    "from sklearn.metrics import classification_report\n",
    "\n",
    "X_train = df_train[FEATURES]\n",
    "y_train = df_train[LABELS]\n",
    "X_test = df_test[FEATURES]\n",
    "y_test = df_test[LABELS]\n",
    "\n",
    "# Adjust labels to start from 0 (required for XGBoost with multiclass)\n",
    "y_train = y_train - 1\n",
    "y_test = y_test - 1\n",
    "\n",
    "# Convert the balanced training data to DMatrix (with GPU support)\n",
    "dtrain = xgb.DMatrix(X_train, label=y_train)\n",
    "dtest = xgb.DMatrix(X_test, label=y_test)\n",
    "\n",
    "# Set parameters for using GPU with multiclass classification\n",
    "params = {\n",
    "    'objective': 'multi:softmax',  # Use multiclass objective (softmax or softprob)\n",
    "    'num_class': 7,                 # Number of classes\n",
    "    'device': 'cuda', # use cpu if you don't have GPU on the machine\n",
    "    'random_state': 42\n",
    "}\n",
    "\n",
    "# Train the XGBoost model\n",
    "xgb_model = xgb.train(params, dtrain, num_boost_round=100)\n",
    "\n",
    "# Make predictions (output is directly class labels)\n",
    "y_pred = xgb_model.predict(dtest)\n",
    "\n",
    "# Transform predictions back to original label range for reporting\n",
    "y_test = y_test + 1\n",
    "y_pred = y_pred + 1\n",
    "\n",
    "# Evaluate performance\n",
    "print(classification_report(y_test, y_pred))\n"
   ]
  },
  {
   "cell_type": "markdown",
   "metadata": {},
   "source": [
    "## Balancing the dataset\n",
    "\n",
    "Since the KNN is computationally efficient and among the better performers, we will use that to exemplify the topics of scaling and balancing the dataset. **NOTE**: The increased score for class 3 is due to the balancing of the dataset.\n",
    "\n",
    "In balancing it might work well to first undersample the majority classes to a certain level and then oversample the minority classes to a certain level. This is a common approach to balance the dataset. The levels are often chosen based on the class distribution in the dataset, and is a hyperparameter that can be tuned.\n",
    "\n",
    "Best practise:\n",
    "\n",
    "- Undersample the majority classes to reduce their dominance, thus addressing computational challenges and ensuring training is not biased towards these classes.\n",
    "- Oversample the minority classes to generate synthetic examples that provide more training data for classes with few samples, thus reducing the risk of the model neglecting them. Do not blindly oversample to the same size as the majority classes, as this can lead to overfitting due to synthetic instances being overly similar to each other. \n",
    "- It is generally advisable to oversample to a level where the minority classes have enough examples to be statistically significant but without creating a perfect balance. For example, aim for the minority class to reach 70-90% of the size of the majority class.\n",
    "- The levels of undersampling and oversampling can be tuned as hyperparameters, using cross-validation to find the best values. Inspect the class distribution in the training set and set some initial levels based on this distribution."
   ]
  },
  {
   "cell_type": "code",
   "execution_count": 17,
   "metadata": {},
   "outputs": [
    {
     "data": {
      "text/plain": [
       "Oberhollenzer_classes\n",
       "5.0    154960\n",
       "2.0    131428\n",
       "6.0    127006\n",
       "7.0    117754\n",
       "4.0     71218\n",
       "1.0     64971\n",
       "3.0      2127\n",
       "Name: count, dtype: int64"
      ]
     },
     "execution_count": 17,
     "metadata": {},
     "output_type": "execute_result"
    }
   ],
   "source": [
    "# y_train value counts before undersampling\n",
    "y_train.value_counts()"
   ]
  },
  {
   "cell_type": "markdown",
   "metadata": {},
   "source": [
    "Based on the distribution it seems like these levels are ok:\n",
    "- Undersample majority classes to 110 000 samples\n",
    "- Oversample minority classes to 75 000 samples"
   ]
  },
  {
   "cell_type": "code",
   "execution_count": 27,
   "metadata": {},
   "outputs": [
    {
     "name": "stdout",
     "output_type": "stream",
     "text": [
      "Initial class distribution in y_train:\n",
      " Oberhollenzer_classes\n",
      "5.0    154960\n",
      "2.0    131428\n",
      "6.0    127006\n",
      "7.0    117754\n",
      "4.0     71218\n",
      "1.0     64971\n",
      "3.0      2127\n",
      "Name: count, dtype: int64\n",
      "Class distribution after undersampling:\n",
      " Oberhollenzer_classes\n",
      "2.0    110000\n",
      "6.0    110000\n",
      "5.0    110000\n",
      "7.0    110000\n",
      "4.0     71218\n",
      "1.0     64971\n",
      "3.0      2127\n",
      "Name: count, dtype: int64\n",
      "Class distribution after oversampling:\n",
      " Oberhollenzer_classes\n",
      "2.0    110000\n",
      "6.0    110000\n",
      "5.0    110000\n",
      "7.0    110000\n",
      "1.0     75000\n",
      "3.0     75000\n",
      "4.0     75000\n",
      "Name: count, dtype: int64\n"
     ]
    }
   ],
   "source": [
    "# Import necessary libraries\n",
    "import pandas as pd\n",
    "from sklearn.preprocessing import StandardScaler, MinMaxScaler, RobustScaler\n",
    "from imblearn.under_sampling import RandomUnderSampler\n",
    "from imblearn.over_sampling import SMOTE\n",
    "from sklearn.neighbors import KNeighborsClassifier\n",
    "from sklearn.metrics import classification_report\n",
    "\n",
    "X_train = df_train[FEATURES]\n",
    "y_train = df_train[LABELS]\n",
    "X_test = df_test[FEATURES]\n",
    "y_test = df_test[LABELS]\n",
    "\n",
    "# Step 1: Scaling the data\n",
    "scaler = StandardScaler()\n",
    "# Use the pro suffix to indicate that the data is processed, to avoid overwriting the \n",
    "# original data, and to facilitate easy commenting out of the processing steps\n",
    "X_train_scaled = scaler.fit_transform(X_train) \n",
    "X_test_scaled = scaler.transform(X_test)\n",
    "\n",
    "# Inspect the initial class distribution\n",
    "class_counts = y_train.value_counts()\n",
    "print(\"Initial class distribution in y_train:\\n\", class_counts)\n",
    "\n",
    "# Set desired levels for undersampling and oversampling\n",
    "undersample_level = 110000  # Target number of samples for majority classes after undersampling\n",
    "oversample_level = 75000   # Target number of samples for minority classes after oversampling\n",
    "\n",
    "# Define undersampling strategy for RandomUnderSampler\n",
    "majority_classes = class_counts[class_counts > undersample_level].index\n",
    "undersample_dict = {cls: undersample_level for cls in majority_classes}\n",
    "\n",
    "# Apply RandomUnderSampler to reduce majority classes\n",
    "undersampler = RandomUnderSampler(sampling_strategy=undersample_dict, random_state=42)\n",
    "X_train_resampled, y_train_resampled = undersampler.fit_resample(X_train_scaled, y_train)\n",
    "\n",
    "# Inspect class distribution after undersampling\n",
    "resampled_class_counts = pd.Series(y_train_resampled).value_counts()\n",
    "print(\"Class distribution after undersampling:\\n\", resampled_class_counts)\n",
    "\n",
    "# Set oversampling strategy for SMOTE using a dictionary\n",
    "# Here, each class below the desired oversample level will be increased to oversample_level\n",
    "oversample_dict = {\n",
    "    cls: oversample_level for cls in resampled_class_counts.index if resampled_class_counts[cls] < oversample_level\n",
    "}\n",
    "\n",
    "# Apply SMOTE to oversample minority classes\n",
    "smote = SMOTE(sampling_strategy=oversample_dict, random_state=42)\n",
    "X_train_final, y_train_final = smote.fit_resample(X_train_resampled, y_train_resampled)\n",
    "\n",
    "# Inspect class distribution after oversampling\n",
    "final_class_counts = pd.Series(y_train_final).value_counts()\n",
    "print(\"Class distribution after oversampling:\\n\", final_class_counts)"
   ]
  },
  {
   "cell_type": "markdown",
   "metadata": {},
   "source": [
    "Inspecting the scaled and resampled features"
   ]
  },
  {
   "cell_type": "code",
   "execution_count": 31,
   "metadata": {},
   "outputs": [
    {
     "data": {
      "text/html": [
       "<div>\n",
       "<style scoped>\n",
       "    .dataframe tbody tr th:only-of-type {\n",
       "        vertical-align: middle;\n",
       "    }\n",
       "\n",
       "    .dataframe tbody tr th {\n",
       "        vertical-align: top;\n",
       "    }\n",
       "\n",
       "    .dataframe thead th {\n",
       "        text-align: right;\n",
       "    }\n",
       "</style>\n",
       "<table border=\"1\" class=\"dataframe\">\n",
       "  <thead>\n",
       "    <tr style=\"text-align: right;\">\n",
       "      <th></th>\n",
       "      <th>Depth (m)</th>\n",
       "      <th>qc (MPa)</th>\n",
       "      <th>fs (kPa)</th>\n",
       "      <th>Rf (%)</th>\n",
       "      <th>σ,v (kPa)</th>\n",
       "      <th>u0 (kPa)</th>\n",
       "      <th>σ',v (kPa)</th>\n",
       "      <th>Qtn (-)</th>\n",
       "      <th>Fr (%)</th>\n",
       "    </tr>\n",
       "  </thead>\n",
       "  <tbody>\n",
       "    <tr>\n",
       "      <th>0</th>\n",
       "      <td>-0.945435</td>\n",
       "      <td>1.052641</td>\n",
       "      <td>0.524283</td>\n",
       "      <td>-0.759694</td>\n",
       "      <td>-0.945435</td>\n",
       "      <td>-0.868345</td>\n",
       "      <td>-1.004867</td>\n",
       "      <td>1.472888</td>\n",
       "      <td>-0.828425</td>\n",
       "    </tr>\n",
       "    <tr>\n",
       "      <th>1</th>\n",
       "      <td>-0.944481</td>\n",
       "      <td>1.114847</td>\n",
       "      <td>0.642760</td>\n",
       "      <td>-0.739400</td>\n",
       "      <td>-0.944481</td>\n",
       "      <td>-0.867372</td>\n",
       "      <td>-1.003953</td>\n",
       "      <td>1.546258</td>\n",
       "      <td>-0.812933</td>\n",
       "    </tr>\n",
       "    <tr>\n",
       "      <th>2</th>\n",
       "      <td>-0.943527</td>\n",
       "      <td>1.147194</td>\n",
       "      <td>0.599532</td>\n",
       "      <td>-0.759694</td>\n",
       "      <td>-0.943527</td>\n",
       "      <td>-0.866497</td>\n",
       "      <td>-1.002938</td>\n",
       "      <td>1.568050</td>\n",
       "      <td>-0.828425</td>\n",
       "    </tr>\n",
       "    <tr>\n",
       "      <th>3</th>\n",
       "      <td>-0.942573</td>\n",
       "      <td>1.240502</td>\n",
       "      <td>0.557905</td>\n",
       "      <td>-0.786754</td>\n",
       "      <td>-0.942573</td>\n",
       "      <td>-0.865525</td>\n",
       "      <td>-1.002025</td>\n",
       "      <td>1.645988</td>\n",
       "      <td>-0.854246</td>\n",
       "    </tr>\n",
       "    <tr>\n",
       "      <th>4</th>\n",
       "      <td>-0.941619</td>\n",
       "      <td>1.340031</td>\n",
       "      <td>0.437827</td>\n",
       "      <td>-0.840872</td>\n",
       "      <td>-0.941619</td>\n",
       "      <td>-0.864552</td>\n",
       "      <td>-1.001111</td>\n",
       "      <td>1.714981</td>\n",
       "      <td>-0.890395</td>\n",
       "    </tr>\n",
       "  </tbody>\n",
       "</table>\n",
       "</div>"
      ],
      "text/plain": [
       "   Depth (m)  qc (MPa)  fs (kPa)    Rf (%)  σ,v (kPa)  u0 (kPa)  σ',v (kPa)  \\\n",
       "0  -0.945435  1.052641  0.524283 -0.759694  -0.945435 -0.868345   -1.004867   \n",
       "1  -0.944481  1.114847  0.642760 -0.739400  -0.944481 -0.867372   -1.003953   \n",
       "2  -0.943527  1.147194  0.599532 -0.759694  -0.943527 -0.866497   -1.002938   \n",
       "3  -0.942573  1.240502  0.557905 -0.786754  -0.942573 -0.865525   -1.002025   \n",
       "4  -0.941619  1.340031  0.437827 -0.840872  -0.941619 -0.864552   -1.001111   \n",
       "\n",
       "    Qtn (-)    Fr (%)  \n",
       "0  1.472888 -0.828425  \n",
       "1  1.546258 -0.812933  \n",
       "2  1.568050 -0.828425  \n",
       "3  1.645988 -0.854246  \n",
       "4  1.714981 -0.890395  "
      ]
     },
     "execution_count": 31,
     "metadata": {},
     "output_type": "execute_result"
    }
   ],
   "source": [
    "X_train_final = pd.DataFrame(X_train_final, columns=FEATURES)\n",
    "X_train_final.head()"
   ]
  },
  {
   "cell_type": "code",
   "execution_count": 32,
   "metadata": {},
   "outputs": [
    {
     "name": "stderr",
     "output_type": "stream",
     "text": [
      "c:\\Users\\TFH\\AppData\\Local\\pypoetry\\Cache\\virtualenvs\\cpt-to-soiltype-BQnqxes--py3.11\\Lib\\site-packages\\sklearn\\base.py:493: UserWarning: X does not have valid feature names, but KNeighborsClassifier was fitted with feature names\n",
      "  warnings.warn(\n"
     ]
    },
    {
     "name": "stdout",
     "output_type": "stream",
     "text": [
      "              precision    recall  f1-score   support\n",
      "\n",
      "         1.0       0.39      0.46      0.43     24578\n",
      "         2.0       0.44      0.42      0.43     46628\n",
      "         3.0       0.19      0.21      0.20      2196\n",
      "         4.0       0.29      0.29      0.29     22981\n",
      "         5.0       0.41      0.36      0.38     47640\n",
      "         6.0       0.37      0.42      0.39     41385\n",
      "         7.0       0.44      0.41      0.43     35553\n",
      "\n",
      "    accuracy                           0.39    220961\n",
      "   macro avg       0.36      0.37      0.36    220961\n",
      "weighted avg       0.40      0.39      0.39    220961\n",
      "\n"
     ]
    }
   ],
   "source": [
    "# Step 3: Train the KNN model\n",
    "knn_model = KNeighborsClassifier(n_neighbors=5)\n",
    "knn_model.fit(X_train_final, y_train_final)\n",
    "\n",
    "# Step 4: Make predictions and evaluate\n",
    "y_pred_final = knn_model.predict(X_test_scaled)\n",
    "print(classification_report(y_test, y_pred_final))\n"
   ]
  },
  {
   "cell_type": "markdown",
   "metadata": {},
   "source": [
    "## Pipeline for training and evaluation\n",
    "To avoid data leakage and for a more condense implementation we use a `Pipeline` from `sklearn`. Since we use `SMOTE` for balancing the dataset, we need to use the `imbalanced-learn` version of the `Pipeline`."
   ]
  },
  {
   "cell_type": "code",
   "execution_count": 33,
   "metadata": {},
   "outputs": [
    {
     "name": "stdout",
     "output_type": "stream",
     "text": [
      "              precision    recall  f1-score   support\n",
      "\n",
      "         1.0       0.39      0.46      0.43     24578\n",
      "         2.0       0.44      0.42      0.43     46628\n",
      "         3.0       0.19      0.21      0.20      2196\n",
      "         4.0       0.29      0.29      0.29     22981\n",
      "         5.0       0.41      0.36      0.38     47640\n",
      "         6.0       0.37      0.42      0.39     41385\n",
      "         7.0       0.44      0.41      0.43     35553\n",
      "\n",
      "    accuracy                           0.39    220961\n",
      "   macro avg       0.36      0.37      0.36    220961\n",
      "weighted avg       0.40      0.39      0.39    220961\n",
      "\n"
     ]
    }
   ],
   "source": [
    "from imblearn.pipeline import make_pipeline\n",
    "from sklearn.preprocessing import StandardScaler\n",
    "from imblearn.under_sampling import RandomUnderSampler\n",
    "from imblearn.over_sampling import SMOTE\n",
    "from sklearn.neighbors import KNeighborsClassifier\n",
    "from sklearn.metrics import classification_report\n",
    "\n",
    "# Define feature and label sets\n",
    "X_train = df_train[FEATURES]\n",
    "y_train = df_train[LABELS]\n",
    "X_test = df_test[FEATURES]\n",
    "y_test = df_test[LABELS]\n",
    "\n",
    "# Set desired levels for undersampling and oversampling\n",
    "undersample_level = 110000\n",
    "oversample_level = 75000\n",
    "\n",
    "# Define undersampling strategy\n",
    "undersample_dict = {\n",
    "    cls: undersample_level for cls in y_train.value_counts().index if y_train.value_counts()[cls] > undersample_level\n",
    "}\n",
    "\n",
    "# Define oversampling strategy\n",
    "oversample_dict = {\n",
    "    cls: oversample_level for cls in y_train.value_counts().index if y_train.value_counts()[cls] < oversample_level\n",
    "}\n",
    "\n",
    "# Create pipeline for preprocessing and model fitting\n",
    "pipeline = make_pipeline(\n",
    "    StandardScaler(),\n",
    "    RandomUnderSampler(sampling_strategy=undersample_dict, random_state=42),\n",
    "    SMOTE(sampling_strategy=oversample_dict, random_state=42),\n",
    "    KNeighborsClassifier(n_neighbors=5)\n",
    ")\n",
    "\n",
    "# Fit the model\n",
    "pipeline.fit(X_train, y_train)\n",
    "\n",
    "# Make predictions and evaluate\n",
    "y_pred_final = pipeline.predict(X_test)\n",
    "print(classification_report(y_test, y_pred_final))\n"
   ]
  },
  {
   "cell_type": "code",
   "execution_count": 34,
   "metadata": {},
   "outputs": [
    {
     "data": {
      "image/png": "[encoded data removed]",
      "text/plain": [
       "<Figure size 640x480 with 2 Axes>"
      ]
     },
     "metadata": {},
     "output_type": "display_data"
    }
   ],
   "source": [
    "# Step 6: Compute confusion matrix\n",
    "from sklearn.metrics import confusion_matrix\n",
    "import matplotlib.pyplot as plt\n",
    "from sklearn.metrics import ConfusionMatrixDisplay\n",
    "conf_matrix = confusion_matrix(y_test, y_pred_final, normalize='true')\n",
    "\n",
    "# Visualise the confusion matrix in the standard scikit-learn way\n",
    "disp = ConfusionMatrixDisplay(confusion_matrix=conf_matrix, display_labels=knn_model.classes_)\n",
    "disp.plot(cmap=\"Blues\")\n",
    "plt.title(\"Confusion Matrix\")\n",
    "plt.show()"
   ]
  },
  {
   "cell_type": "markdown",
   "metadata": {},
   "source": [
    "## Cross validation"
   ]
  },
  {
   "cell_type": "markdown",
   "metadata": {},
   "source": [
    "Cross validation with a standard stratified k-fold splitter."
   ]
  },
  {
   "cell_type": "code",
   "execution_count": null,
   "metadata": {},
   "outputs": [
    {
     "name": "stdout",
     "output_type": "stream",
     "text": [
      "Cross-Validation Results:\n",
      "Balanced Accuracy: 0.7482288238743285\n",
      "Precision: 0.67381852720243\n",
      "Recall: 0.7482288238743285\n",
      "Accuracy: 0.7482056321419547\n",
      "[0.74745281 0.74779364 0.7460119  0.74933314 0.75055263]\n"
     ]
    }
   ],
   "source": [
    "from sklearn.model_selection import cross_validate, StratifiedKFold\n",
    "\n",
    "X_combined = df_full[FEATURES]\n",
    "y_combined = df_full[LABELS]\n",
    "\n",
    "# Create pipeline for scaling, oversampling, and KNN model\n",
    "pipeline = make_pipeline(\n",
    "    StandardScaler(),\n",
    "    SMOTE(random_state=42, sampling_strategy='auto'),\n",
    "    KNeighborsClassifier(n_neighbors=5)\n",
    ")\n",
    "\n",
    "# Perform cross-validation\n",
    "cv = StratifiedKFold(n_splits=5, shuffle=True, random_state=42)\n",
    "scoring = ['balanced_accuracy', 'precision_macro', 'recall_macro', 'accuracy']\n",
    "cross_val_results = cross_validate(pipeline, X_combined, y_combined, cv=cv, scoring=scoring)\n",
    "\n",
    "# Print cross-validation results\n",
    "print(\"Cross-Validation Results:\")\n",
    "print(\"Balanced Accuracy:\", cross_val_results['test_balanced_accuracy'].mean())\n",
    "print(\"Precision:\", cross_val_results['test_precision_macro'].mean())\n",
    "print(\"Recall:\", cross_val_results['test_recall_macro'].mean())\n",
    "print(\"Accuracy:\", cross_val_results['test_accuracy'].mean())\n",
    "\n",
    "# print all values for balanced accuracy\n",
    "print(cross_val_results['test_balanced_accuracy'])\n"
   ]
  },
  {
   "cell_type": "markdown",
   "metadata": {},
   "source": [
    "New try with a grouped splitter which dont split the same drillhole in train and test set."
   ]
  },
  {
   "cell_type": "code",
   "execution_count": null,
   "metadata": {},
   "outputs": [
    {
     "name": "stdout",
     "output_type": "stream",
     "text": [
      "Cross-Validation Results:\n",
      "Balanced Accuracy: 0.36366846531943675\n",
      "Precision: 0.3379056758446408\n",
      "Recall: 0.36366846531943675\n",
      "Accuracy: 0.3855910042160221\n",
      "[0.35103631 0.36325454 0.36486082 0.36499763 0.37419303]\n"
     ]
    }
   ],
   "source": [
    "from sklearn.model_selection import cross_validate, GroupKFold\n",
    "\n",
    "X_combined = df_full[FEATURES + [\"ID\"]]\n",
    "y_combined = df_full[LABELS]\n",
    "\n",
    "groups = X_combined[\"ID\"]  # Use the drillhole ID to group the data\n",
    "\n",
    "# Drop the ID column for training\n",
    "X_combined = X_combined[FEATURES]\n",
    "\n",
    "# Create pipeline for scaling, oversampling, and KNN model\n",
    "pipeline = make_pipeline(\n",
    "    StandardScaler(),\n",
    "    SMOTE(random_state=42, sampling_strategy='auto'),\n",
    "    KNeighborsClassifier(n_neighbors=5)\n",
    ")\n",
    "\n",
    "# Perform cross-validation using GroupKFold to ensure no drillhole is split between train and test\n",
    "cv = GroupKFold(n_splits=5)\n",
    "scoring = ['balanced_accuracy', 'precision_macro', 'recall_macro', 'accuracy']\n",
    "cross_val_results = cross_validate(pipeline, X_combined, y_combined, cv=cv, groups=groups, scoring=scoring)\n",
    "\n",
    "# Print cross-validation results\n",
    "print(\"Cross-Validation Results:\")\n",
    "print(\"Balanced Accuracy:\", cross_val_results['test_balanced_accuracy'].mean())\n",
    "print(\"Precision:\", cross_val_results['test_precision_macro'].mean())\n",
    "print(\"Recall:\", cross_val_results['test_recall_macro'].mean())\n",
    "print(\"Accuracy:\", cross_val_results['test_accuracy'].mean())\n",
    "\n",
    "# print all values for balanced accuracy\n",
    "print(cross_val_results['test_balanced_accuracy'])"
   ]
  }
 ],
 "metadata": {
  "kernelspec": {
   "display_name": "cpt-to-soiltype-BQnqxes--py3.11",
   "language": "python",
   "name": "python3"
  },
  "language_info": {
   "codemirror_mode": {
    "name": "ipython",
    "version": 3
   },
   "file_extension": ".py",
   "mimetype": "text/x-python",
   "name": "python",
   "nbconvert_exporter": "python",
   "pygments_lexer": "ipython3",
   "version": "3.11.1"
  }
 },
 "nbformat": 4,
 "nbformat_minor": 2
}

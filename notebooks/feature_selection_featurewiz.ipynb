{
 "cells": [
  {
   "cell_type": "markdown",
   "id": "ce100854",
   "metadata": {},
   "source": [
    "# Feature Selection in Geotechnics with Featurewiz\n",
    "\n",
    "This notebook is a hands-on tutorial that demonstrates how to perform feature selection in geotechnical datasets using the `featurewiz` library. We'll:\n",
    "\n",
    "- Introduce the intuition behind feature selection and why it matters for geotechnical ML projects\n",
    "- Create a small dummy CPT-like dataset and run `featurewiz`\n",
    "- Optionally use provided raw datasets (earthquake and CPT CPT_PremstallerGeotechnik_revised.csv) to show a realistic example\n",
    "- Visualize selected features and compare simple model performance before/after selection\n",
    "\n",
    "You can run cells top-to-bottom during class."
   ]
  },
  {
   "cell_type": "markdown",
   "id": "d28e2dbc",
   "metadata": {},
   "source": [
    "## Theory — Why Feature Selection?\n",
    "\n",
    "Feature selection aims to pick a subset of relevant variables that are informative for predicting a target. Benefits include:\n",
    "- Simpler models that generalize better\n",
    "- Reduced overfitting and improved interpretability\n",
    "- Faster training and inference\n",
    "\n",
    "`featurewiz` automates feature selection using:\n",
    "- SULOV (Searching for Uncorrelated List Of Variables) to remove highly correlated and low-importance features\n",
    "- Recursive feature elimination style steps based on model importances (using lightGBM/XGBoost/catboost or RF)\n",
    "- Optional feature engineering (not used here for clarity)"
   ]
  },
  {
   "cell_type": "code",
   "execution_count": 2,
   "id": "0d875bae",
   "metadata": {},
   "outputs": [
    {
     "name": "stdout",
     "output_type": "stream",
     "text": [
      "Imported lazytransform v1.18. \n",
      "\n",
      "Imported featurewiz 0.5.82. Use the following syntax:\n",
      "    >>> wiz = FeatureWiz(feature_engg = '', nrows=None, transform_target=True,\n",
      "        \t\tcategory_encoders=\"auto\", auto_encoders='VAE', ae_options={},\n",
      "        \t\tadd_missing=False, imbalanced=False, verbose=0)\n",
      "    >>> X_train_selected, y_train = wiz.fit_transform(X_train, y_train)\n",
      "    >>> X_test_selected = wiz.transform(X_test)\n",
      "    >>> selected_features = wiz.features\n",
      "    \n",
      "featurewiz version OK; data dir exists: False\n"
     ]
    }
   ],
   "source": [
    "# Imports and setup\n",
    "from pathlib import Path\n",
    "\n",
    "import numpy as np\n",
    "import pandas as pd\n",
    "import plotly.express as px\n",
    "\n",
    "# featurewiz imports\n",
    "from featurewiz import featurewiz\n",
    "from sklearn.ensemble import RandomForestClassifier\n",
    "from sklearn.metrics import classification_report\n",
    "from sklearn.model_selection import train_test_split\n",
    "\n",
    "DATA_DIR = Path(\"data\")\n",
    "RAW_DIR = DATA_DIR / \"raw\"\n",
    "SEED = 42\n",
    "np.random.seed(SEED)\n",
    "\n",
    "print(\"featurewiz version OK; data dir exists:\", RAW_DIR.exists())"
   ]
  },
  {
   "cell_type": "markdown",
   "id": "3efe9fe1",
   "metadata": {},
   "source": [
    "## Part 1 — Dummy CPT-like dataset\n",
    "\n",
    "We synthesize a small dataset that mimics common CPT features: depth, cone resistance `qc`, sleeve friction `fs`, friction ratio `Rf`, and a few engineered stress proxies. We'll define a categorical soil type target with 3 classes (e.g., coarse, intermediate, fine) based on thresholds plus noise."
   ]
  },
  {
   "cell_type": "code",
   "execution_count": 3,
   "id": "2ada511c",
   "metadata": {},
   "outputs": [
    {
     "data": {
      "application/vnd.microsoft.datawrangler.viewer.v0+json": {
       "columns": [
        {
         "name": "index",
         "rawType": "int64",
         "type": "integer"
        },
        {
         "name": "depth",
         "rawType": "float64",
         "type": "float"
        },
        {
         "name": "qc",
         "rawType": "float64",
         "type": "float"
        },
        {
         "name": "fs",
         "rawType": "float64",
         "type": "float"
        },
        {
         "name": "Rf",
         "rawType": "float64",
         "type": "float"
        },
        {
         "name": "sigma_v (kPa)",
         "rawType": "float64",
         "type": "float"
        },
        {
         "name": "sigma_v' (kPa)",
         "rawType": "float64",
         "type": "float"
        },
        {
         "name": "Qtn",
         "rawType": "float64",
         "type": "float"
        },
        {
         "name": "Fr",
         "rawType": "float64",
         "type": "float"
        },
        {
         "name": "soil_type",
         "rawType": "int32",
         "type": "integer"
        }
       ],
       "ref": "eea4d80a-b020-47e4-a8a5-b26dd6259420",
       "rows": [
        [
         "0",
         "0.5",
         "2.9230858011975203",
         "0.1356067643347255",
         "4.639163102483668",
         "10.9",
         "10.9",
         "2.9230858011975203",
         "4.639164689560962",
         "1"
        ],
        [
         "1",
         "0.5369211514392991",
         "2.626246289375762",
         "0.05405899457328276",
         "2.058412198728329",
         "10.966458072590738",
         "10.966458072590738",
         "2.626246289375762",
         "2.058412982513234",
         "1"
        ],
        [
         "2",
         "0.5738423028785983",
         "3.0180811379168198",
         "0.09649615759031095",
         "3.1972674427249284",
         "11.032916145181478",
         "11.032916145181478",
         "3.0180811379168198",
         "3.197268502095865",
         "2"
        ],
        [
         "3",
         "0.6107634543178974",
         "3.6240035062802125",
         "0.08682786766179004",
         "2.3959094838685173",
         "11.099374217772215",
         "11.099374217772215",
         "3.6240035062802125",
         "2.3959101449908036",
         "2"
        ],
        [
         "4",
         "0.6476846057571966",
         "2.6035114727304327",
         "0.057675902021811595",
         "2.2153111469953517",
         "11.165832290362953",
         "11.165832290362953",
         "2.6035114727304327",
         "2.215311997888912",
         "1"
        ]
       ],
       "shape": {
        "columns": 9,
        "rows": 5
       }
      },
      "text/html": [
       "<div>\n",
       "<style scoped>\n",
       "    .dataframe tbody tr th:only-of-type {\n",
       "        vertical-align: middle;\n",
       "    }\n",
       "\n",
       "    .dataframe tbody tr th {\n",
       "        vertical-align: top;\n",
       "    }\n",
       "\n",
       "    .dataframe thead th {\n",
       "        text-align: right;\n",
       "    }\n",
       "</style>\n",
       "<table border=\"1\" class=\"dataframe\">\n",
       "  <thead>\n",
       "    <tr style=\"text-align: right;\">\n",
       "      <th></th>\n",
       "      <th>depth</th>\n",
       "      <th>qc</th>\n",
       "      <th>fs</th>\n",
       "      <th>Rf</th>\n",
       "      <th>sigma_v (kPa)</th>\n",
       "      <th>sigma_v' (kPa)</th>\n",
       "      <th>Qtn</th>\n",
       "      <th>Fr</th>\n",
       "      <th>soil_type</th>\n",
       "    </tr>\n",
       "  </thead>\n",
       "  <tbody>\n",
       "    <tr>\n",
       "      <th>0</th>\n",
       "      <td>0.500000</td>\n",
       "      <td>2.923086</td>\n",
       "      <td>0.135607</td>\n",
       "      <td>4.639163</td>\n",
       "      <td>10.900000</td>\n",
       "      <td>10.900000</td>\n",
       "      <td>2.923086</td>\n",
       "      <td>4.639165</td>\n",
       "      <td>1</td>\n",
       "    </tr>\n",
       "    <tr>\n",
       "      <th>1</th>\n",
       "      <td>0.536921</td>\n",
       "      <td>2.626246</td>\n",
       "      <td>0.054059</td>\n",
       "      <td>2.058412</td>\n",
       "      <td>10.966458</td>\n",
       "      <td>10.966458</td>\n",
       "      <td>2.626246</td>\n",
       "      <td>2.058413</td>\n",
       "      <td>1</td>\n",
       "    </tr>\n",
       "    <tr>\n",
       "      <th>2</th>\n",
       "      <td>0.573842</td>\n",
       "      <td>3.018081</td>\n",
       "      <td>0.096496</td>\n",
       "      <td>3.197267</td>\n",
       "      <td>11.032916</td>\n",
       "      <td>11.032916</td>\n",
       "      <td>3.018081</td>\n",
       "      <td>3.197269</td>\n",
       "      <td>2</td>\n",
       "    </tr>\n",
       "    <tr>\n",
       "      <th>3</th>\n",
       "      <td>0.610763</td>\n",
       "      <td>3.624004</td>\n",
       "      <td>0.086828</td>\n",
       "      <td>2.395909</td>\n",
       "      <td>11.099374</td>\n",
       "      <td>11.099374</td>\n",
       "      <td>3.624004</td>\n",
       "      <td>2.395910</td>\n",
       "      <td>2</td>\n",
       "    </tr>\n",
       "    <tr>\n",
       "      <th>4</th>\n",
       "      <td>0.647685</td>\n",
       "      <td>2.603511</td>\n",
       "      <td>0.057676</td>\n",
       "      <td>2.215311</td>\n",
       "      <td>11.165832</td>\n",
       "      <td>11.165832</td>\n",
       "      <td>2.603511</td>\n",
       "      <td>2.215312</td>\n",
       "      <td>1</td>\n",
       "    </tr>\n",
       "  </tbody>\n",
       "</table>\n",
       "</div>"
      ],
      "text/plain": [
       "      depth        qc        fs        Rf  sigma_v (kPa)  sigma_v' (kPa)  \\\n",
       "0  0.500000  2.923086  0.135607  4.639163      10.900000       10.900000   \n",
       "1  0.536921  2.626246  0.054059  2.058412      10.966458       10.966458   \n",
       "2  0.573842  3.018081  0.096496  3.197267      11.032916       11.032916   \n",
       "3  0.610763  3.624004  0.086828  2.395909      11.099374       11.099374   \n",
       "4  0.647685  2.603511  0.057676  2.215311      11.165832       11.165832   \n",
       "\n",
       "        Qtn        Fr  soil_type  \n",
       "0  2.923086  4.639165          1  \n",
       "1  2.626246  2.058413          1  \n",
       "2  3.018081  3.197269          2  \n",
       "3  3.624004  2.395910          2  \n",
       "4  2.603511  2.215312          1  "
      ]
     },
     "execution_count": 3,
     "metadata": {},
     "output_type": "execute_result"
    }
   ],
   "source": [
    "# Create dummy CPT-like dataset\n",
    "n = 800\n",
    "depth = np.linspace(0.5, 30, n)\n",
    "qc = 1.5 + 0.15 * depth + np.random.lognormal(mean=0.1, sigma=0.4, size=n)\n",
    "fs = 0.03 * qc + np.random.normal(0, 0.05, size=n) + 0.002 * depth\n",
    "Rf = 100 * fs / (qc + 1e-6)\n",
    "sigma_v = 10 + 1.8 * depth  # kPa, simplified total vertical stress proxy\n",
    "sigma_v_eff = sigma_v - 9.8 * np.clip(depth - 1.0, 0, None) * 0.5  # oversimplified\n",
    "Qtn = qc / np.maximum(1.0, sigma_v_eff / 100)\n",
    "Fr = 100 * fs / np.maximum(1.0, qc)\n",
    "\n",
    "# Construct a soil-type label influenced by qc and Rf with noise\n",
    "soil_raw = 1 * (qc < 3.0) + 2 * ((qc >= 3.0) & (qc < 7.0)) + 3 * (qc >= 7.0)\n",
    "soil_noise = np.random.binomial(1, 0.08, size=n)\n",
    "soil_type = np.clip(soil_raw + soil_noise - np.random.binomial(1, 0.08, size=n), 1, 3)\n",
    "\n",
    "df_dummy = pd.DataFrame(\n",
    "    {\n",
    "        \"depth\": depth,\n",
    "        \"qc\": qc,\n",
    "        \"fs\": fs,\n",
    "        \"Rf\": Rf,\n",
    "        \"sigma_v (kPa)\": sigma_v,\n",
    "        \"sigma_v' (kPa)\": sigma_v_eff,\n",
    "        \"Qtn\": Qtn,\n",
    "        \"Fr\": Fr,\n",
    "        \"soil_type\": soil_type.astype(int),\n",
    "    }\n",
    ")\n",
    "df_dummy.head()"
   ]
  },
  {
   "cell_type": "code",
   "execution_count": 4,
   "id": "919825d1",
   "metadata": {},
   "outputs": [
    {
     "data": {
      "application/vnd.plotly.v1+json": {
       "config": {
        "plotlyServerURL": "https://plot.ly"
       },
       "data": [
        {
         "hovertemplate": "qc=%{x}<br>Rf=%{y}<br>soil_type=%{marker.color}<extra></extra>",
         "legendgroup": "",
         "marker": {
          "color": {
           "bdata": "AQAAAAEAAAACAAAAAgAAAAEAAAABAAAAAgAAAAIAAAABAAAAAQAAAAEAAAABAAAAAQAAAAEAAAABAAAAAQAAAAIAAAABAAAAAQAAAAEAAAACAAAAAQAAAAEAAAABAAAAAQAAAAEAAAABAAAAAgAAAAEAAAACAAAAAQAAAAIAAAABAAAAAQAAAAIAAAABAAAAAQAAAAEAAAABAAAAAQAAAAIAAAABAAAAAQAAAAEAAAABAAAAAQAAAAEAAAADAAAAAgAAAAEAAAACAAAAAQAAAAEAAAACAAAAAgAAAAIAAAABAAAAAQAAAAIAAAACAAAAAgAAAAEAAAACAAAAAQAAAAIAAAABAAAAAgAAAAIAAAACAAAAAQAAAAIAAAACAAAAAgAAAAIAAAABAAAAAgAAAAEAAAABAAAAAgAAAAEAAAACAAAAAgAAAAIAAAABAAAAAQAAAAEAAAACAAAAAQAAAAEAAAACAAAAAgAAAAIAAAABAAAAAgAAAAIAAAABAAAAAgAAAAIAAAACAAAAAgAAAAEAAAABAAAAAgAAAAIAAAACAAAAAgAAAAEAAAACAAAAAgAAAAIAAAABAAAAAgAAAAIAAAACAAAAAgAAAAIAAAACAAAAAQAAAAIAAAACAAAAAgAAAAIAAAACAAAAAQAAAAIAAAACAAAAAgAAAAIAAAACAAAAAgAAAAEAAAACAAAAAgAAAAIAAAACAAAAAgAAAAIAAAACAAAAAwAAAAIAAAACAAAAAgAAAAEAAAACAAAAAgAAAAIAAAACAAAAAgAAAAIAAAACAAAAAgAAAAMAAAACAAAAAgAAAAIAAAACAAAAAgAAAAIAAAACAAAAAgAAAAIAAAACAAAAAgAAAAIAAAABAAAAAgAAAAIAAAACAAAAAgAAAAIAAAACAAAAAgAAAAIAAAACAAAAAgAAAAEAAAACAAAAAgAAAAIAAAABAAAAAgAAAAMAAAACAAAAAgAAAAIAAAACAAAAAgAAAAIAAAACAAAAAgAAAAIAAAACAAAAAgAAAAEAAAACAAAAAgAAAAIAAAABAAAAAgAAAAIAAAACAAAAAgAAAAIAAAACAAAAAgAAAAEAAAACAAAAAgAAAAIAAAADAAAAAgAAAAIAAAADAAAAAgAAAAEAAAACAAAAAgAAAAEAAAACAAAAAgAAAAIAAAACAAAAAgAAAAIAAAADAAAAAgAAAAIAAAACAAAAAgAAAAEAAAACAAAAAgAAAAIAAAACAAAAAQAAAAIAAAACAAAAAgAAAAIAAAACAAAAAgAAAAIAAAADAAAAAgAAAAIAAAACAAAAAgAAAAIAAAACAAAAAgAAAAIAAAACAAAAAwAAAAIAAAACAAAAAgAAAAIAAAACAAAAAgAAAAIAAAACAAAAAgAAAAIAAAADAAAAAgAAAAIAAAABAAAAAgAAAAIAAAACAAAAAQAAAAIAAAACAAAAAgAAAAIAAAACAAAAAgAAAAIAAAACAAAAAQAAAAIAAAACAAAAAwAAAAIAAAACAAAAAgAAAAIAAAACAAAAAgAAAAIAAAACAAAAAgAAAAIAAAACAAAAAQAAAAIAAAACAAAAAgAAAAIAAAACAAAAAgAAAAIAAAACAAAAAgAAAAEAAAACAAAAAgAAAAIAAAACAAAAAgAAAAIAAAACAAAAAgAAAAIAAAACAAAAAgAAAAIAAAACAAAAAgAAAAIAAAACAAAAAgAAAAIAAAACAAAAAgAAAAIAAAACAAAAAgAAAAIAAAACAAAAAQAAAAIAAAACAAAAAgAAAAEAAAACAAAAAgAAAAIAAAACAAAAAgAAAAIAAAACAAAAAgAAAAIAAAACAAAAAgAAAAMAAAACAAAAAgAAAAIAAAACAAAAAgAAAAIAAAADAAAAAgAAAAIAAAACAAAAAgAAAAIAAAACAAAAAgAAAAIAAAACAAAAAgAAAAIAAAADAAAAAgAAAAIAAAACAAAAAgAAAAMAAAACAAAAAwAAAAIAAAACAAAAAQAAAAIAAAACAAAAAgAAAAIAAAACAAAAAgAAAAIAAAACAAAAAgAAAAIAAAACAAAAAgAAAAIAAAADAAAAAgAAAAIAAAACAAAAAgAAAAIAAAACAAAAAgAAAAIAAAADAAAAAgAAAAIAAAACAAAAAgAAAAIAAAACAAAAAgAAAAIAAAACAAAAAgAAAAMAAAACAAAAAgAAAAIAAAACAAAAAgAAAAIAAAACAAAAAgAAAAIAAAACAAAAAwAAAAIAAAACAAAAAwAAAAIAAAACAAAAAgAAAAIAAAACAAAAAgAAAAIAAAACAAAAAQAAAAIAAAACAAAAAgAAAAMAAAACAAAAAgAAAAEAAAACAAAAAwAAAAIAAAACAAAAAgAAAAIAAAACAAAAAgAAAAIAAAACAAAAAgAAAAIAAAACAAAAAwAAAAIAAAACAAAAAgAAAAIAAAACAAAAAgAAAAIAAAACAAAAAgAAAAIAAAACAAAAAwAAAAIAAAADAAAAAgAAAAIAAAACAAAAAgAAAAIAAAACAAAAAgAAAAIAAAACAAAAAgAAAAMAAAACAAAAAgAAAAIAAAACAAAAAgAAAAIAAAACAAAAAgAAAAIAAAACAAAAAgAAAAIAAAADAAAAAgAAAAMAAAACAAAAAgAAAAIAAAACAAAAAgAAAAIAAAACAAAAAgAAAAEAAAACAAAAAgAAAAIAAAACAAAAAwAAAAIAAAACAAAAAgAAAAIAAAACAAAAAgAAAAMAAAACAAAAAgAAAAIAAAACAAAAAgAAAAIAAAACAAAAAgAAAAIAAAACAAAAAgAAAAIAAAACAAAAAgAAAAIAAAACAAAAAgAAAAIAAAABAAAAAgAAAAIAAAACAAAAAgAAAAIAAAACAAAAAQAAAAIAAAACAAAAAgAAAAIAAAABAAAAAgAAAAIAAAACAAAAAgAAAAIAAAACAAAAAgAAAAIAAAACAAAAAgAAAAIAAAACAAAAAgAAAAIAAAACAAAAAwAAAAIAAAADAAAAAgAAAAIAAAACAAAAAgAAAAIAAAABAAAAAgAAAAIAAAACAAAAAgAAAAMAAAACAAAAAgAAAAEAAAACAAAAAgAAAAIAAAABAAAAAQAAAAMAAAADAAAAAgAAAAIAAAACAAAAAgAAAAIAAAACAAAAAgAAAAEAAAACAAAAAgAAAAIAAAACAAAAAgAAAAIAAAACAAAAAgAAAAIAAAACAAAAAgAAAAIAAAADAAAAAgAAAAIAAAACAAAAAgAAAAIAAAACAAAAAgAAAAIAAAACAAAAAgAAAAIAAAACAAAAAgAAAAIAAAACAAAAAQAAAAMAAAACAAAAAwAAAAIAAAACAAAAAgAAAAIAAAACAAAAAgAAAAMAAAADAAAAAgAAAAIAAAACAAAAAgAAAAIAAAACAAAAAwAAAAEAAAADAAAAAgAAAAIAAAABAAAAAgAAAAIAAAACAAAAAgAAAAIAAAACAAAAAgAAAAIAAAABAAAAAwAAAAMAAAACAAAAAgAAAAIAAAACAAAAAgAAAAIAAAACAAAAAgAAAAEAAAACAAAAAQAAAAMAAAACAAAAAgAAAAMAAAADAAAAAwAAAAIAAAADAAAAAgAAAAMAAAADAAAAAgAAAAMAAAACAAAAAgAAAAIAAAACAAAAAgAAAAIAAAACAAAAAgAAAAIAAAACAAAAAgAAAAMAAAACAAAAAgAAAAIAAAACAAAAAgAAAAIAAAADAAAAAgAAAAIAAAADAAAAAgAAAAMAAAACAAAAAgAAAAIAAAADAAAAAgAAAAMAAAACAAAAAQAAAAIAAAACAAAAAgAAAAMAAAACAAAAAgAAAAIAAAACAAAAAwAAAAIAAAACAAAAAwAAAAMAAAACAAAAAwAAAAMAAAABAAAAAwAAAAIAAAACAAAAAgAAAAIAAAADAAAAAgAAAAMAAAADAAAAAwAAAAMAAAADAAAAAwAAAAIAAAADAAAAAwAAAAIAAAABAAAAAQAAAAIAAAACAAAAAgAAAAIAAAACAAAAAwAAAAIAAAADAAAAAwAAAAIAAAADAAAAAwAAAAIAAAACAAAAAwAAAAIAAAADAAAAAgAAAAIAAAADAAAAAgAAAAMAAAADAAAAAgAAAAMAAAADAAAAAwAAAAIAAAACAAAAAgAAAAIAAAADAAAAAwAAAAMAAAADAAAAAwAAAAMAAAADAAAAAwAAAAIAAAADAAAAAgAAAAMAAAADAAAAAwAAAAIAAAACAAAAAwAAAAMAAAADAAAAAwAAAAMAAAA=",
           "dtype": "i4"
          },
          "coloraxis": "coloraxis",
          "symbol": "circle"
         },
         "mode": "markers",
         "name": "",
         "orientation": "v",
         "showlegend": false,
         "type": "scatter",
         "x": {
          "bdata": "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",
          "dtype": "f8"
         },
         "xaxis": "x",
         "y": {
          "bdata": "tOi3xYCOEkAVzpnQoHcAQI+N+PMAlAlA1iFrl9IqA0BqefYM9bgBQDZBER8KrgNA/Nie7iC5CkDOVATkaj4CQCnvXhtFKBZAPz8fRewD+T/PRCty2pwFQOW2lT/JrQFAe4kOZuhiFkBEOAALEl0MQEIkKnZDuBVA1+mkZiNmxD8VXrxrNi0NQI1rC1SsZRJASvT4/RccCkCB+IkMzqUVQCDGuSub5wJAIKguATbQFkDNIknlsJocQBjcOIwQsQJAaE3HBeX9AUAs4u1WgIcWQK+4VTihjhlAWUqDmVvYAUB4jtC8TnoCQD37lgRpxwRA/a3bxF2F4T8+rk3yTDf/P01bjdgAt/U/n6NT4v12+T/flzgoRm4IQNR5swwcAA1APAba2IzpFkCRHQC61U7vP5RrWUijtRRAwVv/7l8sBkB+KY7MZVwIQO/F8y5cDxFAy/U7ARTr8j/YRRMgPawOQCoUH5RXIwxA/sATakddEEB+RXadunwNQFSAFzQrcxpAl+OlAcP2AEAd25JRgKoAQOQxDWpBMQFAZ2s0JQtwAUC8/kq7TQIAQFxi2Hpl2RNA/VOC6LOUFEBEA56t25sCQAZVNU4SLvo/4eMMydIDEEDmB1YQ+FcCQOOINZ8QMBBAFX02v1xrDEAA7RDrF3njPyuJQ9ndnxhA8hQakWmiGkDc9fRk8TwCQA/0zve6KgVAsTBghy9aDUCCx/p7uAoNQPeofRk+0xBA2wivqIcrG0B/cJHCrlYHQMiLugeBSQFAM/svaX2N7j/nWAI8fAkCQPkAWBcOnwlAz7TouezrFkD1nWnlVhcDQAZ4KOOiywxAbk19f6yBCUD5v6yMOI0WQE/XWnz7lh1AddY722NBA0AnqE5/04kEQFPu0PewFxRAdJd16gbREUBLZVgNx4EZQFJsK6+tAhBA3iws4UV1BUConvlmlgIRQFGR+svOWxNArTpGTaAKEkBE5RQdrSMPQJCjJi1NYBRACHPfHiGsFEBB/RobDiMWQHJ8AgnD9BFA/7AdN63vB0Astlf0mLYLQCsgRk7bgBRAbQOrIHhd/z/KuK72rsgPQOFKgoXbEwVAXI5Ngt2RCkDlenia99cVQODP+Tu8kwxAcj35umWQCkAbCnEGKgX7P2x4I5V9gxFAF+ZMS/raEEDnR2Aod2saQLEl0MExJAZAVzUOOCbpDEA3ZiW8DjoNQPeZomNG1hJApImOxBEnCUCb0i0BHGwNQFt7Ogs61RBAd9u0uZI0DUDSznevQXYFQGVSYN4RLwxANMFDmFLEEkA17RizrAX6P1R088+jLgtAjV4zN/gXAUBJ+NFlSKQTQBwNHu8Gkfo/annhEDRSA0AU7ALWP2cPQB/wLdDRVRZAUDauCEHQCUBQhMneoj8DQEb3SO/XMBhAjF9Fbpbb7j+CX2BxJRLSP4QmV9LjRBBA0cZBWqxqBUBhqQA/MJX7P1kEypyloRFAJ/GqHnLVDEACpHq1VYMDQBgDagd8VPg//PgbRWU3EUAFQrC7GfsRQMcTjAQPfAlAYyn+NESOF0AcLfnhx83+Pxt/gkEif+w/bSbz92cEAkDbDs8/FQ4KQI8VtwgWTg1AxxtnwtEACECmecz2fncOQLCCVgwQR/c/r5k9pfNLFUD4Bm8bG80JQGIWrEghXxRAx3is4kT5DEDqXd5afX8PQIy0w1e7PxFAcg6VOA84D0B6XHNUL5oRQGsbKNQT+RNAyRX8hJ5PDEDE3kI4q+wRQPEa/PPnrQlAUYFEdEH8FED5eylNBOsDQDZRFk8ughRAXCv8ZIqZCkA3qAciNhf0P65mpz8Z2gxAep0ZdNETA0ASsyasqDESQHVd0FWyBwRADKcnmcU0BkB4V+AndG7wPwbXdQ7LHQZAXwwBOBNc5D8RR6wh0rjyP0zVaq21JQ9A/yBoHaxeEUCeEcytij0QQLaSML7/kv8/Pz2ZJip4CkAn/HtGhTILQAwGIKiv/v4/1Nq490EgFUBHNT+h7l4SQLM1fa6w5ghAuLPvxEALDEDocbzGersNQG575OSVj+0/QS0kIj+WCEBycaYEtnMDQEQPvJNkvwBADePdpstFCEDldHYqY0MYQFrTLiee9BBAOMw/rzRHBUBhuPNYH0ARQI6SRYs4qhRA2/MQ8kcZEkB7OZJb+W8LQPTJ0MjaAwVAGieQcQMaEkDQnhej3yAQQGsrlm6P/BFA0nQlUC+2EEDR+Zhek70SQPNLa1gC9AZAf83wwRf8E0Dyy5b7grgMQJ1WWCQiBxdAAt5r+RSdBECi+hKxzBgXQIrx4o8sBg1AiIVazwGDBEA4Q6eptnsGQMtQd/TpOwhAetER0yHQD0AQvd39lTcOQNE8I65sQwVAywGI8doJC0BSgZi0WbMaQLQY+rxmJBdAFp7qrNX2DkBef1mr6fQLQArULzTRWg1A+OotvFtKEUCqF7/0/c4BQG3WXQofHQlAysmEMvc79j+GK+PSgKUPQIVDO+8FcRFA+oCS8xckB0DYr52V3gYVQAmFbD0UrPs/HUIEjm6I+j8A8A8gIl8OQDX4J/LTYBJARb19qVwZF0BIIsI6wCkHQK1ZScjU0hJA96a4QWcJC0CnoXXyM00KQGDl0iPyfRJAEhyAu8RgEUCZ26mllN/2P26/UQJzLhNAe+/gGvJPFECx1PHRtGQFQASEf+D05Q5Aw5uhLxJiDkB8CHP3AaINQA8Xe4eNRAZAZyelZ3ctBUABvCebNxYLQDGONmBINRRAfN94ZZheEEChnMZ3TkgIQMa4zGNqORJAvNEZY9/YlD+ciGfhM1kVQJ/XzBKYtvM/c0MwWGB4CEC4ZHmA214AQEA+hnrcLQFAukvOJwyRFEBtDL35pnoHQIzVMSdEOQ9AfH1LxtzzCkCxQ9gYP9oQQD1uzrlxHgxADf/4XgOc/z+5GpFnKmcTQJ2SaTyZYwdAoYq9XlH/+j/+/f+MfwIIQP/b0SUWFhVADqU9OxJOEkD0V3Fp78oIQMdAWA0LwAhA/u/0+DnhCECcu2F4Gi4ZQBWb2bjNuA1AcvpwSILCEED0x+JVrQMTQHTMbqX++w1ApoAYfOSwCUC//zh5SnsKQKdCEfjVlgtAzPaqPtsHDEDgUC3KvswRQN/9aO7oPwxAJjs8xPhMEUALYZ7F3rQLQHtkR31ydwxA19//yXxx9D8eSMBZBsoRQOIs3Tx78g5AlQqwiF5AE0CRQo6PAviqP8vwWcZ6yBZAkYkTW+3PCkB9TwObXT4TQP1VLt9o2QJAsfuMl14+EEDbPXUN82cCQGWLrlqKuAZAGOwi5IIaF0AEGnG7BasKQKoCmQtWjw1AseZcod2UEUByFe29ywoQQJqsLU9V5gxABcxMsmOrD0CFht9xuRkYQHs/fUqs/wtAVQ77xIkDDkDqHS8V0gUTQPmJSOnfGxNAUKAroCUSE0ALEvMLt3URQJJehi3foQNASdRYMt1gFkC6BkdisZ8BQHFoN2PpQg5AB6GV8ArzBUC70gvjQ6kLQNKEoG3p7Q5Ac3ALBcxcD0ArEF0yDnQQQBbYEI+aVBVA9vPfvp2HEEDujnV+6CAKQCkTPdz9nBJA5SKUwXgQFEAsPVQ5ypABQA6xbSxosxBAIEjIej2jEUD48LBIohwKQBhIr8UPHRRAIxG+ziozC0CNR6ktsvUNQDw1uSfwOgtAu8LunAWkDEBWKE+fwX8CQNe5V1s6Z/4/dXsmjvTTFUAEEho6mj4FQCBVYvxCLwRA764cE1WQ+D/wAz8HSjgHQIC59gUFJwFASj717NVuFUCG/U6ZnkITQJlk2vD+xQZAGKOMBJNXGEDS+8OzYVsSQDLTE/6iEQpAl0RNx0Zj8D87DuqLjSEWQA0p7/+FzABAW560k3cn/j99nS2I3EISQF15j6qXNxlALMIMJ80VFEBmNNXuxsUQQKbt77E93RBAoSHz8VtnEkD08pLVjpcRQLpSKBR90g5A2v5FwILNDEACYWMm9NwLQKb+wYv21gZAog8ZZE6gCkDsN6xnVuL+P/dOCD+u8QtAY/cfh1pnBUAkO38V8VADQHjcOQrIzw5ASt9fbs6rFEAeQELhyjcTQPkebihA1/4/qglnnZJvBEAq0lPkRkQSQCyxwXgN2QRAnNYZIRZsCkAp68wx8UcQQJ7CwFX/wARAm/VWIKw5DkBPfCoC+TQCQGO/K81O+gdA99X+S0UVDkC2bK2DN9QAQB+WFCdMdhBAc8wXU35pDUCsVQMP0xUQQJ3UFP594Q5Abek+WuYME0AAEhI317oOQA5J2uk+kQlA41YTN0z/DUDVxcJhYLIQQPHbRuUTnw1A5dZ/skkIDUB1X6M3WUYHQJk/Ay8cqAdAWEAG35rAAUD6Zk8TFSIVQGkvDTuaWANAhi6MddVrB0DliPwWQTEHQMTDYCmUWBFAr80zq5qfCkBFWbTp7gMUQH/fp219vAdATR8HNgJCD0CvRipj0JkGQAde5pQ9ERdAVf9ZHiqXBECQa+G9yzMOQBhsqDrwMhFAXlc32cmhD0AeGL8BhnELQCw9RMAVjAtAChfao2XqDUBvkwb5ELwLQPFApUHKvBFA7AlEcU+8GEAEvpJiD9cIQHH4qADylgFAKksZHz6YDEAXMA5ngOUXQD9Wt9AuDAdAl5KFN2n8FEDqd9EwSqoTQKKbDeQq9whAbhkVK6drEUC+PMOckAcVQNIXxlmSMQpAzKqJPZapC0Dm4sAK+84IQLqHEvKcUwVAjcBB1rs5CEACv+IeHgMEQAWwKxezWg1AjBwjVcBAB0APuhQMb2MPQCHIWJZAtABAXzaP1A7lD0Bpe7jt2VYRQNNawtTPVfo/JFwNgJnSD0AyBaX5x7ITQMOjrzUXxgNA4vLMDAIsFUDhOA8dQpsQQOjzVp5X7gdAUtm7tmZZDUCAVZBS464PQLonvNd86w1AArUMu8X+EEAclFkEU2AGQLzjqxHiuQ5AfGxEwYWFAkDqsCI7wkkMQLwnm5F4oAZAnqN4MrLOB0BjveWcqbcTQID0rRir/BJAC/ufb/e6EUB1oN9VIN4EQO0fwRajogpABVNyNZgaEkA7HV8c6aEOQEnG89ML3BZAWlXVf44WEECUVPbHq5UMQKjy6SQBzwpAsufdn4SHDkAr1xCKMKEMQEK39vDH9xFARE56Ngg0EkBdZXz3o5gHQPoaEuxDIQNAkWwjsQzW/j/3kpPr7f8QQG0ZHKMLwAVAR90jERC6/D+bIm3NcTMQQC2ScDkCSxZAFI1M8gdyDUDjrl4xbTwSQGmPD0IcPg1AXwiBMSuWDEAXAXS2KJ4SQIDzwVRLdwtAIYcXwIkAEEC1vG8CQ1YQQPJDrd6YmwhAGC2eZ3k2EUBXS9tQKLQMQB2i5EqrDAhAqwGEOl78EEB+vh24x/4GQLwX8xu8Dw5Aro9U3QTiDUChkq8eH7sSQLwlfMJpzhBA0s+04Y9QDUBNEQbbmc0RQDcQCo9XABRAgd94ar0mEUD2XvgDivUNQK9oJW9naQRAiX9I/sgKBkCtAbpne7ALQGjw1OlCQQlAuDahsSgJDEC0kWj2TboOQG5ezIa2hRBAzMMQFUlsDUBqX5lTZV0QQEGjYPkSfQ5ARwmhGO8w/T8jYjPi198GQDsDG2v1pwxAtafadtYiBUBUkhCCKFARQD6n5EBa3BNACLkJRSb1E0AR29u3ZzsMQN6G+rQv0xRAv4XswsEcD0CwobmmJlcLQM1h4pv7fAlAiC5GmDm3C0DPJiSeWb8KQGs9ENirQQ9AtiDvNlVnDkCnPm5z4DsOQDjLr1VPOxBAmYvLAVElEkAzDPac4RcTQNRm+pKsGwNAtTlZGFvu+D9/eefRbEQSQOWDb6y6WQRAsA+eg7ZrDEBNLv/v6acFQD1dRtTQKQFAoVd7FipOEECuHl4QDHIRQCUQC9SDxQlAjAw5bNbq9j8KrK9Pvh4KQLjDjprAahBAaVpT/ym9A0Awq1O821cPQP0O4uFLnw1APlO4Q+rpD0DdlBb3sDMOQBb30owcJAdAXLgHmgJSEkDD8Vl11O4MQH75NogZYA5ARvoEqX1xB0DOWVT+iSsLQE+EkbPr0wdA/9UATc22DEDau/InL3cTQM5gSXTRngRAj/f5BZrPAkCFfOXJpm4TQBRGkt16Dw1A01XBsTtZCUBpXpR3JBgSQHnyps5b/QlAF9lQ04pGFEAIUuA4/CIRQJAsSg9duQpA1SbOwRXDFUB16sAlonUJQH0qMRDMahFAnwBrKZPXD0C6eRA66p4TQBSb2QCJuRRAyqoLnBjHDUAGbwfEiPgIQHpxnxsEhRBAqnaQEVV+CUCNSuPlOGQVQKM1ig2pvg5AubgFUxJBC0BQUmIHPIIPQMPM9aIQ9ARAukQZmMKAB0B7ccI/Fz0TQJtx8TCmmglAJQfhun8eB0A+Gq/PrBgRQIbUUNiteBJAcw5k4yjIEECU8lzDniESQPAud+7N3AhA/T3frCN4BECZsMoXOJ8UQApEniZQVwxAC8ur69/XC0A396HDUQoTQPr7/GVu5RBAbsMLx0lzEEBy8FKkWuQWQAWhYo13bglABTaxCY4KEkCPgSymWm0OQLdJpfURaw9ATnfbaG3EE0DK3gyqi6QQQOyeRbrxERFAtN1qbK5UEkCOprmidx0LQN/+ZyBLlQhAxh+QKYRrB0C0dk3DBxsBQLZ3kptnXxZAN/cb0v73BkD7tmpcsrIMQAk38KmK+AtAf3Pr1sN4EEDErJdRYPkQQN5yZ6lL7xFAmWZ3AS15CkDwoXneu2sNQBPrWQKsYRBAHrgAHe1IDEA+FhPT2zoUQNP+rPPuCRFA+I7EdKbiEUDK6Hw1t1kRQH8rdCE84RFAS9FizqyAD0ANYYijbrgFQOsyMyFydhBA7ePbJd0XCkBTRLnnCDkLQExsAyKfARFADs8QJt8tE0DfIFyqQAgOQKstkajq4Q5Ahnsb6RvDE0C/mR2OFewPQLYeBe1DJxhA6AXhlCV8D0AaTh3Lph0DQNLP2xWAgxFANUtxRCJZEEA363qg0xwTQEJfMZpAURFAARsW5VWbDUBrtUFEkoIGQF8eI2hg+wxAJvnRjwj4CEDXd7/RJsMKQHYImTNW9hBA141xKR6KFECtlpNfPq8PQKJuCz1DqQZA6Gigt/cnEEDQh0lIzjUSQAYSxd6PxwpACDUqkdmcDUCNl/nI+pMOQJvB7oaLjQlAcdWIFGZwEUAW9fE6jvQNQE1b4qyxnw9AqwUIXIfFCEB2QZkNjUMLQAzlmjIIIBFAahAHJhBRDEAEIOLl7NAUQOHMet4qwQtACPQwaosnEEBU3d5onL4RQLdKk+56lQVAvkr5CWVpA0CuF4OpiyQFQMNPgl/b2hJA79ajbD0RC0C0TDxFsg0WQFvcSNi8HgtASV7GwPIxD0Cn2+PBTJYTQOcBc9LPiRVAfSsCHCFMFUAzBN8ha2UTQHDUCM0D5RFAjLCF9h4VEUBBCH1dpMURQCtRE/UU0wpA9y7Q3PCDCUCIdsGTfesOQBC/VUxi3Q1AAHvk49WHC0DUgbTnHLkRQGVzcglDOxFAXhy19jm5D0C5OQeha6ASQJadJopkkAdA44olh7NUDUBNMzcO5TYKQB451myNWANAdr8XVpv+DUAeGkWDJkMNQEtCicO5vBNABw1MdroWEUBq2GQ9bFgIQPI8lE3O2BRAJm0aa+DDEkCiHdtLP3ERQJZmOo7thw1A6C5Ss++5CED0hSOO3jwMQI/T3hholhJAWWDab7ffFEBFsTgV2KwTQP8S7RGJuwtAjrq3XFTbB0CKSLM0LUYPQI1Gh/DizANAckTIOjYcEEAyGu6mvioOQE9tks/pfQtAtNFmI1wyBUDFgPSRy7YQQArOfotFKAtA15gRzlyxB0A4VbwTZcX8P46HLITd/w5AKwjCBK4aFUB62DdcaXwUQKg/Lgk34QtADycDJ8jtCkANd5gOXN4QQGp6bHMdtwhAkmINgXldEEALuX0KlL4RQP9viVd9aBNAD57QjohUDkDlPSgp3M0NQPMViDq0jglArJwaiZ6kCUAk2dh2fZMNQFakoff2uw5ApE8s8a3EEUDYxaY0wewJQPrLlW5PBxRALUs/tA7ODEA6l9dsJbsOQDCqnGNxSApAZPnD1vk7AkCwCBcD2OoRQKA/8ZBW/RBA+ctGax46DUCqWNogHQ4PQO0T+6QYIxBAN9T3INeOBUCQ3VO7qhYLQO/+cE6DVxFAOx+J42tuB0A7vttYf/4PQGKqippQ9QZAU+QRSjd6EED4Yf41Xv4OQEKePdJ/UQVA/XxrBNfHEkC6Tf9Ab38KQI6PWFXg+AlAGT4nHrfAD0AtBCIpnhcTQLoGogt44ghAuS4tZ1/DDkBsCNzT8mYQQKm5jEQ86RBAPfQ4SFdED0BuAUW6o30MQJJCfXEACApAl2lCMM7OD0CpFDL9iaEIQKPAZ6o1oPw/7IJIZIOFEEB13rPH7FESQBUAx+WGAAFAnGkVgmT2CEA+a+FC+SERQI3YVSKOvxRAhwCMcIrbDkAeDoV++qYKQA==",
          "dtype": "f8"
         },
         "yaxis": "y"
        }
       ],
       "layout": {
        "coloraxis": {
         "colorbar": {
          "title": {
           "text": "soil_type"
          }
         },
         "colorscale": [
          [
           0,
           "#0d0887"
          ],
          [
           0.1111111111111111,
           "#46039f"
          ],
          [
           0.2222222222222222,
           "#7201a8"
          ],
          [
           0.3333333333333333,
           "#9c179e"
          ],
          [
           0.4444444444444444,
           "#bd3786"
          ],
          [
           0.5555555555555556,
           "#d8576b"
          ],
          [
           0.6666666666666666,
           "#ed7953"
          ],
          [
           0.7777777777777778,
           "#fb9f3a"
          ],
          [
           0.8888888888888888,
           "#fdca26"
          ],
          [
           1,
           "#f0f921"
          ]
         ]
        },
        "legend": {
         "tracegroupgap": 0
        },
        "template": {
         "data": {
          "bar": [
           {
            "error_x": {
             "color": "#2a3f5f"
            },
            "error_y": {
             "color": "#2a3f5f"
            },
            "marker": {
             "line": {
              "color": "#E5ECF6",
              "width": 0.5
             },
             "pattern": {
              "fillmode": "overlay",
              "size": 10,
              "solidity": 0.2
             }
            },
            "type": "bar"
           }
          ],
          "barpolar": [
           {
            "marker": {
             "line": {
              "color": "#E5ECF6",
              "width": 0.5
             },
             "pattern": {
              "fillmode": "overlay",
              "size": 10,
              "solidity": 0.2
             }
            },
            "type": "barpolar"
           }
          ],
          "carpet": [
           {
            "aaxis": {
             "endlinecolor": "#2a3f5f",
             "gridcolor": "white",
             "linecolor": "white",
             "minorgridcolor": "white",
             "startlinecolor": "#2a3f5f"
            },
            "baxis": {
             "endlinecolor": "#2a3f5f",
             "gridcolor": "white",
             "linecolor": "white",
             "minorgridcolor": "white",
             "startlinecolor": "#2a3f5f"
            },
            "type": "carpet"
           }
          ],
          "choropleth": [
           {
            "colorbar": {
             "outlinewidth": 0,
             "ticks": ""
            },
            "type": "choropleth"
           }
          ],
          "contour": [
           {
            "colorbar": {
             "outlinewidth": 0,
             "ticks": ""
            },
            "colorscale": [
             [
              0,
              "#0d0887"
             ],
             [
              0.1111111111111111,
              "#46039f"
             ],
             [
              0.2222222222222222,
              "#7201a8"
             ],
             [
              0.3333333333333333,
              "#9c179e"
             ],
             [
              0.4444444444444444,
              "#bd3786"
             ],
             [
              0.5555555555555556,
              "#d8576b"
             ],
             [
              0.6666666666666666,
              "#ed7953"
             ],
             [
              0.7777777777777778,
              "#fb9f3a"
             ],
             [
              0.8888888888888888,
              "#fdca26"
             ],
             [
              1,
              "#f0f921"
             ]
            ],
            "type": "contour"
           }
          ],
          "contourcarpet": [
           {
            "colorbar": {
             "outlinewidth": 0,
             "ticks": ""
            },
            "type": "contourcarpet"
           }
          ],
          "heatmap": [
           {
            "colorbar": {
             "outlinewidth": 0,
             "ticks": ""
            },
            "colorscale": [
             [
              0,
              "#0d0887"
             ],
             [
              0.1111111111111111,
              "#46039f"
             ],
             [
              0.2222222222222222,
              "#7201a8"
             ],
             [
              0.3333333333333333,
              "#9c179e"
             ],
             [
              0.4444444444444444,
              "#bd3786"
             ],
             [
              0.5555555555555556,
              "#d8576b"
             ],
             [
              0.6666666666666666,
              "#ed7953"
             ],
             [
              0.7777777777777778,
              "#fb9f3a"
             ],
             [
              0.8888888888888888,
              "#fdca26"
             ],
             [
              1,
              "#f0f921"
             ]
            ],
            "type": "heatmap"
           }
          ],
          "histogram": [
           {
            "marker": {
             "pattern": {
              "fillmode": "overlay",
              "size": 10,
              "solidity": 0.2
             }
            },
            "type": "histogram"
           }
          ],
          "histogram2d": [
           {
            "colorbar": {
             "outlinewidth": 0,
             "ticks": ""
            },
            "colorscale": [
             [
              0,
              "#0d0887"
             ],
             [
              0.1111111111111111,
              "#46039f"
             ],
             [
              0.2222222222222222,
              "#7201a8"
             ],
             [
              0.3333333333333333,
              "#9c179e"
             ],
             [
              0.4444444444444444,
              "#bd3786"
             ],
             [
              0.5555555555555556,
              "#d8576b"
             ],
             [
              0.6666666666666666,
              "#ed7953"
             ],
             [
              0.7777777777777778,
              "#fb9f3a"
             ],
             [
              0.8888888888888888,
              "#fdca26"
             ],
             [
              1,
              "#f0f921"
             ]
            ],
            "type": "histogram2d"
           }
          ],
          "histogram2dcontour": [
           {
            "colorbar": {
             "outlinewidth": 0,
             "ticks": ""
            },
            "colorscale": [
             [
              0,
              "#0d0887"
             ],
             [
              0.1111111111111111,
              "#46039f"
             ],
             [
              0.2222222222222222,
              "#7201a8"
             ],
             [
              0.3333333333333333,
              "#9c179e"
             ],
             [
              0.4444444444444444,
              "#bd3786"
             ],
             [
              0.5555555555555556,
              "#d8576b"
             ],
             [
              0.6666666666666666,
              "#ed7953"
             ],
             [
              0.7777777777777778,
              "#fb9f3a"
             ],
             [
              0.8888888888888888,
              "#fdca26"
             ],
             [
              1,
              "#f0f921"
             ]
            ],
            "type": "histogram2dcontour"
           }
          ],
          "mesh3d": [
           {
            "colorbar": {
             "outlinewidth": 0,
             "ticks": ""
            },
            "type": "mesh3d"
           }
          ],
          "parcoords": [
           {
            "line": {
             "colorbar": {
              "outlinewidth": 0,
              "ticks": ""
             }
            },
            "type": "parcoords"
           }
          ],
          "pie": [
           {
            "automargin": true,
            "type": "pie"
           }
          ],
          "scatter": [
           {
            "fillpattern": {
             "fillmode": "overlay",
             "size": 10,
             "solidity": 0.2
            },
            "type": "scatter"
           }
          ],
          "scatter3d": [
           {
            "line": {
             "colorbar": {
              "outlinewidth": 0,
              "ticks": ""
             }
            },
            "marker": {
             "colorbar": {
              "outlinewidth": 0,
              "ticks": ""
             }
            },
            "type": "scatter3d"
           }
          ],
          "scattercarpet": [
           {
            "marker": {
             "colorbar": {
              "outlinewidth": 0,
              "ticks": ""
             }
            },
            "type": "scattercarpet"
           }
          ],
          "scattergeo": [
           {
            "marker": {
             "colorbar": {
              "outlinewidth": 0,
              "ticks": ""
             }
            },
            "type": "scattergeo"
           }
          ],
          "scattergl": [
           {
            "marker": {
             "colorbar": {
              "outlinewidth": 0,
              "ticks": ""
             }
            },
            "type": "scattergl"
           }
          ],
          "scattermap": [
           {
            "marker": {
             "colorbar": {
              "outlinewidth": 0,
              "ticks": ""
             }
            },
            "type": "scattermap"
           }
          ],
          "scattermapbox": [
           {
            "marker": {
             "colorbar": {
              "outlinewidth": 0,
              "ticks": ""
             }
            },
            "type": "scattermapbox"
           }
          ],
          "scatterpolar": [
           {
            "marker": {
             "colorbar": {
              "outlinewidth": 0,
              "ticks": ""
             }
            },
            "type": "scatterpolar"
           }
          ],
          "scatterpolargl": [
           {
            "marker": {
             "colorbar": {
              "outlinewidth": 0,
              "ticks": ""
             }
            },
            "type": "scatterpolargl"
           }
          ],
          "scatterternary": [
           {
            "marker": {
             "colorbar": {
              "outlinewidth": 0,
              "ticks": ""
             }
            },
            "type": "scatterternary"
           }
          ],
          "surface": [
           {
            "colorbar": {
             "outlinewidth": 0,
             "ticks": ""
            },
            "colorscale": [
             [
              0,
              "#0d0887"
             ],
             [
              0.1111111111111111,
              "#46039f"
             ],
             [
              0.2222222222222222,
              "#7201a8"
             ],
             [
              0.3333333333333333,
              "#9c179e"
             ],
             [
              0.4444444444444444,
              "#bd3786"
             ],
             [
              0.5555555555555556,
              "#d8576b"
             ],
             [
              0.6666666666666666,
              "#ed7953"
             ],
             [
              0.7777777777777778,
              "#fb9f3a"
             ],
             [
              0.8888888888888888,
              "#fdca26"
             ],
             [
              1,
              "#f0f921"
             ]
            ],
            "type": "surface"
           }
          ],
          "table": [
           {
            "cells": {
             "fill": {
              "color": "#EBF0F8"
             },
             "line": {
              "color": "white"
             }
            },
            "header": {
             "fill": {
              "color": "#C8D4E3"
             },
             "line": {
              "color": "white"
             }
            },
            "type": "table"
           }
          ]
         },
         "layout": {
          "annotationdefaults": {
           "arrowcolor": "#2a3f5f",
           "arrowhead": 0,
           "arrowwidth": 1
          },
          "autotypenumbers": "strict",
          "coloraxis": {
           "colorbar": {
            "outlinewidth": 0,
            "ticks": ""
           }
          },
          "colorscale": {
           "diverging": [
            [
             0,
             "#8e0152"
            ],
            [
             0.1,
             "#c51b7d"
            ],
            [
             0.2,
             "#de77ae"
            ],
            [
             0.3,
             "#f1b6da"
            ],
            [
             0.4,
             "#fde0ef"
            ],
            [
             0.5,
             "#f7f7f7"
            ],
            [
             0.6,
             "#e6f5d0"
            ],
            [
             0.7,
             "#b8e186"
            ],
            [
             0.8,
             "#7fbc41"
            ],
            [
             0.9,
             "#4d9221"
            ],
            [
             1,
             "#276419"
            ]
           ],
           "sequential": [
            [
             0,
             "#0d0887"
            ],
            [
             0.1111111111111111,
             "#46039f"
            ],
            [
             0.2222222222222222,
             "#7201a8"
            ],
            [
             0.3333333333333333,
             "#9c179e"
            ],
            [
             0.4444444444444444,
             "#bd3786"
            ],
            [
             0.5555555555555556,
             "#d8576b"
            ],
            [
             0.6666666666666666,
             "#ed7953"
            ],
            [
             0.7777777777777778,
             "#fb9f3a"
            ],
            [
             0.8888888888888888,
             "#fdca26"
            ],
            [
             1,
             "#f0f921"
            ]
           ],
           "sequentialminus": [
            [
             0,
             "#0d0887"
            ],
            [
             0.1111111111111111,
             "#46039f"
            ],
            [
             0.2222222222222222,
             "#7201a8"
            ],
            [
             0.3333333333333333,
             "#9c179e"
            ],
            [
             0.4444444444444444,
             "#bd3786"
            ],
            [
             0.5555555555555556,
             "#d8576b"
            ],
            [
             0.6666666666666666,
             "#ed7953"
            ],
            [
             0.7777777777777778,
             "#fb9f3a"
            ],
            [
             0.8888888888888888,
             "#fdca26"
            ],
            [
             1,
             "#f0f921"
            ]
           ]
          },
          "colorway": [
           "#636efa",
           "#EF553B",
           "#00cc96",
           "#ab63fa",
           "#FFA15A",
           "#19d3f3",
           "#FF6692",
           "#B6E880",
           "#FF97FF",
           "#FECB52"
          ],
          "font": {
           "color": "#2a3f5f"
          },
          "geo": {
           "bgcolor": "white",
           "lakecolor": "white",
           "landcolor": "#E5ECF6",
           "showlakes": true,
           "showland": true,
           "subunitcolor": "white"
          },
          "hoverlabel": {
           "align": "left"
          },
          "hovermode": "closest",
          "mapbox": {
           "style": "light"
          },
          "paper_bgcolor": "white",
          "plot_bgcolor": "#E5ECF6",
          "polar": {
           "angularaxis": {
            "gridcolor": "white",
            "linecolor": "white",
            "ticks": ""
           },
           "bgcolor": "#E5ECF6",
           "radialaxis": {
            "gridcolor": "white",
            "linecolor": "white",
            "ticks": ""
           }
          },
          "scene": {
           "xaxis": {
            "backgroundcolor": "#E5ECF6",
            "gridcolor": "white",
            "gridwidth": 2,
            "linecolor": "white",
            "showbackground": true,
            "ticks": "",
            "zerolinecolor": "white"
           },
           "yaxis": {
            "backgroundcolor": "#E5ECF6",
            "gridcolor": "white",
            "gridwidth": 2,
            "linecolor": "white",
            "showbackground": true,
            "ticks": "",
            "zerolinecolor": "white"
           },
           "zaxis": {
            "backgroundcolor": "#E5ECF6",
            "gridcolor": "white",
            "gridwidth": 2,
            "linecolor": "white",
            "showbackground": true,
            "ticks": "",
            "zerolinecolor": "white"
           }
          },
          "shapedefaults": {
           "line": {
            "color": "#2a3f5f"
           }
          },
          "ternary": {
           "aaxis": {
            "gridcolor": "white",
            "linecolor": "white",
            "ticks": ""
           },
           "baxis": {
            "gridcolor": "white",
            "linecolor": "white",
            "ticks": ""
           },
           "bgcolor": "#E5ECF6",
           "caxis": {
            "gridcolor": "white",
            "linecolor": "white",
            "ticks": ""
           }
          },
          "title": {
           "x": 0.05
          },
          "xaxis": {
           "automargin": true,
           "gridcolor": "white",
           "linecolor": "white",
           "ticks": "",
           "title": {
            "standoff": 15
           },
           "zerolinecolor": "white",
           "zerolinewidth": 2
          },
          "yaxis": {
           "automargin": true,
           "gridcolor": "white",
           "linecolor": "white",
           "ticks": "",
           "title": {
            "standoff": 15
           },
           "zerolinecolor": "white",
           "zerolinewidth": 2
          }
         }
        },
        "title": {
         "text": "Dummy CPT-like data: qc vs Rf colored by soil_type"
        },
        "xaxis": {
         "anchor": "y",
         "domain": [
          0,
          1
         ],
         "title": {
          "text": "qc"
         }
        },
        "yaxis": {
         "anchor": "x",
         "domain": [
          0,
          1
         ],
         "title": {
          "text": "Rf"
         }
        }
       }
      }
     },
     "metadata": {},
     "output_type": "display_data"
    },
    {
     "data": {
      "application/vnd.plotly.v1+json": {
       "config": {
        "plotlyServerURL": "https://plot.ly"
       },
       "data": [
        {
         "hovertemplate": "depth=%{x}<br>qc=%{y}<br>soil_type=%{marker.color}<extra></extra>",
         "legendgroup": "",
         "marker": {
          "color": {
           "bdata": "AQAAAAEAAAACAAAAAgAAAAEAAAABAAAAAgAAAAIAAAABAAAAAQAAAAEAAAABAAAAAQAAAAEAAAABAAAAAQAAAAIAAAABAAAAAQAAAAEAAAACAAAAAQAAAAEAAAABAAAAAQAAAAEAAAABAAAAAgAAAAEAAAACAAAAAQAAAAIAAAABAAAAAQAAAAIAAAABAAAAAQAAAAEAAAABAAAAAQAAAAIAAAABAAAAAQAAAAEAAAABAAAAAQAAAAEAAAADAAAAAgAAAAEAAAACAAAAAQAAAAEAAAACAAAAAgAAAAIAAAABAAAAAQAAAAIAAAACAAAAAgAAAAEAAAACAAAAAQAAAAIAAAABAAAAAgAAAAIAAAACAAAAAQAAAAIAAAACAAAAAgAAAAIAAAABAAAAAgAAAAEAAAABAAAAAgAAAAEAAAACAAAAAgAAAAIAAAABAAAAAQAAAAEAAAACAAAAAQAAAAEAAAACAAAAAgAAAAIAAAABAAAAAgAAAAIAAAABAAAAAgAAAAIAAAACAAAAAgAAAAEAAAABAAAAAgAAAAIAAAACAAAAAgAAAAEAAAACAAAAAgAAAAIAAAABAAAAAgAAAAIAAAACAAAAAgAAAAIAAAACAAAAAQAAAAIAAAACAAAAAgAAAAIAAAACAAAAAQAAAAIAAAACAAAAAgAAAAIAAAACAAAAAgAAAAEAAAACAAAAAgAAAAIAAAACAAAAAgAAAAIAAAACAAAAAwAAAAIAAAACAAAAAgAAAAEAAAACAAAAAgAAAAIAAAACAAAAAgAAAAIAAAACAAAAAgAAAAMAAAACAAAAAgAAAAIAAAACAAAAAgAAAAIAAAACAAAAAgAAAAIAAAACAAAAAgAAAAIAAAABAAAAAgAAAAIAAAACAAAAAgAAAAIAAAACAAAAAgAAAAIAAAACAAAAAgAAAAEAAAACAAAAAgAAAAIAAAABAAAAAgAAAAMAAAACAAAAAgAAAAIAAAACAAAAAgAAAAIAAAACAAAAAgAAAAIAAAACAAAAAgAAAAEAAAACAAAAAgAAAAIAAAABAAAAAgAAAAIAAAACAAAAAgAAAAIAAAACAAAAAgAAAAEAAAACAAAAAgAAAAIAAAADAAAAAgAAAAIAAAADAAAAAgAAAAEAAAACAAAAAgAAAAEAAAACAAAAAgAAAAIAAAACAAAAAgAAAAIAAAADAAAAAgAAAAIAAAACAAAAAgAAAAEAAAACAAAAAgAAAAIAAAACAAAAAQAAAAIAAAACAAAAAgAAAAIAAAACAAAAAgAAAAIAAAADAAAAAgAAAAIAAAACAAAAAgAAAAIAAAACAAAAAgAAAAIAAAACAAAAAwAAAAIAAAACAAAAAgAAAAIAAAACAAAAAgAAAAIAAAACAAAAAgAAAAIAAAADAAAAAgAAAAIAAAABAAAAAgAAAAIAAAACAAAAAQAAAAIAAAACAAAAAgAAAAIAAAACAAAAAgAAAAIAAAACAAAAAQAAAAIAAAACAAAAAwAAAAIAAAACAAAAAgAAAAIAAAACAAAAAgAAAAIAAAACAAAAAgAAAAIAAAACAAAAAQAAAAIAAAACAAAAAgAAAAIAAAACAAAAAgAAAAIAAAACAAAAAgAAAAEAAAACAAAAAgAAAAIAAAACAAAAAgAAAAIAAAACAAAAAgAAAAIAAAACAAAAAgAAAAIAAAACAAAAAgAAAAIAAAACAAAAAgAAAAIAAAACAAAAAgAAAAIAAAACAAAAAgAAAAIAAAACAAAAAQAAAAIAAAACAAAAAgAAAAEAAAACAAAAAgAAAAIAAAACAAAAAgAAAAIAAAACAAAAAgAAAAIAAAACAAAAAgAAAAMAAAACAAAAAgAAAAIAAAACAAAAAgAAAAIAAAADAAAAAgAAAAIAAAACAAAAAgAAAAIAAAACAAAAAgAAAAIAAAACAAAAAgAAAAIAAAADAAAAAgAAAAIAAAACAAAAAgAAAAMAAAACAAAAAwAAAAIAAAACAAAAAQAAAAIAAAACAAAAAgAAAAIAAAACAAAAAgAAAAIAAAACAAAAAgAAAAIAAAACAAAAAgAAAAIAAAADAAAAAgAAAAIAAAACAAAAAgAAAAIAAAACAAAAAgAAAAIAAAADAAAAAgAAAAIAAAACAAAAAgAAAAIAAAACAAAAAgAAAAIAAAACAAAAAgAAAAMAAAACAAAAAgAAAAIAAAACAAAAAgAAAAIAAAACAAAAAgAAAAIAAAACAAAAAwAAAAIAAAACAAAAAwAAAAIAAAACAAAAAgAAAAIAAAACAAAAAgAAAAIAAAACAAAAAQAAAAIAAAACAAAAAgAAAAMAAAACAAAAAgAAAAEAAAACAAAAAwAAAAIAAAACAAAAAgAAAAIAAAACAAAAAgAAAAIAAAACAAAAAgAAAAIAAAACAAAAAwAAAAIAAAACAAAAAgAAAAIAAAACAAAAAgAAAAIAAAACAAAAAgAAAAIAAAACAAAAAwAAAAIAAAADAAAAAgAAAAIAAAACAAAAAgAAAAIAAAACAAAAAgAAAAIAAAACAAAAAgAAAAMAAAACAAAAAgAAAAIAAAACAAAAAgAAAAIAAAACAAAAAgAAAAIAAAACAAAAAgAAAAIAAAADAAAAAgAAAAMAAAACAAAAAgAAAAIAAAACAAAAAgAAAAIAAAACAAAAAgAAAAEAAAACAAAAAgAAAAIAAAACAAAAAwAAAAIAAAACAAAAAgAAAAIAAAACAAAAAgAAAAMAAAACAAAAAgAAAAIAAAACAAAAAgAAAAIAAAACAAAAAgAAAAIAAAACAAAAAgAAAAIAAAACAAAAAgAAAAIAAAACAAAAAgAAAAIAAAABAAAAAgAAAAIAAAACAAAAAgAAAAIAAAACAAAAAQAAAAIAAAACAAAAAgAAAAIAAAABAAAAAgAAAAIAAAACAAAAAgAAAAIAAAACAAAAAgAAAAIAAAACAAAAAgAAAAIAAAACAAAAAgAAAAIAAAACAAAAAwAAAAIAAAADAAAAAgAAAAIAAAACAAAAAgAAAAIAAAABAAAAAgAAAAIAAAACAAAAAgAAAAMAAAACAAAAAgAAAAEAAAACAAAAAgAAAAIAAAABAAAAAQAAAAMAAAADAAAAAgAAAAIAAAACAAAAAgAAAAIAAAACAAAAAgAAAAEAAAACAAAAAgAAAAIAAAACAAAAAgAAAAIAAAACAAAAAgAAAAIAAAACAAAAAgAAAAIAAAADAAAAAgAAAAIAAAACAAAAAgAAAAIAAAACAAAAAgAAAAIAAAACAAAAAgAAAAIAAAACAAAAAgAAAAIAAAACAAAAAQAAAAMAAAACAAAAAwAAAAIAAAACAAAAAgAAAAIAAAACAAAAAgAAAAMAAAADAAAAAgAAAAIAAAACAAAAAgAAAAIAAAACAAAAAwAAAAEAAAADAAAAAgAAAAIAAAABAAAAAgAAAAIAAAACAAAAAgAAAAIAAAACAAAAAgAAAAIAAAABAAAAAwAAAAMAAAACAAAAAgAAAAIAAAACAAAAAgAAAAIAAAACAAAAAgAAAAEAAAACAAAAAQAAAAMAAAACAAAAAgAAAAMAAAADAAAAAwAAAAIAAAADAAAAAgAAAAMAAAADAAAAAgAAAAMAAAACAAAAAgAAAAIAAAACAAAAAgAAAAIAAAACAAAAAgAAAAIAAAACAAAAAgAAAAMAAAACAAAAAgAAAAIAAAACAAAAAgAAAAIAAAADAAAAAgAAAAIAAAADAAAAAgAAAAMAAAACAAAAAgAAAAIAAAADAAAAAgAAAAMAAAACAAAAAQAAAAIAAAACAAAAAgAAAAMAAAACAAAAAgAAAAIAAAACAAAAAwAAAAIAAAACAAAAAwAAAAMAAAACAAAAAwAAAAMAAAABAAAAAwAAAAIAAAACAAAAAgAAAAIAAAADAAAAAgAAAAMAAAADAAAAAwAAAAMAAAADAAAAAwAAAAIAAAADAAAAAwAAAAIAAAABAAAAAQAAAAIAAAACAAAAAgAAAAIAAAACAAAAAwAAAAIAAAADAAAAAwAAAAIAAAADAAAAAwAAAAIAAAACAAAAAwAAAAIAAAADAAAAAgAAAAIAAAADAAAAAgAAAAMAAAADAAAAAgAAAAMAAAADAAAAAwAAAAIAAAACAAAAAgAAAAIAAAADAAAAAwAAAAMAAAADAAAAAwAAAAMAAAADAAAAAwAAAAIAAAADAAAAAgAAAAMAAAADAAAAAwAAAAIAAAACAAAAAwAAAAMAAAADAAAAAwAAAAMAAAA=",
           "dtype": "i4"
          },
          "coloraxis": "coloraxis",
          "symbol": "circle"
         },
         "mode": "markers",
         "name": "",
         "orientation": "v",
         "showlegend": false,
         "type": "scatter",
         "x": {
          "bdata": "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",
          "dtype": "f8"
         },
         "xaxis": "x",
         "y": {
          "bdata": "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",
          "dtype": "f8"
         },
         "yaxis": "y"
        },
        {
         "hovertemplate": "<b>LOWESS trendline</b><br><br>depth=%{x}<br>qc=%{y} <b>(trend)</b><extra></extra>",
         "legendgroup": "",
         "marker": {
          "symbol": "circle"
         },
         "mode": "lines",
         "name": "",
         "showlegend": false,
         "type": "scatter",
         "x": {
          "bdata": "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",
          "dtype": "f8"
         },
         "xaxis": "x",
         "y": {
          "bdata": "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",
          "dtype": "f8"
         },
         "yaxis": "y"
        }
       ],
       "layout": {
        "coloraxis": {
         "colorbar": {
          "title": {
           "text": "soil_type"
          }
         },
         "colorscale": [
          [
           0,
           "#0d0887"
          ],
          [
           0.1111111111111111,
           "#46039f"
          ],
          [
           0.2222222222222222,
           "#7201a8"
          ],
          [
           0.3333333333333333,
           "#9c179e"
          ],
          [
           0.4444444444444444,
           "#bd3786"
          ],
          [
           0.5555555555555556,
           "#d8576b"
          ],
          [
           0.6666666666666666,
           "#ed7953"
          ],
          [
           0.7777777777777778,
           "#fb9f3a"
          ],
          [
           0.8888888888888888,
           "#fdca26"
          ],
          [
           1,
           "#f0f921"
          ]
         ]
        },
        "legend": {
         "tracegroupgap": 0
        },
        "template": {
         "data": {
          "bar": [
           {
            "error_x": {
             "color": "#2a3f5f"
            },
            "error_y": {
             "color": "#2a3f5f"
            },
            "marker": {
             "line": {
              "color": "#E5ECF6",
              "width": 0.5
             },
             "pattern": {
              "fillmode": "overlay",
              "size": 10,
              "solidity": 0.2
             }
            },
            "type": "bar"
           }
          ],
          "barpolar": [
           {
            "marker": {
             "line": {
              "color": "#E5ECF6",
              "width": 0.5
             },
             "pattern": {
              "fillmode": "overlay",
              "size": 10,
              "solidity": 0.2
             }
            },
            "type": "barpolar"
           }
          ],
          "carpet": [
           {
            "aaxis": {
             "endlinecolor": "#2a3f5f",
             "gridcolor": "white",
             "linecolor": "white",
             "minorgridcolor": "white",
             "startlinecolor": "#2a3f5f"
            },
            "baxis": {
             "endlinecolor": "#2a3f5f",
             "gridcolor": "white",
             "linecolor": "white",
             "minorgridcolor": "white",
             "startlinecolor": "#2a3f5f"
            },
            "type": "carpet"
           }
          ],
          "choropleth": [
           {
            "colorbar": {
             "outlinewidth": 0,
             "ticks": ""
            },
            "type": "choropleth"
           }
          ],
          "contour": [
           {
            "colorbar": {
             "outlinewidth": 0,
             "ticks": ""
            },
            "colorscale": [
             [
              0,
              "#0d0887"
             ],
             [
              0.1111111111111111,
              "#46039f"
             ],
             [
              0.2222222222222222,
              "#7201a8"
             ],
             [
              0.3333333333333333,
              "#9c179e"
             ],
             [
              0.4444444444444444,
              "#bd3786"
             ],
             [
              0.5555555555555556,
              "#d8576b"
             ],
             [
              0.6666666666666666,
              "#ed7953"
             ],
             [
              0.7777777777777778,
              "#fb9f3a"
             ],
             [
              0.8888888888888888,
              "#fdca26"
             ],
             [
              1,
              "#f0f921"
             ]
            ],
            "type": "contour"
           }
          ],
          "contourcarpet": [
           {
            "colorbar": {
             "outlinewidth": 0,
             "ticks": ""
            },
            "type": "contourcarpet"
           }
          ],
          "heatmap": [
           {
            "colorbar": {
             "outlinewidth": 0,
             "ticks": ""
            },
            "colorscale": [
             [
              0,
              "#0d0887"
             ],
             [
              0.1111111111111111,
              "#46039f"
             ],
             [
              0.2222222222222222,
              "#7201a8"
             ],
             [
              0.3333333333333333,
              "#9c179e"
             ],
             [
              0.4444444444444444,
              "#bd3786"
             ],
             [
              0.5555555555555556,
              "#d8576b"
             ],
             [
              0.6666666666666666,
              "#ed7953"
             ],
             [
              0.7777777777777778,
              "#fb9f3a"
             ],
             [
              0.8888888888888888,
              "#fdca26"
             ],
             [
              1,
              "#f0f921"
             ]
            ],
            "type": "heatmap"
           }
          ],
          "histogram": [
           {
            "marker": {
             "pattern": {
              "fillmode": "overlay",
              "size": 10,
              "solidity": 0.2
             }
            },
            "type": "histogram"
           }
          ],
          "histogram2d": [
           {
            "colorbar": {
             "outlinewidth": 0,
             "ticks": ""
            },
            "colorscale": [
             [
              0,
              "#0d0887"
             ],
             [
              0.1111111111111111,
              "#46039f"
             ],
             [
              0.2222222222222222,
              "#7201a8"
             ],
             [
              0.3333333333333333,
              "#9c179e"
             ],
             [
              0.4444444444444444,
              "#bd3786"
             ],
             [
              0.5555555555555556,
              "#d8576b"
             ],
             [
              0.6666666666666666,
              "#ed7953"
             ],
             [
              0.7777777777777778,
              "#fb9f3a"
             ],
             [
              0.8888888888888888,
              "#fdca26"
             ],
             [
              1,
              "#f0f921"
             ]
            ],
            "type": "histogram2d"
           }
          ],
          "histogram2dcontour": [
           {
            "colorbar": {
             "outlinewidth": 0,
             "ticks": ""
            },
            "colorscale": [
             [
              0,
              "#0d0887"
             ],
             [
              0.1111111111111111,
              "#46039f"
             ],
             [
              0.2222222222222222,
              "#7201a8"
             ],
             [
              0.3333333333333333,
              "#9c179e"
             ],
             [
              0.4444444444444444,
              "#bd3786"
             ],
             [
              0.5555555555555556,
              "#d8576b"
             ],
             [
              0.6666666666666666,
              "#ed7953"
             ],
             [
              0.7777777777777778,
              "#fb9f3a"
             ],
             [
              0.8888888888888888,
              "#fdca26"
             ],
             [
              1,
              "#f0f921"
             ]
            ],
            "type": "histogram2dcontour"
           }
          ],
          "mesh3d": [
           {
            "colorbar": {
             "outlinewidth": 0,
             "ticks": ""
            },
            "type": "mesh3d"
           }
          ],
          "parcoords": [
           {
            "line": {
             "colorbar": {
              "outlinewidth": 0,
              "ticks": ""
             }
            },
            "type": "parcoords"
           }
          ],
          "pie": [
           {
            "automargin": true,
            "type": "pie"
           }
          ],
          "scatter": [
           {
            "fillpattern": {
             "fillmode": "overlay",
             "size": 10,
             "solidity": 0.2
            },
            "type": "scatter"
           }
          ],
          "scatter3d": [
           {
            "line": {
             "colorbar": {
              "outlinewidth": 0,
              "ticks": ""
             }
            },
            "marker": {
             "colorbar": {
              "outlinewidth": 0,
              "ticks": ""
             }
            },
            "type": "scatter3d"
           }
          ],
          "scattercarpet": [
           {
            "marker": {
             "colorbar": {
              "outlinewidth": 0,
              "ticks": ""
             }
            },
            "type": "scattercarpet"
           }
          ],
          "scattergeo": [
           {
            "marker": {
             "colorbar": {
              "outlinewidth": 0,
              "ticks": ""
             }
            },
            "type": "scattergeo"
           }
          ],
          "scattergl": [
           {
            "marker": {
             "colorbar": {
              "outlinewidth": 0,
              "ticks": ""
             }
            },
            "type": "scattergl"
           }
          ],
          "scattermap": [
           {
            "marker": {
             "colorbar": {
              "outlinewidth": 0,
              "ticks": ""
             }
            },
            "type": "scattermap"
           }
          ],
          "scattermapbox": [
           {
            "marker": {
             "colorbar": {
              "outlinewidth": 0,
              "ticks": ""
             }
            },
            "type": "scattermapbox"
           }
          ],
          "scatterpolar": [
           {
            "marker": {
             "colorbar": {
              "outlinewidth": 0,
              "ticks": ""
             }
            },
            "type": "scatterpolar"
           }
          ],
          "scatterpolargl": [
           {
            "marker": {
             "colorbar": {
              "outlinewidth": 0,
              "ticks": ""
             }
            },
            "type": "scatterpolargl"
           }
          ],
          "scatterternary": [
           {
            "marker": {
             "colorbar": {
              "outlinewidth": 0,
              "ticks": ""
             }
            },
            "type": "scatterternary"
           }
          ],
          "surface": [
           {
            "colorbar": {
             "outlinewidth": 0,
             "ticks": ""
            },
            "colorscale": [
             [
              0,
              "#0d0887"
             ],
             [
              0.1111111111111111,
              "#46039f"
             ],
             [
              0.2222222222222222,
              "#7201a8"
             ],
             [
              0.3333333333333333,
              "#9c179e"
             ],
             [
              0.4444444444444444,
              "#bd3786"
             ],
             [
              0.5555555555555556,
              "#d8576b"
             ],
             [
              0.6666666666666666,
              "#ed7953"
             ],
             [
              0.7777777777777778,
              "#fb9f3a"
             ],
             [
              0.8888888888888888,
              "#fdca26"
             ],
             [
              1,
              "#f0f921"
             ]
            ],
            "type": "surface"
           }
          ],
          "table": [
           {
            "cells": {
             "fill": {
              "color": "#EBF0F8"
             },
             "line": {
              "color": "white"
             }
            },
            "header": {
             "fill": {
              "color": "#C8D4E3"
             },
             "line": {
              "color": "white"
             }
            },
            "type": "table"
           }
          ]
         },
         "layout": {
          "annotationdefaults": {
           "arrowcolor": "#2a3f5f",
           "arrowhead": 0,
           "arrowwidth": 1
          },
          "autotypenumbers": "strict",
          "coloraxis": {
           "colorbar": {
            "outlinewidth": 0,
            "ticks": ""
           }
          },
          "colorscale": {
           "diverging": [
            [
             0,
             "#8e0152"
            ],
            [
             0.1,
             "#c51b7d"
            ],
            [
             0.2,
             "#de77ae"
            ],
            [
             0.3,
             "#f1b6da"
            ],
            [
             0.4,
             "#fde0ef"
            ],
            [
             0.5,
             "#f7f7f7"
            ],
            [
             0.6,
             "#e6f5d0"
            ],
            [
             0.7,
             "#b8e186"
            ],
            [
             0.8,
             "#7fbc41"
            ],
            [
             0.9,
             "#4d9221"
            ],
            [
             1,
             "#276419"
            ]
           ],
           "sequential": [
            [
             0,
             "#0d0887"
            ],
            [
             0.1111111111111111,
             "#46039f"
            ],
            [
             0.2222222222222222,
             "#7201a8"
            ],
            [
             0.3333333333333333,
             "#9c179e"
            ],
            [
             0.4444444444444444,
             "#bd3786"
            ],
            [
             0.5555555555555556,
             "#d8576b"
            ],
            [
             0.6666666666666666,
             "#ed7953"
            ],
            [
             0.7777777777777778,
             "#fb9f3a"
            ],
            [
             0.8888888888888888,
             "#fdca26"
            ],
            [
             1,
             "#f0f921"
            ]
           ],
           "sequentialminus": [
            [
             0,
             "#0d0887"
            ],
            [
             0.1111111111111111,
             "#46039f"
            ],
            [
             0.2222222222222222,
             "#7201a8"
            ],
            [
             0.3333333333333333,
             "#9c179e"
            ],
            [
             0.4444444444444444,
             "#bd3786"
            ],
            [
             0.5555555555555556,
             "#d8576b"
            ],
            [
             0.6666666666666666,
             "#ed7953"
            ],
            [
             0.7777777777777778,
             "#fb9f3a"
            ],
            [
             0.8888888888888888,
             "#fdca26"
            ],
            [
             1,
             "#f0f921"
            ]
           ]
          },
          "colorway": [
           "#636efa",
           "#EF553B",
           "#00cc96",
           "#ab63fa",
           "#FFA15A",
           "#19d3f3",
           "#FF6692",
           "#B6E880",
           "#FF97FF",
           "#FECB52"
          ],
          "font": {
           "color": "#2a3f5f"
          },
          "geo": {
           "bgcolor": "white",
           "lakecolor": "white",
           "landcolor": "#E5ECF6",
           "showlakes": true,
           "showland": true,
           "subunitcolor": "white"
          },
          "hoverlabel": {
           "align": "left"
          },
          "hovermode": "closest",
          "mapbox": {
           "style": "light"
          },
          "paper_bgcolor": "white",
          "plot_bgcolor": "#E5ECF6",
          "polar": {
           "angularaxis": {
            "gridcolor": "white",
            "linecolor": "white",
            "ticks": ""
           },
           "bgcolor": "#E5ECF6",
           "radialaxis": {
            "gridcolor": "white",
            "linecolor": "white",
            "ticks": ""
           }
          },
          "scene": {
           "xaxis": {
            "backgroundcolor": "#E5ECF6",
            "gridcolor": "white",
            "gridwidth": 2,
            "linecolor": "white",
            "showbackground": true,
            "ticks": "",
            "zerolinecolor": "white"
           },
           "yaxis": {
            "backgroundcolor": "#E5ECF6",
            "gridcolor": "white",
            "gridwidth": 2,
            "linecolor": "white",
            "showbackground": true,
            "ticks": "",
            "zerolinecolor": "white"
           },
           "zaxis": {
            "backgroundcolor": "#E5ECF6",
            "gridcolor": "white",
            "gridwidth": 2,
            "linecolor": "white",
            "showbackground": true,
            "ticks": "",
            "zerolinecolor": "white"
           }
          },
          "shapedefaults": {
           "line": {
            "color": "#2a3f5f"
           }
          },
          "ternary": {
           "aaxis": {
            "gridcolor": "white",
            "linecolor": "white",
            "ticks": ""
           },
           "baxis": {
            "gridcolor": "white",
            "linecolor": "white",
            "ticks": ""
           },
           "bgcolor": "#E5ECF6",
           "caxis": {
            "gridcolor": "white",
            "linecolor": "white",
            "ticks": ""
           }
          },
          "title": {
           "x": 0.05
          },
          "xaxis": {
           "automargin": true,
           "gridcolor": "white",
           "linecolor": "white",
           "ticks": "",
           "title": {
            "standoff": 15
           },
           "zerolinecolor": "white",
           "zerolinewidth": 2
          },
          "yaxis": {
           "automargin": true,
           "gridcolor": "white",
           "linecolor": "white",
           "ticks": "",
           "title": {
            "standoff": 15
           },
           "zerolinecolor": "white",
           "zerolinewidth": 2
          }
         }
        },
        "title": {
         "text": "qc vs depth by soil_type"
        },
        "xaxis": {
         "anchor": "y",
         "domain": [
          0,
          1
         ],
         "title": {
          "text": "depth"
         }
        },
        "yaxis": {
         "anchor": "x",
         "domain": [
          0,
          1
         ],
         "title": {
          "text": "qc"
         }
        }
       }
      }
     },
     "metadata": {},
     "output_type": "display_data"
    }
   ],
   "source": [
    "# Visualize relationships\n",
    "fig = px.scatter(\n",
    "    df_dummy,\n",
    "    x=\"qc\",\n",
    "    y=\"Rf\",\n",
    "    color=\"soil_type\",\n",
    "    title=\"Dummy CPT-like data: qc vs Rf colored by soil_type\",\n",
    ")\n",
    "fig.show()\n",
    "\n",
    "fig2 = px.scatter(\n",
    "    df_dummy,\n",
    "    x=\"depth\",\n",
    "    y=\"qc\",\n",
    "    color=\"soil_type\",\n",
    "    title=\"qc vs depth by soil_type\",\n",
    "    trendline=\"lowess\",\n",
    ")\n",
    "fig2.show()"
   ]
  },
  {
   "cell_type": "markdown",
   "id": "f57d9fd2",
   "metadata": {},
   "source": [
    "## Run featurewiz on dummy data\n",
    "\n",
    "We provide the dataframe and the target column. `featurewiz` will return a list of selected features and a transformed dataframe with those columns."
   ]
  },
  {
   "cell_type": "code",
   "execution_count": 6,
   "id": "37952ace",
   "metadata": {},
   "outputs": [
    {
     "name": "stdout",
     "output_type": "stream",
     "text": [
      "############################################################################################\n",
      "############       F A S T   F E A T U R E  E N G G    A N D    S E L E C T I O N ! ########\n",
      "# Be judicious with featurewiz. Don't use it to create too many un-interpretable features! #\n",
      "############################################################################################\n",
      "featurewiz has selected 0.7 as the correlation limit. Change this limit to fit your needs...\n",
      "    Skipping feature engineering since no feature_engg input...\n",
      "Skipping category encoding since no category encoders specified in input...\n",
      "    Single_Label Multi_Classification problem \n",
      "    Loaded train data. Shape = (800, 9)\n",
      "    Some column names had special characters which were removed...\n",
      "    Single_Label Multi_Classification problem \n",
      "No test data filename given...\n",
      "#######################################################################################\n",
      "######################## C L A S S I F Y I N G  V A R I A B L E S  ####################\n",
      "#######################################################################################\n",
      "        No variables were removed since no ID or low-information variables found in data set\n",
      "No GPU active on this device\n",
      "    Tuning XGBoost using CPU hyper-parameters. This will take time...\n",
      "Removing 0 columns from further processing since ID or low information variables\n",
      "    After removing redundant variables from further processing, features left = 8\n",
      "No interactions created for categorical vars since feature engg does not specify it\n",
      "    target labels need to be converted...\n",
      "Completed label encoding of target variable = soil_type\n",
      "How model predictions need to be transformed for soil_type:\n",
      "\t{0: 1, 1: 2, 2: 3}\n",
      "#######################################################################################\n",
      "#####  Searching for Uncorrelated List Of Variables (SULOV) in 8 features ############\n",
      "#######################################################################################\n",
      "Starting SULOV with 8 features...\n",
      "    there are no null values in dataset...\n",
      "    there are no null values in target column...\n",
      "    Removing (4) highly correlated variables:\n",
      "    ['depth', 'fs', 'Rf', 'sigma_vkPa115']\n",
      "    Following (4) vars selected: ['Qtn', 'qc', 'sigma_vkPa655', 'Fr']\n"
     ]
    },
    {
     "data": {
      "image/png": "[encoded data removed]",
      "text/plain": [
       "<Figure size 1500x500 with 1 Axes>"
      ]
     },
     "metadata": {},
     "output_type": "display_data"
    },
    {
     "name": "stdout",
     "output_type": "stream",
     "text": [
      "Time taken for SULOV method = 1 seconds\n",
      "    Adding 0 categorical variables to reduced numeric variables  of 4\n",
      "Final list of selected 4 vars after SULOV = ['Qtn', 'qc', 'sigma_vkPa655', 'Fr']\n",
      "Converting all features to numeric before sending to XGBoost...\n",
      "#######################################################################################\n",
      "#####    R E C U R S I V E   X G B O O S T : F E A T U R E   S E L E C T I O N  #######\n",
      "#######################################################################################\n",
      "    using regular XGBoost\n",
      "    Taking top 2 features per iteration...\n",
      "    Number of booster rounds = 100\n",
      "        Selected: ['Qtn', 'sigma_vkPa655']\n",
      "            Time taken for regular XGBoost feature selection = 2 seconds\n",
      "        Selected: ['sigma_vkPa655', 'Fr']\n",
      "            Time taken for regular XGBoost feature selection = 0 seconds\n"
     ]
    },
    {
     "data": {
      "image/png": "[encoded data removed]",
      "text/plain": [
       "<Figure size 1000x500 with 2 Axes>"
      ]
     },
     "metadata": {},
     "output_type": "display_data"
    },
    {
     "name": "stdout",
     "output_type": "stream",
     "text": [
      "    Completed XGBoost feature selection in 2 seconds\n",
      "#######################################################################################\n",
      "#####          F E A T U R E   S E L E C T I O N   C O M P L E T E D            #######\n",
      "#######################################################################################\n",
      "Selected 3 important features:\n",
      "['Qtn', 'sigma_vkPa655', 'Fr']\n",
      "Total Time taken for featurewiz selection = 3 seconds\n",
      "Output contains a list of 3 important features and a train dataframe\n"
     ]
    },
    {
     "data": {
      "text/plain": [
       "['Qtn', 'sigma_v (kPa)', 'Fr']"
      ]
     },
     "execution_count": 6,
     "metadata": {},
     "output_type": "execute_result"
    }
   ],
   "source": [
    "target = \"soil_type\"\n",
    "features = [c for c in df_dummy.columns if c != target]\n",
    "\n",
    "selected_features, trainml = featurewiz(\n",
    "    dataname=df_dummy, target=target, corr_limit=0.7, verbose=2\n",
    ")\n",
    "selected_features"
   ]
  },
  {
   "cell_type": "code",
   "execution_count": 7,
   "id": "c825533c",
   "metadata": {},
   "outputs": [
    {
     "name": "stdout",
     "output_type": "stream",
     "text": [
      "=== All features ===\n",
      "              precision    recall  f1-score   support\n",
      "\n",
      "           1       0.82      0.54      0.65        26\n",
      "           2       0.87      0.95      0.91       148\n",
      "           3       0.80      0.62      0.70        26\n",
      "\n",
      "    accuracy                           0.85       200\n",
      "   macro avg       0.83      0.70      0.75       200\n",
      "weighted avg       0.85      0.85      0.85       200\n",
      "\n",
      "=== Selected by featurewiz ===\n",
      "              precision    recall  f1-score   support\n",
      "\n",
      "           1       0.87      0.50      0.63        26\n",
      "           2       0.85      0.95      0.90       148\n",
      "           3       0.75      0.58      0.65        26\n",
      "\n",
      "    accuracy                           0.84       200\n",
      "   macro avg       0.82      0.68      0.73       200\n",
      "weighted avg       0.84      0.84      0.83       200\n",
      "\n"
     ]
    }
   ],
   "source": [
    "# Quick model comparison: all features vs selected features\n",
    "def evaluate_with_features(df, feat_cols, name):\n",
    "    X = df[feat_cols]\n",
    "    y = df[target]\n",
    "    X_train, X_test, y_train, y_test = train_test_split(\n",
    "        X, y, test_size=0.25, random_state=SEED, stratify=y\n",
    "    )\n",
    "    clf = RandomForestClassifier(n_estimators=200, random_state=SEED)\n",
    "    clf.fit(X_train, y_train)\n",
    "    y_pred = clf.predict(X_test)\n",
    "    print(f\"=== {name} ===\")\n",
    "    print(classification_report(y_test, y_pred))\n",
    "    return clf, X_test, y_test, y_pred\n",
    "\n",
    "\n",
    "all_features = [c for c in df_dummy.columns if c != target]\n",
    "clf_all, Xte_all, yte_all, yhat_all = evaluate_with_features(\n",
    "    df_dummy, all_features, \"All features\"\n",
    ")\n",
    "clf_sel, Xte_sel, yte_sel, yhat_sel = evaluate_with_features(\n",
    "    df_dummy, selected_features, \"Selected by featurewiz\"\n",
    ")"
   ]
  },
  {
   "cell_type": "code",
   "execution_count": 8,
   "id": "cb229a67",
   "metadata": {},
   "outputs": [
    {
     "data": {
      "application/vnd.plotly.v1+json": {
       "config": {
        "plotlyServerURL": "https://plot.ly"
       },
       "data": [
        {
         "hovertemplate": "variable=0<br>index=%{x}<br>value=%{y}<extra></extra>",
         "legendgroup": "0",
         "marker": {
          "color": "#636efa",
          "pattern": {
           "shape": ""
          }
         },
         "name": "0",
         "orientation": "v",
         "showlegend": true,
         "textposition": "auto",
         "type": "bar",
         "x": [
          "Qtn",
          "sigma_v (kPa)",
          "Fr"
         ],
         "xaxis": "x",
         "y": {
          "bdata": "sGNozCci3j9CNzmh7izUPxnKvCTTYcs/",
          "dtype": "f8"
         },
         "yaxis": "y"
        }
       ],
       "layout": {
        "barmode": "relative",
        "legend": {
         "title": {
          "text": "variable"
         },
         "tracegroupgap": 0
        },
        "template": {
         "data": {
          "bar": [
           {
            "error_x": {
             "color": "#2a3f5f"
            },
            "error_y": {
             "color": "#2a3f5f"
            },
            "marker": {
             "line": {
              "color": "#E5ECF6",
              "width": 0.5
             },
             "pattern": {
              "fillmode": "overlay",
              "size": 10,
              "solidity": 0.2
             }
            },
            "type": "bar"
           }
          ],
          "barpolar": [
           {
            "marker": {
             "line": {
              "color": "#E5ECF6",
              "width": 0.5
             },
             "pattern": {
              "fillmode": "overlay",
              "size": 10,
              "solidity": 0.2
             }
            },
            "type": "barpolar"
           }
          ],
          "carpet": [
           {
            "aaxis": {
             "endlinecolor": "#2a3f5f",
             "gridcolor": "white",
             "linecolor": "white",
             "minorgridcolor": "white",
             "startlinecolor": "#2a3f5f"
            },
            "baxis": {
             "endlinecolor": "#2a3f5f",
             "gridcolor": "white",
             "linecolor": "white",
             "minorgridcolor": "white",
             "startlinecolor": "#2a3f5f"
            },
            "type": "carpet"
           }
          ],
          "choropleth": [
           {
            "colorbar": {
             "outlinewidth": 0,
             "ticks": ""
            },
            "type": "choropleth"
           }
          ],
          "contour": [
           {
            "colorbar": {
             "outlinewidth": 0,
             "ticks": ""
            },
            "colorscale": [
             [
              0,
              "#0d0887"
             ],
             [
              0.1111111111111111,
              "#46039f"
             ],
             [
              0.2222222222222222,
              "#7201a8"
             ],
             [
              0.3333333333333333,
              "#9c179e"
             ],
             [
              0.4444444444444444,
              "#bd3786"
             ],
             [
              0.5555555555555556,
              "#d8576b"
             ],
             [
              0.6666666666666666,
              "#ed7953"
             ],
             [
              0.7777777777777778,
              "#fb9f3a"
             ],
             [
              0.8888888888888888,
              "#fdca26"
             ],
             [
              1,
              "#f0f921"
             ]
            ],
            "type": "contour"
           }
          ],
          "contourcarpet": [
           {
            "colorbar": {
             "outlinewidth": 0,
             "ticks": ""
            },
            "type": "contourcarpet"
           }
          ],
          "heatmap": [
           {
            "colorbar": {
             "outlinewidth": 0,
             "ticks": ""
            },
            "colorscale": [
             [
              0,
              "#0d0887"
             ],
             [
              0.1111111111111111,
              "#46039f"
             ],
             [
              0.2222222222222222,
              "#7201a8"
             ],
             [
              0.3333333333333333,
              "#9c179e"
             ],
             [
              0.4444444444444444,
              "#bd3786"
             ],
             [
              0.5555555555555556,
              "#d8576b"
             ],
             [
              0.6666666666666666,
              "#ed7953"
             ],
             [
              0.7777777777777778,
              "#fb9f3a"
             ],
             [
              0.8888888888888888,
              "#fdca26"
             ],
             [
              1,
              "#f0f921"
             ]
            ],
            "type": "heatmap"
           }
          ],
          "histogram": [
           {
            "marker": {
             "pattern": {
              "fillmode": "overlay",
              "size": 10,
              "solidity": 0.2
             }
            },
            "type": "histogram"
           }
          ],
          "histogram2d": [
           {
            "colorbar": {
             "outlinewidth": 0,
             "ticks": ""
            },
            "colorscale": [
             [
              0,
              "#0d0887"
             ],
             [
              0.1111111111111111,
              "#46039f"
             ],
             [
              0.2222222222222222,
              "#7201a8"
             ],
             [
              0.3333333333333333,
              "#9c179e"
             ],
             [
              0.4444444444444444,
              "#bd3786"
             ],
             [
              0.5555555555555556,
              "#d8576b"
             ],
             [
              0.6666666666666666,
              "#ed7953"
             ],
             [
              0.7777777777777778,
              "#fb9f3a"
             ],
             [
              0.8888888888888888,
              "#fdca26"
             ],
             [
              1,
              "#f0f921"
             ]
            ],
            "type": "histogram2d"
           }
          ],
          "histogram2dcontour": [
           {
            "colorbar": {
             "outlinewidth": 0,
             "ticks": ""
            },
            "colorscale": [
             [
              0,
              "#0d0887"
             ],
             [
              0.1111111111111111,
              "#46039f"
             ],
             [
              0.2222222222222222,
              "#7201a8"
             ],
             [
              0.3333333333333333,
              "#9c179e"
             ],
             [
              0.4444444444444444,
              "#bd3786"
             ],
             [
              0.5555555555555556,
              "#d8576b"
             ],
             [
              0.6666666666666666,
              "#ed7953"
             ],
             [
              0.7777777777777778,
              "#fb9f3a"
             ],
             [
              0.8888888888888888,
              "#fdca26"
             ],
             [
              1,
              "#f0f921"
             ]
            ],
            "type": "histogram2dcontour"
           }
          ],
          "mesh3d": [
           {
            "colorbar": {
             "outlinewidth": 0,
             "ticks": ""
            },
            "type": "mesh3d"
           }
          ],
          "parcoords": [
           {
            "line": {
             "colorbar": {
              "outlinewidth": 0,
              "ticks": ""
             }
            },
            "type": "parcoords"
           }
          ],
          "pie": [
           {
            "automargin": true,
            "type": "pie"
           }
          ],
          "scatter": [
           {
            "fillpattern": {
             "fillmode": "overlay",
             "size": 10,
             "solidity": 0.2
            },
            "type": "scatter"
           }
          ],
          "scatter3d": [
           {
            "line": {
             "colorbar": {
              "outlinewidth": 0,
              "ticks": ""
             }
            },
            "marker": {
             "colorbar": {
              "outlinewidth": 0,
              "ticks": ""
             }
            },
            "type": "scatter3d"
           }
          ],
          "scattercarpet": [
           {
            "marker": {
             "colorbar": {
              "outlinewidth": 0,
              "ticks": ""
             }
            },
            "type": "scattercarpet"
           }
          ],
          "scattergeo": [
           {
            "marker": {
             "colorbar": {
              "outlinewidth": 0,
              "ticks": ""
             }
            },
            "type": "scattergeo"
           }
          ],
          "scattergl": [
           {
            "marker": {
             "colorbar": {
              "outlinewidth": 0,
              "ticks": ""
             }
            },
            "type": "scattergl"
           }
          ],
          "scattermap": [
           {
            "marker": {
             "colorbar": {
              "outlinewidth": 0,
              "ticks": ""
             }
            },
            "type": "scattermap"
           }
          ],
          "scattermapbox": [
           {
            "marker": {
             "colorbar": {
              "outlinewidth": 0,
              "ticks": ""
             }
            },
            "type": "scattermapbox"
           }
          ],
          "scatterpolar": [
           {
            "marker": {
             "colorbar": {
              "outlinewidth": 0,
              "ticks": ""
             }
            },
            "type": "scatterpolar"
           }
          ],
          "scatterpolargl": [
           {
            "marker": {
             "colorbar": {
              "outlinewidth": 0,
              "ticks": ""
             }
            },
            "type": "scatterpolargl"
           }
          ],
          "scatterternary": [
           {
            "marker": {
             "colorbar": {
              "outlinewidth": 0,
              "ticks": ""
             }
            },
            "type": "scatterternary"
           }
          ],
          "surface": [
           {
            "colorbar": {
             "outlinewidth": 0,
             "ticks": ""
            },
            "colorscale": [
             [
              0,
              "#0d0887"
             ],
             [
              0.1111111111111111,
              "#46039f"
             ],
             [
              0.2222222222222222,
              "#7201a8"
             ],
             [
              0.3333333333333333,
              "#9c179e"
             ],
             [
              0.4444444444444444,
              "#bd3786"
             ],
             [
              0.5555555555555556,
              "#d8576b"
             ],
             [
              0.6666666666666666,
              "#ed7953"
             ],
             [
              0.7777777777777778,
              "#fb9f3a"
             ],
             [
              0.8888888888888888,
              "#fdca26"
             ],
             [
              1,
              "#f0f921"
             ]
            ],
            "type": "surface"
           }
          ],
          "table": [
           {
            "cells": {
             "fill": {
              "color": "#EBF0F8"
             },
             "line": {
              "color": "white"
             }
            },
            "header": {
             "fill": {
              "color": "#C8D4E3"
             },
             "line": {
              "color": "white"
             }
            },
            "type": "table"
           }
          ]
         },
         "layout": {
          "annotationdefaults": {
           "arrowcolor": "#2a3f5f",
           "arrowhead": 0,
           "arrowwidth": 1
          },
          "autotypenumbers": "strict",
          "coloraxis": {
           "colorbar": {
            "outlinewidth": 0,
            "ticks": ""
           }
          },
          "colorscale": {
           "diverging": [
            [
             0,
             "#8e0152"
            ],
            [
             0.1,
             "#c51b7d"
            ],
            [
             0.2,
             "#de77ae"
            ],
            [
             0.3,
             "#f1b6da"
            ],
            [
             0.4,
             "#fde0ef"
            ],
            [
             0.5,
             "#f7f7f7"
            ],
            [
             0.6,
             "#e6f5d0"
            ],
            [
             0.7,
             "#b8e186"
            ],
            [
             0.8,
             "#7fbc41"
            ],
            [
             0.9,
             "#4d9221"
            ],
            [
             1,
             "#276419"
            ]
           ],
           "sequential": [
            [
             0,
             "#0d0887"
            ],
            [
             0.1111111111111111,
             "#46039f"
            ],
            [
             0.2222222222222222,
             "#7201a8"
            ],
            [
             0.3333333333333333,
             "#9c179e"
            ],
            [
             0.4444444444444444,
             "#bd3786"
            ],
            [
             0.5555555555555556,
             "#d8576b"
            ],
            [
             0.6666666666666666,
             "#ed7953"
            ],
            [
             0.7777777777777778,
             "#fb9f3a"
            ],
            [
             0.8888888888888888,
             "#fdca26"
            ],
            [
             1,
             "#f0f921"
            ]
           ],
           "sequentialminus": [
            [
             0,
             "#0d0887"
            ],
            [
             0.1111111111111111,
             "#46039f"
            ],
            [
             0.2222222222222222,
             "#7201a8"
            ],
            [
             0.3333333333333333,
             "#9c179e"
            ],
            [
             0.4444444444444444,
             "#bd3786"
            ],
            [
             0.5555555555555556,
             "#d8576b"
            ],
            [
             0.6666666666666666,
             "#ed7953"
            ],
            [
             0.7777777777777778,
             "#fb9f3a"
            ],
            [
             0.8888888888888888,
             "#fdca26"
            ],
            [
             1,
             "#f0f921"
            ]
           ]
          },
          "colorway": [
           "#636efa",
           "#EF553B",
           "#00cc96",
           "#ab63fa",
           "#FFA15A",
           "#19d3f3",
           "#FF6692",
           "#B6E880",
           "#FF97FF",
           "#FECB52"
          ],
          "font": {
           "color": "#2a3f5f"
          },
          "geo": {
           "bgcolor": "white",
           "lakecolor": "white",
           "landcolor": "#E5ECF6",
           "showlakes": true,
           "showland": true,
           "subunitcolor": "white"
          },
          "hoverlabel": {
           "align": "left"
          },
          "hovermode": "closest",
          "mapbox": {
           "style": "light"
          },
          "paper_bgcolor": "white",
          "plot_bgcolor": "#E5ECF6",
          "polar": {
           "angularaxis": {
            "gridcolor": "white",
            "linecolor": "white",
            "ticks": ""
           },
           "bgcolor": "#E5ECF6",
           "radialaxis": {
            "gridcolor": "white",
            "linecolor": "white",
            "ticks": ""
           }
          },
          "scene": {
           "xaxis": {
            "backgroundcolor": "#E5ECF6",
            "gridcolor": "white",
            "gridwidth": 2,
            "linecolor": "white",
            "showbackground": true,
            "ticks": "",
            "zerolinecolor": "white"
           },
           "yaxis": {
            "backgroundcolor": "#E5ECF6",
            "gridcolor": "white",
            "gridwidth": 2,
            "linecolor": "white",
            "showbackground": true,
            "ticks": "",
            "zerolinecolor": "white"
           },
           "zaxis": {
            "backgroundcolor": "#E5ECF6",
            "gridcolor": "white",
            "gridwidth": 2,
            "linecolor": "white",
            "showbackground": true,
            "ticks": "",
            "zerolinecolor": "white"
           }
          },
          "shapedefaults": {
           "line": {
            "color": "#2a3f5f"
           }
          },
          "ternary": {
           "aaxis": {
            "gridcolor": "white",
            "linecolor": "white",
            "ticks": ""
           },
           "baxis": {
            "gridcolor": "white",
            "linecolor": "white",
            "ticks": ""
           },
           "bgcolor": "#E5ECF6",
           "caxis": {
            "gridcolor": "white",
            "linecolor": "white",
            "ticks": ""
           }
          },
          "title": {
           "x": 0.05
          },
          "xaxis": {
           "automargin": true,
           "gridcolor": "white",
           "linecolor": "white",
           "ticks": "",
           "title": {
            "standoff": 15
           },
           "zerolinecolor": "white",
           "zerolinewidth": 2
          },
          "yaxis": {
           "automargin": true,
           "gridcolor": "white",
           "linecolor": "white",
           "ticks": "",
           "title": {
            "standoff": 15
           },
           "zerolinecolor": "white",
           "zerolinewidth": 2
          }
         }
        },
        "title": {
         "text": "RandomForest importances (selected features)"
        },
        "xaxis": {
         "anchor": "y",
         "domain": [
          0,
          1
         ],
         "title": {
          "text": "Feature"
         }
        },
        "yaxis": {
         "anchor": "x",
         "domain": [
          0,
          1
         ],
         "title": {
          "text": "Importance"
         }
        }
       }
      }
     },
     "metadata": {},
     "output_type": "display_data"
    }
   ],
   "source": [
    "# Visualize feature importances of the RF trained on selected features\n",
    "importances = pd.Series(\n",
    "    clf_sel.feature_importances_, index=selected_features\n",
    ").sort_values(ascending=False)\n",
    "fig = px.bar(importances, title=\"RandomForest importances (selected features)\")\n",
    "fig.update_layout(xaxis_title=\"Feature\", yaxis_title=\"Importance\")\n",
    "fig.show()"
   ]
  },
  {
   "cell_type": "markdown",
   "id": "e3f5fa6a",
   "metadata": {},
   "source": [
    "## Part 2 — Optional: Use project CPT data\n",
    "\n",
    "If available, we can show `featurewiz` on the `data/raw/CPT_PremstallerGeotechnik_revised.csv` CPT dataset or the `earthquake_data.csv`. "
   ]
  },
  {
   "cell_type": "code",
   "execution_count": 9,
   "id": "31c32387",
   "metadata": {},
   "outputs": [
    {
     "name": "stdout",
     "output_type": "stream",
     "text": [
      "Dataset loaded: 807293 rows, 13 columns\n",
      "X: (807293, 9) | y: (807293,)\n"
     ]
    },
    {
     "data": {
      "application/vnd.microsoft.datawrangler.viewer.v0+json": {
       "columns": [
        {
         "name": "index",
         "rawType": "int64",
         "type": "integer"
        },
        {
         "name": "Depth (m)",
         "rawType": "float64",
         "type": "float"
        },
        {
         "name": "qc (MPa)",
         "rawType": "float64",
         "type": "float"
        },
        {
         "name": "fs (kPa)",
         "rawType": "float64",
         "type": "float"
        },
        {
         "name": "Rf (%)",
         "rawType": "float64",
         "type": "float"
        },
        {
         "name": "σ,v (kPa)",
         "rawType": "float64",
         "type": "float"
        },
        {
         "name": "u0 (kPa)",
         "rawType": "float64",
         "type": "float"
        },
        {
         "name": "σ',v (kPa)",
         "rawType": "float64",
         "type": "float"
        },
        {
         "name": "Qtn (-)",
         "rawType": "float64",
         "type": "float"
        },
        {
         "name": "Fr (%)",
         "rawType": "float64",
         "type": "float"
        }
       ],
       "ref": "7b765f2f-f3ff-49b7-83b9-cfd2d2f121b8",
       "rows": [
        [
         "0",
         "0.39",
         "0.06",
         "0.01",
         "0.01",
         "7.41",
         "3.83",
         "3.58",
         "23.33",
         "0.01"
        ],
        [
         "1",
         "0.4",
         "0.22",
         "0.01",
         "0.01",
         "7.6",
         "3.92",
         "3.68",
         "13.4",
         "0.01"
        ],
        [
         "2",
         "0.41",
         "0.05",
         "0.01",
         "0.01",
         "7.79",
         "4.02",
         "3.77",
         "12.04",
         "0.01"
        ]
       ],
       "shape": {
        "columns": 9,
        "rows": 3
       }
      },
      "text/html": [
       "<div>\n",
       "<style scoped>\n",
       "    .dataframe tbody tr th:only-of-type {\n",
       "        vertical-align: middle;\n",
       "    }\n",
       "\n",
       "    .dataframe tbody tr th {\n",
       "        vertical-align: top;\n",
       "    }\n",
       "\n",
       "    .dataframe thead th {\n",
       "        text-align: right;\n",
       "    }\n",
       "</style>\n",
       "<table border=\"1\" class=\"dataframe\">\n",
       "  <thead>\n",
       "    <tr style=\"text-align: right;\">\n",
       "      <th></th>\n",
       "      <th>Depth (m)</th>\n",
       "      <th>qc (MPa)</th>\n",
       "      <th>fs (kPa)</th>\n",
       "      <th>Rf (%)</th>\n",
       "      <th>σ,v (kPa)</th>\n",
       "      <th>u0 (kPa)</th>\n",
       "      <th>σ',v (kPa)</th>\n",
       "      <th>Qtn (-)</th>\n",
       "      <th>Fr (%)</th>\n",
       "    </tr>\n",
       "  </thead>\n",
       "  <tbody>\n",
       "    <tr>\n",
       "      <th>0</th>\n",
       "      <td>0.39</td>\n",
       "      <td>0.06</td>\n",
       "      <td>0.01</td>\n",
       "      <td>0.01</td>\n",
       "      <td>7.41</td>\n",
       "      <td>3.83</td>\n",
       "      <td>3.58</td>\n",
       "      <td>23.33</td>\n",
       "      <td>0.01</td>\n",
       "    </tr>\n",
       "    <tr>\n",
       "      <th>1</th>\n",
       "      <td>0.40</td>\n",
       "      <td>0.22</td>\n",
       "      <td>0.01</td>\n",
       "      <td>0.01</td>\n",
       "      <td>7.60</td>\n",
       "      <td>3.92</td>\n",
       "      <td>3.68</td>\n",
       "      <td>13.40</td>\n",
       "      <td>0.01</td>\n",
       "    </tr>\n",
       "    <tr>\n",
       "      <th>2</th>\n",
       "      <td>0.41</td>\n",
       "      <td>0.05</td>\n",
       "      <td>0.01</td>\n",
       "      <td>0.01</td>\n",
       "      <td>7.79</td>\n",
       "      <td>4.02</td>\n",
       "      <td>3.77</td>\n",
       "      <td>12.04</td>\n",
       "      <td>0.01</td>\n",
       "    </tr>\n",
       "  </tbody>\n",
       "</table>\n",
       "</div>"
      ],
      "text/plain": [
       "   Depth (m)  qc (MPa)  fs (kPa)  Rf (%)  σ,v (kPa)  u0 (kPa)  σ',v (kPa)  \\\n",
       "0       0.39      0.06      0.01    0.01       7.41      3.83        3.58   \n",
       "1       0.40      0.22      0.01    0.01       7.60      3.92        3.68   \n",
       "2       0.41      0.05      0.01    0.01       7.79      4.02        3.77   \n",
       "\n",
       "   Qtn (-)  Fr (%)  \n",
       "0    23.33    0.01  \n",
       "1    13.40    0.01  \n",
       "2    12.04    0.01  "
      ]
     },
     "execution_count": 9,
     "metadata": {},
     "output_type": "execute_result"
    }
   ],
   "source": [
    "# Curated dataset loader (full dataset, features, labels)\n",
    "from pathlib import Path\n",
    "\n",
    "import pandas as pd\n",
    "\n",
    "# Paths\n",
    "DATA_DIR = Path(\"..\") / \"data\" / \"model_ready\"\n",
    "CSV = DATA_DIR / \"cpt_dataset_total.csv\"\n",
    "\n",
    "# Features and label (curated)\n",
    "FEATURES = [\n",
    "    \"Depth (m)\",\n",
    "    \"qc (MPa)\",\n",
    "    \"fs (kPa)\",\n",
    "    \"Rf (%)\",\n",
    "    \"σ,v (kPa)\",\n",
    "    \"u0 (kPa)\",\n",
    "    \"σ',v (kPa)\",\n",
    "    \"Qtn (-)\",\n",
    "    \"Fr (%)\",\n",
    "]\n",
    "LABEL = \"Oberhollenzer_classes\"\n",
    "\n",
    "# Load dataset and split into features/label\n",
    "df = pd.read_csv(CSV)\n",
    "X = df[FEATURES].copy()\n",
    "y = df[LABEL].copy()\n",
    "\n",
    "print(f\"Dataset loaded: {df.shape[0]} rows, {df.shape[1]} columns\")\n",
    "print(f\"X: {X.shape} | y: {y.shape}\")\n",
    "X.head(3)"
   ]
  },
  {
   "cell_type": "code",
   "execution_count": 10,
   "id": "372f0a1c",
   "metadata": {},
   "outputs": [
    {
     "name": "stdout",
     "output_type": "stream",
     "text": [
      "############################################################################################\n",
      "############       F A S T   F E A T U R E  E N G G    A N D    S E L E C T I O N ! ########\n",
      "# Be judicious with featurewiz. Don't use it to create too many un-interpretable features! #\n",
      "############################################################################################\n",
      "featurewiz has selected 0.7 as the correlation limit. Change this limit to fit your needs...\n",
      "    Skipping feature engineering since no feature_engg input...\n",
      "Skipping category encoding since no category encoders specified in input...\n",
      "    Single_Label Multi_Classification problem \n",
      "    Loaded train data. Shape = (807293, 10)\n",
      "    Some column names had special characters which were removed...\n",
      "    Single_Label Multi_Classification problem \n",
      "No test data filename given...\n",
      "Classifying features using a random sample of 10000 rows from dataset...\n",
      "    Single_Label Multi_Classification problem \n",
      "    loading a random sample of 10000 rows into pandas for EDA\n",
      "#######################################################################################\n",
      "######################## C L A S S I F Y I N G  V A R I A B L E S  ####################\n",
      "#######################################################################################\n",
      "        No variables were removed since no ID or low-information variables found in data set\n",
      "No GPU active on this device\n",
      "    Tuning XGBoost using CPU hyper-parameters. This will take time...\n",
      "Removing 0 columns from further processing since ID or low information variables\n",
      "    After removing redundant variables from further processing, features left = 9\n",
      "No interactions created for categorical vars since feature engg does not specify it\n",
      "#######################################################################################\n",
      "#####  Searching for Uncorrelated List Of Variables (SULOV) in 9 features ############\n",
      "#######################################################################################\n",
      "Starting SULOV with 9 features...\n",
      "    there are no null values in dataset...\n",
      "    there are no null values in target column...\n",
      "    Removing (4) highly correlated variables:\n",
      "    ['qcMPa', 'Rf', 'vkPa26', 'u0kPa']\n",
      "    Following (5) vars selected: ['fskPa', 'Qtn', 'vkPa760', 'Fr', 'Depthm']\n"
     ]
    },
    {
     "data": {
      "image/png": "[encoded data removed]",
      "text/plain": [
       "<Figure size 1500x500 with 1 Axes>"
      ]
     },
     "metadata": {},
     "output_type": "display_data"
    },
    {
     "name": "stdout",
     "output_type": "stream",
     "text": [
      "Time taken for SULOV method = 34 seconds\n",
      "    Adding 0 categorical variables to reduced numeric variables  of 5\n",
      "Final list of selected 5 vars after SULOV = ['fskPa', 'Qtn', 'vkPa760', 'Fr', 'Depthm']\n",
      "Converting all features to numeric before sending to XGBoost...\n",
      "#######################################################################################\n",
      "#####    R E C U R S I V E   X G B O O S T : F E A T U R E   S E L E C T I O N  #######\n",
      "#######################################################################################\n",
      "    using regular XGBoost\n",
      "    Taking top 2 features per iteration...\n",
      "    Number of booster rounds = 20\n",
      "        Selected: ['Qtn', 'Depthm']\n",
      "            Time taken for regular XGBoost feature selection = 3 seconds\n",
      "        Selected: ['Fr', 'Depthm']\n",
      "            Time taken for regular XGBoost feature selection = 3 seconds\n"
     ]
    },
    {
     "data": {
      "image/png": "[encoded data removed]",
      "text/plain": [
       "<Figure size 1000x500 with 2 Axes>"
      ]
     },
     "metadata": {},
     "output_type": "display_data"
    },
    {
     "name": "stdout",
     "output_type": "stream",
     "text": [
      "    Completed XGBoost feature selection in 7 seconds\n",
      "#######################################################################################\n",
      "#####          F E A T U R E   S E L E C T I O N   C O M P L E T E D            #######\n",
      "#######################################################################################\n",
      "Selected 3 important features:\n",
      "['Qtn', 'Depthm', 'Fr']\n",
      "Total Time taken for featurewiz selection = 41 seconds\n",
      "Output contains a list of 3 important features and a train dataframe\n",
      "Selected features (curated dataset): ['Qtn (-)', 'Depth (m)', 'Fr (%)']\n"
     ]
    }
   ],
   "source": [
    "# Use curated project dataset with featurewiz\n",
    "# Assumes df, X, y, FEATURES, LABEL are defined in the previous curated loader cell\n",
    "\n",
    "# Sanity check on variables\n",
    "assert \"df\" in globals() and \"X\" in globals() and \"y\" in globals(), (\n",
    "    \"Run the curated loader cell above first.\"\n",
    ")\n",
    "assert len(FEATURES) > 0 and LABEL in df.columns, (\n",
    "    \"Curated FEATURES/LABEL are not set correctly.\"\n",
    ")\n",
    "\n",
    "# Run featurewiz on curated dataset\n",
    "selected_fw, train_fw = featurewiz(\n",
    "    dataname=df[FEATURES + [LABEL]].copy(),\n",
    "    target=LABEL,\n",
    "    corr_limit=0.7,\n",
    "    verbose=2,\n",
    ")\n",
    "print(\"Selected features (curated dataset):\", selected_fw)"
   ]
  },
  {
   "cell_type": "markdown",
   "id": "ecb4ffff",
   "metadata": {},
   "source": [
    "## Takeaways\n",
    "- `featurewiz` helps remove redundant and less-informative features automatically.\n",
    "- Selected features often yield similar or better performance with simpler models.\n",
    "- In geotechnics, feature selection aids interpretability and robustness when combining correlated CPT variables and derived indices.\n",
    "\n",
    "Try modifying `corr_limit` or the base estimator (see `featurewiz` docs) and re-run to observe changes."
   ]
  }
 ],
 "metadata": {
  "kernelspec": {
   "display_name": "cpt-to-soiltype",
   "language": "python",
   "name": "python3"
  },
  "language_info": {
   "codemirror_mode": {
    "name": "ipython",
    "version": 3
   },
   "file_extension": ".py",
   "mimetype": "text/x-python",
   "name": "python",
   "nbconvert_exporter": "python",
   "pygments_lexer": "ipython3",
   "version": "3.11.13"
  }
 },
 "nbformat": 4,
 "nbformat_minor": 5
}
